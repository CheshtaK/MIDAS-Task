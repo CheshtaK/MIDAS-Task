{
 "cells": [
  {
   "cell_type": "code",
   "execution_count": 0,
   "metadata": {
    "colab": {
     "base_uri": "https://localhost:8080/",
     "height": 176,
     "resources": {
      "http://localhost:8080/nbextensions/google.colab/files.js": {
       "data": "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",
       "headers": [
        [
         "content-type",
         "application/javascript"
        ]
       ],
       "ok": true,
       "status": 200,
       "status_text": ""
      }
     }
    },
    "colab_type": "code",
    "id": "RRRlVA53dH2V",
    "outputId": "21dbd95c-bc24-4807-ccd3-799e42161dcc"
   },
   "outputs": [
    {
     "data": {
      "text/html": [
       "\n",
       "     <input type=\"file\" id=\"files-0986d401-a97a-4ad0-baea-7e2489fd0a88\" name=\"files[]\" multiple disabled />\n",
       "     <output id=\"result-0986d401-a97a-4ad0-baea-7e2489fd0a88\">\n",
       "      Upload widget is only available when the cell has been executed in the\n",
       "      current browser session. Please rerun this cell to enable.\n",
       "      </output>\n",
       "      <script src=\"/nbextensions/google.colab/files.js\"></script> "
      ],
      "text/plain": [
       "<IPython.core.display.HTML object>"
      ]
     },
     "metadata": {
      "tags": []
     },
     "output_type": "display_data"
    },
    {
     "name": "stdout",
     "output_type": "stream",
     "text": [
      "Saving test_image.pkl to test_image.pkl\n",
      "Saving train_image.pkl to train_image.pkl\n",
      "Saving train_label.pkl to train_label.pkl\n",
      "Saving visualize.py to visualize.py\n"
     ]
    }
   ],
   "source": [
    "from google.colab import files\n",
    "files.upload()"
   ]
  },
  {
   "cell_type": "code",
   "execution_count": 0,
   "metadata": {
    "colab": {},
    "colab_type": "code",
    "id": "wBzpSaAPdSJV"
   },
   "outputs": [],
   "source": [
    "import pickle\n",
    "import numpy as np\n",
    "import matplotlib.pyplot as plt\n",
    "\n",
    "#Visualization\n",
    "from visualize import plot_confusion_matrix\n",
    "from sklearn.metrics import confusion_matrix\n",
    "\n",
    "#To convert Y to one-hot-vector notation\n",
    "from keras.utils import np_utils\n",
    "\n",
    "#Used for CNN Model\n",
    "from keras.models import Sequential\n",
    "from keras.layers import Input, Convolution2D, MaxPooling2D, Flatten, Dense, Dropout, BatchNormalization, Activation, ZeroPadding2D\n",
    "from keras import optimizers\n",
    "\n",
    "#Create training and testing data\n",
    "from sklearn.model_selection import train_test_split\n",
    "\n",
    "#\n",
    "from keras.callbacks import ModelCheckpoint\n",
    "\n",
    "#\n",
    "import csv"
   ]
  },
  {
   "cell_type": "code",
   "execution_count": 0,
   "metadata": {
    "colab": {},
    "colab_type": "code",
    "id": "ZEirMvpfe4wu"
   },
   "outputs": [],
   "source": [
    "with open('train_image.pkl', 'rb') as f:\n",
    "    X = pickle.load(f)\n",
    "\n",
    "X = np.array(X)"
   ]
  },
  {
   "cell_type": "code",
   "execution_count": 53,
   "metadata": {
    "colab": {
     "base_uri": "https://localhost:8080/",
     "height": 51
    },
    "colab_type": "code",
    "id": "i599RFTMe7Fa",
    "outputId": "6d549207-bc59-42cc-e290-52df163fd090"
   },
   "outputs": [
    {
     "name": "stdout",
     "output_type": "stream",
     "text": [
      "<class 'numpy.ndarray'>\n",
      "8000\n"
     ]
    }
   ],
   "source": [
    "print(type(X))\n",
    "print(len(X))"
   ]
  },
  {
   "cell_type": "code",
   "execution_count": 0,
   "metadata": {
    "colab": {},
    "colab_type": "code",
    "id": "Wsy0rto2e9Bb"
   },
   "outputs": [],
   "source": [
    "with open('train_label.pkl', 'rb') as f:\n",
    "    Y = pickle.load(f)\n",
    "\n",
    "Y = np.array(Y)"
   ]
  },
  {
   "cell_type": "code",
   "execution_count": 55,
   "metadata": {
    "colab": {
     "base_uri": "https://localhost:8080/",
     "height": 51
    },
    "colab_type": "code",
    "id": "Rwu19rx5e-4i",
    "outputId": "90bcc108-4d82-4555-f634-8f7dd73c4be6"
   },
   "outputs": [
    {
     "name": "stdout",
     "output_type": "stream",
     "text": [
      "8000\n",
      "(array([0, 2, 3, 6]), array([2000, 2000, 2000, 2000]))\n"
     ]
    }
   ],
   "source": [
    "print(len(Y))\n",
    "print(np.unique(Y, return_counts=True))"
   ]
  },
  {
   "cell_type": "code",
   "execution_count": 56,
   "metadata": {
    "colab": {
     "base_uri": "https://localhost:8080/",
     "height": 34
    },
    "colab_type": "code",
    "id": "Gc4UkPsJfAYP",
    "outputId": "ede33389-716d-49b5-c7cb-60c9ec1053d5"
   },
   "outputs": [
    {
     "name": "stdout",
     "output_type": "stream",
     "text": [
      "(array([0., 1., 2., 3.]), array([2000, 2000, 2000, 2000]))\n"
     ]
    }
   ],
   "source": [
    "Y = np.ceil(np.divide(Y,2))\n",
    "classes = np.unique(Y)\n",
    "print(np.unique(Y, return_counts=True))"
   ]
  },
  {
   "cell_type": "code",
   "execution_count": 0,
   "metadata": {
    "colab": {},
    "colab_type": "code",
    "id": "Ny5ikJ16fCuH"
   },
   "outputs": [],
   "source": [
    "with open('test_image.pkl', 'rb') as f:\n",
    "    XTest = pickle.load(f)\n",
    "\n",
    "XTest = np.array(XTest)"
   ]
  },
  {
   "cell_type": "code",
   "execution_count": 58,
   "metadata": {
    "colab": {
     "base_uri": "https://localhost:8080/",
     "height": 34
    },
    "colab_type": "code",
    "id": "zYHuEz-afFx5",
    "outputId": "dc94a66f-74b9-46ae-b1d3-25827d661c32"
   },
   "outputs": [
    {
     "name": "stdout",
     "output_type": "stream",
     "text": [
      "2000\n"
     ]
    }
   ],
   "source": [
    "print(len(XTest))"
   ]
  },
  {
   "cell_type": "code",
   "execution_count": 59,
   "metadata": {
    "colab": {
     "base_uri": "https://localhost:8080/",
     "height": 34
    },
    "colab_type": "code",
    "id": "AUN44lELfIKp",
    "outputId": "43d64b1c-a65c-4d77-b82c-720559457401"
   },
   "outputs": [
    {
     "name": "stdout",
     "output_type": "stream",
     "text": [
      "(8000, 784) (8000,)\n"
     ]
    }
   ],
   "source": [
    "print(X.shape, Y.shape)"
   ]
  },
  {
   "cell_type": "code",
   "execution_count": 60,
   "metadata": {
    "colab": {
     "base_uri": "https://localhost:8080/",
     "height": 34
    },
    "colab_type": "code",
    "id": "fqeoTmgBfJ0C",
    "outputId": "31f1da0d-90bb-42b9-c8de-4ea91d4cb6d6"
   },
   "outputs": [
    {
     "name": "stdout",
     "output_type": "stream",
     "text": [
      "(8000, 28, 28, 1) (8000, 4)\n"
     ]
    }
   ],
   "source": [
    "# Since CNN accepts input in the form of images therefore we reshape our training data\n",
    "X = X.reshape((-1,28,28,1))\n",
    "Y = np_utils.to_categorical(Y)\n",
    "\n",
    "print(X.shape, Y.shape)"
   ]
  },
  {
   "cell_type": "code",
   "execution_count": 0,
   "metadata": {
    "colab": {},
    "colab_type": "code",
    "id": "vlH67i83fLdE"
   },
   "outputs": [],
   "source": [
    "def drawImage(img):\n",
    "    plt.imshow(img.reshape(28,28), cmap='gray')\n",
    "    plt.axis('off')\n",
    "    plt.show()"
   ]
  },
  {
   "cell_type": "code",
   "execution_count": 62,
   "metadata": {
    "colab": {
     "base_uri": "https://localhost:8080/",
     "height": 3317
    },
    "colab_type": "code",
    "id": "JrqEEJQ1fNaV",
    "outputId": "01b3a325-1946-4078-bb2f-bea94056e067"
   },
   "outputs": [
    {
     "data": {
      "image/png": "[encoded data removed]",
      "text/plain": [
       "<Figure size 576x396 with 1 Axes>"
      ]
     },
     "metadata": {
      "tags": []
     },
     "output_type": "display_data"
    },
    {
     "data": {
      "image/png": "[encoded data removed]",
      "text/plain": [
       "<Figure size 576x396 with 1 Axes>"
      ]
     },
     "metadata": {
      "tags": []
     },
     "output_type": "display_data"
    },
    {
     "data": {
      "image/png": "[encoded data removed]",
      "text/plain": [
       "<Figure size 576x396 with 1 Axes>"
      ]
     },
     "metadata": {
      "tags": []
     },
     "output_type": "display_data"
    },
    {
     "data": {
      "image/png": "[encoded data removed]",
      "text/plain": [
       "<Figure size 576x396 with 1 Axes>"
      ]
     },
     "metadata": {
      "tags": []
     },
     "output_type": "display_data"
    },
    {
     "data": {
      "image/png": "[encoded data removed]",
      "text/plain": [
       "<Figure size 576x396 with 1 Axes>"
      ]
     },
     "metadata": {
      "tags": []
     },
     "output_type": "display_data"
    },
    {
     "data": {
      "image/png": "[encoded data removed]",
      "text/plain": [
       "<Figure size 576x396 with 1 Axes>"
      ]
     },
     "metadata": {
      "tags": []
     },
     "output_type": "display_data"
    },
    {
     "data": {
      "image/png": "[encoded data removed]",
      "text/plain": [
       "<Figure size 576x396 with 1 Axes>"
      ]
     },
     "metadata": {
      "tags": []
     },
     "output_type": "display_data"
    },
    {
     "data": {
      "image/png": "[encoded data removed]",
      "text/plain": [
       "<Figure size 576x396 with 1 Axes>"
      ]
     },
     "metadata": {
      "tags": []
     },
     "output_type": "display_data"
    },
    {
     "data": {
      "image/png": "[encoded data removed]",
      "text/plain": [
       "<Figure size 576x396 with 1 Axes>"
      ]
     },
     "metadata": {
      "tags": []
     },
     "output_type": "display_data"
    },
    {
     "data": {
      "image/png": "[encoded data removed]",
      "text/plain": [
       "<Figure size 576x396 with 1 Axes>"
      ]
     },
     "metadata": {
      "tags": []
     },
     "output_type": "display_data"
    }
   ],
   "source": [
    "for i in range(10):\n",
    "    drawImage(np.array(X[i]))"
   ]
  },
  {
   "cell_type": "code",
   "execution_count": 0,
   "metadata": {
    "colab": {},
    "colab_type": "code",
    "id": "L7SD2y7EfOuu"
   },
   "outputs": [],
   "source": [
    "X_train, X_test, Y_train, Y_test = train_test_split(X, Y, test_size=0.15, random_state=42, shuffle=True, stratify=Y)"
   ]
  },
  {
   "cell_type": "code",
   "execution_count": 64,
   "metadata": {
    "colab": {
     "base_uri": "https://localhost:8080/",
     "height": 51
    },
    "colab_type": "code",
    "id": "o98l3sH-fS9s",
    "outputId": "9d31a3d6-ff00-4d6b-8f99-c206ed446604"
   },
   "outputs": [
    {
     "name": "stdout",
     "output_type": "stream",
     "text": [
      "<class 'numpy.ndarray'>\n",
      "6800\n"
     ]
    }
   ],
   "source": [
    "print(type(X_train))\n",
    "print(len(X_train))"
   ]
  },
  {
   "cell_type": "code",
   "execution_count": 65,
   "metadata": {
    "colab": {
     "base_uri": "https://localhost:8080/",
     "height": 374
    },
    "colab_type": "code",
    "id": "VZXt7rAdfUVS",
    "outputId": "9e9486c7-eea6-4ff3-af3d-259e06941a9d"
   },
   "outputs": [
    {
     "name": "stdout",
     "output_type": "stream",
     "text": [
      "_________________________________________________________________\n",
      "Layer (type)                 Output Shape              Param #   \n",
      "=================================================================\n",
      "conv2d_21 (Conv2D)           (None, 26, 26, 32)        320       \n",
      "_________________________________________________________________\n",
      "conv2d_22 (Conv2D)           (None, 24, 24, 64)        18496     \n",
      "_________________________________________________________________\n",
      "dropout_12 (Dropout)         (None, 24, 24, 64)        0         \n",
      "_________________________________________________________________\n",
      "max_pooling2d_11 (MaxPooling (None, 12, 12, 64)        0         \n",
      "_________________________________________________________________\n",
      "conv2d_23 (Conv2D)           (None, 10, 10, 128)       73856     \n",
      "_________________________________________________________________\n",
      "flatten_7 (Flatten)          (None, 12800)             0         \n",
      "_________________________________________________________________\n",
      "dense_13 (Dense)             (None, 4)                 51204     \n",
      "=================================================================\n",
      "Total params: 143,876\n",
      "Trainable params: 143,876\n",
      "Non-trainable params: 0\n",
      "_________________________________________________________________\n"
     ]
    }
   ],
   "source": [
    "#A simple CNN model with basic layers\n",
    "model = Sequential()\n",
    "\n",
    "model.add(Convolution2D(32,(3,3),activation='relu',input_shape=(28,28,1)))  #Input size is provided only in the first layer\n",
    "model.add(Convolution2D(64,(3,3),activation='relu'))\n",
    "model.add(Dropout(0.25))\n",
    "model.add(MaxPooling2D(2,2))\n",
    "model.add(Convolution2D(128,(3,3),activation='relu'))\n",
    "model.add(Flatten())\n",
    "model.add(Dense(4, activation='softmax'))\n",
    "model.summary()"
   ]
  },
  {
   "cell_type": "code",
   "execution_count": 0,
   "metadata": {
    "colab": {},
    "colab_type": "code",
    "id": "JCf0Bf3KfWVM"
   },
   "outputs": [],
   "source": [
    "## Optimizer\n",
    "adam = optimizers.adam(lr=1e-4)"
   ]
  },
  {
   "cell_type": "code",
   "execution_count": 0,
   "metadata": {
    "colab": {},
    "colab_type": "code",
    "id": "5RV5MB9nfYja"
   },
   "outputs": [],
   "source": [
    "model.compile(loss='categorical_crossentropy', optimizer=adam, metrics=['accuracy'])"
   ]
  },
  {
   "cell_type": "code",
   "execution_count": 68,
   "metadata": {
    "colab": {
     "base_uri": "https://localhost:8080/",
     "height": 3434
    },
    "colab_type": "code",
    "id": "FzKcOXvhfZzN",
    "outputId": "4d246178-1aca-43c8-b2b5-7630c6575206"
   },
   "outputs": [
    {
     "name": "stdout",
     "output_type": "stream",
     "text": [
      "Train on 6800 samples, validate on 1200 samples\n",
      "Epoch 1/100\n",
      "6800/6800 [==============================] - 2s 279us/step - loss: 5.6341 - acc: 0.4944 - val_loss: 3.2321 - val_acc: 0.6575\n",
      "Epoch 2/100\n",
      "6800/6800 [==============================] - 1s 161us/step - loss: 2.5077 - acc: 0.6449 - val_loss: 1.3442 - val_acc: 0.7017\n",
      "Epoch 3/100\n",
      "6800/6800 [==============================] - 1s 163us/step - loss: 1.4275 - acc: 0.7159 - val_loss: 1.0999 - val_acc: 0.7433\n",
      "Epoch 4/100\n",
      "6800/6800 [==============================] - 1s 164us/step - loss: 1.1715 - acc: 0.7400 - val_loss: 0.7780 - val_acc: 0.7792\n",
      "Epoch 5/100\n",
      "6800/6800 [==============================] - 1s 164us/step - loss: 0.9957 - acc: 0.7603 - val_loss: 0.7556 - val_acc: 0.7900\n",
      "Epoch 6/100\n",
      "6800/6800 [==============================] - 1s 164us/step - loss: 0.8861 - acc: 0.7772 - val_loss: 0.7315 - val_acc: 0.7742\n",
      "Epoch 7/100\n",
      "6800/6800 [==============================] - 1s 163us/step - loss: 0.8376 - acc: 0.7807 - val_loss: 0.6568 - val_acc: 0.8017\n",
      "Epoch 8/100\n",
      "6800/6800 [==============================] - 1s 163us/step - loss: 0.7580 - acc: 0.7919 - val_loss: 0.6067 - val_acc: 0.8042\n",
      "Epoch 9/100\n",
      "6800/6800 [==============================] - 1s 164us/step - loss: 0.7256 - acc: 0.8009 - val_loss: 0.6164 - val_acc: 0.8133\n",
      "Epoch 10/100\n",
      "6800/6800 [==============================] - 1s 162us/step - loss: 0.6379 - acc: 0.8126 - val_loss: 0.5572 - val_acc: 0.8283\n",
      "Epoch 11/100\n",
      "6800/6800 [==============================] - 1s 163us/step - loss: 0.6226 - acc: 0.8176 - val_loss: 0.5452 - val_acc: 0.8133\n",
      "Epoch 12/100\n",
      "6800/6800 [==============================] - 1s 164us/step - loss: 0.5924 - acc: 0.8193 - val_loss: 0.5544 - val_acc: 0.8150\n",
      "Epoch 13/100\n",
      "6800/6800 [==============================] - 1s 163us/step - loss: 0.5647 - acc: 0.8290 - val_loss: 0.5254 - val_acc: 0.8283\n",
      "Epoch 14/100\n",
      "6800/6800 [==============================] - 1s 163us/step - loss: 0.5533 - acc: 0.8237 - val_loss: 0.5180 - val_acc: 0.8250\n",
      "Epoch 15/100\n",
      "6800/6800 [==============================] - 1s 164us/step - loss: 0.5049 - acc: 0.8359 - val_loss: 0.4956 - val_acc: 0.8375\n",
      "Epoch 16/100\n",
      "6800/6800 [==============================] - 1s 163us/step - loss: 0.4676 - acc: 0.8482 - val_loss: 0.5092 - val_acc: 0.8317\n",
      "Epoch 17/100\n",
      "6800/6800 [==============================] - 1s 163us/step - loss: 0.4727 - acc: 0.8478 - val_loss: 0.5749 - val_acc: 0.8092\n",
      "Epoch 18/100\n",
      "6800/6800 [==============================] - 1s 164us/step - loss: 0.4722 - acc: 0.8501 - val_loss: 0.4872 - val_acc: 0.8417\n",
      "Epoch 19/100\n",
      "6800/6800 [==============================] - 1s 164us/step - loss: 0.4216 - acc: 0.8640 - val_loss: 0.4671 - val_acc: 0.8375\n",
      "Epoch 20/100\n",
      "6800/6800 [==============================] - 1s 162us/step - loss: 0.4183 - acc: 0.8591 - val_loss: 0.5392 - val_acc: 0.8092\n",
      "Epoch 21/100\n",
      "6800/6800 [==============================] - 1s 164us/step - loss: 0.3944 - acc: 0.8651 - val_loss: 0.4590 - val_acc: 0.8392\n",
      "Epoch 22/100\n",
      "6800/6800 [==============================] - 1s 164us/step - loss: 0.3482 - acc: 0.8769 - val_loss: 0.4678 - val_acc: 0.8450\n",
      "Epoch 23/100\n",
      "6800/6800 [==============================] - 1s 165us/step - loss: 0.3531 - acc: 0.8749 - val_loss: 0.4571 - val_acc: 0.8475\n",
      "Epoch 24/100\n",
      "6800/6800 [==============================] - 1s 163us/step - loss: 0.3259 - acc: 0.8863 - val_loss: 0.4523 - val_acc: 0.8400\n",
      "Epoch 25/100\n",
      "6800/6800 [==============================] - 1s 164us/step - loss: 0.3358 - acc: 0.8781 - val_loss: 0.4642 - val_acc: 0.8508\n",
      "Epoch 26/100\n",
      "6800/6800 [==============================] - 1s 165us/step - loss: 0.3132 - acc: 0.8844 - val_loss: 0.4432 - val_acc: 0.8458\n",
      "Epoch 27/100\n",
      "6800/6800 [==============================] - 1s 165us/step - loss: 0.3061 - acc: 0.8882 - val_loss: 0.5564 - val_acc: 0.8100\n",
      "Epoch 28/100\n",
      "6800/6800 [==============================] - 1s 163us/step - loss: 0.3043 - acc: 0.8921 - val_loss: 0.4484 - val_acc: 0.8508\n",
      "Epoch 29/100\n",
      "6800/6800 [==============================] - 1s 164us/step - loss: 0.2866 - acc: 0.8963 - val_loss: 0.4478 - val_acc: 0.8475\n",
      "Epoch 30/100\n",
      "6800/6800 [==============================] - 1s 163us/step - loss: 0.2810 - acc: 0.8971 - val_loss: 0.4922 - val_acc: 0.8358\n",
      "Epoch 31/100\n",
      "6800/6800 [==============================] - 1s 163us/step - loss: 0.2951 - acc: 0.8953 - val_loss: 0.4625 - val_acc: 0.8492\n",
      "Epoch 32/100\n",
      "6800/6800 [==============================] - 1s 163us/step - loss: 0.2569 - acc: 0.9051 - val_loss: 0.4547 - val_acc: 0.8400\n",
      "Epoch 33/100\n",
      "6800/6800 [==============================] - 1s 164us/step - loss: 0.2482 - acc: 0.9071 - val_loss: 0.4419 - val_acc: 0.8483\n",
      "Epoch 34/100\n",
      "6800/6800 [==============================] - 1s 165us/step - loss: 0.2415 - acc: 0.9096 - val_loss: 0.4468 - val_acc: 0.8433\n",
      "Epoch 35/100\n",
      "6800/6800 [==============================] - 1s 164us/step - loss: 0.2317 - acc: 0.9131 - val_loss: 0.4383 - val_acc: 0.8525\n",
      "Epoch 36/100\n",
      "6800/6800 [==============================] - 1s 163us/step - loss: 0.2234 - acc: 0.9196 - val_loss: 0.4517 - val_acc: 0.8458\n",
      "Epoch 37/100\n",
      "6800/6800 [==============================] - 1s 165us/step - loss: 0.2245 - acc: 0.9165 - val_loss: 0.4282 - val_acc: 0.8575\n",
      "Epoch 38/100\n",
      "6800/6800 [==============================] - 1s 164us/step - loss: 0.2056 - acc: 0.9210 - val_loss: 0.4627 - val_acc: 0.8467\n",
      "Epoch 39/100\n",
      "6800/6800 [==============================] - 1s 163us/step - loss: 0.1961 - acc: 0.9274 - val_loss: 0.4420 - val_acc: 0.8500\n",
      "Epoch 40/100\n",
      "6800/6800 [==============================] - 1s 165us/step - loss: 0.1937 - acc: 0.9293 - val_loss: 0.4475 - val_acc: 0.8508\n",
      "Epoch 41/100\n",
      "6800/6800 [==============================] - 1s 162us/step - loss: 0.1920 - acc: 0.9247 - val_loss: 0.4433 - val_acc: 0.8567\n",
      "Epoch 42/100\n",
      "6800/6800 [==============================] - 1s 162us/step - loss: 0.1962 - acc: 0.9287 - val_loss: 0.4481 - val_acc: 0.8458\n",
      "Epoch 43/100\n",
      "6800/6800 [==============================] - 1s 164us/step - loss: 0.1918 - acc: 0.9260 - val_loss: 0.4407 - val_acc: 0.8492\n",
      "Epoch 44/100\n",
      "6800/6800 [==============================] - 1s 164us/step - loss: 0.1854 - acc: 0.9301 - val_loss: 0.4244 - val_acc: 0.8592\n",
      "Epoch 45/100\n",
      "6800/6800 [==============================] - 1s 165us/step - loss: 0.1791 - acc: 0.9334 - val_loss: 0.4349 - val_acc: 0.8617\n",
      "Epoch 46/100\n",
      "6800/6800 [==============================] - 1s 163us/step - loss: 0.1679 - acc: 0.9337 - val_loss: 0.4452 - val_acc: 0.8550\n",
      "Epoch 47/100\n",
      "6800/6800 [==============================] - 1s 163us/step - loss: 0.1627 - acc: 0.9399 - val_loss: 0.4561 - val_acc: 0.8467\n",
      "Epoch 48/100\n",
      "6800/6800 [==============================] - 1s 165us/step - loss: 0.1670 - acc: 0.9384 - val_loss: 0.4940 - val_acc: 0.8383\n",
      "Epoch 49/100\n",
      "6800/6800 [==============================] - 1s 164us/step - loss: 0.1574 - acc: 0.9403 - val_loss: 0.4732 - val_acc: 0.8458\n",
      "Epoch 50/100\n",
      "6800/6800 [==============================] - 1s 164us/step - loss: 0.1572 - acc: 0.9382 - val_loss: 0.4839 - val_acc: 0.8450\n",
      "Epoch 51/100\n",
      "6800/6800 [==============================] - 1s 164us/step - loss: 0.1603 - acc: 0.9390 - val_loss: 0.4926 - val_acc: 0.8433\n",
      "Epoch 52/100\n",
      "6800/6800 [==============================] - 1s 164us/step - loss: 0.1489 - acc: 0.9428 - val_loss: 0.4501 - val_acc: 0.8567\n",
      "Epoch 53/100\n",
      "6800/6800 [==============================] - 1s 162us/step - loss: 0.1379 - acc: 0.9506 - val_loss: 0.4319 - val_acc: 0.8550\n",
      "Epoch 54/100\n",
      "6800/6800 [==============================] - 1s 164us/step - loss: 0.1395 - acc: 0.9479 - val_loss: 0.4462 - val_acc: 0.8550\n",
      "Epoch 55/100\n",
      "6800/6800 [==============================] - 1s 163us/step - loss: 0.1320 - acc: 0.9503 - val_loss: 0.4500 - val_acc: 0.8508\n",
      "Epoch 56/100\n",
      "6800/6800 [==============================] - 1s 163us/step - loss: 0.1337 - acc: 0.9507 - val_loss: 0.4539 - val_acc: 0.8442\n",
      "Epoch 57/100\n",
      "6800/6800 [==============================] - 1s 164us/step - loss: 0.1325 - acc: 0.9526 - val_loss: 0.4476 - val_acc: 0.8550\n",
      "Epoch 58/100\n",
      "6800/6800 [==============================] - 1s 165us/step - loss: 0.1310 - acc: 0.9478 - val_loss: 0.4378 - val_acc: 0.8592\n",
      "Epoch 59/100\n",
      "6800/6800 [==============================] - 1s 162us/step - loss: 0.1096 - acc: 0.9581 - val_loss: 0.4686 - val_acc: 0.8525\n",
      "Epoch 60/100\n",
      "6800/6800 [==============================] - 1s 163us/step - loss: 0.1147 - acc: 0.9565 - val_loss: 0.4616 - val_acc: 0.8625\n",
      "Epoch 61/100\n",
      "6800/6800 [==============================] - 1s 163us/step - loss: 0.1181 - acc: 0.9559 - val_loss: 0.4631 - val_acc: 0.8517\n",
      "Epoch 62/100\n",
      "6800/6800 [==============================] - 1s 163us/step - loss: 0.1140 - acc: 0.9576 - val_loss: 0.4777 - val_acc: 0.8450\n",
      "Epoch 63/100\n",
      "6800/6800 [==============================] - 1s 163us/step - loss: 0.1098 - acc: 0.9575 - val_loss: 0.4570 - val_acc: 0.8508\n",
      "Epoch 64/100\n",
      "6800/6800 [==============================] - 1s 165us/step - loss: 0.1078 - acc: 0.9609 - val_loss: 0.4617 - val_acc: 0.8525\n",
      "Epoch 65/100\n",
      "6800/6800 [==============================] - 1s 164us/step - loss: 0.1047 - acc: 0.9613 - val_loss: 0.4605 - val_acc: 0.8650\n",
      "Epoch 66/100\n",
      "6800/6800 [==============================] - 1s 163us/step - loss: 0.1006 - acc: 0.9632 - val_loss: 0.4558 - val_acc: 0.8600\n",
      "Epoch 67/100\n",
      "6800/6800 [==============================] - 1s 164us/step - loss: 0.0989 - acc: 0.9651 - val_loss: 0.4629 - val_acc: 0.8575\n",
      "Epoch 68/100\n",
      "6800/6800 [==============================] - 1s 164us/step - loss: 0.1000 - acc: 0.9640 - val_loss: 0.4986 - val_acc: 0.8467\n",
      "Epoch 69/100\n",
      "6800/6800 [==============================] - 1s 164us/step - loss: 0.0965 - acc: 0.9666 - val_loss: 0.5088 - val_acc: 0.8417\n",
      "Epoch 70/100\n",
      "6800/6800 [==============================] - 1s 164us/step - loss: 0.0990 - acc: 0.9604 - val_loss: 0.4662 - val_acc: 0.8633\n",
      "Epoch 71/100\n",
      "6800/6800 [==============================] - 1s 163us/step - loss: 0.0875 - acc: 0.9687 - val_loss: 0.4982 - val_acc: 0.8500\n",
      "Epoch 72/100\n",
      "6800/6800 [==============================] - 1s 166us/step - loss: 0.0986 - acc: 0.9634 - val_loss: 0.4570 - val_acc: 0.8642\n",
      "Epoch 73/100\n",
      "6800/6800 [==============================] - 1s 164us/step - loss: 0.0911 - acc: 0.9647 - val_loss: 0.4775 - val_acc: 0.8483\n",
      "Epoch 74/100\n",
      "6800/6800 [==============================] - 1s 165us/step - loss: 0.0895 - acc: 0.9662 - val_loss: 0.4625 - val_acc: 0.8617\n",
      "Epoch 75/100\n",
      "6800/6800 [==============================] - 1s 163us/step - loss: 0.1005 - acc: 0.9640 - val_loss: 0.5106 - val_acc: 0.8450\n",
      "Epoch 76/100\n",
      "6800/6800 [==============================] - 1s 163us/step - loss: 0.0801 - acc: 0.9710 - val_loss: 0.4612 - val_acc: 0.8642\n",
      "Epoch 77/100\n",
      "6800/6800 [==============================] - 1s 164us/step - loss: 0.0747 - acc: 0.9749 - val_loss: 0.4691 - val_acc: 0.8558\n",
      "Epoch 78/100\n",
      "6800/6800 [==============================] - 1s 164us/step - loss: 0.0749 - acc: 0.9726 - val_loss: 0.5158 - val_acc: 0.8500\n",
      "Epoch 79/100\n",
      "6800/6800 [==============================] - 1s 163us/step - loss: 0.0775 - acc: 0.9722 - val_loss: 0.4902 - val_acc: 0.8550\n",
      "Epoch 80/100\n",
      "6800/6800 [==============================] - 1s 165us/step - loss: 0.0790 - acc: 0.9704 - val_loss: 0.4709 - val_acc: 0.8592\n",
      "Epoch 81/100\n",
      "6800/6800 [==============================] - 1s 163us/step - loss: 0.0698 - acc: 0.9757 - val_loss: 0.5348 - val_acc: 0.8450\n",
      "Epoch 82/100\n",
      "6800/6800 [==============================] - 1s 163us/step - loss: 0.0738 - acc: 0.9732 - val_loss: 0.4969 - val_acc: 0.8617\n",
      "Epoch 83/100\n",
      "6800/6800 [==============================] - 1s 163us/step - loss: 0.0721 - acc: 0.9747 - val_loss: 0.4817 - val_acc: 0.8567\n",
      "Epoch 84/100\n",
      "6800/6800 [==============================] - 1s 164us/step - loss: 0.0633 - acc: 0.9790 - val_loss: 0.4860 - val_acc: 0.8592\n",
      "Epoch 85/100\n",
      "6800/6800 [==============================] - 1s 163us/step - loss: 0.0651 - acc: 0.9797 - val_loss: 0.5123 - val_acc: 0.8500\n",
      "Epoch 86/100\n",
      "6800/6800 [==============================] - 1s 164us/step - loss: 0.0700 - acc: 0.9757 - val_loss: 0.4862 - val_acc: 0.8600\n",
      "Epoch 87/100\n",
      "6800/6800 [==============================] - 1s 164us/step - loss: 0.0599 - acc: 0.9801 - val_loss: 0.5089 - val_acc: 0.8525\n",
      "Epoch 88/100\n",
      "6800/6800 [==============================] - 1s 164us/step - loss: 0.0676 - acc: 0.9754 - val_loss: 0.5067 - val_acc: 0.8542\n",
      "Epoch 89/100\n",
      "6800/6800 [==============================] - 1s 164us/step - loss: 0.0599 - acc: 0.9787 - val_loss: 0.4872 - val_acc: 0.8592\n",
      "Epoch 90/100\n",
      "6800/6800 [==============================] - 1s 163us/step - loss: 0.0580 - acc: 0.9810 - val_loss: 0.5249 - val_acc: 0.8500\n",
      "Epoch 91/100\n",
      "6800/6800 [==============================] - 1s 163us/step - loss: 0.0572 - acc: 0.9819 - val_loss: 0.4935 - val_acc: 0.8633\n",
      "Epoch 92/100\n",
      "6800/6800 [==============================] - 1s 164us/step - loss: 0.0525 - acc: 0.9831 - val_loss: 0.4805 - val_acc: 0.8642\n",
      "Epoch 93/100\n",
      "6800/6800 [==============================] - 1s 164us/step - loss: 0.0551 - acc: 0.9800 - val_loss: 0.4899 - val_acc: 0.8650\n",
      "Epoch 94/100\n",
      "6800/6800 [==============================] - 1s 164us/step - loss: 0.0516 - acc: 0.9834 - val_loss: 0.4950 - val_acc: 0.8642\n",
      "Epoch 95/100\n",
      "6800/6800 [==============================] - 1s 165us/step - loss: 0.0576 - acc: 0.9806 - val_loss: 0.4857 - val_acc: 0.8617\n",
      "Epoch 96/100\n",
      "6800/6800 [==============================] - 1s 164us/step - loss: 0.0566 - acc: 0.9807 - val_loss: 0.4975 - val_acc: 0.8583\n",
      "Epoch 97/100\n",
      "6800/6800 [==============================] - 1s 164us/step - loss: 0.0547 - acc: 0.9821 - val_loss: 0.5034 - val_acc: 0.8567\n",
      "Epoch 98/100\n",
      "6800/6800 [==============================] - 1s 163us/step - loss: 0.0492 - acc: 0.9831 - val_loss: 0.5244 - val_acc: 0.8567\n",
      "Epoch 99/100\n",
      "6800/6800 [==============================] - 1s 164us/step - loss: 0.0468 - acc: 0.9857 - val_loss: 0.4922 - val_acc: 0.8617\n",
      "Epoch 100/100\n",
      "6800/6800 [==============================] - 1s 164us/step - loss: 0.0436 - acc: 0.9875 - val_loss: 0.4991 - val_acc: 0.8617\n"
     ]
    }
   ],
   "source": [
    "hist = model.fit(X_train, Y_train, epochs=100, batch_size=256, validation_data=(X_test, Y_test))"
   ]
  },
  {
   "cell_type": "code",
   "execution_count": 69,
   "metadata": {
    "colab": {
     "base_uri": "https://localhost:8080/",
     "height": 6834
    },
    "colab_type": "code",
    "id": "qNn3RXMofezj",
    "outputId": "b58b1ac7-9ff9-4b33-e7cc-a3de3b9404ab"
   },
   "outputs": [
    {
     "name": "stdout",
     "output_type": "stream",
     "text": [
      "Train on 6800 samples, validate on 1200 samples\n",
      "Epoch 1/200\n",
      "6800/6800 [==============================] - 1s 177us/step - loss: 0.0510 - acc: 0.9846 - val_loss: 0.5100 - val_acc: 0.8575\n",
      "Epoch 2/200\n",
      "6800/6800 [==============================] - 1s 162us/step - loss: 0.0463 - acc: 0.9849 - val_loss: 0.5281 - val_acc: 0.8550\n",
      "Epoch 3/200\n",
      "6800/6800 [==============================] - 1s 163us/step - loss: 0.0507 - acc: 0.9818 - val_loss: 0.4925 - val_acc: 0.8592\n",
      "Epoch 4/200\n",
      "6800/6800 [==============================] - 1s 163us/step - loss: 0.0543 - acc: 0.9794 - val_loss: 0.5159 - val_acc: 0.8600\n",
      "Epoch 5/200\n",
      "6800/6800 [==============================] - 1s 166us/step - loss: 0.0423 - acc: 0.9869 - val_loss: 0.5124 - val_acc: 0.8558\n",
      "Epoch 6/200\n",
      "6800/6800 [==============================] - 1s 165us/step - loss: 0.0429 - acc: 0.9860 - val_loss: 0.5221 - val_acc: 0.8500\n",
      "Epoch 7/200\n",
      "6800/6800 [==============================] - 1s 164us/step - loss: 0.0451 - acc: 0.9871 - val_loss: 0.5090 - val_acc: 0.8600\n",
      "Epoch 8/200\n",
      "6800/6800 [==============================] - 1s 164us/step - loss: 0.0476 - acc: 0.9835 - val_loss: 0.5122 - val_acc: 0.8642\n",
      "Epoch 9/200\n",
      "6800/6800 [==============================] - 1s 164us/step - loss: 0.0478 - acc: 0.9840 - val_loss: 0.5241 - val_acc: 0.8625\n",
      "Epoch 10/200\n",
      "6800/6800 [==============================] - 1s 164us/step - loss: 0.0433 - acc: 0.9863 - val_loss: 0.5099 - val_acc: 0.8708\n",
      "Epoch 11/200\n",
      "6800/6800 [==============================] - 1s 163us/step - loss: 0.0398 - acc: 0.9879 - val_loss: 0.5465 - val_acc: 0.8533\n",
      "Epoch 12/200\n",
      "6800/6800 [==============================] - 1s 162us/step - loss: 0.0373 - acc: 0.9881 - val_loss: 0.5071 - val_acc: 0.8675\n",
      "Epoch 13/200\n",
      "6800/6800 [==============================] - 1s 162us/step - loss: 0.0340 - acc: 0.9894 - val_loss: 0.5150 - val_acc: 0.8725\n",
      "Epoch 14/200\n",
      "6800/6800 [==============================] - 1s 163us/step - loss: 0.0353 - acc: 0.9897 - val_loss: 0.5219 - val_acc: 0.8617\n",
      "Epoch 15/200\n",
      "6800/6800 [==============================] - 1s 163us/step - loss: 0.0360 - acc: 0.9882 - val_loss: 0.5222 - val_acc: 0.8608\n",
      "Epoch 16/200\n",
      "6800/6800 [==============================] - 1s 165us/step - loss: 0.0357 - acc: 0.9875 - val_loss: 0.5435 - val_acc: 0.8633\n",
      "Epoch 17/200\n",
      "6800/6800 [==============================] - 1s 165us/step - loss: 0.0313 - acc: 0.9904 - val_loss: 0.5269 - val_acc: 0.8592\n",
      "Epoch 18/200\n",
      "6800/6800 [==============================] - 1s 164us/step - loss: 0.0336 - acc: 0.9900 - val_loss: 0.5301 - val_acc: 0.8650\n",
      "Epoch 19/200\n",
      "6800/6800 [==============================] - 1s 165us/step - loss: 0.0310 - acc: 0.9910 - val_loss: 0.5526 - val_acc: 0.8650\n",
      "Epoch 20/200\n",
      "6800/6800 [==============================] - 1s 166us/step - loss: 0.0323 - acc: 0.9913 - val_loss: 0.5413 - val_acc: 0.8608\n",
      "Epoch 21/200\n",
      "6800/6800 [==============================] - 1s 166us/step - loss: 0.0301 - acc: 0.9916 - val_loss: 0.5254 - val_acc: 0.8592\n",
      "Epoch 22/200\n",
      "6800/6800 [==============================] - 1s 164us/step - loss: 0.0278 - acc: 0.9928 - val_loss: 0.5503 - val_acc: 0.8592\n",
      "Epoch 23/200\n",
      "6800/6800 [==============================] - 1s 165us/step - loss: 0.0316 - acc: 0.9913 - val_loss: 0.5274 - val_acc: 0.8633\n",
      "Epoch 24/200\n",
      "6800/6800 [==============================] - 1s 165us/step - loss: 0.0352 - acc: 0.9893 - val_loss: 0.5667 - val_acc: 0.8608\n",
      "Epoch 25/200\n",
      "6800/6800 [==============================] - 1s 163us/step - loss: 0.0299 - acc: 0.9910 - val_loss: 0.5140 - val_acc: 0.8683\n",
      "Epoch 26/200\n",
      "6800/6800 [==============================] - 1s 164us/step - loss: 0.0327 - acc: 0.9900 - val_loss: 0.5424 - val_acc: 0.8583\n",
      "Epoch 27/200\n",
      "6800/6800 [==============================] - 1s 164us/step - loss: 0.0292 - acc: 0.9912 - val_loss: 0.5849 - val_acc: 0.8550\n",
      "Epoch 28/200\n",
      "6800/6800 [==============================] - 1s 163us/step - loss: 0.0332 - acc: 0.9900 - val_loss: 0.5279 - val_acc: 0.8708\n",
      "Epoch 29/200\n",
      "6800/6800 [==============================] - 1s 163us/step - loss: 0.0237 - acc: 0.9947 - val_loss: 0.5307 - val_acc: 0.8633\n",
      "Epoch 30/200\n",
      "6800/6800 [==============================] - 1s 162us/step - loss: 0.0293 - acc: 0.9903 - val_loss: 0.5594 - val_acc: 0.8600\n",
      "Epoch 31/200\n",
      "6800/6800 [==============================] - 1s 162us/step - loss: 0.0270 - acc: 0.9926 - val_loss: 0.5442 - val_acc: 0.8617\n",
      "Epoch 32/200\n",
      "6800/6800 [==============================] - 1s 164us/step - loss: 0.0241 - acc: 0.9932 - val_loss: 0.5376 - val_acc: 0.8650\n",
      "Epoch 33/200\n",
      "6800/6800 [==============================] - 1s 165us/step - loss: 0.0228 - acc: 0.9932 - val_loss: 0.5593 - val_acc: 0.8617\n",
      "Epoch 34/200\n",
      "6800/6800 [==============================] - 1s 164us/step - loss: 0.0233 - acc: 0.9941 - val_loss: 0.5543 - val_acc: 0.8633\n",
      "Epoch 35/200\n",
      "6800/6800 [==============================] - 1s 164us/step - loss: 0.0231 - acc: 0.9941 - val_loss: 0.5773 - val_acc: 0.8592\n",
      "Epoch 36/200\n",
      "6800/6800 [==============================] - 1s 164us/step - loss: 0.0222 - acc: 0.9929 - val_loss: 0.5582 - val_acc: 0.8642\n",
      "Epoch 37/200\n",
      "6800/6800 [==============================] - 1s 164us/step - loss: 0.0209 - acc: 0.9941 - val_loss: 0.5762 - val_acc: 0.8600\n",
      "Epoch 38/200\n",
      "6800/6800 [==============================] - 1s 164us/step - loss: 0.0249 - acc: 0.9937 - val_loss: 0.5784 - val_acc: 0.8533\n",
      "Epoch 39/200\n",
      "6800/6800 [==============================] - 1s 163us/step - loss: 0.0248 - acc: 0.9928 - val_loss: 0.5616 - val_acc: 0.8642\n",
      "Epoch 40/200\n",
      "6800/6800 [==============================] - 1s 162us/step - loss: 0.0220 - acc: 0.9944 - val_loss: 0.5626 - val_acc: 0.8642\n",
      "Epoch 41/200\n",
      "6800/6800 [==============================] - 1s 163us/step - loss: 0.0220 - acc: 0.9947 - val_loss: 0.5677 - val_acc: 0.8592\n",
      "Epoch 42/200\n",
      "6800/6800 [==============================] - 1s 164us/step - loss: 0.0214 - acc: 0.9943 - val_loss: 0.5626 - val_acc: 0.8617\n",
      "Epoch 43/200\n",
      "6800/6800 [==============================] - 1s 164us/step - loss: 0.0239 - acc: 0.9925 - val_loss: 0.5673 - val_acc: 0.8608\n",
      "Epoch 44/200\n",
      "6800/6800 [==============================] - 1s 164us/step - loss: 0.0204 - acc: 0.9950 - val_loss: 0.5543 - val_acc: 0.8650\n",
      "Epoch 45/200\n",
      "6800/6800 [==============================] - 1s 163us/step - loss: 0.0218 - acc: 0.9929 - val_loss: 0.5741 - val_acc: 0.8633\n",
      "Epoch 46/200\n",
      "6800/6800 [==============================] - 1s 163us/step - loss: 0.0231 - acc: 0.9929 - val_loss: 0.5692 - val_acc: 0.8625\n",
      "Epoch 47/200\n",
      "6800/6800 [==============================] - 1s 162us/step - loss: 0.0204 - acc: 0.9954 - val_loss: 0.5634 - val_acc: 0.8683\n",
      "Epoch 48/200\n",
      "6800/6800 [==============================] - 1s 162us/step - loss: 0.0194 - acc: 0.9951 - val_loss: 0.5667 - val_acc: 0.8608\n",
      "Epoch 49/200\n",
      "6800/6800 [==============================] - 1s 164us/step - loss: 0.0173 - acc: 0.9962 - val_loss: 0.5676 - val_acc: 0.8633\n",
      "Epoch 50/200\n",
      "6800/6800 [==============================] - 1s 162us/step - loss: 0.0182 - acc: 0.9956 - val_loss: 0.5519 - val_acc: 0.8650\n",
      "Epoch 51/200\n",
      "6800/6800 [==============================] - 1s 163us/step - loss: 0.0182 - acc: 0.9962 - val_loss: 0.5925 - val_acc: 0.8642\n",
      "Epoch 52/200\n",
      "6800/6800 [==============================] - 1s 163us/step - loss: 0.0196 - acc: 0.9950 - val_loss: 0.6009 - val_acc: 0.8625\n",
      "Epoch 53/200\n",
      "6800/6800 [==============================] - 1s 164us/step - loss: 0.0186 - acc: 0.9941 - val_loss: 0.5729 - val_acc: 0.8667\n",
      "Epoch 54/200\n",
      "6800/6800 [==============================] - 1s 163us/step - loss: 0.0189 - acc: 0.9946 - val_loss: 0.5618 - val_acc: 0.8658\n",
      "Epoch 55/200\n",
      "6800/6800 [==============================] - 1s 163us/step - loss: 0.0172 - acc: 0.9962 - val_loss: 0.5599 - val_acc: 0.8675\n",
      "Epoch 56/200\n",
      "6800/6800 [==============================] - 1s 164us/step - loss: 0.0157 - acc: 0.9962 - val_loss: 0.5979 - val_acc: 0.8617\n",
      "Epoch 57/200\n",
      "6800/6800 [==============================] - 1s 163us/step - loss: 0.0167 - acc: 0.9963 - val_loss: 0.5749 - val_acc: 0.8642\n",
      "Epoch 58/200\n",
      "6800/6800 [==============================] - 1s 162us/step - loss: 0.0167 - acc: 0.9963 - val_loss: 0.5758 - val_acc: 0.8617\n",
      "Epoch 59/200\n",
      "6800/6800 [==============================] - 1s 162us/step - loss: 0.0205 - acc: 0.9940 - val_loss: 0.6642 - val_acc: 0.8492\n",
      "Epoch 60/200\n",
      "6800/6800 [==============================] - 1s 163us/step - loss: 0.0210 - acc: 0.9946 - val_loss: 0.5791 - val_acc: 0.8583\n",
      "Epoch 61/200\n",
      "6800/6800 [==============================] - 1s 163us/step - loss: 0.0178 - acc: 0.9947 - val_loss: 0.5896 - val_acc: 0.8592\n",
      "Epoch 62/200\n",
      "6800/6800 [==============================] - 1s 162us/step - loss: 0.0178 - acc: 0.9949 - val_loss: 0.6119 - val_acc: 0.8617\n",
      "Epoch 63/200\n",
      "6800/6800 [==============================] - 1s 164us/step - loss: 0.0162 - acc: 0.9960 - val_loss: 0.5937 - val_acc: 0.8633\n",
      "Epoch 64/200\n",
      "6800/6800 [==============================] - 1s 163us/step - loss: 0.0163 - acc: 0.9960 - val_loss: 0.5862 - val_acc: 0.8633\n",
      "Epoch 65/200\n",
      "6800/6800 [==============================] - 1s 164us/step - loss: 0.0127 - acc: 0.9974 - val_loss: 0.5764 - val_acc: 0.8642\n",
      "Epoch 66/200\n",
      "6800/6800 [==============================] - 1s 164us/step - loss: 0.0136 - acc: 0.9968 - val_loss: 0.5846 - val_acc: 0.8708\n",
      "Epoch 67/200\n",
      "6800/6800 [==============================] - 1s 163us/step - loss: 0.0153 - acc: 0.9957 - val_loss: 0.5851 - val_acc: 0.8633\n",
      "Epoch 68/200\n",
      "6800/6800 [==============================] - 1s 164us/step - loss: 0.0121 - acc: 0.9978 - val_loss: 0.5928 - val_acc: 0.8700\n",
      "Epoch 69/200\n",
      "6800/6800 [==============================] - 1s 163us/step - loss: 0.0150 - acc: 0.9963 - val_loss: 0.6105 - val_acc: 0.8675\n",
      "Epoch 70/200\n",
      "6800/6800 [==============================] - 1s 164us/step - loss: 0.0167 - acc: 0.9950 - val_loss: 0.5785 - val_acc: 0.8700\n",
      "Epoch 71/200\n",
      "6800/6800 [==============================] - 1s 162us/step - loss: 0.0218 - acc: 0.9922 - val_loss: 0.5877 - val_acc: 0.8625\n",
      "Epoch 72/200\n",
      "6800/6800 [==============================] - 1s 162us/step - loss: 0.0183 - acc: 0.9937 - val_loss: 0.5834 - val_acc: 0.8683\n",
      "Epoch 73/200\n",
      "6800/6800 [==============================] - 1s 162us/step - loss: 0.0190 - acc: 0.9949 - val_loss: 0.6007 - val_acc: 0.8692\n",
      "Epoch 74/200\n",
      "6800/6800 [==============================] - 1s 165us/step - loss: 0.0152 - acc: 0.9956 - val_loss: 0.5775 - val_acc: 0.8683\n",
      "Epoch 75/200\n",
      "6800/6800 [==============================] - 1s 164us/step - loss: 0.0134 - acc: 0.9976 - val_loss: 0.5953 - val_acc: 0.8675\n",
      "Epoch 76/200\n",
      "6800/6800 [==============================] - 1s 163us/step - loss: 0.0125 - acc: 0.9981 - val_loss: 0.6301 - val_acc: 0.8583\n",
      "Epoch 77/200\n",
      "6800/6800 [==============================] - 1s 164us/step - loss: 0.0119 - acc: 0.9972 - val_loss: 0.5874 - val_acc: 0.8717\n",
      "Epoch 78/200\n",
      "6800/6800 [==============================] - 1s 164us/step - loss: 0.0114 - acc: 0.9975 - val_loss: 0.5981 - val_acc: 0.8650\n",
      "Epoch 79/200\n",
      "6800/6800 [==============================] - 1s 165us/step - loss: 0.0127 - acc: 0.9972 - val_loss: 0.5946 - val_acc: 0.8683\n",
      "Epoch 80/200\n",
      "6800/6800 [==============================] - 1s 164us/step - loss: 0.0141 - acc: 0.9966 - val_loss: 0.5970 - val_acc: 0.8675\n",
      "Epoch 81/200\n",
      "6800/6800 [==============================] - 1s 162us/step - loss: 0.0134 - acc: 0.9966 - val_loss: 0.6151 - val_acc: 0.8650\n",
      "Epoch 82/200\n",
      "6800/6800 [==============================] - 1s 162us/step - loss: 0.0128 - acc: 0.9975 - val_loss: 0.6250 - val_acc: 0.8658\n",
      "Epoch 83/200\n",
      "6800/6800 [==============================] - 1s 162us/step - loss: 0.0140 - acc: 0.9954 - val_loss: 0.5958 - val_acc: 0.8683\n",
      "Epoch 84/200\n",
      "6800/6800 [==============================] - 1s 162us/step - loss: 0.0123 - acc: 0.9969 - val_loss: 0.6113 - val_acc: 0.8558\n",
      "Epoch 85/200\n",
      "6800/6800 [==============================] - 1s 162us/step - loss: 0.0097 - acc: 0.9979 - val_loss: 0.6053 - val_acc: 0.8675\n",
      "Epoch 86/200\n",
      "6800/6800 [==============================] - 1s 161us/step - loss: 0.0142 - acc: 0.9957 - val_loss: 0.6033 - val_acc: 0.8625\n",
      "Epoch 87/200\n",
      "6800/6800 [==============================] - 1s 160us/step - loss: 0.0118 - acc: 0.9975 - val_loss: 0.6042 - val_acc: 0.8650\n",
      "Epoch 88/200\n",
      "6800/6800 [==============================] - 1s 161us/step - loss: 0.0111 - acc: 0.9965 - val_loss: 0.5977 - val_acc: 0.8700\n",
      "Epoch 89/200\n",
      "6800/6800 [==============================] - 1s 162us/step - loss: 0.0101 - acc: 0.9987 - val_loss: 0.6033 - val_acc: 0.8708\n",
      "Epoch 90/200\n",
      "6800/6800 [==============================] - 1s 161us/step - loss: 0.0094 - acc: 0.9984 - val_loss: 0.6241 - val_acc: 0.8692\n",
      "Epoch 91/200\n",
      "6800/6800 [==============================] - 1s 162us/step - loss: 0.0115 - acc: 0.9968 - val_loss: 0.6486 - val_acc: 0.8658\n",
      "Epoch 92/200\n",
      "6800/6800 [==============================] - 1s 161us/step - loss: 0.0125 - acc: 0.9963 - val_loss: 0.6193 - val_acc: 0.8683\n",
      "Epoch 93/200\n",
      "6800/6800 [==============================] - 1s 162us/step - loss: 0.0127 - acc: 0.9965 - val_loss: 0.6475 - val_acc: 0.8608\n",
      "Epoch 94/200\n",
      "6800/6800 [==============================] - 1s 160us/step - loss: 0.0185 - acc: 0.9941 - val_loss: 0.6288 - val_acc: 0.8642\n",
      "Epoch 95/200\n",
      "6800/6800 [==============================] - 1s 160us/step - loss: 0.0136 - acc: 0.9960 - val_loss: 0.6181 - val_acc: 0.8658\n",
      "Epoch 96/200\n",
      "6800/6800 [==============================] - 1s 160us/step - loss: 0.0099 - acc: 0.9981 - val_loss: 0.6096 - val_acc: 0.8683\n",
      "Epoch 97/200\n",
      "6800/6800 [==============================] - 1s 162us/step - loss: 0.0117 - acc: 0.9971 - val_loss: 0.6230 - val_acc: 0.8650\n",
      "Epoch 98/200\n",
      "6800/6800 [==============================] - 1s 162us/step - loss: 0.0092 - acc: 0.9981 - val_loss: 0.6397 - val_acc: 0.8600\n",
      "Epoch 99/200\n",
      "6800/6800 [==============================] - 1s 162us/step - loss: 0.0116 - acc: 0.9975 - val_loss: 0.6407 - val_acc: 0.8658\n",
      "Epoch 100/200\n",
      "6800/6800 [==============================] - 1s 162us/step - loss: 0.0100 - acc: 0.9974 - val_loss: 0.6090 - val_acc: 0.8708\n",
      "Epoch 101/200\n",
      "6800/6800 [==============================] - 1s 161us/step - loss: 0.0102 - acc: 0.9979 - val_loss: 0.6181 - val_acc: 0.8650\n",
      "Epoch 102/200\n",
      "6800/6800 [==============================] - 1s 161us/step - loss: 0.0095 - acc: 0.9976 - val_loss: 0.6218 - val_acc: 0.8692\n",
      "Epoch 103/200\n",
      "6800/6800 [==============================] - 1s 160us/step - loss: 0.0093 - acc: 0.9976 - val_loss: 0.6283 - val_acc: 0.8675\n",
      "Epoch 104/200\n",
      "6800/6800 [==============================] - 1s 160us/step - loss: 0.0101 - acc: 0.9975 - val_loss: 0.6238 - val_acc: 0.8725\n",
      "Epoch 105/200\n",
      "6800/6800 [==============================] - 1s 158us/step - loss: 0.0085 - acc: 0.9979 - val_loss: 0.6279 - val_acc: 0.8683\n",
      "Epoch 106/200\n",
      "6800/6800 [==============================] - 1s 160us/step - loss: 0.0116 - acc: 0.9974 - val_loss: 0.6511 - val_acc: 0.8667\n",
      "Epoch 107/200\n",
      "6800/6800 [==============================] - 1s 159us/step - loss: 0.0087 - acc: 0.9982 - val_loss: 0.6273 - val_acc: 0.8667\n",
      "Epoch 108/200\n",
      "6800/6800 [==============================] - 1s 162us/step - loss: 0.0093 - acc: 0.9978 - val_loss: 0.6420 - val_acc: 0.8642\n",
      "Epoch 109/200\n",
      "6800/6800 [==============================] - 1s 160us/step - loss: 0.0126 - acc: 0.9965 - val_loss: 0.6147 - val_acc: 0.8708\n",
      "Epoch 110/200\n",
      "6800/6800 [==============================] - 1s 162us/step - loss: 0.0114 - acc: 0.9969 - val_loss: 0.6470 - val_acc: 0.8608\n",
      "Epoch 111/200\n",
      "6800/6800 [==============================] - 1s 160us/step - loss: 0.0098 - acc: 0.9979 - val_loss: 0.6298 - val_acc: 0.8642\n",
      "Epoch 112/200\n",
      "6800/6800 [==============================] - 1s 161us/step - loss: 0.0093 - acc: 0.9979 - val_loss: 0.6447 - val_acc: 0.8583\n",
      "Epoch 113/200\n",
      "6800/6800 [==============================] - 1s 162us/step - loss: 0.0084 - acc: 0.9978 - val_loss: 0.6451 - val_acc: 0.8658\n",
      "Epoch 114/200\n",
      "6800/6800 [==============================] - 1s 161us/step - loss: 0.0093 - acc: 0.9978 - val_loss: 0.6479 - val_acc: 0.8633\n",
      "Epoch 115/200\n",
      "6800/6800 [==============================] - 1s 162us/step - loss: 0.0092 - acc: 0.9971 - val_loss: 0.6455 - val_acc: 0.8675\n",
      "Epoch 116/200\n",
      "6800/6800 [==============================] - 1s 161us/step - loss: 0.0072 - acc: 0.9984 - val_loss: 0.6410 - val_acc: 0.8608\n",
      "Epoch 117/200\n",
      "6800/6800 [==============================] - 1s 161us/step - loss: 0.0074 - acc: 0.9990 - val_loss: 0.6769 - val_acc: 0.8658\n",
      "Epoch 118/200\n",
      "6800/6800 [==============================] - 1s 161us/step - loss: 0.0072 - acc: 0.9982 - val_loss: 0.6546 - val_acc: 0.8633\n",
      "Epoch 119/200\n",
      "6800/6800 [==============================] - 1s 161us/step - loss: 0.0100 - acc: 0.9972 - val_loss: 0.6511 - val_acc: 0.8658\n",
      "Epoch 120/200\n",
      "6800/6800 [==============================] - 1s 161us/step - loss: 0.0071 - acc: 0.9993 - val_loss: 0.6534 - val_acc: 0.8658\n",
      "Epoch 121/200\n",
      "6800/6800 [==============================] - 1s 162us/step - loss: 0.0069 - acc: 0.9988 - val_loss: 0.6918 - val_acc: 0.8600\n",
      "Epoch 122/200\n",
      "6800/6800 [==============================] - 1s 161us/step - loss: 0.0100 - acc: 0.9972 - val_loss: 0.6513 - val_acc: 0.8692\n",
      "Epoch 123/200\n",
      "6800/6800 [==============================] - 1s 162us/step - loss: 0.0084 - acc: 0.9985 - val_loss: 0.6493 - val_acc: 0.8675\n",
      "Epoch 124/200\n",
      "6800/6800 [==============================] - 1s 162us/step - loss: 0.0080 - acc: 0.9976 - val_loss: 0.6544 - val_acc: 0.8675\n",
      "Epoch 125/200\n",
      "6800/6800 [==============================] - 1s 161us/step - loss: 0.0080 - acc: 0.9982 - val_loss: 0.6807 - val_acc: 0.8650\n",
      "Epoch 126/200\n",
      "6800/6800 [==============================] - 1s 160us/step - loss: 0.0078 - acc: 0.9987 - val_loss: 0.6729 - val_acc: 0.8625\n",
      "Epoch 127/200\n",
      "6800/6800 [==============================] - 1s 161us/step - loss: 0.0061 - acc: 0.9987 - val_loss: 0.6891 - val_acc: 0.8625\n",
      "Epoch 128/200\n",
      "6800/6800 [==============================] - 1s 161us/step - loss: 0.0059 - acc: 0.9991 - val_loss: 0.6562 - val_acc: 0.8692\n",
      "Epoch 129/200\n",
      "6800/6800 [==============================] - 1s 161us/step - loss: 0.0057 - acc: 0.9988 - val_loss: 0.6726 - val_acc: 0.8592\n",
      "Epoch 130/200\n",
      "6800/6800 [==============================] - 1s 162us/step - loss: 0.0065 - acc: 0.9985 - val_loss: 0.6619 - val_acc: 0.8658\n",
      "Epoch 131/200\n",
      "6800/6800 [==============================] - 1s 161us/step - loss: 0.0055 - acc: 0.9991 - val_loss: 0.6807 - val_acc: 0.8650\n",
      "Epoch 132/200\n",
      "6800/6800 [==============================] - 1s 161us/step - loss: 0.0072 - acc: 0.9979 - val_loss: 0.6522 - val_acc: 0.8675\n",
      "Epoch 133/200\n",
      "6800/6800 [==============================] - 1s 160us/step - loss: 0.0055 - acc: 0.9982 - val_loss: 0.6685 - val_acc: 0.8608\n",
      "Epoch 134/200\n",
      "6800/6800 [==============================] - 1s 162us/step - loss: 0.0092 - acc: 0.9979 - val_loss: 0.6595 - val_acc: 0.8675\n",
      "Epoch 135/200\n",
      "6800/6800 [==============================] - 1s 162us/step - loss: 0.0081 - acc: 0.9975 - val_loss: 0.6634 - val_acc: 0.8692\n",
      "Epoch 136/200\n",
      "6800/6800 [==============================] - 1s 160us/step - loss: 0.0097 - acc: 0.9975 - val_loss: 0.6827 - val_acc: 0.8625\n",
      "Epoch 137/200\n",
      "6800/6800 [==============================] - 1s 160us/step - loss: 0.0113 - acc: 0.9962 - val_loss: 0.6584 - val_acc: 0.8733\n",
      "Epoch 138/200\n",
      "6800/6800 [==============================] - 1s 162us/step - loss: 0.0101 - acc: 0.9971 - val_loss: 0.6868 - val_acc: 0.8567\n",
      "Epoch 139/200\n",
      "6800/6800 [==============================] - 1s 160us/step - loss: 0.0097 - acc: 0.9981 - val_loss: 0.6830 - val_acc: 0.8608\n",
      "Epoch 140/200\n",
      "6800/6800 [==============================] - 1s 162us/step - loss: 0.0119 - acc: 0.9960 - val_loss: 0.7066 - val_acc: 0.8708\n",
      "Epoch 141/200\n",
      "6800/6800 [==============================] - 1s 161us/step - loss: 0.0099 - acc: 0.9976 - val_loss: 0.6963 - val_acc: 0.8617\n",
      "Epoch 142/200\n",
      "6800/6800 [==============================] - 1s 162us/step - loss: 0.0101 - acc: 0.9971 - val_loss: 0.6949 - val_acc: 0.8692\n",
      "Epoch 143/200\n",
      "6800/6800 [==============================] - 1s 161us/step - loss: 0.0162 - acc: 0.9941 - val_loss: 0.6677 - val_acc: 0.8600\n",
      "Epoch 144/200\n",
      "6800/6800 [==============================] - 1s 161us/step - loss: 0.0176 - acc: 0.9938 - val_loss: 0.7709 - val_acc: 0.8492\n",
      "Epoch 145/200\n",
      "6800/6800 [==============================] - 1s 163us/step - loss: 0.0088 - acc: 0.9975 - val_loss: 0.6998 - val_acc: 0.8608\n",
      "Epoch 146/200\n",
      "6800/6800 [==============================] - 1s 162us/step - loss: 0.0067 - acc: 0.9984 - val_loss: 0.6704 - val_acc: 0.8692\n",
      "Epoch 147/200\n",
      "6800/6800 [==============================] - 1s 161us/step - loss: 0.0054 - acc: 0.9988 - val_loss: 0.6804 - val_acc: 0.8700\n",
      "Epoch 148/200\n",
      "6800/6800 [==============================] - 1s 163us/step - loss: 0.0073 - acc: 0.9978 - val_loss: 0.6683 - val_acc: 0.8675\n",
      "Epoch 149/200\n",
      "6800/6800 [==============================] - 1s 162us/step - loss: 0.0046 - acc: 0.9991 - val_loss: 0.6780 - val_acc: 0.8700\n",
      "Epoch 150/200\n",
      "6800/6800 [==============================] - 1s 163us/step - loss: 0.0048 - acc: 0.9993 - val_loss: 0.6897 - val_acc: 0.8742\n",
      "Epoch 151/200\n",
      "6800/6800 [==============================] - 1s 161us/step - loss: 0.0067 - acc: 0.9976 - val_loss: 0.6791 - val_acc: 0.8667\n",
      "Epoch 152/200\n",
      "6800/6800 [==============================] - 1s 160us/step - loss: 0.0053 - acc: 0.9987 - val_loss: 0.6843 - val_acc: 0.8700\n",
      "Epoch 153/200\n",
      "6800/6800 [==============================] - 1s 160us/step - loss: 0.0061 - acc: 0.9987 - val_loss: 0.6929 - val_acc: 0.8717\n",
      "Epoch 154/200\n",
      "6800/6800 [==============================] - 1s 162us/step - loss: 0.0050 - acc: 0.9990 - val_loss: 0.6836 - val_acc: 0.8667\n",
      "Epoch 155/200\n",
      "6800/6800 [==============================] - 1s 161us/step - loss: 0.0060 - acc: 0.9988 - val_loss: 0.7161 - val_acc: 0.8700\n",
      "Epoch 156/200\n",
      "6800/6800 [==============================] - 1s 162us/step - loss: 0.0058 - acc: 0.9988 - val_loss: 0.6963 - val_acc: 0.8700\n",
      "Epoch 157/200\n",
      "6800/6800 [==============================] - 1s 161us/step - loss: 0.0059 - acc: 0.9993 - val_loss: 0.7104 - val_acc: 0.8625\n",
      "Epoch 158/200\n",
      "6800/6800 [==============================] - 1s 161us/step - loss: 0.0052 - acc: 0.9988 - val_loss: 0.7165 - val_acc: 0.8675\n",
      "Epoch 159/200\n",
      "6800/6800 [==============================] - 1s 161us/step - loss: 0.0040 - acc: 0.9994 - val_loss: 0.7063 - val_acc: 0.8725\n",
      "Epoch 160/200\n",
      "6800/6800 [==============================] - 1s 160us/step - loss: 0.0084 - acc: 0.9976 - val_loss: 0.6850 - val_acc: 0.8717\n",
      "Epoch 161/200\n",
      "6800/6800 [==============================] - 1s 163us/step - loss: 0.0047 - acc: 0.9993 - val_loss: 0.7011 - val_acc: 0.8650\n",
      "Epoch 162/200\n",
      "6800/6800 [==============================] - 1s 161us/step - loss: 0.0050 - acc: 0.9987 - val_loss: 0.6933 - val_acc: 0.8717\n",
      "Epoch 163/200\n",
      "6800/6800 [==============================] - 1s 162us/step - loss: 0.0046 - acc: 0.9988 - val_loss: 0.7001 - val_acc: 0.8650\n",
      "Epoch 164/200\n",
      "6800/6800 [==============================] - 1s 161us/step - loss: 0.0065 - acc: 0.9985 - val_loss: 0.7237 - val_acc: 0.8658\n",
      "Epoch 165/200\n",
      "6800/6800 [==============================] - 1s 161us/step - loss: 0.0123 - acc: 0.9962 - val_loss: 0.7498 - val_acc: 0.8550\n",
      "Epoch 166/200\n",
      "6800/6800 [==============================] - 1s 163us/step - loss: 0.0121 - acc: 0.9965 - val_loss: 0.6757 - val_acc: 0.8667\n",
      "Epoch 167/200\n",
      "6800/6800 [==============================] - 1s 161us/step - loss: 0.0092 - acc: 0.9971 - val_loss: 0.6881 - val_acc: 0.8692\n",
      "Epoch 168/200\n",
      "6800/6800 [==============================] - 1s 161us/step - loss: 0.0069 - acc: 0.9981 - val_loss: 0.6992 - val_acc: 0.8633\n",
      "Epoch 169/200\n",
      "6800/6800 [==============================] - 1s 162us/step - loss: 0.0056 - acc: 0.9991 - val_loss: 0.6776 - val_acc: 0.8658\n",
      "Epoch 170/200\n",
      "6800/6800 [==============================] - 1s 161us/step - loss: 0.0046 - acc: 0.9993 - val_loss: 0.6903 - val_acc: 0.8717\n",
      "Epoch 171/200\n",
      "6800/6800 [==============================] - 1s 161us/step - loss: 0.0042 - acc: 0.9990 - val_loss: 0.7032 - val_acc: 0.8617\n",
      "Epoch 172/200\n",
      "6800/6800 [==============================] - 1s 161us/step - loss: 0.0044 - acc: 0.9990 - val_loss: 0.6922 - val_acc: 0.8683\n",
      "Epoch 173/200\n",
      "6800/6800 [==============================] - 1s 162us/step - loss: 0.0048 - acc: 0.9991 - val_loss: 0.6851 - val_acc: 0.8658\n",
      "Epoch 174/200\n",
      "6800/6800 [==============================] - 1s 163us/step - loss: 0.0032 - acc: 0.9996 - val_loss: 0.7043 - val_acc: 0.8675\n",
      "Epoch 175/200\n",
      "6800/6800 [==============================] - 1s 161us/step - loss: 0.0055 - acc: 0.9985 - val_loss: 0.6774 - val_acc: 0.8742\n",
      "Epoch 176/200\n",
      "6800/6800 [==============================] - 1s 162us/step - loss: 0.0056 - acc: 0.9984 - val_loss: 0.6785 - val_acc: 0.8725\n",
      "Epoch 177/200\n",
      "6800/6800 [==============================] - 1s 163us/step - loss: 0.0055 - acc: 0.9988 - val_loss: 0.7112 - val_acc: 0.8667\n",
      "Epoch 178/200\n",
      "6800/6800 [==============================] - 1s 163us/step - loss: 0.0062 - acc: 0.9982 - val_loss: 0.6911 - val_acc: 0.8692\n",
      "Epoch 179/200\n",
      "6800/6800 [==============================] - 1s 163us/step - loss: 0.0077 - acc: 0.9975 - val_loss: 0.7014 - val_acc: 0.8608\n",
      "Epoch 180/200\n",
      "6800/6800 [==============================] - 1s 163us/step - loss: 0.0066 - acc: 0.9978 - val_loss: 0.7017 - val_acc: 0.8658\n",
      "Epoch 181/200\n",
      "6800/6800 [==============================] - 1s 162us/step - loss: 0.0043 - acc: 0.9990 - val_loss: 0.7179 - val_acc: 0.8658\n",
      "Epoch 182/200\n",
      "6800/6800 [==============================] - 1s 162us/step - loss: 0.0044 - acc: 0.9991 - val_loss: 0.7294 - val_acc: 0.8667\n",
      "Epoch 183/200\n",
      "6800/6800 [==============================] - 1s 161us/step - loss: 0.0037 - acc: 0.9993 - val_loss: 0.6948 - val_acc: 0.8675\n",
      "Epoch 184/200\n",
      "6800/6800 [==============================] - 1s 162us/step - loss: 0.0040 - acc: 0.9993 - val_loss: 0.6765 - val_acc: 0.8708\n",
      "Epoch 185/200\n",
      "6800/6800 [==============================] - 1s 161us/step - loss: 0.0046 - acc: 0.9990 - val_loss: 0.7020 - val_acc: 0.8692\n",
      "Epoch 186/200\n",
      "6800/6800 [==============================] - 1s 161us/step - loss: 0.0057 - acc: 0.9987 - val_loss: 0.6939 - val_acc: 0.8742\n",
      "Epoch 187/200\n",
      "6800/6800 [==============================] - 1s 161us/step - loss: 0.0044 - acc: 0.9994 - val_loss: 0.7150 - val_acc: 0.8667\n",
      "Epoch 188/200\n",
      "6800/6800 [==============================] - 1s 162us/step - loss: 0.0053 - acc: 0.9988 - val_loss: 0.7138 - val_acc: 0.8642\n",
      "Epoch 189/200\n",
      "6800/6800 [==============================] - 1s 163us/step - loss: 0.0029 - acc: 0.9997 - val_loss: 0.7149 - val_acc: 0.8650\n",
      "Epoch 190/200\n",
      "6800/6800 [==============================] - 1s 162us/step - loss: 0.0044 - acc: 0.9991 - val_loss: 0.7124 - val_acc: 0.8625\n",
      "Epoch 191/200\n",
      "6800/6800 [==============================] - 1s 162us/step - loss: 0.0049 - acc: 0.9987 - val_loss: 0.7234 - val_acc: 0.8658\n",
      "Epoch 192/200\n",
      "6800/6800 [==============================] - 1s 161us/step - loss: 0.0037 - acc: 0.9990 - val_loss: 0.7039 - val_acc: 0.8700\n",
      "Epoch 193/200\n",
      "6800/6800 [==============================] - 1s 161us/step - loss: 0.0075 - acc: 0.9976 - val_loss: 0.7158 - val_acc: 0.8675\n",
      "Epoch 194/200\n",
      "6800/6800 [==============================] - 1s 160us/step - loss: 0.0075 - acc: 0.9981 - val_loss: 0.7137 - val_acc: 0.8667\n",
      "Epoch 195/200\n",
      "6800/6800 [==============================] - 1s 162us/step - loss: 0.0101 - acc: 0.9971 - val_loss: 0.7407 - val_acc: 0.8667\n",
      "Epoch 196/200\n",
      "6800/6800 [==============================] - 1s 160us/step - loss: 0.0060 - acc: 0.9990 - val_loss: 0.7400 - val_acc: 0.8608\n",
      "Epoch 197/200\n",
      "6800/6800 [==============================] - 1s 161us/step - loss: 0.0067 - acc: 0.9982 - val_loss: 0.7115 - val_acc: 0.8608\n",
      "Epoch 198/200\n",
      "6800/6800 [==============================] - 1s 162us/step - loss: 0.0049 - acc: 0.9990 - val_loss: 0.7240 - val_acc: 0.8708\n",
      "Epoch 199/200\n",
      "6800/6800 [==============================] - 1s 163us/step - loss: 0.0054 - acc: 0.9987 - val_loss: 0.7182 - val_acc: 0.8583\n",
      "Epoch 200/200\n",
      "6800/6800 [==============================] - 1s 163us/step - loss: 0.0061 - acc: 0.9976 - val_loss: 0.7053 - val_acc: 0.8675\n"
     ]
    }
   ],
   "source": [
    "hist = model.fit(X_train, Y_train, epochs=200, batch_size=256, validation_data=(X_test, Y_test))"
   ]
  },
  {
   "cell_type": "code",
   "execution_count": 0,
   "metadata": {
    "colab": {
     "base_uri": "https://localhost:8080/",
     "height": 68
    },
    "colab_type": "code",
    "id": "F3EqCeoOiiGW",
    "outputId": "33bc4f13-e657-4b1b-9d6a-e8dd998a7f05"
   },
   "outputs": [
    {
     "name": "stdout",
     "output_type": "stream",
     "text": [
      "1200/1200 [==============================] - 0s 159us/step\n",
      "Score:  0.6\n",
      "Accuracy:  87.33 %\n"
     ]
    }
   ],
   "source": [
    "score, accuracy = model.evaluate(X_test, Y_test)\n",
    "print('Score: ', score.round(4))\n",
    "print('Accuracy: ', accuracy.round(4)*100, '%')"
   ]
  },
  {
   "cell_type": "code",
   "execution_count": 0,
   "metadata": {
    "colab": {},
    "colab_type": "code",
    "id": "py8p3KVBjtFB"
   },
   "outputs": [],
   "source": [
    "Y_pred_ohv = model.predict(X_test)\n",
    "Y_pred = np.argmax(Y_pred_ohv, axis=1)"
   ]
  },
  {
   "cell_type": "code",
   "execution_count": 87,
   "metadata": {
    "colab": {
     "base_uri": "https://localhost:8080/",
     "height": 293
    },
    "colab_type": "code",
    "id": "LTmyX4HKjusZ",
    "outputId": "147abfde-535d-41da-973a-524dbac07885"
   },
   "outputs": [
    {
     "data": {
      "image/png": "[encoded data removed]",
      "text/plain": [
       "<Figure size 720x288 with 2 Axes>"
      ]
     },
     "metadata": {
      "tags": []
     },
     "output_type": "display_data"
    }
   ],
   "source": [
    "plt.figure(figsize=(10,4))\n",
    "\n",
    "plt.subplot(1,2,1)\n",
    "plt.title('Loss vs Epochs')\n",
    "plt.plot(hist.history['loss'], label='Training Loss')\n",
    "plt.plot(hist.history['val_loss'], label='Validation Loss')\n",
    "plt.legend()\n",
    "\n",
    "plt.subplot(1,2,2)\n",
    "plt.title('Accuracy vs Epochs')\n",
    "plt.plot(hist.history['acc'], label='Training Accuracy')\n",
    "plt.plot(hist.history['val_acc'], label='Validation Accuracy')\n",
    "plt.legend()\n",
    "plt.tight_layout()\n",
    "plt.show()"
   ]
  },
  {
   "cell_type": "code",
   "execution_count": 0,
   "metadata": {
    "colab": {
     "base_uri": "https://localhost:8080/",
     "height": 486
    },
    "colab_type": "code",
    "id": "sEAkWvAkjwkS",
    "outputId": "dd7add8c-c326-4c5a-84d4-0045f3a82bde"
   },
   "outputs": [
    {
     "name": "stdout",
     "output_type": "stream",
     "text": [
      "Confusion matrix, without normalization\n",
      "[[263   4   5  28]\n",
      " [ 10 259   6  25]\n",
      " [  8   3 283   6]\n",
      " [ 32  13  12 243]]\n"
     ]
    },
    {
     "data": {
      "image/png": "[encoded data removed]",
      "text/plain": [
       "<Figure size 576x396 with 2 Axes>"
      ]
     },
     "metadata": {
      "tags": []
     },
     "output_type": "display_data"
    }
   ],
   "source": [
    "# Convert validation observations from one hot vectors to labels\n",
    "Y_test_cnf = np.argmax(Y_test, axis=1)\n",
    "\n",
    "#Plotting the confusion matrix\n",
    "cnf_matrix = confusion_matrix(Y_test_cnf, Y_pred)\n",
    "plot_confusion_matrix(cnf_matrix, classes=classes)"
   ]
  },
  {
   "cell_type": "code",
   "execution_count": 103,
   "metadata": {
    "colab": {
     "base_uri": "https://localhost:8080/",
     "height": 578
    },
    "colab_type": "code",
    "id": "qc5U7VJEjyct",
    "outputId": "3a509822-07e0-41de-df3d-7cfad7273abf"
   },
   "outputs": [
    {
     "name": "stdout",
     "output_type": "stream",
     "text": [
      "_________________________________________________________________\n",
      "Layer (type)                 Output Shape              Param #   \n",
      "=================================================================\n",
      "batch_normalization_16 (Batc (None, 28, 28, 1)         4         \n",
      "_________________________________________________________________\n",
      "conv2d_64 (Conv2D)           (None, 25, 25, 64)        1088      \n",
      "_________________________________________________________________\n",
      "max_pooling2d_32 (MaxPooling (None, 12, 12, 64)        0         \n",
      "_________________________________________________________________\n",
      "dropout_28 (Dropout)         (None, 12, 12, 64)        0         \n",
      "_________________________________________________________________\n",
      "conv2d_65 (Conv2D)           (None, 9, 9, 64)          65600     \n",
      "_________________________________________________________________\n",
      "max_pooling2d_33 (MaxPooling (None, 4, 4, 64)          0         \n",
      "_________________________________________________________________\n",
      "dropout_29 (Dropout)         (None, 4, 4, 64)          0         \n",
      "_________________________________________________________________\n",
      "flatten_14 (Flatten)         (None, 1024)              0         \n",
      "_________________________________________________________________\n",
      "dense_32 (Dense)             (None, 256)               262400    \n",
      "_________________________________________________________________\n",
      "dropout_30 (Dropout)         (None, 256)               0         \n",
      "_________________________________________________________________\n",
      "dense_33 (Dense)             (None, 64)                16448     \n",
      "_________________________________________________________________\n",
      "batch_normalization_17 (Batc (None, 64)                256       \n",
      "_________________________________________________________________\n",
      "dense_34 (Dense)             (None, 4)                 260       \n",
      "=================================================================\n",
      "Total params: 346,056\n",
      "Trainable params: 345,926\n",
      "Non-trainable params: 130\n",
      "_________________________________________________________________\n"
     ]
    }
   ],
   "source": [
    "model_improved = Sequential()\n",
    "model_improved.add(BatchNormalization(input_shape=(28,28,1)))\n",
    "model_improved.add(Convolution2D(64, (4, 4), activation='relu'))\n",
    "model_improved.add(MaxPooling2D(2, 2))\n",
    "model_improved.add(Dropout(0.1))\n",
    "    \n",
    "# Conv + Maxpooling\n",
    "model_improved.add(Convolution2D(64, (4, 4), activation='relu'))\n",
    "model_improved.add(MaxPooling2D(2, 2))\n",
    "\n",
    "# Dropout\n",
    "model_improved.add(Dropout(0.3))\n",
    "\n",
    "# Converting 3D feature to 1D feature Vektor\n",
    "model_improved.add(Flatten())\n",
    "\n",
    "# Fully Connected Layer\n",
    "model_improved.add(Dense(256, activation='relu'))\n",
    "\n",
    "# Dropout\n",
    "model_improved.add(Dropout(0.5))\n",
    "    \n",
    "# Fully Connected Layer\n",
    "model_improved.add(Dense(64, activation='relu'))\n",
    "    \n",
    "# Normalization\n",
    "model_improved.add(BatchNormalization())\n",
    "\n",
    "model_improved.add(Dense(4, activation='softmax'))\n",
    "\n",
    "model_improved.summary()"
   ]
  },
  {
   "cell_type": "code",
   "execution_count": 0,
   "metadata": {
    "colab": {},
    "colab_type": "code",
    "id": "p4dWA-2zmN59"
   },
   "outputs": [],
   "source": [
    "model_improved.compile(loss='categorical_crossentropy', optimizer=adam, metrics=['accuracy'])"
   ]
  },
  {
   "cell_type": "code",
   "execution_count": 86,
   "metadata": {
    "colab": {
     "base_uri": "https://localhost:8080/",
     "height": 6834
    },
    "colab_type": "code",
    "id": "ZlqTXb34maS-",
    "outputId": "5d40ea1f-42df-4e69-dbb9-5d0ee631d8b5"
   },
   "outputs": [
    {
     "name": "stdout",
     "output_type": "stream",
     "text": [
      "Train on 6800 samples, validate on 1200 samples\n",
      "Epoch 1/200\n",
      "6800/6800 [==============================] - 2s 344us/step - loss: 1.2314 - acc: 0.5006 - val_loss: 0.8496 - val_acc: 0.6533\n",
      "Epoch 2/200\n",
      "6800/6800 [==============================] - 1s 111us/step - loss: 0.8398 - acc: 0.6488 - val_loss: 0.6895 - val_acc: 0.7083\n",
      "Epoch 3/200\n",
      "6800/6800 [==============================] - 1s 110us/step - loss: 0.7370 - acc: 0.6876 - val_loss: 0.6514 - val_acc: 0.7542\n",
      "Epoch 4/200\n",
      "6800/6800 [==============================] - 1s 110us/step - loss: 0.6674 - acc: 0.7196 - val_loss: 0.5996 - val_acc: 0.7875\n",
      "Epoch 5/200\n",
      "6800/6800 [==============================] - 1s 109us/step - loss: 0.6240 - acc: 0.7440 - val_loss: 0.5674 - val_acc: 0.7875\n",
      "Epoch 6/200\n",
      "6800/6800 [==============================] - 1s 110us/step - loss: 0.5940 - acc: 0.7590 - val_loss: 0.5317 - val_acc: 0.7967\n",
      "Epoch 7/200\n",
      "6800/6800 [==============================] - 1s 112us/step - loss: 0.5694 - acc: 0.7706 - val_loss: 0.5117 - val_acc: 0.8083\n",
      "Epoch 8/200\n",
      "6800/6800 [==============================] - 1s 109us/step - loss: 0.5450 - acc: 0.7866 - val_loss: 0.4942 - val_acc: 0.8092\n",
      "Epoch 9/200\n",
      "6800/6800 [==============================] - 1s 110us/step - loss: 0.5356 - acc: 0.7857 - val_loss: 0.4892 - val_acc: 0.8108\n",
      "Epoch 10/200\n",
      "6800/6800 [==============================] - 1s 111us/step - loss: 0.5015 - acc: 0.8013 - val_loss: 0.4632 - val_acc: 0.8175\n",
      "Epoch 11/200\n",
      "6800/6800 [==============================] - 1s 110us/step - loss: 0.5022 - acc: 0.7993 - val_loss: 0.4506 - val_acc: 0.8175\n",
      "Epoch 12/200\n",
      "6800/6800 [==============================] - 1s 110us/step - loss: 0.4930 - acc: 0.8099 - val_loss: 0.4503 - val_acc: 0.8242\n",
      "Epoch 13/200\n",
      "6800/6800 [==============================] - 1s 109us/step - loss: 0.4663 - acc: 0.8201 - val_loss: 0.4335 - val_acc: 0.8292\n",
      "Epoch 14/200\n",
      "6800/6800 [==============================] - 1s 111us/step - loss: 0.4523 - acc: 0.8222 - val_loss: 0.4281 - val_acc: 0.8292\n",
      "Epoch 15/200\n",
      "6800/6800 [==============================] - 1s 109us/step - loss: 0.4571 - acc: 0.8231 - val_loss: 0.4147 - val_acc: 0.8442\n",
      "Epoch 16/200\n",
      "6800/6800 [==============================] - 1s 110us/step - loss: 0.4431 - acc: 0.8324 - val_loss: 0.4043 - val_acc: 0.8400\n",
      "Epoch 17/200\n",
      "6800/6800 [==============================] - 1s 110us/step - loss: 0.4358 - acc: 0.8304 - val_loss: 0.4012 - val_acc: 0.8417\n",
      "Epoch 18/200\n",
      "6800/6800 [==============================] - 1s 110us/step - loss: 0.4257 - acc: 0.8372 - val_loss: 0.3962 - val_acc: 0.8433\n",
      "Epoch 19/200\n",
      "6800/6800 [==============================] - 1s 110us/step - loss: 0.4244 - acc: 0.8329 - val_loss: 0.3959 - val_acc: 0.8450\n",
      "Epoch 20/200\n",
      "6800/6800 [==============================] - 1s 110us/step - loss: 0.4221 - acc: 0.8379 - val_loss: 0.3908 - val_acc: 0.8417\n",
      "Epoch 21/200\n",
      "6800/6800 [==============================] - 1s 110us/step - loss: 0.4099 - acc: 0.8416 - val_loss: 0.3872 - val_acc: 0.8475\n",
      "Epoch 22/200\n",
      "6800/6800 [==============================] - 1s 110us/step - loss: 0.4113 - acc: 0.8460 - val_loss: 0.3827 - val_acc: 0.8500\n",
      "Epoch 23/200\n",
      "6800/6800 [==============================] - 1s 108us/step - loss: 0.3971 - acc: 0.8424 - val_loss: 0.3805 - val_acc: 0.8475\n",
      "Epoch 24/200\n",
      "6800/6800 [==============================] - 1s 110us/step - loss: 0.3881 - acc: 0.8546 - val_loss: 0.3866 - val_acc: 0.8475\n",
      "Epoch 25/200\n",
      "6800/6800 [==============================] - 1s 109us/step - loss: 0.3856 - acc: 0.8534 - val_loss: 0.3888 - val_acc: 0.8442\n",
      "Epoch 26/200\n",
      "6800/6800 [==============================] - 1s 108us/step - loss: 0.3846 - acc: 0.8516 - val_loss: 0.3734 - val_acc: 0.8517\n",
      "Epoch 27/200\n",
      "6800/6800 [==============================] - 1s 110us/step - loss: 0.3824 - acc: 0.8499 - val_loss: 0.3731 - val_acc: 0.8558\n",
      "Epoch 28/200\n",
      "6800/6800 [==============================] - 1s 111us/step - loss: 0.3712 - acc: 0.8596 - val_loss: 0.3721 - val_acc: 0.8525\n",
      "Epoch 29/200\n",
      "6800/6800 [==============================] - 1s 110us/step - loss: 0.3702 - acc: 0.8594 - val_loss: 0.3667 - val_acc: 0.8500\n",
      "Epoch 30/200\n",
      "6800/6800 [==============================] - 1s 110us/step - loss: 0.3712 - acc: 0.8569 - val_loss: 0.3656 - val_acc: 0.8533\n",
      "Epoch 31/200\n",
      "6800/6800 [==============================] - 1s 111us/step - loss: 0.3635 - acc: 0.8603 - val_loss: 0.3694 - val_acc: 0.8592\n",
      "Epoch 32/200\n",
      "6800/6800 [==============================] - 1s 110us/step - loss: 0.3606 - acc: 0.8569 - val_loss: 0.3662 - val_acc: 0.8617\n",
      "Epoch 33/200\n",
      "6800/6800 [==============================] - 1s 111us/step - loss: 0.3484 - acc: 0.8671 - val_loss: 0.3631 - val_acc: 0.8575\n",
      "Epoch 34/200\n",
      "6800/6800 [==============================] - 1s 112us/step - loss: 0.3481 - acc: 0.8699 - val_loss: 0.3590 - val_acc: 0.8592\n",
      "Epoch 35/200\n",
      "6800/6800 [==============================] - 1s 112us/step - loss: 0.3473 - acc: 0.8631 - val_loss: 0.3586 - val_acc: 0.8575\n",
      "Epoch 36/200\n",
      "6800/6800 [==============================] - 1s 109us/step - loss: 0.3472 - acc: 0.8637 - val_loss: 0.3618 - val_acc: 0.8583\n",
      "Epoch 37/200\n",
      "6800/6800 [==============================] - 1s 111us/step - loss: 0.3361 - acc: 0.8707 - val_loss: 0.3579 - val_acc: 0.8600\n",
      "Epoch 38/200\n",
      "6800/6800 [==============================] - 1s 108us/step - loss: 0.3346 - acc: 0.8713 - val_loss: 0.3558 - val_acc: 0.8575\n",
      "Epoch 39/200\n",
      "6800/6800 [==============================] - 1s 110us/step - loss: 0.3383 - acc: 0.8707 - val_loss: 0.3598 - val_acc: 0.8575\n",
      "Epoch 40/200\n",
      "6800/6800 [==============================] - 1s 109us/step - loss: 0.3273 - acc: 0.8726 - val_loss: 0.3552 - val_acc: 0.8558\n",
      "Epoch 41/200\n",
      "6800/6800 [==============================] - 1s 110us/step - loss: 0.3273 - acc: 0.8751 - val_loss: 0.3471 - val_acc: 0.8642\n",
      "Epoch 42/200\n",
      "6800/6800 [==============================] - 1s 112us/step - loss: 0.3169 - acc: 0.8816 - val_loss: 0.3491 - val_acc: 0.8633\n",
      "Epoch 43/200\n",
      "6800/6800 [==============================] - 1s 110us/step - loss: 0.3206 - acc: 0.8769 - val_loss: 0.3492 - val_acc: 0.8650\n",
      "Epoch 44/200\n",
      "6800/6800 [==============================] - 1s 111us/step - loss: 0.3101 - acc: 0.8826 - val_loss: 0.3513 - val_acc: 0.8642\n",
      "Epoch 45/200\n",
      "6800/6800 [==============================] - 1s 108us/step - loss: 0.3143 - acc: 0.8821 - val_loss: 0.3514 - val_acc: 0.8575\n",
      "Epoch 46/200\n",
      "6800/6800 [==============================] - 1s 109us/step - loss: 0.3144 - acc: 0.8803 - val_loss: 0.3505 - val_acc: 0.8617\n",
      "Epoch 47/200\n",
      "6800/6800 [==============================] - 1s 111us/step - loss: 0.3132 - acc: 0.8821 - val_loss: 0.3454 - val_acc: 0.8733\n",
      "Epoch 48/200\n",
      "6800/6800 [==============================] - 1s 110us/step - loss: 0.3030 - acc: 0.8847 - val_loss: 0.3435 - val_acc: 0.8650\n",
      "Epoch 49/200\n",
      "6800/6800 [==============================] - 1s 109us/step - loss: 0.3012 - acc: 0.8829 - val_loss: 0.3431 - val_acc: 0.8708\n",
      "Epoch 50/200\n",
      "6800/6800 [==============================] - 1s 111us/step - loss: 0.2977 - acc: 0.8853 - val_loss: 0.3505 - val_acc: 0.8700\n",
      "Epoch 51/200\n",
      "6800/6800 [==============================] - 1s 110us/step - loss: 0.2987 - acc: 0.8871 - val_loss: 0.3423 - val_acc: 0.8642\n",
      "Epoch 52/200\n",
      "6800/6800 [==============================] - 1s 110us/step - loss: 0.2956 - acc: 0.8878 - val_loss: 0.3495 - val_acc: 0.8642\n",
      "Epoch 53/200\n",
      "6800/6800 [==============================] - 1s 112us/step - loss: 0.2961 - acc: 0.8856 - val_loss: 0.3470 - val_acc: 0.8658\n",
      "Epoch 54/200\n",
      "6800/6800 [==============================] - 1s 109us/step - loss: 0.2892 - acc: 0.8851 - val_loss: 0.3491 - val_acc: 0.8675\n",
      "Epoch 55/200\n",
      "6800/6800 [==============================] - 1s 111us/step - loss: 0.2810 - acc: 0.8938 - val_loss: 0.3475 - val_acc: 0.8683\n",
      "Epoch 56/200\n",
      "6800/6800 [==============================] - 1s 109us/step - loss: 0.2815 - acc: 0.8940 - val_loss: 0.3481 - val_acc: 0.8675\n",
      "Epoch 57/200\n",
      "6800/6800 [==============================] - 1s 110us/step - loss: 0.2799 - acc: 0.8943 - val_loss: 0.3370 - val_acc: 0.8717\n",
      "Epoch 58/200\n",
      "6800/6800 [==============================] - 1s 110us/step - loss: 0.2829 - acc: 0.8925 - val_loss: 0.3367 - val_acc: 0.8717\n",
      "Epoch 59/200\n",
      "6800/6800 [==============================] - 1s 110us/step - loss: 0.2767 - acc: 0.8909 - val_loss: 0.3376 - val_acc: 0.8667\n",
      "Epoch 60/200\n",
      "6800/6800 [==============================] - 1s 109us/step - loss: 0.2800 - acc: 0.8919 - val_loss: 0.3381 - val_acc: 0.8725\n",
      "Epoch 61/200\n",
      "6800/6800 [==============================] - 1s 109us/step - loss: 0.2672 - acc: 0.8997 - val_loss: 0.3461 - val_acc: 0.8642\n",
      "Epoch 62/200\n",
      "6800/6800 [==============================] - 1s 111us/step - loss: 0.2662 - acc: 0.9007 - val_loss: 0.3454 - val_acc: 0.8742\n",
      "Epoch 63/200\n",
      "6800/6800 [==============================] - 1s 110us/step - loss: 0.2719 - acc: 0.8938 - val_loss: 0.3389 - val_acc: 0.8700\n",
      "Epoch 64/200\n",
      "6800/6800 [==============================] - 1s 108us/step - loss: 0.2660 - acc: 0.8979 - val_loss: 0.3488 - val_acc: 0.8625\n",
      "Epoch 65/200\n",
      "6800/6800 [==============================] - 1s 111us/step - loss: 0.2675 - acc: 0.9000 - val_loss: 0.3423 - val_acc: 0.8600\n",
      "Epoch 66/200\n",
      "6800/6800 [==============================] - 1s 110us/step - loss: 0.2586 - acc: 0.9021 - val_loss: 0.3452 - val_acc: 0.8617\n",
      "Epoch 67/200\n",
      "6800/6800 [==============================] - 1s 109us/step - loss: 0.2527 - acc: 0.9075 - val_loss: 0.3417 - val_acc: 0.8642\n",
      "Epoch 68/200\n",
      "6800/6800 [==============================] - 1s 110us/step - loss: 0.2533 - acc: 0.9041 - val_loss: 0.3490 - val_acc: 0.8658\n",
      "Epoch 69/200\n",
      "6800/6800 [==============================] - 1s 110us/step - loss: 0.2516 - acc: 0.9000 - val_loss: 0.3494 - val_acc: 0.8592\n",
      "Epoch 70/200\n",
      "6800/6800 [==============================] - 1s 110us/step - loss: 0.2533 - acc: 0.9003 - val_loss: 0.3438 - val_acc: 0.8650\n",
      "Epoch 71/200\n",
      "6800/6800 [==============================] - 1s 109us/step - loss: 0.2465 - acc: 0.9043 - val_loss: 0.3417 - val_acc: 0.8692\n",
      "Epoch 72/200\n",
      "6800/6800 [==============================] - 1s 110us/step - loss: 0.2391 - acc: 0.9099 - val_loss: 0.3450 - val_acc: 0.8708\n",
      "Epoch 73/200\n",
      "6800/6800 [==============================] - 1s 112us/step - loss: 0.2466 - acc: 0.9022 - val_loss: 0.3421 - val_acc: 0.8650\n",
      "Epoch 74/200\n",
      "6800/6800 [==============================] - 1s 112us/step - loss: 0.2499 - acc: 0.9034 - val_loss: 0.3486 - val_acc: 0.8625\n",
      "Epoch 75/200\n",
      "6800/6800 [==============================] - 1s 111us/step - loss: 0.2481 - acc: 0.9079 - val_loss: 0.3400 - val_acc: 0.8717\n",
      "Epoch 76/200\n",
      "6800/6800 [==============================] - 1s 112us/step - loss: 0.2420 - acc: 0.9079 - val_loss: 0.3451 - val_acc: 0.8675\n",
      "Epoch 77/200\n",
      "6800/6800 [==============================] - 1s 109us/step - loss: 0.2395 - acc: 0.9119 - val_loss: 0.3550 - val_acc: 0.8633\n",
      "Epoch 78/200\n",
      "6800/6800 [==============================] - 1s 109us/step - loss: 0.2295 - acc: 0.9153 - val_loss: 0.3454 - val_acc: 0.8683\n",
      "Epoch 79/200\n",
      "6800/6800 [==============================] - 1s 110us/step - loss: 0.2326 - acc: 0.9104 - val_loss: 0.3469 - val_acc: 0.8692\n",
      "Epoch 80/200\n",
      "6800/6800 [==============================] - 1s 110us/step - loss: 0.2296 - acc: 0.9126 - val_loss: 0.3467 - val_acc: 0.8667\n",
      "Epoch 81/200\n",
      "6800/6800 [==============================] - 1s 110us/step - loss: 0.2331 - acc: 0.9090 - val_loss: 0.3450 - val_acc: 0.8767\n",
      "Epoch 82/200\n",
      "6800/6800 [==============================] - 1s 109us/step - loss: 0.2293 - acc: 0.9150 - val_loss: 0.3432 - val_acc: 0.8708\n",
      "Epoch 83/200\n",
      "6800/6800 [==============================] - 1s 110us/step - loss: 0.2289 - acc: 0.9096 - val_loss: 0.3417 - val_acc: 0.8700\n",
      "Epoch 84/200\n",
      "6800/6800 [==============================] - 1s 112us/step - loss: 0.2180 - acc: 0.9149 - val_loss: 0.3415 - val_acc: 0.8700\n",
      "Epoch 85/200\n",
      "6800/6800 [==============================] - 1s 111us/step - loss: 0.2226 - acc: 0.9153 - val_loss: 0.3496 - val_acc: 0.8708\n",
      "Epoch 86/200\n",
      "6800/6800 [==============================] - 1s 109us/step - loss: 0.2172 - acc: 0.9204 - val_loss: 0.3511 - val_acc: 0.8750\n",
      "Epoch 87/200\n",
      "6800/6800 [==============================] - 1s 111us/step - loss: 0.2226 - acc: 0.9144 - val_loss: 0.3402 - val_acc: 0.8733\n",
      "Epoch 88/200\n",
      "6800/6800 [==============================] - 1s 109us/step - loss: 0.2143 - acc: 0.9201 - val_loss: 0.3474 - val_acc: 0.8742\n",
      "Epoch 89/200\n",
      "6800/6800 [==============================] - 1s 110us/step - loss: 0.2096 - acc: 0.9201 - val_loss: 0.3475 - val_acc: 0.8725\n",
      "Epoch 90/200\n",
      "6800/6800 [==============================] - 1s 110us/step - loss: 0.2088 - acc: 0.9203 - val_loss: 0.3402 - val_acc: 0.8758\n",
      "Epoch 91/200\n",
      "6800/6800 [==============================] - 1s 111us/step - loss: 0.2112 - acc: 0.9176 - val_loss: 0.3500 - val_acc: 0.8658\n",
      "Epoch 92/200\n",
      "6800/6800 [==============================] - 1s 109us/step - loss: 0.2060 - acc: 0.9219 - val_loss: 0.3518 - val_acc: 0.8667\n",
      "Epoch 93/200\n",
      "6800/6800 [==============================] - 1s 109us/step - loss: 0.2066 - acc: 0.9168 - val_loss: 0.3437 - val_acc: 0.8717\n",
      "Epoch 94/200\n",
      "6800/6800 [==============================] - 1s 112us/step - loss: 0.2000 - acc: 0.9262 - val_loss: 0.3407 - val_acc: 0.8750\n",
      "Epoch 95/200\n",
      "6800/6800 [==============================] - 1s 110us/step - loss: 0.2006 - acc: 0.9235 - val_loss: 0.3490 - val_acc: 0.8708\n",
      "Epoch 96/200\n",
      "6800/6800 [==============================] - 1s 109us/step - loss: 0.2077 - acc: 0.9200 - val_loss: 0.3491 - val_acc: 0.8742\n",
      "Epoch 97/200\n",
      "6800/6800 [==============================] - 1s 110us/step - loss: 0.1940 - acc: 0.9254 - val_loss: 0.3538 - val_acc: 0.8683\n",
      "Epoch 98/200\n",
      "6800/6800 [==============================] - 1s 111us/step - loss: 0.1966 - acc: 0.9260 - val_loss: 0.3529 - val_acc: 0.8708\n",
      "Epoch 99/200\n",
      "6800/6800 [==============================] - 1s 110us/step - loss: 0.1919 - acc: 0.9284 - val_loss: 0.3443 - val_acc: 0.8767\n",
      "Epoch 100/200\n",
      "6800/6800 [==============================] - 1s 110us/step - loss: 0.2000 - acc: 0.9251 - val_loss: 0.3470 - val_acc: 0.8717\n",
      "Epoch 101/200\n",
      "6800/6800 [==============================] - 1s 110us/step - loss: 0.1936 - acc: 0.9222 - val_loss: 0.3545 - val_acc: 0.8733\n",
      "Epoch 102/200\n",
      "6800/6800 [==============================] - 1s 110us/step - loss: 0.1969 - acc: 0.9229 - val_loss: 0.3654 - val_acc: 0.8658\n",
      "Epoch 103/200\n",
      "6800/6800 [==============================] - 1s 109us/step - loss: 0.1808 - acc: 0.9328 - val_loss: 0.3546 - val_acc: 0.8717\n",
      "Epoch 104/200\n",
      "6800/6800 [==============================] - 1s 110us/step - loss: 0.1978 - acc: 0.9265 - val_loss: 0.3514 - val_acc: 0.8692\n",
      "Epoch 105/200\n",
      "6800/6800 [==============================] - 1s 112us/step - loss: 0.1892 - acc: 0.9293 - val_loss: 0.3547 - val_acc: 0.8725\n",
      "Epoch 106/200\n",
      "6800/6800 [==============================] - 1s 110us/step - loss: 0.1835 - acc: 0.9294 - val_loss: 0.3516 - val_acc: 0.8700\n",
      "Epoch 107/200\n",
      "6800/6800 [==============================] - 1s 111us/step - loss: 0.1792 - acc: 0.9341 - val_loss: 0.3598 - val_acc: 0.8725\n",
      "Epoch 108/200\n",
      "6800/6800 [==============================] - 1s 110us/step - loss: 0.1858 - acc: 0.9288 - val_loss: 0.3569 - val_acc: 0.8708\n",
      "Epoch 109/200\n",
      "6800/6800 [==============================] - 1s 112us/step - loss: 0.1791 - acc: 0.9321 - val_loss: 0.3497 - val_acc: 0.8717\n",
      "Epoch 110/200\n",
      "6800/6800 [==============================] - 1s 111us/step - loss: 0.1849 - acc: 0.9278 - val_loss: 0.3543 - val_acc: 0.8750\n",
      "Epoch 111/200\n",
      "6800/6800 [==============================] - 1s 110us/step - loss: 0.1801 - acc: 0.9282 - val_loss: 0.3670 - val_acc: 0.8742\n",
      "Epoch 112/200\n",
      "6800/6800 [==============================] - 1s 111us/step - loss: 0.1774 - acc: 0.9338 - val_loss: 0.3517 - val_acc: 0.8700\n",
      "Epoch 113/200\n",
      "6800/6800 [==============================] - 1s 113us/step - loss: 0.1716 - acc: 0.9334 - val_loss: 0.3568 - val_acc: 0.8708\n",
      "Epoch 114/200\n",
      "6800/6800 [==============================] - 1s 110us/step - loss: 0.1727 - acc: 0.9321 - val_loss: 0.3574 - val_acc: 0.8742\n",
      "Epoch 115/200\n",
      "6800/6800 [==============================] - 1s 109us/step - loss: 0.1755 - acc: 0.9294 - val_loss: 0.3600 - val_acc: 0.8758\n",
      "Epoch 116/200\n",
      "6800/6800 [==============================] - 1s 109us/step - loss: 0.1601 - acc: 0.9406 - val_loss: 0.3598 - val_acc: 0.8783\n",
      "Epoch 117/200\n",
      "6800/6800 [==============================] - 1s 110us/step - loss: 0.1741 - acc: 0.9331 - val_loss: 0.3586 - val_acc: 0.8775\n",
      "Epoch 118/200\n",
      "6800/6800 [==============================] - 1s 110us/step - loss: 0.1634 - acc: 0.9369 - val_loss: 0.3604 - val_acc: 0.8717\n",
      "Epoch 119/200\n",
      "6800/6800 [==============================] - 1s 109us/step - loss: 0.1624 - acc: 0.9388 - val_loss: 0.3604 - val_acc: 0.8742\n",
      "Epoch 120/200\n",
      "6800/6800 [==============================] - 1s 111us/step - loss: 0.1773 - acc: 0.9359 - val_loss: 0.3628 - val_acc: 0.8808\n",
      "Epoch 121/200\n",
      "6800/6800 [==============================] - 1s 108us/step - loss: 0.1700 - acc: 0.9326 - val_loss: 0.3572 - val_acc: 0.8767\n",
      "Epoch 122/200\n",
      "6800/6800 [==============================] - 1s 110us/step - loss: 0.1653 - acc: 0.9375 - val_loss: 0.3587 - val_acc: 0.8792\n",
      "Epoch 123/200\n",
      "6800/6800 [==============================] - 1s 110us/step - loss: 0.1651 - acc: 0.9379 - val_loss: 0.3593 - val_acc: 0.8750\n",
      "Epoch 124/200\n",
      "6800/6800 [==============================] - 1s 110us/step - loss: 0.1625 - acc: 0.9368 - val_loss: 0.3630 - val_acc: 0.8667\n",
      "Epoch 125/200\n",
      "6800/6800 [==============================] - 1s 111us/step - loss: 0.1604 - acc: 0.9416 - val_loss: 0.3598 - val_acc: 0.8783\n",
      "Epoch 126/200\n",
      "6800/6800 [==============================] - 1s 111us/step - loss: 0.1523 - acc: 0.9451 - val_loss: 0.3559 - val_acc: 0.8767\n",
      "Epoch 127/200\n",
      "6800/6800 [==============================] - 1s 111us/step - loss: 0.1527 - acc: 0.9444 - val_loss: 0.3589 - val_acc: 0.8767\n",
      "Epoch 128/200\n",
      "6800/6800 [==============================] - 1s 111us/step - loss: 0.1509 - acc: 0.9424 - val_loss: 0.3598 - val_acc: 0.8808\n",
      "Epoch 129/200\n",
      "6800/6800 [==============================] - 1s 109us/step - loss: 0.1487 - acc: 0.9426 - val_loss: 0.3646 - val_acc: 0.8717\n",
      "Epoch 130/200\n",
      "6800/6800 [==============================] - 1s 111us/step - loss: 0.1569 - acc: 0.9388 - val_loss: 0.3661 - val_acc: 0.8758\n",
      "Epoch 131/200\n",
      "6800/6800 [==============================] - 1s 110us/step - loss: 0.1560 - acc: 0.9396 - val_loss: 0.3720 - val_acc: 0.8675\n",
      "Epoch 132/200\n",
      "6800/6800 [==============================] - 1s 110us/step - loss: 0.1499 - acc: 0.9424 - val_loss: 0.3622 - val_acc: 0.8717\n",
      "Epoch 133/200\n",
      "6800/6800 [==============================] - 1s 109us/step - loss: 0.1504 - acc: 0.9440 - val_loss: 0.3700 - val_acc: 0.8725\n",
      "Epoch 134/200\n",
      "6800/6800 [==============================] - 1s 110us/step - loss: 0.1503 - acc: 0.9432 - val_loss: 0.3619 - val_acc: 0.8742\n",
      "Epoch 135/200\n",
      "6800/6800 [==============================] - 1s 110us/step - loss: 0.1454 - acc: 0.9449 - val_loss: 0.3695 - val_acc: 0.8758\n",
      "Epoch 136/200\n",
      "6800/6800 [==============================] - 1s 110us/step - loss: 0.1522 - acc: 0.9425 - val_loss: 0.3736 - val_acc: 0.8708\n",
      "Epoch 137/200\n",
      "6800/6800 [==============================] - 1s 112us/step - loss: 0.1444 - acc: 0.9418 - val_loss: 0.3681 - val_acc: 0.8783\n",
      "Epoch 138/200\n",
      "6800/6800 [==============================] - 1s 113us/step - loss: 0.1424 - acc: 0.9438 - val_loss: 0.3730 - val_acc: 0.8733\n",
      "Epoch 139/200\n",
      "6800/6800 [==============================] - 1s 112us/step - loss: 0.1443 - acc: 0.9446 - val_loss: 0.3655 - val_acc: 0.8758\n",
      "Epoch 140/200\n",
      "6800/6800 [==============================] - 1s 114us/step - loss: 0.1399 - acc: 0.9465 - val_loss: 0.3689 - val_acc: 0.8708\n",
      "Epoch 141/200\n",
      "6800/6800 [==============================] - 1s 115us/step - loss: 0.1332 - acc: 0.9500 - val_loss: 0.3718 - val_acc: 0.8750\n",
      "Epoch 142/200\n",
      "6800/6800 [==============================] - 1s 112us/step - loss: 0.1400 - acc: 0.9465 - val_loss: 0.3809 - val_acc: 0.8725\n",
      "Epoch 143/200\n",
      "6800/6800 [==============================] - 1s 113us/step - loss: 0.1371 - acc: 0.9476 - val_loss: 0.3764 - val_acc: 0.8733\n",
      "Epoch 144/200\n",
      "6800/6800 [==============================] - 1s 110us/step - loss: 0.1367 - acc: 0.9488 - val_loss: 0.3784 - val_acc: 0.8742\n",
      "Epoch 145/200\n",
      "6800/6800 [==============================] - 1s 110us/step - loss: 0.1335 - acc: 0.9493 - val_loss: 0.3692 - val_acc: 0.8783\n",
      "Epoch 146/200\n",
      "6800/6800 [==============================] - 1s 110us/step - loss: 0.1288 - acc: 0.9535 - val_loss: 0.3749 - val_acc: 0.8717\n",
      "Epoch 147/200\n",
      "6800/6800 [==============================] - 1s 112us/step - loss: 0.1326 - acc: 0.9485 - val_loss: 0.3757 - val_acc: 0.8817\n",
      "Epoch 148/200\n",
      "6800/6800 [==============================] - 1s 110us/step - loss: 0.1291 - acc: 0.9496 - val_loss: 0.3729 - val_acc: 0.8742\n",
      "Epoch 149/200\n",
      "6800/6800 [==============================] - 1s 110us/step - loss: 0.1307 - acc: 0.9501 - val_loss: 0.3755 - val_acc: 0.8708\n",
      "Epoch 150/200\n",
      "6800/6800 [==============================] - 1s 109us/step - loss: 0.1300 - acc: 0.9504 - val_loss: 0.3776 - val_acc: 0.8792\n",
      "Epoch 151/200\n",
      "6800/6800 [==============================] - 1s 110us/step - loss: 0.1364 - acc: 0.9476 - val_loss: 0.3781 - val_acc: 0.8717\n",
      "Epoch 152/200\n",
      "6800/6800 [==============================] - 1s 109us/step - loss: 0.1317 - acc: 0.9478 - val_loss: 0.3698 - val_acc: 0.8758\n",
      "Epoch 153/200\n",
      "6800/6800 [==============================] - 1s 111us/step - loss: 0.1290 - acc: 0.9494 - val_loss: 0.3695 - val_acc: 0.8758\n",
      "Epoch 154/200\n",
      "6800/6800 [==============================] - 1s 110us/step - loss: 0.1272 - acc: 0.9532 - val_loss: 0.3822 - val_acc: 0.8750\n",
      "Epoch 155/200\n",
      "6800/6800 [==============================] - 1s 109us/step - loss: 0.1330 - acc: 0.9476 - val_loss: 0.3855 - val_acc: 0.8742\n",
      "Epoch 156/200\n",
      "6800/6800 [==============================] - 1s 110us/step - loss: 0.1331 - acc: 0.9504 - val_loss: 0.3880 - val_acc: 0.8725\n",
      "Epoch 157/200\n",
      "6800/6800 [==============================] - 1s 110us/step - loss: 0.1256 - acc: 0.9537 - val_loss: 0.3866 - val_acc: 0.8725\n",
      "Epoch 158/200\n",
      "6800/6800 [==============================] - 1s 109us/step - loss: 0.1293 - acc: 0.9543 - val_loss: 0.3852 - val_acc: 0.8717\n",
      "Epoch 159/200\n",
      "6800/6800 [==============================] - 1s 109us/step - loss: 0.1282 - acc: 0.9485 - val_loss: 0.3872 - val_acc: 0.8733\n",
      "Epoch 160/200\n",
      "6800/6800 [==============================] - 1s 111us/step - loss: 0.1245 - acc: 0.9529 - val_loss: 0.3859 - val_acc: 0.8767\n",
      "Epoch 161/200\n",
      "6800/6800 [==============================] - 1s 109us/step - loss: 0.1127 - acc: 0.9587 - val_loss: 0.3875 - val_acc: 0.8742\n",
      "Epoch 162/200\n",
      "6800/6800 [==============================] - 1s 110us/step - loss: 0.1222 - acc: 0.9582 - val_loss: 0.3842 - val_acc: 0.8725\n",
      "Epoch 163/200\n",
      "6800/6800 [==============================] - 1s 110us/step - loss: 0.1166 - acc: 0.9553 - val_loss: 0.3893 - val_acc: 0.8717\n",
      "Epoch 164/200\n",
      "6800/6800 [==============================] - 1s 110us/step - loss: 0.1174 - acc: 0.9544 - val_loss: 0.3868 - val_acc: 0.8692\n",
      "Epoch 165/200\n",
      "6800/6800 [==============================] - 1s 110us/step - loss: 0.1257 - acc: 0.9526 - val_loss: 0.3866 - val_acc: 0.8733\n",
      "Epoch 166/200\n",
      "6800/6800 [==============================] - 1s 110us/step - loss: 0.1134 - acc: 0.9560 - val_loss: 0.3990 - val_acc: 0.8708\n",
      "Epoch 167/200\n",
      "6800/6800 [==============================] - 1s 110us/step - loss: 0.1155 - acc: 0.9596 - val_loss: 0.3897 - val_acc: 0.8683\n",
      "Epoch 168/200\n",
      "6800/6800 [==============================] - 1s 109us/step - loss: 0.1117 - acc: 0.9578 - val_loss: 0.3945 - val_acc: 0.8742\n",
      "Epoch 169/200\n",
      "6800/6800 [==============================] - 1s 110us/step - loss: 0.1126 - acc: 0.9590 - val_loss: 0.3899 - val_acc: 0.8742\n",
      "Epoch 170/200\n",
      "6800/6800 [==============================] - 1s 111us/step - loss: 0.1138 - acc: 0.9560 - val_loss: 0.4059 - val_acc: 0.8733\n",
      "Epoch 171/200\n",
      "6800/6800 [==============================] - 1s 111us/step - loss: 0.1241 - acc: 0.9551 - val_loss: 0.3995 - val_acc: 0.8733\n",
      "Epoch 172/200\n",
      "6800/6800 [==============================] - 1s 109us/step - loss: 0.1121 - acc: 0.9578 - val_loss: 0.3932 - val_acc: 0.8775\n",
      "Epoch 173/200\n",
      "6800/6800 [==============================] - 1s 110us/step - loss: 0.1189 - acc: 0.9526 - val_loss: 0.3933 - val_acc: 0.8700\n",
      "Epoch 174/200\n",
      "6800/6800 [==============================] - 1s 109us/step - loss: 0.1081 - acc: 0.9628 - val_loss: 0.3933 - val_acc: 0.8808\n",
      "Epoch 175/200\n",
      "6800/6800 [==============================] - 1s 110us/step - loss: 0.1070 - acc: 0.9626 - val_loss: 0.3970 - val_acc: 0.8775\n",
      "Epoch 176/200\n",
      "6800/6800 [==============================] - 1s 109us/step - loss: 0.1174 - acc: 0.9557 - val_loss: 0.3960 - val_acc: 0.8775\n",
      "Epoch 177/200\n",
      "6800/6800 [==============================] - 1s 109us/step - loss: 0.1076 - acc: 0.9624 - val_loss: 0.3966 - val_acc: 0.8742\n",
      "Epoch 178/200\n",
      "6800/6800 [==============================] - 1s 110us/step - loss: 0.1095 - acc: 0.9572 - val_loss: 0.3976 - val_acc: 0.8733\n",
      "Epoch 179/200\n",
      "6800/6800 [==============================] - 1s 109us/step - loss: 0.1127 - acc: 0.9575 - val_loss: 0.4041 - val_acc: 0.8750\n",
      "Epoch 180/200\n",
      "6800/6800 [==============================] - 1s 111us/step - loss: 0.1083 - acc: 0.9590 - val_loss: 0.4108 - val_acc: 0.8675\n",
      "Epoch 181/200\n",
      "6800/6800 [==============================] - 1s 110us/step - loss: 0.1083 - acc: 0.9603 - val_loss: 0.4018 - val_acc: 0.8767\n",
      "Epoch 182/200\n",
      "6800/6800 [==============================] - 1s 110us/step - loss: 0.1064 - acc: 0.9607 - val_loss: 0.4083 - val_acc: 0.8742\n",
      "Epoch 183/200\n",
      "6800/6800 [==============================] - 1s 109us/step - loss: 0.1007 - acc: 0.9612 - val_loss: 0.3987 - val_acc: 0.8758\n",
      "Epoch 184/200\n",
      "6800/6800 [==============================] - 1s 110us/step - loss: 0.1016 - acc: 0.9619 - val_loss: 0.4029 - val_acc: 0.8750\n",
      "Epoch 185/200\n",
      "6800/6800 [==============================] - 1s 110us/step - loss: 0.1058 - acc: 0.9590 - val_loss: 0.4247 - val_acc: 0.8750\n",
      "Epoch 186/200\n",
      "6800/6800 [==============================] - 1s 108us/step - loss: 0.1018 - acc: 0.9635 - val_loss: 0.4052 - val_acc: 0.8783\n",
      "Epoch 187/200\n",
      "6800/6800 [==============================] - 1s 110us/step - loss: 0.1012 - acc: 0.9599 - val_loss: 0.4144 - val_acc: 0.8742\n",
      "Epoch 188/200\n",
      "6800/6800 [==============================] - 1s 110us/step - loss: 0.1024 - acc: 0.9643 - val_loss: 0.4088 - val_acc: 0.8717\n",
      "Epoch 189/200\n",
      "6800/6800 [==============================] - 1s 110us/step - loss: 0.1040 - acc: 0.9615 - val_loss: 0.4106 - val_acc: 0.8750\n",
      "Epoch 190/200\n",
      "6800/6800 [==============================] - 1s 110us/step - loss: 0.1033 - acc: 0.9618 - val_loss: 0.4150 - val_acc: 0.8742\n",
      "Epoch 191/200\n",
      "6800/6800 [==============================] - 1s 111us/step - loss: 0.1044 - acc: 0.9594 - val_loss: 0.4049 - val_acc: 0.8733\n",
      "Epoch 192/200\n",
      "6800/6800 [==============================] - 1s 110us/step - loss: 0.0981 - acc: 0.9634 - val_loss: 0.4085 - val_acc: 0.8758\n",
      "Epoch 193/200\n",
      "6800/6800 [==============================] - 1s 111us/step - loss: 0.0948 - acc: 0.9650 - val_loss: 0.4129 - val_acc: 0.8800\n",
      "Epoch 194/200\n",
      "6800/6800 [==============================] - 1s 112us/step - loss: 0.1000 - acc: 0.9647 - val_loss: 0.4185 - val_acc: 0.8733\n",
      "Epoch 195/200\n",
      "6800/6800 [==============================] - 1s 110us/step - loss: 0.0963 - acc: 0.9637 - val_loss: 0.4155 - val_acc: 0.8725\n",
      "Epoch 196/200\n",
      "6800/6800 [==============================] - 1s 109us/step - loss: 0.1010 - acc: 0.9638 - val_loss: 0.4065 - val_acc: 0.8775\n",
      "Epoch 197/200\n",
      "6800/6800 [==============================] - 1s 109us/step - loss: 0.0959 - acc: 0.9650 - val_loss: 0.4115 - val_acc: 0.8708\n",
      "Epoch 198/200\n",
      "6800/6800 [==============================] - 1s 110us/step - loss: 0.1007 - acc: 0.9621 - val_loss: 0.4101 - val_acc: 0.8708\n",
      "Epoch 199/200\n",
      "6800/6800 [==============================] - 1s 110us/step - loss: 0.0962 - acc: 0.9644 - val_loss: 0.4035 - val_acc: 0.8792\n",
      "Epoch 200/200\n",
      "6800/6800 [==============================] - 1s 109us/step - loss: 0.0906 - acc: 0.9650 - val_loss: 0.4131 - val_acc: 0.8725\n"
     ]
    }
   ],
   "source": [
    "hist_improved = model_improved.fit(X_train, Y_train, epochs=200, batch_size=256, validation_data=(X_test, Y_test))"
   ]
  },
  {
   "cell_type": "code",
   "execution_count": 42,
   "metadata": {
    "colab": {
     "base_uri": "https://localhost:8080/",
     "height": 68
    },
    "colab_type": "code",
    "id": "lluxCHIamhGZ",
    "outputId": "0f037de1-193b-402a-be03-3e6ae47f52e2"
   },
   "outputs": [
    {
     "name": "stdout",
     "output_type": "stream",
     "text": [
      "1200/1200 [==============================] - 0s 121us/step\n",
      "Score:  0.4099\n",
      "Accuracy:  88.33 %\n"
     ]
    }
   ],
   "source": [
    "score, accuracy = model_improved.evaluate(X_test, Y_test)\n",
    "print('Score: ', score.round(4))\n",
    "print('Accuracy: ', accuracy.round(4)*100, '%')"
   ]
  },
  {
   "cell_type": "code",
   "execution_count": 79,
   "metadata": {
    "colab": {
     "base_uri": "https://localhost:8080/",
     "height": 293
    },
    "colab_type": "code",
    "id": "pCtVObotxwes",
    "outputId": "0e0ed56f-cd44-449d-ae0c-70e1242ea729"
   },
   "outputs": [
    {
     "data": {
      "image/png": "[encoded data removed]",
      "text/plain": [
       "<Figure size 720x288 with 2 Axes>"
      ]
     },
     "metadata": {
      "tags": []
     },
     "output_type": "display_data"
    }
   ],
   "source": [
    "plt.figure(figsize=(10,4))\n",
    "\n",
    "plt.subplot(1,2,1)\n",
    "plt.title('Loss')\n",
    "plt.xlabel('Epoch')\n",
    "plt.ylabel('Loss')\n",
    "plt.plot(hist_improved.history['loss'])\n",
    "plt.plot(hist_improved.history['val_loss'])\n",
    "plt.legend(['Train', 'Validation'])\n",
    "\n",
    "plt.subplot(1,2,2)\n",
    "plt.title('Accuracy')\n",
    "plt.xlabel('Epoch')\n",
    "plt.ylabel('Accuracy')\n",
    "plt.plot(hist_improved.history['acc'])\n",
    "plt.plot(hist_improved.history['val_acc'])\n",
    "plt.legend(['Train', 'Validation'])\n",
    "plt.tight_layout()\n",
    "plt.show()"
   ]
  },
  {
   "cell_type": "code",
   "execution_count": 0,
   "metadata": {
    "colab": {},
    "colab_type": "code",
    "id": "9XmGVsybs6pt"
   },
   "outputs": [],
   "source": [
    "model_improved.save('my_model.h5')"
   ]
  },
  {
   "cell_type": "markdown",
   "metadata": {
    "colab_type": "text",
    "id": "EKH5DUGVxjs_"
   },
   "source": [
    "Adding checkpoints so as to save the best model"
   ]
  },
  {
   "cell_type": "code",
   "execution_count": 0,
   "metadata": {
    "colab": {},
    "colab_type": "code",
    "id": "0NwsjJNx2V4c"
   },
   "outputs": [],
   "source": [
    "checkpoint = ModelCheckpoint('best_model.h5', monitor='val_loss', verbose=0, save_best_only=True, save_weights_only=False, mode='auto', period=1)"
   ]
  },
  {
   "cell_type": "code",
   "execution_count": 0,
   "metadata": {
    "colab": {},
    "colab_type": "code",
    "id": "WNc3cy172mKX"
   },
   "outputs": [],
   "source": [
    "model_improved.compile(loss='categorical_crossentropy', optimizer=adam, metrics=['accuracy'])"
   ]
  },
  {
   "cell_type": "code",
   "execution_count": 94,
   "metadata": {
    "colab": {
     "base_uri": "https://localhost:8080/",
     "height": 6834
    },
    "colab_type": "code",
    "id": "cbe6HjSqzVAx",
    "outputId": "08e4804e-bc21-4e82-f8b5-d1e9f773b607"
   },
   "outputs": [
    {
     "name": "stdout",
     "output_type": "stream",
     "text": [
      "Train on 6800 samples, validate on 1200 samples\n",
      "Epoch 1/200\n",
      "6800/6800 [==============================] - 3s 432us/step - loss: 1.0897 - acc: 0.5503 - val_loss: 0.7761 - val_acc: 0.6842\n",
      "Epoch 2/200\n",
      "6800/6800 [==============================] - 1s 109us/step - loss: 0.7986 - acc: 0.6568 - val_loss: 0.6471 - val_acc: 0.7283\n",
      "Epoch 3/200\n",
      "6800/6800 [==============================] - 1s 110us/step - loss: 0.7102 - acc: 0.6943 - val_loss: 0.6223 - val_acc: 0.7608\n",
      "Epoch 4/200\n",
      "6800/6800 [==============================] - 1s 110us/step - loss: 0.6419 - acc: 0.7244 - val_loss: 0.5914 - val_acc: 0.7475\n",
      "Epoch 5/200\n",
      "6800/6800 [==============================] - 1s 109us/step - loss: 0.6058 - acc: 0.7496 - val_loss: 0.5686 - val_acc: 0.7917\n",
      "Epoch 6/200\n",
      "6800/6800 [==============================] - 1s 111us/step - loss: 0.5641 - acc: 0.7691 - val_loss: 0.5171 - val_acc: 0.8058\n",
      "Epoch 7/200\n",
      "6800/6800 [==============================] - 1s 108us/step - loss: 0.5317 - acc: 0.7887 - val_loss: 0.4951 - val_acc: 0.8117\n",
      "Epoch 8/200\n",
      "6800/6800 [==============================] - 1s 111us/step - loss: 0.5218 - acc: 0.7946 - val_loss: 0.4607 - val_acc: 0.8242\n",
      "Epoch 9/200\n",
      "6800/6800 [==============================] - 1s 110us/step - loss: 0.4971 - acc: 0.8018 - val_loss: 0.4586 - val_acc: 0.8242\n",
      "Epoch 10/200\n",
      "6800/6800 [==============================] - 1s 109us/step - loss: 0.4889 - acc: 0.8072 - val_loss: 0.4416 - val_acc: 0.8275\n",
      "Epoch 11/200\n",
      "6800/6800 [==============================] - 1s 109us/step - loss: 0.4687 - acc: 0.8115 - val_loss: 0.4292 - val_acc: 0.8317\n",
      "Epoch 12/200\n",
      "6800/6800 [==============================] - 1s 109us/step - loss: 0.4637 - acc: 0.8188 - val_loss: 0.4133 - val_acc: 0.8317\n",
      "Epoch 13/200\n",
      "6800/6800 [==============================] - 1s 113us/step - loss: 0.4580 - acc: 0.8197 - val_loss: 0.4060 - val_acc: 0.8375\n",
      "Epoch 14/200\n",
      "6800/6800 [==============================] - 1s 110us/step - loss: 0.4460 - acc: 0.8231 - val_loss: 0.4033 - val_acc: 0.8425\n",
      "Epoch 15/200\n",
      "6800/6800 [==============================] - 1s 109us/step - loss: 0.4327 - acc: 0.8271 - val_loss: 0.4022 - val_acc: 0.8367\n",
      "Epoch 16/200\n",
      "6800/6800 [==============================] - 1s 108us/step - loss: 0.4227 - acc: 0.8360 - val_loss: 0.3885 - val_acc: 0.8383\n",
      "Epoch 17/200\n",
      "6800/6800 [==============================] - 1s 109us/step - loss: 0.4164 - acc: 0.8338 - val_loss: 0.3942 - val_acc: 0.8500\n",
      "Epoch 18/200\n",
      "6800/6800 [==============================] - 1s 109us/step - loss: 0.4209 - acc: 0.8366 - val_loss: 0.3809 - val_acc: 0.8483\n",
      "Epoch 19/200\n",
      "6800/6800 [==============================] - 1s 110us/step - loss: 0.4021 - acc: 0.8397 - val_loss: 0.3825 - val_acc: 0.8533\n",
      "Epoch 20/200\n",
      "6800/6800 [==============================] - 1s 110us/step - loss: 0.4012 - acc: 0.8425 - val_loss: 0.3757 - val_acc: 0.8450\n",
      "Epoch 21/200\n",
      "6800/6800 [==============================] - 1s 109us/step - loss: 0.3887 - acc: 0.8494 - val_loss: 0.3699 - val_acc: 0.8575\n",
      "Epoch 22/200\n",
      "6800/6800 [==============================] - 1s 110us/step - loss: 0.3886 - acc: 0.8481 - val_loss: 0.3630 - val_acc: 0.8558\n",
      "Epoch 23/200\n",
      "6800/6800 [==============================] - 1s 110us/step - loss: 0.3745 - acc: 0.8565 - val_loss: 0.3587 - val_acc: 0.8617\n",
      "Epoch 24/200\n",
      "6800/6800 [==============================] - 1s 110us/step - loss: 0.3716 - acc: 0.8535 - val_loss: 0.3595 - val_acc: 0.8625\n",
      "Epoch 25/200\n",
      "6800/6800 [==============================] - 1s 109us/step - loss: 0.3860 - acc: 0.8516 - val_loss: 0.3588 - val_acc: 0.8542\n",
      "Epoch 26/200\n",
      "6800/6800 [==============================] - 1s 109us/step - loss: 0.3719 - acc: 0.8557 - val_loss: 0.3678 - val_acc: 0.8542\n",
      "Epoch 27/200\n",
      "6800/6800 [==============================] - 1s 109us/step - loss: 0.3593 - acc: 0.8600 - val_loss: 0.3592 - val_acc: 0.8600\n",
      "Epoch 28/200\n",
      "6800/6800 [==============================] - 1s 108us/step - loss: 0.3633 - acc: 0.8606 - val_loss: 0.3540 - val_acc: 0.8633\n",
      "Epoch 29/200\n",
      "6800/6800 [==============================] - 1s 109us/step - loss: 0.3488 - acc: 0.8634 - val_loss: 0.3507 - val_acc: 0.8617\n",
      "Epoch 30/200\n",
      "6800/6800 [==============================] - 1s 110us/step - loss: 0.3466 - acc: 0.8671 - val_loss: 0.3489 - val_acc: 0.8683\n",
      "Epoch 31/200\n",
      "6800/6800 [==============================] - 1s 108us/step - loss: 0.3448 - acc: 0.8681 - val_loss: 0.3459 - val_acc: 0.8633\n",
      "Epoch 32/200\n",
      "6800/6800 [==============================] - 1s 110us/step - loss: 0.3345 - acc: 0.8704 - val_loss: 0.3455 - val_acc: 0.8642\n",
      "Epoch 33/200\n",
      "6800/6800 [==============================] - 1s 108us/step - loss: 0.3420 - acc: 0.8696 - val_loss: 0.3416 - val_acc: 0.8708\n",
      "Epoch 34/200\n",
      "6800/6800 [==============================] - 1s 108us/step - loss: 0.3352 - acc: 0.8668 - val_loss: 0.3405 - val_acc: 0.8700\n",
      "Epoch 35/200\n",
      "6800/6800 [==============================] - 1s 110us/step - loss: 0.3366 - acc: 0.8691 - val_loss: 0.3467 - val_acc: 0.8617\n",
      "Epoch 36/200\n",
      "6800/6800 [==============================] - 1s 110us/step - loss: 0.3231 - acc: 0.8718 - val_loss: 0.3364 - val_acc: 0.8650\n",
      "Epoch 37/200\n",
      "6800/6800 [==============================] - 1s 110us/step - loss: 0.3253 - acc: 0.8741 - val_loss: 0.3415 - val_acc: 0.8658\n",
      "Epoch 38/200\n",
      "6800/6800 [==============================] - 1s 109us/step - loss: 0.3224 - acc: 0.8793 - val_loss: 0.3403 - val_acc: 0.8633\n",
      "Epoch 39/200\n",
      "6800/6800 [==============================] - 1s 109us/step - loss: 0.3102 - acc: 0.8813 - val_loss: 0.3407 - val_acc: 0.8675\n",
      "Epoch 40/200\n",
      "6800/6800 [==============================] - 1s 110us/step - loss: 0.3041 - acc: 0.8829 - val_loss: 0.3413 - val_acc: 0.8608\n",
      "Epoch 41/200\n",
      "6800/6800 [==============================] - 1s 110us/step - loss: 0.3127 - acc: 0.8768 - val_loss: 0.3377 - val_acc: 0.8717\n",
      "Epoch 42/200\n",
      "6800/6800 [==============================] - 1s 111us/step - loss: 0.3100 - acc: 0.8809 - val_loss: 0.3393 - val_acc: 0.8658\n",
      "Epoch 43/200\n",
      "6800/6800 [==============================] - 1s 110us/step - loss: 0.3097 - acc: 0.8801 - val_loss: 0.3385 - val_acc: 0.8658\n",
      "Epoch 44/200\n",
      "6800/6800 [==============================] - 1s 110us/step - loss: 0.2952 - acc: 0.8874 - val_loss: 0.3384 - val_acc: 0.8675\n",
      "Epoch 45/200\n",
      "6800/6800 [==============================] - 1s 110us/step - loss: 0.2916 - acc: 0.8913 - val_loss: 0.3338 - val_acc: 0.8692\n",
      "Epoch 46/200\n",
      "6800/6800 [==============================] - 1s 109us/step - loss: 0.2854 - acc: 0.8915 - val_loss: 0.3422 - val_acc: 0.8658\n",
      "Epoch 47/200\n",
      "6800/6800 [==============================] - 1s 111us/step - loss: 0.2876 - acc: 0.8882 - val_loss: 0.3379 - val_acc: 0.8667\n",
      "Epoch 48/200\n",
      "6800/6800 [==============================] - 1s 110us/step - loss: 0.2880 - acc: 0.8893 - val_loss: 0.3372 - val_acc: 0.8692\n",
      "Epoch 49/200\n",
      "6800/6800 [==============================] - 1s 108us/step - loss: 0.2784 - acc: 0.8947 - val_loss: 0.3349 - val_acc: 0.8683\n",
      "Epoch 50/200\n",
      "6800/6800 [==============================] - 1s 110us/step - loss: 0.2842 - acc: 0.8890 - val_loss: 0.3379 - val_acc: 0.8742\n",
      "Epoch 51/200\n",
      "6800/6800 [==============================] - 1s 109us/step - loss: 0.2684 - acc: 0.9007 - val_loss: 0.3325 - val_acc: 0.8733\n",
      "Epoch 52/200\n",
      "6800/6800 [==============================] - 1s 110us/step - loss: 0.2797 - acc: 0.8940 - val_loss: 0.3386 - val_acc: 0.8708\n",
      "Epoch 53/200\n",
      "6800/6800 [==============================] - 1s 109us/step - loss: 0.2824 - acc: 0.8872 - val_loss: 0.3311 - val_acc: 0.8692\n",
      "Epoch 54/200\n",
      "6800/6800 [==============================] - 1s 108us/step - loss: 0.2750 - acc: 0.8963 - val_loss: 0.3284 - val_acc: 0.8725\n",
      "Epoch 55/200\n",
      "6800/6800 [==============================] - 1s 109us/step - loss: 0.2691 - acc: 0.8943 - val_loss: 0.3307 - val_acc: 0.8742\n",
      "Epoch 56/200\n",
      "6800/6800 [==============================] - 1s 109us/step - loss: 0.2654 - acc: 0.9010 - val_loss: 0.3380 - val_acc: 0.8733\n",
      "Epoch 57/200\n",
      "6800/6800 [==============================] - 1s 108us/step - loss: 0.2575 - acc: 0.9025 - val_loss: 0.3324 - val_acc: 0.8717\n",
      "Epoch 58/200\n",
      "6800/6800 [==============================] - 1s 108us/step - loss: 0.2605 - acc: 0.8968 - val_loss: 0.3326 - val_acc: 0.8700\n",
      "Epoch 59/200\n",
      "6800/6800 [==============================] - 1s 109us/step - loss: 0.2593 - acc: 0.9006 - val_loss: 0.3375 - val_acc: 0.8700\n",
      "Epoch 60/200\n",
      "6800/6800 [==============================] - 1s 108us/step - loss: 0.2606 - acc: 0.8988 - val_loss: 0.3391 - val_acc: 0.8683\n",
      "Epoch 61/200\n",
      "6800/6800 [==============================] - 1s 110us/step - loss: 0.2542 - acc: 0.9001 - val_loss: 0.3342 - val_acc: 0.8675\n",
      "Epoch 62/200\n",
      "6800/6800 [==============================] - 1s 112us/step - loss: 0.2511 - acc: 0.9054 - val_loss: 0.3314 - val_acc: 0.8708\n",
      "Epoch 63/200\n",
      "6800/6800 [==============================] - 1s 110us/step - loss: 0.2462 - acc: 0.9056 - val_loss: 0.3379 - val_acc: 0.8725\n",
      "Epoch 64/200\n",
      "6800/6800 [==============================] - 1s 111us/step - loss: 0.2424 - acc: 0.9072 - val_loss: 0.3295 - val_acc: 0.8708\n",
      "Epoch 65/200\n",
      "6800/6800 [==============================] - 1s 111us/step - loss: 0.2430 - acc: 0.9078 - val_loss: 0.3374 - val_acc: 0.8700\n",
      "Epoch 66/200\n",
      "6800/6800 [==============================] - 1s 110us/step - loss: 0.2337 - acc: 0.9132 - val_loss: 0.3353 - val_acc: 0.8733\n",
      "Epoch 67/200\n",
      "6800/6800 [==============================] - 1s 110us/step - loss: 0.2400 - acc: 0.9082 - val_loss: 0.3330 - val_acc: 0.8767\n",
      "Epoch 68/200\n",
      "6800/6800 [==============================] - 1s 110us/step - loss: 0.2344 - acc: 0.9106 - val_loss: 0.3320 - val_acc: 0.8792\n",
      "Epoch 69/200\n",
      "6800/6800 [==============================] - 1s 112us/step - loss: 0.2299 - acc: 0.9124 - val_loss: 0.3352 - val_acc: 0.8725\n",
      "Epoch 70/200\n",
      "6800/6800 [==============================] - 1s 111us/step - loss: 0.2282 - acc: 0.9149 - val_loss: 0.3326 - val_acc: 0.8742\n",
      "Epoch 71/200\n",
      "6800/6800 [==============================] - 1s 112us/step - loss: 0.2351 - acc: 0.9075 - val_loss: 0.3312 - val_acc: 0.8717\n",
      "Epoch 72/200\n",
      "6800/6800 [==============================] - 1s 113us/step - loss: 0.2288 - acc: 0.9138 - val_loss: 0.3401 - val_acc: 0.8700\n",
      "Epoch 73/200\n",
      "6800/6800 [==============================] - 1s 111us/step - loss: 0.2217 - acc: 0.9104 - val_loss: 0.3379 - val_acc: 0.8758\n",
      "Epoch 74/200\n",
      "6800/6800 [==============================] - 1s 113us/step - loss: 0.2194 - acc: 0.9119 - val_loss: 0.3335 - val_acc: 0.8750\n",
      "Epoch 75/200\n",
      "6800/6800 [==============================] - 1s 114us/step - loss: 0.2238 - acc: 0.9147 - val_loss: 0.3316 - val_acc: 0.8700\n",
      "Epoch 76/200\n",
      "6800/6800 [==============================] - 1s 114us/step - loss: 0.2195 - acc: 0.9169 - val_loss: 0.3345 - val_acc: 0.8750\n",
      "Epoch 77/200\n",
      "6800/6800 [==============================] - 1s 113us/step - loss: 0.2158 - acc: 0.9224 - val_loss: 0.3389 - val_acc: 0.8750\n",
      "Epoch 78/200\n",
      "6800/6800 [==============================] - 1s 112us/step - loss: 0.2180 - acc: 0.9126 - val_loss: 0.3307 - val_acc: 0.8733\n",
      "Epoch 79/200\n",
      "6800/6800 [==============================] - 1s 113us/step - loss: 0.2098 - acc: 0.9204 - val_loss: 0.3291 - val_acc: 0.8758\n",
      "Epoch 80/200\n",
      "6800/6800 [==============================] - 1s 114us/step - loss: 0.2103 - acc: 0.9200 - val_loss: 0.3357 - val_acc: 0.8817\n",
      "Epoch 81/200\n",
      "6800/6800 [==============================] - 1s 112us/step - loss: 0.2114 - acc: 0.9184 - val_loss: 0.3313 - val_acc: 0.8792\n",
      "Epoch 82/200\n",
      "6800/6800 [==============================] - 1s 111us/step - loss: 0.2031 - acc: 0.9209 - val_loss: 0.3388 - val_acc: 0.8817\n",
      "Epoch 83/200\n",
      "6800/6800 [==============================] - 1s 112us/step - loss: 0.2009 - acc: 0.9247 - val_loss: 0.3390 - val_acc: 0.8758\n",
      "Epoch 84/200\n",
      "6800/6800 [==============================] - 1s 111us/step - loss: 0.2051 - acc: 0.9185 - val_loss: 0.3406 - val_acc: 0.8692\n",
      "Epoch 85/200\n",
      "6800/6800 [==============================] - 1s 110us/step - loss: 0.2065 - acc: 0.9199 - val_loss: 0.3383 - val_acc: 0.8775\n",
      "Epoch 86/200\n",
      "6800/6800 [==============================] - 1s 109us/step - loss: 0.2017 - acc: 0.9262 - val_loss: 0.3390 - val_acc: 0.8825\n",
      "Epoch 87/200\n",
      "6800/6800 [==============================] - 1s 109us/step - loss: 0.2028 - acc: 0.9229 - val_loss: 0.3402 - val_acc: 0.8792\n",
      "Epoch 88/200\n",
      "6800/6800 [==============================] - 1s 111us/step - loss: 0.1945 - acc: 0.9226 - val_loss: 0.3450 - val_acc: 0.8767\n",
      "Epoch 89/200\n",
      "6800/6800 [==============================] - 1s 109us/step - loss: 0.1928 - acc: 0.9251 - val_loss: 0.3383 - val_acc: 0.8767\n",
      "Epoch 90/200\n",
      "6800/6800 [==============================] - 1s 111us/step - loss: 0.1928 - acc: 0.9260 - val_loss: 0.3427 - val_acc: 0.8792\n",
      "Epoch 91/200\n",
      "6800/6800 [==============================] - 1s 111us/step - loss: 0.1874 - acc: 0.9247 - val_loss: 0.3368 - val_acc: 0.8758\n",
      "Epoch 92/200\n",
      "6800/6800 [==============================] - 1s 111us/step - loss: 0.1949 - acc: 0.9276 - val_loss: 0.3398 - val_acc: 0.8767\n",
      "Epoch 93/200\n",
      "6800/6800 [==============================] - 1s 109us/step - loss: 0.1912 - acc: 0.9281 - val_loss: 0.3442 - val_acc: 0.8725\n",
      "Epoch 94/200\n",
      "6800/6800 [==============================] - 1s 109us/step - loss: 0.1756 - acc: 0.9349 - val_loss: 0.3412 - val_acc: 0.8792\n",
      "Epoch 95/200\n",
      "6800/6800 [==============================] - 1s 109us/step - loss: 0.1796 - acc: 0.9316 - val_loss: 0.3487 - val_acc: 0.8725\n",
      "Epoch 96/200\n",
      "6800/6800 [==============================] - 1s 109us/step - loss: 0.1914 - acc: 0.9259 - val_loss: 0.3389 - val_acc: 0.8783\n",
      "Epoch 97/200\n",
      "6800/6800 [==============================] - 1s 109us/step - loss: 0.1714 - acc: 0.9374 - val_loss: 0.3432 - val_acc: 0.8733\n",
      "Epoch 98/200\n",
      "6800/6800 [==============================] - 1s 108us/step - loss: 0.1847 - acc: 0.9284 - val_loss: 0.3437 - val_acc: 0.8725\n",
      "Epoch 99/200\n",
      "6800/6800 [==============================] - 1s 111us/step - loss: 0.1797 - acc: 0.9344 - val_loss: 0.3508 - val_acc: 0.8775\n",
      "Epoch 100/200\n",
      "6800/6800 [==============================] - 1s 110us/step - loss: 0.1786 - acc: 0.9346 - val_loss: 0.3540 - val_acc: 0.8758\n",
      "Epoch 101/200\n",
      "6800/6800 [==============================] - 1s 110us/step - loss: 0.1743 - acc: 0.9309 - val_loss: 0.3409 - val_acc: 0.8808\n",
      "Epoch 102/200\n",
      "6800/6800 [==============================] - 1s 109us/step - loss: 0.1730 - acc: 0.9315 - val_loss: 0.3507 - val_acc: 0.8742\n",
      "Epoch 103/200\n",
      "6800/6800 [==============================] - 1s 108us/step - loss: 0.1691 - acc: 0.9369 - val_loss: 0.3546 - val_acc: 0.8767\n",
      "Epoch 104/200\n",
      "6800/6800 [==============================] - 1s 109us/step - loss: 0.1743 - acc: 0.9301 - val_loss: 0.3551 - val_acc: 0.8783\n",
      "Epoch 105/200\n",
      "6800/6800 [==============================] - 1s 109us/step - loss: 0.1718 - acc: 0.9332 - val_loss: 0.3505 - val_acc: 0.8792\n",
      "Epoch 106/200\n",
      "6800/6800 [==============================] - 1s 108us/step - loss: 0.1703 - acc: 0.9347 - val_loss: 0.3452 - val_acc: 0.8792\n",
      "Epoch 107/200\n",
      "6800/6800 [==============================] - 1s 110us/step - loss: 0.1675 - acc: 0.9356 - val_loss: 0.3509 - val_acc: 0.8792\n",
      "Epoch 108/200\n",
      "6800/6800 [==============================] - 1s 108us/step - loss: 0.1679 - acc: 0.9366 - val_loss: 0.3516 - val_acc: 0.8808\n",
      "Epoch 109/200\n",
      "6800/6800 [==============================] - 1s 109us/step - loss: 0.1605 - acc: 0.9362 - val_loss: 0.3540 - val_acc: 0.8758\n",
      "Epoch 110/200\n",
      "6800/6800 [==============================] - 1s 110us/step - loss: 0.1600 - acc: 0.9413 - val_loss: 0.3480 - val_acc: 0.8800\n",
      "Epoch 111/200\n",
      "6800/6800 [==============================] - 1s 110us/step - loss: 0.1620 - acc: 0.9368 - val_loss: 0.3526 - val_acc: 0.8825\n",
      "Epoch 112/200\n",
      "6800/6800 [==============================] - 1s 110us/step - loss: 0.1654 - acc: 0.9379 - val_loss: 0.3561 - val_acc: 0.8758\n",
      "Epoch 113/200\n",
      "6800/6800 [==============================] - 1s 108us/step - loss: 0.1528 - acc: 0.9426 - val_loss: 0.3469 - val_acc: 0.8758\n",
      "Epoch 114/200\n",
      "6800/6800 [==============================] - 1s 110us/step - loss: 0.1642 - acc: 0.9384 - val_loss: 0.3523 - val_acc: 0.8775\n",
      "Epoch 115/200\n",
      "6800/6800 [==============================] - 1s 108us/step - loss: 0.1597 - acc: 0.9391 - val_loss: 0.3531 - val_acc: 0.8800\n",
      "Epoch 116/200\n",
      "6800/6800 [==============================] - 1s 109us/step - loss: 0.1583 - acc: 0.9391 - val_loss: 0.3574 - val_acc: 0.8733\n",
      "Epoch 117/200\n",
      "6800/6800 [==============================] - 1s 108us/step - loss: 0.1548 - acc: 0.9410 - val_loss: 0.3577 - val_acc: 0.8767\n",
      "Epoch 118/200\n",
      "6800/6800 [==============================] - 1s 110us/step - loss: 0.1502 - acc: 0.9444 - val_loss: 0.3512 - val_acc: 0.8825\n",
      "Epoch 119/200\n",
      "6800/6800 [==============================] - 1s 109us/step - loss: 0.1539 - acc: 0.9394 - val_loss: 0.3599 - val_acc: 0.8725\n",
      "Epoch 120/200\n",
      "6800/6800 [==============================] - 1s 109us/step - loss: 0.1428 - acc: 0.9454 - val_loss: 0.3624 - val_acc: 0.8792\n",
      "Epoch 121/200\n",
      "6800/6800 [==============================] - 1s 109us/step - loss: 0.1524 - acc: 0.9469 - val_loss: 0.3584 - val_acc: 0.8808\n",
      "Epoch 122/200\n",
      "6800/6800 [==============================] - 1s 112us/step - loss: 0.1416 - acc: 0.9466 - val_loss: 0.3541 - val_acc: 0.8800\n",
      "Epoch 123/200\n",
      "6800/6800 [==============================] - 1s 110us/step - loss: 0.1462 - acc: 0.9412 - val_loss: 0.3630 - val_acc: 0.8750\n",
      "Epoch 124/200\n",
      "6800/6800 [==============================] - 1s 108us/step - loss: 0.1466 - acc: 0.9454 - val_loss: 0.3597 - val_acc: 0.8833\n",
      "Epoch 125/200\n",
      "6800/6800 [==============================] - 1s 108us/step - loss: 0.1494 - acc: 0.9443 - val_loss: 0.3667 - val_acc: 0.8817\n",
      "Epoch 126/200\n",
      "6800/6800 [==============================] - 1s 109us/step - loss: 0.1475 - acc: 0.9447 - val_loss: 0.3751 - val_acc: 0.8750\n",
      "Epoch 127/200\n",
      "6800/6800 [==============================] - 1s 109us/step - loss: 0.1404 - acc: 0.9466 - val_loss: 0.3667 - val_acc: 0.8767\n",
      "Epoch 128/200\n",
      "6800/6800 [==============================] - 1s 110us/step - loss: 0.1397 - acc: 0.9490 - val_loss: 0.3728 - val_acc: 0.8742\n",
      "Epoch 129/200\n",
      "6800/6800 [==============================] - 1s 109us/step - loss: 0.1435 - acc: 0.9441 - val_loss: 0.3671 - val_acc: 0.8758\n",
      "Epoch 130/200\n",
      "6800/6800 [==============================] - 1s 109us/step - loss: 0.1330 - acc: 0.9499 - val_loss: 0.3722 - val_acc: 0.8783\n",
      "Epoch 131/200\n",
      "6800/6800 [==============================] - 1s 110us/step - loss: 0.1319 - acc: 0.9507 - val_loss: 0.3726 - val_acc: 0.8742\n",
      "Epoch 132/200\n",
      "6800/6800 [==============================] - 1s 109us/step - loss: 0.1289 - acc: 0.9538 - val_loss: 0.3857 - val_acc: 0.8692\n",
      "Epoch 133/200\n",
      "6800/6800 [==============================] - 1s 110us/step - loss: 0.1336 - acc: 0.9485 - val_loss: 0.3709 - val_acc: 0.8742\n",
      "Epoch 134/200\n",
      "6800/6800 [==============================] - 1s 109us/step - loss: 0.1346 - acc: 0.9468 - val_loss: 0.3702 - val_acc: 0.8700\n",
      "Epoch 135/200\n",
      "6800/6800 [==============================] - 1s 110us/step - loss: 0.1317 - acc: 0.9493 - val_loss: 0.3887 - val_acc: 0.8742\n",
      "Epoch 136/200\n",
      "6800/6800 [==============================] - 1s 111us/step - loss: 0.1264 - acc: 0.9521 - val_loss: 0.3771 - val_acc: 0.8742\n",
      "Epoch 137/200\n",
      "6800/6800 [==============================] - 1s 109us/step - loss: 0.1258 - acc: 0.9537 - val_loss: 0.3706 - val_acc: 0.8733\n",
      "Epoch 138/200\n",
      "6800/6800 [==============================] - 1s 109us/step - loss: 0.1273 - acc: 0.9516 - val_loss: 0.3813 - val_acc: 0.8758\n",
      "Epoch 139/200\n",
      "6800/6800 [==============================] - 1s 109us/step - loss: 0.1320 - acc: 0.9506 - val_loss: 0.3697 - val_acc: 0.8758\n",
      "Epoch 140/200\n",
      "6800/6800 [==============================] - 1s 109us/step - loss: 0.1245 - acc: 0.9543 - val_loss: 0.3712 - val_acc: 0.8758\n",
      "Epoch 141/200\n",
      "6800/6800 [==============================] - 1s 109us/step - loss: 0.1235 - acc: 0.9529 - val_loss: 0.3741 - val_acc: 0.8750\n",
      "Epoch 142/200\n",
      "6800/6800 [==============================] - 1s 109us/step - loss: 0.1240 - acc: 0.9541 - val_loss: 0.3783 - val_acc: 0.8783\n",
      "Epoch 143/200\n",
      "6800/6800 [==============================] - 1s 109us/step - loss: 0.1303 - acc: 0.9516 - val_loss: 0.3846 - val_acc: 0.8725\n",
      "Epoch 144/200\n",
      "6800/6800 [==============================] - 1s 110us/step - loss: 0.1244 - acc: 0.9549 - val_loss: 0.3784 - val_acc: 0.8800\n",
      "Epoch 145/200\n",
      "6800/6800 [==============================] - 1s 110us/step - loss: 0.1176 - acc: 0.9568 - val_loss: 0.3802 - val_acc: 0.8758\n",
      "Epoch 146/200\n",
      "6800/6800 [==============================] - 1s 109us/step - loss: 0.1192 - acc: 0.9531 - val_loss: 0.3918 - val_acc: 0.8717\n",
      "Epoch 147/200\n",
      "6800/6800 [==============================] - 1s 109us/step - loss: 0.1252 - acc: 0.9528 - val_loss: 0.3812 - val_acc: 0.8758\n",
      "Epoch 148/200\n",
      "6800/6800 [==============================] - 1s 110us/step - loss: 0.1176 - acc: 0.9550 - val_loss: 0.3784 - val_acc: 0.8792\n",
      "Epoch 149/200\n",
      "6800/6800 [==============================] - 1s 108us/step - loss: 0.1199 - acc: 0.9532 - val_loss: 0.3858 - val_acc: 0.8758\n",
      "Epoch 150/200\n",
      "6800/6800 [==============================] - 1s 111us/step - loss: 0.1130 - acc: 0.9582 - val_loss: 0.3832 - val_acc: 0.8783\n",
      "Epoch 151/200\n",
      "6800/6800 [==============================] - 1s 109us/step - loss: 0.1185 - acc: 0.9554 - val_loss: 0.3850 - val_acc: 0.8808\n",
      "Epoch 152/200\n",
      "6800/6800 [==============================] - 1s 110us/step - loss: 0.1096 - acc: 0.9599 - val_loss: 0.3845 - val_acc: 0.8758\n",
      "Epoch 153/200\n",
      "6800/6800 [==============================] - 1s 108us/step - loss: 0.1137 - acc: 0.9544 - val_loss: 0.3890 - val_acc: 0.8808\n",
      "Epoch 154/200\n",
      "6800/6800 [==============================] - 1s 108us/step - loss: 0.1112 - acc: 0.9588 - val_loss: 0.3919 - val_acc: 0.8733\n",
      "Epoch 155/200\n",
      "6800/6800 [==============================] - 1s 109us/step - loss: 0.1144 - acc: 0.9571 - val_loss: 0.3912 - val_acc: 0.8758\n",
      "Epoch 156/200\n",
      "6800/6800 [==============================] - 1s 109us/step - loss: 0.1115 - acc: 0.9566 - val_loss: 0.4021 - val_acc: 0.8725\n",
      "Epoch 157/200\n",
      "6800/6800 [==============================] - 1s 111us/step - loss: 0.1074 - acc: 0.9609 - val_loss: 0.3982 - val_acc: 0.8825\n",
      "Epoch 158/200\n",
      "6800/6800 [==============================] - 1s 110us/step - loss: 0.1180 - acc: 0.9547 - val_loss: 0.3970 - val_acc: 0.8725\n",
      "Epoch 159/200\n",
      "6800/6800 [==============================] - 1s 110us/step - loss: 0.1019 - acc: 0.9635 - val_loss: 0.3965 - val_acc: 0.8767\n",
      "Epoch 160/200\n",
      "6800/6800 [==============================] - 1s 108us/step - loss: 0.1087 - acc: 0.9601 - val_loss: 0.4046 - val_acc: 0.8775\n",
      "Epoch 161/200\n",
      "6800/6800 [==============================] - 1s 110us/step - loss: 0.1100 - acc: 0.9597 - val_loss: 0.3958 - val_acc: 0.8742\n",
      "Epoch 162/200\n",
      "6800/6800 [==============================] - 1s 108us/step - loss: 0.1093 - acc: 0.9566 - val_loss: 0.3880 - val_acc: 0.8775\n",
      "Epoch 163/200\n",
      "6800/6800 [==============================] - 1s 111us/step - loss: 0.1089 - acc: 0.9579 - val_loss: 0.3935 - val_acc: 0.8867\n",
      "Epoch 164/200\n",
      "6800/6800 [==============================] - 1s 109us/step - loss: 0.1046 - acc: 0.9607 - val_loss: 0.3893 - val_acc: 0.8775\n",
      "Epoch 165/200\n",
      "6800/6800 [==============================] - 1s 109us/step - loss: 0.1081 - acc: 0.9587 - val_loss: 0.3922 - val_acc: 0.8825\n",
      "Epoch 166/200\n",
      "6800/6800 [==============================] - 1s 109us/step - loss: 0.0998 - acc: 0.9646 - val_loss: 0.3977 - val_acc: 0.8825\n",
      "Epoch 167/200\n",
      "6800/6800 [==============================] - 1s 108us/step - loss: 0.1036 - acc: 0.9615 - val_loss: 0.4073 - val_acc: 0.8733\n",
      "Epoch 168/200\n",
      "6800/6800 [==============================] - 1s 109us/step - loss: 0.0998 - acc: 0.9625 - val_loss: 0.4046 - val_acc: 0.8742\n",
      "Epoch 169/200\n",
      "6800/6800 [==============================] - 1s 109us/step - loss: 0.0976 - acc: 0.9659 - val_loss: 0.4130 - val_acc: 0.8750\n",
      "Epoch 170/200\n",
      "6800/6800 [==============================] - 1s 110us/step - loss: 0.0936 - acc: 0.9676 - val_loss: 0.3973 - val_acc: 0.8767\n",
      "Epoch 171/200\n",
      "6800/6800 [==============================] - 1s 109us/step - loss: 0.1021 - acc: 0.9599 - val_loss: 0.4063 - val_acc: 0.8792\n",
      "Epoch 172/200\n",
      "6800/6800 [==============================] - 1s 110us/step - loss: 0.1007 - acc: 0.9647 - val_loss: 0.4140 - val_acc: 0.8808\n",
      "Epoch 173/200\n",
      "6800/6800 [==============================] - 1s 112us/step - loss: 0.1001 - acc: 0.9629 - val_loss: 0.4032 - val_acc: 0.8758\n",
      "Epoch 174/200\n",
      "6800/6800 [==============================] - 1s 110us/step - loss: 0.0947 - acc: 0.9641 - val_loss: 0.4129 - val_acc: 0.8717\n",
      "Epoch 175/200\n",
      "6800/6800 [==============================] - 1s 109us/step - loss: 0.0949 - acc: 0.9644 - val_loss: 0.4062 - val_acc: 0.8733\n",
      "Epoch 176/200\n",
      "6800/6800 [==============================] - 1s 110us/step - loss: 0.1002 - acc: 0.9621 - val_loss: 0.4050 - val_acc: 0.8742\n",
      "Epoch 177/200\n",
      "6800/6800 [==============================] - 1s 109us/step - loss: 0.0994 - acc: 0.9622 - val_loss: 0.4016 - val_acc: 0.8733\n",
      "Epoch 178/200\n",
      "6800/6800 [==============================] - 1s 109us/step - loss: 0.0922 - acc: 0.9663 - val_loss: 0.4127 - val_acc: 0.8717\n",
      "Epoch 179/200\n",
      "6800/6800 [==============================] - 1s 110us/step - loss: 0.0907 - acc: 0.9659 - val_loss: 0.4029 - val_acc: 0.8750\n",
      "Epoch 180/200\n",
      "6800/6800 [==============================] - 1s 109us/step - loss: 0.0925 - acc: 0.9654 - val_loss: 0.4063 - val_acc: 0.8817\n",
      "Epoch 181/200\n",
      "6800/6800 [==============================] - 1s 109us/step - loss: 0.0942 - acc: 0.9650 - val_loss: 0.4030 - val_acc: 0.8792\n",
      "Epoch 182/200\n",
      "6800/6800 [==============================] - 1s 109us/step - loss: 0.0963 - acc: 0.9637 - val_loss: 0.4141 - val_acc: 0.8750\n",
      "Epoch 183/200\n",
      "6800/6800 [==============================] - 1s 109us/step - loss: 0.0979 - acc: 0.9644 - val_loss: 0.4054 - val_acc: 0.8783\n",
      "Epoch 184/200\n",
      "6800/6800 [==============================] - 1s 111us/step - loss: 0.0894 - acc: 0.9687 - val_loss: 0.4226 - val_acc: 0.8733\n",
      "Epoch 185/200\n",
      "6800/6800 [==============================] - 1s 110us/step - loss: 0.0880 - acc: 0.9662 - val_loss: 0.4024 - val_acc: 0.8767\n",
      "Epoch 186/200\n",
      "6800/6800 [==============================] - 1s 108us/step - loss: 0.0884 - acc: 0.9666 - val_loss: 0.4143 - val_acc: 0.8783\n",
      "Epoch 187/200\n",
      "6800/6800 [==============================] - 1s 110us/step - loss: 0.0900 - acc: 0.9668 - val_loss: 0.4184 - val_acc: 0.8742\n",
      "Epoch 188/200\n",
      "6800/6800 [==============================] - 1s 111us/step - loss: 0.0937 - acc: 0.9644 - val_loss: 0.4123 - val_acc: 0.8758\n",
      "Epoch 189/200\n",
      "6800/6800 [==============================] - 1s 109us/step - loss: 0.0887 - acc: 0.9681 - val_loss: 0.4179 - val_acc: 0.8750\n",
      "Epoch 190/200\n",
      "6800/6800 [==============================] - 1s 109us/step - loss: 0.0933 - acc: 0.9666 - val_loss: 0.4179 - val_acc: 0.8767\n",
      "Epoch 191/200\n",
      "6800/6800 [==============================] - 1s 111us/step - loss: 0.0860 - acc: 0.9685 - val_loss: 0.4238 - val_acc: 0.8783\n",
      "Epoch 192/200\n",
      "6800/6800 [==============================] - 1s 111us/step - loss: 0.0861 - acc: 0.9694 - val_loss: 0.4191 - val_acc: 0.8800\n",
      "Epoch 193/200\n",
      "6800/6800 [==============================] - 1s 110us/step - loss: 0.0890 - acc: 0.9675 - val_loss: 0.4245 - val_acc: 0.8775\n",
      "Epoch 194/200\n",
      "6800/6800 [==============================] - 1s 109us/step - loss: 0.0882 - acc: 0.9684 - val_loss: 0.4195 - val_acc: 0.8808\n",
      "Epoch 195/200\n",
      "6800/6800 [==============================] - 1s 110us/step - loss: 0.0863 - acc: 0.9685 - val_loss: 0.4148 - val_acc: 0.8783\n",
      "Epoch 196/200\n",
      "6800/6800 [==============================] - 1s 110us/step - loss: 0.0858 - acc: 0.9676 - val_loss: 0.4167 - val_acc: 0.8775\n",
      "Epoch 197/200\n",
      "6800/6800 [==============================] - 1s 109us/step - loss: 0.0914 - acc: 0.9663 - val_loss: 0.4221 - val_acc: 0.8758\n",
      "Epoch 198/200\n",
      "6800/6800 [==============================] - 1s 110us/step - loss: 0.0832 - acc: 0.9704 - val_loss: 0.4434 - val_acc: 0.8775\n",
      "Epoch 199/200\n",
      "6800/6800 [==============================] - 1s 109us/step - loss: 0.0894 - acc: 0.9672 - val_loss: 0.4278 - val_acc: 0.8733\n",
      "Epoch 200/200\n",
      "6800/6800 [==============================] - 1s 109us/step - loss: 0.0804 - acc: 0.9699 - val_loss: 0.4278 - val_acc: 0.8750\n"
     ]
    }
   ],
   "source": [
    "hist_improved = model_improved.fit(X_train, Y_train, epochs=200, batch_size=256, validation_data=(X_test, Y_test), callbacks=[checkpoint])"
   ]
  },
  {
   "cell_type": "code",
   "execution_count": 0,
   "metadata": {
    "colab": {},
    "colab_type": "code",
    "id": "3y-Hcf8D2RIN"
   },
   "outputs": [],
   "source": [
    "#from google.colab import files\n",
    "#files.download('example.txt') "
   ]
  },
  {
   "cell_type": "markdown",
   "metadata": {
    "colab_type": "text",
    "id": "iXBlR_0-3ooW"
   },
   "source": [
    "We have saved our best model."
   ]
  },
  {
   "cell_type": "code",
   "execution_count": 95,
   "metadata": {
    "colab": {
     "base_uri": "https://localhost:8080/",
     "height": 51
    },
    "colab_type": "code",
    "id": "_vA1ZI5e349z",
    "outputId": "0186e556-9a28-45f5-aaa3-b9e82b722ab5"
   },
   "outputs": [
    {
     "name": "stdout",
     "output_type": "stream",
     "text": [
      "1200/1200 [==============================] - 0s 128us/step\n"
     ]
    },
    {
     "data": {
      "text/plain": [
       "[0.4278047293424606, 0.875]"
      ]
     },
     "execution_count": 95,
     "metadata": {
      "tags": []
     },
     "output_type": "execute_result"
    }
   ],
   "source": [
    "model_improved.evaluate(X_test, Y_test)"
   ]
  },
  {
   "cell_type": "code",
   "execution_count": 96,
   "metadata": {
    "colab": {
     "base_uri": "https://localhost:8080/",
     "height": 51
    },
    "colab_type": "code",
    "id": "bQguizH_4A8B",
    "outputId": "7b9cd0b3-401f-43ac-a90e-8655ec7f8f37"
   },
   "outputs": [
    {
     "name": "stdout",
     "output_type": "stream",
     "text": [
      "6800/6800 [==============================] - 1s 122us/step\n"
     ]
    },
    {
     "data": {
      "text/plain": [
       "[0.01366396603968871, 0.9991176470588236]"
      ]
     },
     "execution_count": 96,
     "metadata": {
      "tags": []
     },
     "output_type": "execute_result"
    }
   ],
   "source": [
    "model_improved.evaluate(X_train, Y_train)"
   ]
  },
  {
   "cell_type": "code",
   "execution_count": 97,
   "metadata": {
    "colab": {
     "base_uri": "https://localhost:8080/",
     "height": 272
    },
    "colab_type": "code",
    "id": "KN5Y0rqm4GB8",
    "outputId": "2ecb171f-d230-4d47-e085-815e678ebccb"
   },
   "outputs": [
    {
     "name": "stdout",
     "output_type": "stream",
     "text": [
      "[  0   1   2   3   4   5   6   7   8   9  10  11  12  13  14  15  16  17\n",
      "  18  19  20  21  22  23  24  25  26  27  28  29  30  31  32  33  34  35\n",
      "  36  37  38  39  40  41  42  43  44  45  46  47  48  49  50  51  52  53\n",
      "  54  55  56  57  58  59  60  61  62  63  64  65  66  67  68  69  70  71\n",
      "  72  73  74  75  76  77  78  79  80  81  82  83  84  85  86  87  88  89\n",
      "  90  91  92  93  94  95  96  97  98  99 100 101 102 103 104 105 106 107\n",
      " 108 109 110 111 112 113 114 115 116 117 118 119 120 121 122 123 124 125\n",
      " 126 127 128 129 130 131 132 133 134 135 136 137 138 139 140 141 142 143\n",
      " 144 145 146 147 148 149 150 151 152 153 154 155 156 157 158 159 160 161\n",
      " 162 163 164 165 166 167 168 169 170 171 172 173 174 175 176 177 178 179\n",
      " 180 181 182 183 184 185 186 187 188 189 190 191 192 193 194 195 196 197\n",
      " 198 199 200 201 202 203 204 205 206 207 208 209 210 211 212 213 214 215\n",
      " 216 217 218 219 220 221 222 223 224 225 226 227 228 229 230 231 232 233\n",
      " 234 235 236 237 238 239 240 241 242 243 244 245 246 247 248 249 250 251\n",
      " 252 253 254 255]\n"
     ]
    }
   ],
   "source": [
    "print(np.unique(XTest))"
   ]
  },
  {
   "cell_type": "code",
   "execution_count": 98,
   "metadata": {
    "colab": {
     "base_uri": "https://localhost:8080/",
     "height": 34
    },
    "colab_type": "code",
    "id": "w4quUcDQ4ten",
    "outputId": "0a23c9e0-e2cd-4a6f-9983-cdf2c244a8f3"
   },
   "outputs": [
    {
     "name": "stdout",
     "output_type": "stream",
     "text": [
      "(2000, 28, 28, 1)\n"
     ]
    }
   ],
   "source": [
    "XTest = XTest.reshape((-1, 28, 28, 1))\n",
    "print(XTest.shape)"
   ]
  },
  {
   "cell_type": "code",
   "execution_count": 108,
   "metadata": {
    "colab": {
     "base_uri": "https://localhost:8080/",
     "height": 34
    },
    "colab_type": "code",
    "id": "Q4X_bL8g-PTh",
    "outputId": "5878c360-90f8-4fff-c733-347e47a0f87c"
   },
   "outputs": [
    {
     "name": "stdout",
     "output_type": "stream",
     "text": [
      "2000\n"
     ]
    }
   ],
   "source": [
    "count_0 = 0\n",
    "count_2 = 0\n",
    "count_3 = 0\n",
    "count_6 = 0\n",
    "predictions = []\n",
    "\n",
    "with open('cheshta_kwatra.csv', 'w', newline='\\n') as f:\n",
    "  writer = csv.writer(f)\n",
    "  writer.writerow(['image_index', 'class'])\n",
    "  \n",
    "  for i in range(XTest.shape[0]):\n",
    "    pred = model.predict_classes(XTest[i].reshape(1,28,28,1))\n",
    "    if pred[0] == 0:\n",
    "      count_0 += 1\n",
    "      \n",
    "    elif pred[0] == 1:\n",
    "      pred[0] = 2\n",
    "      count_2 += 1\n",
    "      \n",
    "    elif pred[0] == 2:\n",
    "      pred[0] = 3\n",
    "      count_3 += 1\n",
    "      \n",
    "    elif pred[0] == 3:\n",
    "      pred[0] = 6\n",
    "      count_6 += 1\n",
    "    \n",
    "    else:\n",
    "      print(pred[0])\n",
    "      print('--------')\n",
    "      \n",
    "    line = [i, pred[0]]\n",
    "    writer.writerow(line)\n",
    "    predictions.append(pred[0])\n",
    "  \n",
    "  print(len(predictions))\n",
    "\n",
    "f.close()"
   ]
  },
  {
   "cell_type": "code",
   "execution_count": 0,
   "metadata": {
    "colab": {},
    "colab_type": "code",
    "id": "vqOIOMkIBItm"
   },
   "outputs": [],
   "source": [
    "from google.colab import files\n",
    "files.download('cheshta_kwatra.csv') "
   ]
  },
  {
   "cell_type": "code",
   "execution_count": 0,
   "metadata": {
    "colab": {},
    "colab_type": "code",
    "id": "LHbd8nivBbzt"
   },
   "outputs": [],
   "source": [
    "from google.colab import files\n",
    "files.download('my_model.h5') "
   ]
  },
  {
   "cell_type": "code",
   "execution_count": 0,
   "metadata": {
    "colab": {},
    "colab_type": "code",
    "id": "Zp4f4OHyBq7t"
   },
   "outputs": [],
   "source": [
    "from google.colab import files\n",
    "files.download('best_model.h5') "
   ]
  },
  {
   "cell_type": "code",
   "execution_count": 0,
   "metadata": {
    "colab": {},
    "colab_type": "code",
    "id": "U0pikWkVBwgm"
   },
   "outputs": [],
   "source": []
  }
 ],
 "metadata": {
  "accelerator": "GPU",
  "colab": {
   "collapsed_sections": [],
   "name": "CV_problem_final.ipynb",
   "provenance": [],
   "version": "0.3.2"
  },
  "kernelspec": {
   "display_name": "Python 3",
   "language": "python",
   "name": "python3"
  },
  "language_info": {
   "codemirror_mode": {
    "name": "ipython",
    "version": 3
   },
   "file_extension": ".py",
   "mimetype": "text/x-python",
   "name": "python",
   "nbconvert_exporter": "python",
   "pygments_lexer": "ipython3",
   "version": "3.6.8"
  }
 },
 "nbformat": 4,
 "nbformat_minor": 1
}
