{
 "cells": [
  {
   "cell_type": "markdown",
   "metadata": {
    "colab_type": "text",
    "id": "lWfCxRMd-2l6"
   },
   "source": [
    "## Uploading files\n",
    "Since I am using Google Colab, I need to upload local files to Google Collaboratory"
   ]
  },
  {
   "cell_type": "code",
   "execution_count": 1,
   "metadata": {
    "colab": {
     "base_uri": "https://localhost:8080/",
     "height": 176,
     "resources": {
      "http://localhost:8080/nbextensions/google.colab/files.js": {
       "data": "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",
       "headers": [
        [
         "content-type",
         "application/javascript"
        ]
       ],
       "ok": true,
       "status": 200,
       "status_text": ""
      }
     }
    },
    "colab_type": "code",
    "id": "kitTvoay-7g2",
    "outputId": "bda2389f-0e49-43f3-d6f4-0c4014675f61"
   },
   "outputs": [
    {
     "data": {
      "text/html": [
       "\n",
       "     <input type=\"file\" id=\"files-9d424732-0431-450e-b72a-9b45c6883554\" name=\"files[]\" multiple disabled />\n",
       "     <output id=\"result-9d424732-0431-450e-b72a-9b45c6883554\">\n",
       "      Upload widget is only available when the cell has been executed in the\n",
       "      current browser session. Please rerun this cell to enable.\n",
       "      </output>\n",
       "      <script src=\"/nbextensions/google.colab/files.js\"></script> "
      ],
      "text/plain": [
       "<IPython.core.display.HTML object>"
      ]
     },
     "metadata": {
      "tags": []
     },
     "output_type": "display_data"
    },
    {
     "name": "stdout",
     "output_type": "stream",
     "text": [
      "Saving test_image.pkl to test_image.pkl\n",
      "Saving train_image.pkl to train_image.pkl\n",
      "Saving train_label.pkl to train_label.pkl\n",
      "Saving visualize.py to visualize.py\n"
     ]
    }
   ],
   "source": [
    "from google.colab import files\n",
    "files.upload()"
   ]
  },
  {
   "cell_type": "markdown",
   "metadata": {
    "colab_type": "text",
    "id": "ecaae7zh-dy2"
   },
   "source": [
    "##  Import Libraries"
   ]
  },
  {
   "cell_type": "code",
   "execution_count": 2,
   "metadata": {
    "colab": {
     "base_uri": "https://localhost:8080/",
     "height": 34
    },
    "colab_type": "code",
    "id": "wBzpSaAPdSJV",
    "outputId": "56f6e74d-2d13-49d3-d9ba-41a3268f7e39"
   },
   "outputs": [
    {
     "name": "stderr",
     "output_type": "stream",
     "text": [
      "Using TensorFlow backend.\n"
     ]
    }
   ],
   "source": [
    "import pickle\n",
    "import numpy as np\n",
    "import matplotlib.pyplot as plt\n",
    "\n",
    "#Visualization\n",
    "from visualize import plot_confusion_matrix\n",
    "from sklearn.metrics import confusion_matrix\n",
    "\n",
    "#To convert Y to one-hot-vector notation\n",
    "from keras.utils import np_utils\n",
    "\n",
    "#Used for CNN Model\n",
    "from keras.models import Sequential\n",
    "from keras.layers import Input, Convolution2D, MaxPooling2D, Flatten, Dense, Dropout, BatchNormalization, Activation, ZeroPadding2D\n",
    "from keras import optimizers\n",
    "\n",
    "#Create training and testing data\n",
    "from sklearn.model_selection import train_test_split\n",
    "\n",
    "#To save the best model by avoiding overfitting\n",
    "from keras.callbacks import ModelCheckpoint\n",
    "\n",
    "#To write our output file\n",
    "import csv"
   ]
  },
  {
   "cell_type": "markdown",
   "metadata": {
    "colab_type": "text",
    "id": "hV0QQWNP_JOJ"
   },
   "source": [
    "## Unpacking .pkl files"
   ]
  },
  {
   "cell_type": "code",
   "execution_count": 0,
   "metadata": {
    "colab": {},
    "colab_type": "code",
    "id": "ZEirMvpfe4wu"
   },
   "outputs": [],
   "source": [
    "with open('train_image.pkl', 'rb') as f:\n",
    "    X = pickle.load(f)\n",
    "\n",
    "X = np.array(X)"
   ]
  },
  {
   "cell_type": "code",
   "execution_count": 4,
   "metadata": {
    "colab": {
     "base_uri": "https://localhost:8080/",
     "height": 51
    },
    "colab_type": "code",
    "id": "i599RFTMe7Fa",
    "outputId": "d138def4-8429-4cac-fcaf-4db5dd92ce16"
   },
   "outputs": [
    {
     "name": "stdout",
     "output_type": "stream",
     "text": [
      "<class 'numpy.ndarray'>\n",
      "8000\n"
     ]
    }
   ],
   "source": [
    "print(type(X))\n",
    "print(len(X))"
   ]
  },
  {
   "cell_type": "code",
   "execution_count": 0,
   "metadata": {
    "colab": {},
    "colab_type": "code",
    "id": "VMZX60EL_N-T"
   },
   "outputs": [],
   "source": [
    "#print(X[0])"
   ]
  },
  {
   "cell_type": "code",
   "execution_count": 0,
   "metadata": {
    "colab": {},
    "colab_type": "code",
    "id": "Wsy0rto2e9Bb"
   },
   "outputs": [],
   "source": [
    "with open('train_label.pkl', 'rb') as f:\n",
    "    Y = pickle.load(f)\n",
    "\n",
    "Y = np.array(Y)"
   ]
  },
  {
   "cell_type": "code",
   "execution_count": 7,
   "metadata": {
    "colab": {
     "base_uri": "https://localhost:8080/",
     "height": 51
    },
    "colab_type": "code",
    "id": "Rwu19rx5e-4i",
    "outputId": "c1fa0c6e-0cb8-421b-fddd-1d2a6f572170"
   },
   "outputs": [
    {
     "name": "stdout",
     "output_type": "stream",
     "text": [
      "8000\n",
      "(array([0, 2, 3, 6]), array([2000, 2000, 2000, 2000]))\n"
     ]
    }
   ],
   "source": [
    "print(len(Y))\n",
    "print(np.unique(Y, return_counts=True))"
   ]
  },
  {
   "cell_type": "markdown",
   "metadata": {
    "colab_type": "text",
    "id": "q-vCU-T4DRtb"
   },
   "source": [
    "The above count shows that the data is perfectly balanced"
   ]
  },
  {
   "cell_type": "markdown",
   "metadata": {
    "colab_type": "text",
    "id": "zDgiHL42_ROV"
   },
   "source": [
    "### Since the labels are 0,2,3 and 6, we have to convert them to 0,1,2,3 so that they can be converted into one hot vectors to perform CNN"
   ]
  },
  {
   "cell_type": "code",
   "execution_count": 8,
   "metadata": {
    "colab": {
     "base_uri": "https://localhost:8080/",
     "height": 34
    },
    "colab_type": "code",
    "id": "Gc4UkPsJfAYP",
    "outputId": "d5af69ce-9b08-4031-c8b1-9caa6b83b861"
   },
   "outputs": [
    {
     "name": "stdout",
     "output_type": "stream",
     "text": [
      "(array([0., 1., 2., 3.]), array([2000, 2000, 2000, 2000]))\n"
     ]
    }
   ],
   "source": [
    "Y = np.ceil(np.divide(Y,2))\n",
    "classes = np.unique(Y)\n",
    "print(np.unique(Y, return_counts=True))"
   ]
  },
  {
   "cell_type": "code",
   "execution_count": 0,
   "metadata": {
    "colab": {},
    "colab_type": "code",
    "id": "1sSD6opg_URi"
   },
   "outputs": [],
   "source": [
    "#print(Y)"
   ]
  },
  {
   "cell_type": "code",
   "execution_count": 0,
   "metadata": {
    "colab": {},
    "colab_type": "code",
    "id": "Ny5ikJ16fCuH"
   },
   "outputs": [],
   "source": [
    "with open('test_image.pkl', 'rb') as f:\n",
    "    XTest = pickle.load(f)\n",
    "\n",
    "XTest = np.array(XTest)"
   ]
  },
  {
   "cell_type": "code",
   "execution_count": 11,
   "metadata": {
    "colab": {
     "base_uri": "https://localhost:8080/",
     "height": 34
    },
    "colab_type": "code",
    "id": "zYHuEz-afFx5",
    "outputId": "02c55129-4e7e-4589-a6a5-48f2730b854d"
   },
   "outputs": [
    {
     "name": "stdout",
     "output_type": "stream",
     "text": [
      "2000\n"
     ]
    }
   ],
   "source": [
    "print(len(XTest))"
   ]
  },
  {
   "cell_type": "code",
   "execution_count": 12,
   "metadata": {
    "colab": {
     "base_uri": "https://localhost:8080/",
     "height": 34
    },
    "colab_type": "code",
    "id": "AUN44lELfIKp",
    "outputId": "0f1c7857-9421-4ac5-dcae-44faaf685187"
   },
   "outputs": [
    {
     "name": "stdout",
     "output_type": "stream",
     "text": [
      "(8000, 784) (8000,)\n"
     ]
    }
   ],
   "source": [
    "print(X.shape, Y.shape)"
   ]
  },
  {
   "cell_type": "code",
   "execution_count": 13,
   "metadata": {
    "colab": {
     "base_uri": "https://localhost:8080/",
     "height": 34
    },
    "colab_type": "code",
    "id": "fqeoTmgBfJ0C",
    "outputId": "e1da4045-db9e-43e0-f0f4-036aeb43992e"
   },
   "outputs": [
    {
     "name": "stdout",
     "output_type": "stream",
     "text": [
      "(8000, 28, 28, 1) (8000, 4)\n"
     ]
    }
   ],
   "source": [
    "# Since CNN accepts input in the form of images therefore we reshape our training data\n",
    "X = X.reshape((-1,28,28,1))   # '1' signifies that the image is a grayscale image\n",
    "Y = np_utils.to_categorical(Y)  #convert Y to ohv\n",
    "\n",
    "print(X.shape, Y.shape)"
   ]
  },
  {
   "cell_type": "markdown",
   "metadata": {
    "colab_type": "text",
    "id": "Jnj21ywD_lHz"
   },
   "source": [
    "## Visualizing Training Data"
   ]
  },
  {
   "cell_type": "code",
   "execution_count": 0,
   "metadata": {
    "colab": {},
    "colab_type": "code",
    "id": "vlH67i83fLdE"
   },
   "outputs": [],
   "source": [
    "def drawImage(img):\n",
    "    plt.imshow(img.reshape(28,28), cmap='gray')\n",
    "    plt.axis('off')\n",
    "    plt.show()"
   ]
  },
  {
   "cell_type": "code",
   "execution_count": 15,
   "metadata": {
    "colab": {
     "base_uri": "https://localhost:8080/",
     "height": 2497
    },
    "colab_type": "code",
    "id": "JrqEEJQ1fNaV",
    "outputId": "d4216e27-6041-4d2b-de27-da027b157be7"
   },
   "outputs": [
    {
     "data": {
      "image/png": "[encoded data removed]",
      "text/plain": [
       "<Figure size 432x288 with 1 Axes>"
      ]
     },
     "metadata": {
      "tags": []
     },
     "output_type": "display_data"
    },
    {
     "data": {
      "image/png": "[encoded data removed]",
      "text/plain": [
       "<Figure size 432x288 with 1 Axes>"
      ]
     },
     "metadata": {
      "tags": []
     },
     "output_type": "display_data"
    },
    {
     "data": {
      "image/png": "[encoded data removed]",
      "text/plain": [
       "<Figure size 432x288 with 1 Axes>"
      ]
     },
     "metadata": {
      "tags": []
     },
     "output_type": "display_data"
    },
    {
     "data": {
      "image/png": "[encoded data removed]",
      "text/plain": [
       "<Figure size 432x288 with 1 Axes>"
      ]
     },
     "metadata": {
      "tags": []
     },
     "output_type": "display_data"
    },
    {
     "data": {
      "image/png": "[encoded data removed]",
      "text/plain": [
       "<Figure size 432x288 with 1 Axes>"
      ]
     },
     "metadata": {
      "tags": []
     },
     "output_type": "display_data"
    },
    {
     "data": {
      "image/png": "[encoded data removed]",
      "text/plain": [
       "<Figure size 432x288 with 1 Axes>"
      ]
     },
     "metadata": {
      "tags": []
     },
     "output_type": "display_data"
    },
    {
     "data": {
      "image/png": "[encoded data removed]",
      "text/plain": [
       "<Figure size 432x288 with 1 Axes>"
      ]
     },
     "metadata": {
      "tags": []
     },
     "output_type": "display_data"
    },
    {
     "data": {
      "image/png": "[encoded data removed]",
      "text/plain": [
       "<Figure size 432x288 with 1 Axes>"
      ]
     },
     "metadata": {
      "tags": []
     },
     "output_type": "display_data"
    },
    {
     "data": {
      "image/png": "[encoded data removed]",
      "text/plain": [
       "<Figure size 432x288 with 1 Axes>"
      ]
     },
     "metadata": {
      "tags": []
     },
     "output_type": "display_data"
    },
    {
     "data": {
      "image/png": "[encoded data removed]",
      "text/plain": [
       "<Figure size 432x288 with 1 Axes>"
      ]
     },
     "metadata": {
      "tags": []
     },
     "output_type": "display_data"
    }
   ],
   "source": [
    "for i in range(10):\n",
    "    drawImage(np.array(X[i]))"
   ]
  },
  {
   "cell_type": "markdown",
   "metadata": {
    "colab_type": "text",
    "id": "NIsl4sS0_qUg"
   },
   "source": [
    "## Creating Training and Validation Data"
   ]
  },
  {
   "cell_type": "code",
   "execution_count": 0,
   "metadata": {
    "colab": {},
    "colab_type": "code",
    "id": "L7SD2y7EfOuu"
   },
   "outputs": [],
   "source": [
    "X_train, X_test, Y_train, Y_test = train_test_split(X, Y, test_size=0.15, random_state=42, shuffle=True, stratify=Y)"
   ]
  },
  {
   "cell_type": "code",
   "execution_count": 17,
   "metadata": {
    "colab": {
     "base_uri": "https://localhost:8080/",
     "height": 51
    },
    "colab_type": "code",
    "id": "o98l3sH-fS9s",
    "outputId": "be59d7c2-d324-4809-a4cb-acbfd248756f"
   },
   "outputs": [
    {
     "name": "stdout",
     "output_type": "stream",
     "text": [
      "<class 'numpy.ndarray'>\n",
      "6800\n"
     ]
    }
   ],
   "source": [
    "print(type(X_train))\n",
    "print(len(X_train))"
   ]
  },
  {
   "cell_type": "code",
   "execution_count": 0,
   "metadata": {
    "colab": {},
    "colab_type": "code",
    "id": "QS58Ebk6_tuK"
   },
   "outputs": [],
   "source": [
    "#print(np.unique(X_train))"
   ]
  },
  {
   "cell_type": "markdown",
   "metadata": {
    "colab_type": "text",
    "id": "3dHKqZpG_vvr"
   },
   "source": [
    "## Building a CNN Model"
   ]
  },
  {
   "cell_type": "code",
   "execution_count": 27,
   "metadata": {
    "colab": {
     "base_uri": "https://localhost:8080/",
     "height": 374
    },
    "colab_type": "code",
    "id": "VZXt7rAdfUVS",
    "outputId": "a7879a83-ec0a-40dc-e273-5d465373f44c"
   },
   "outputs": [
    {
     "name": "stdout",
     "output_type": "stream",
     "text": [
      "_________________________________________________________________\n",
      "Layer (type)                 Output Shape              Param #   \n",
      "=================================================================\n",
      "conv2d_4 (Conv2D)            (None, 26, 26, 32)        320       \n",
      "_________________________________________________________________\n",
      "conv2d_5 (Conv2D)            (None, 24, 24, 64)        18496     \n",
      "_________________________________________________________________\n",
      "dropout_2 (Dropout)          (None, 24, 24, 64)        0         \n",
      "_________________________________________________________________\n",
      "max_pooling2d_2 (MaxPooling2 (None, 12, 12, 64)        0         \n",
      "_________________________________________________________________\n",
      "conv2d_6 (Conv2D)            (None, 10, 10, 128)       73856     \n",
      "_________________________________________________________________\n",
      "flatten_2 (Flatten)          (None, 12800)             0         \n",
      "_________________________________________________________________\n",
      "dense_2 (Dense)              (None, 4)                 51204     \n",
      "=================================================================\n",
      "Total params: 143,876\n",
      "Trainable params: 143,876\n",
      "Non-trainable params: 0\n",
      "_________________________________________________________________\n"
     ]
    }
   ],
   "source": [
    "#A simple CNN model with basic layers\n",
    "model = Sequential()\n",
    "\n",
    "model.add(Convolution2D(32,(3,3),activation='relu',input_shape=(28,28,1)))  #Input size is provided only in the first layer\n",
    "model.add(Convolution2D(64,(3,3),activation='relu'))\n",
    "model.add(Dropout(0.25))             #Used to prevent overfitting. Randomly turns off neurons in a layer with 0.25 probability\n",
    "model.add(MaxPooling2D(2,2))         #Slides a (2,2) window over the input and stores maximum value of the window\n",
    "model.add(Convolution2D(128,(3,3),activation='relu'))\n",
    "model.add(Flatten())                 #Reshapes a 3D input to 1D output\n",
    "model.add(Dense(4, activation='softmax'))     #(Fully connected layer) Connects every input to every output by a weight\n",
    "model.summary()"
   ]
  },
  {
   "cell_type": "code",
   "execution_count": 0,
   "metadata": {
    "colab": {},
    "colab_type": "code",
    "id": "JCf0Bf3KfWVM"
   },
   "outputs": [],
   "source": [
    "## Optimizer\n",
    "adam = optimizers.adam(lr=1e-4)"
   ]
  },
  {
   "cell_type": "code",
   "execution_count": 0,
   "metadata": {
    "colab": {},
    "colab_type": "code",
    "id": "5RV5MB9nfYja"
   },
   "outputs": [],
   "source": [
    "model.compile(loss='categorical_crossentropy', optimizer=adam, metrics=['accuracy'])"
   ]
  },
  {
   "cell_type": "code",
   "execution_count": 22,
   "metadata": {
    "colab": {
     "base_uri": "https://localhost:8080/",
     "height": 3505
    },
    "colab_type": "code",
    "id": "FzKcOXvhfZzN",
    "outputId": "f52f4de2-d7ab-433b-cc4c-b51cf791d957"
   },
   "outputs": [
    {
     "name": "stdout",
     "output_type": "stream",
     "text": [
      "WARNING:tensorflow:From /usr/local/lib/python3.6/dist-packages/tensorflow/python/ops/math_ops.py:3066: to_int32 (from tensorflow.python.ops.math_ops) is deprecated and will be removed in a future version.\n",
      "Instructions for updating:\n",
      "Use tf.cast instead.\n",
      "Train on 6800 samples, validate on 1200 samples\n",
      "Epoch 1/100\n",
      "6800/6800 [==============================] - 6s 918us/step - loss: 4.7708 - acc: 0.4753 - val_loss: 1.6084 - val_acc: 0.6867\n",
      "Epoch 2/100\n",
      "6800/6800 [==============================] - 1s 161us/step - loss: 1.8432 - acc: 0.6900 - val_loss: 1.1577 - val_acc: 0.7392\n",
      "Epoch 3/100\n",
      "6800/6800 [==============================] - 1s 163us/step - loss: 1.2524 - acc: 0.7310 - val_loss: 0.8439 - val_acc: 0.7750\n",
      "Epoch 4/100\n",
      "6800/6800 [==============================] - 1s 162us/step - loss: 1.0547 - acc: 0.7471 - val_loss: 0.7267 - val_acc: 0.7992\n",
      "Epoch 5/100\n",
      "6800/6800 [==============================] - 1s 162us/step - loss: 0.9103 - acc: 0.7643 - val_loss: 0.6653 - val_acc: 0.7992\n",
      "Epoch 6/100\n",
      "6800/6800 [==============================] - 1s 163us/step - loss: 0.8281 - acc: 0.7791 - val_loss: 0.5877 - val_acc: 0.8083\n",
      "Epoch 7/100\n",
      "6800/6800 [==============================] - 1s 164us/step - loss: 0.7459 - acc: 0.7794 - val_loss: 0.5955 - val_acc: 0.8242\n",
      "Epoch 8/100\n",
      "6800/6800 [==============================] - 1s 166us/step - loss: 0.6816 - acc: 0.8034 - val_loss: 0.5316 - val_acc: 0.8367\n",
      "Epoch 9/100\n",
      "6800/6800 [==============================] - 1s 164us/step - loss: 0.6486 - acc: 0.8028 - val_loss: 0.5188 - val_acc: 0.8392\n",
      "Epoch 10/100\n",
      "6800/6800 [==============================] - 1s 164us/step - loss: 0.6446 - acc: 0.8049 - val_loss: 0.4995 - val_acc: 0.8383\n",
      "Epoch 11/100\n",
      "6800/6800 [==============================] - 1s 165us/step - loss: 0.5629 - acc: 0.8185 - val_loss: 0.5392 - val_acc: 0.8133\n",
      "Epoch 12/100\n",
      "6800/6800 [==============================] - 1s 163us/step - loss: 0.5301 - acc: 0.8262 - val_loss: 0.4904 - val_acc: 0.8408\n",
      "Epoch 13/100\n",
      "6800/6800 [==============================] - 1s 163us/step - loss: 0.5080 - acc: 0.8328 - val_loss: 0.4681 - val_acc: 0.8400\n",
      "Epoch 14/100\n",
      "6800/6800 [==============================] - 1s 163us/step - loss: 0.4702 - acc: 0.8449 - val_loss: 0.4806 - val_acc: 0.8308\n",
      "Epoch 15/100\n",
      "6800/6800 [==============================] - 1s 164us/step - loss: 0.4717 - acc: 0.8406 - val_loss: 0.4718 - val_acc: 0.8375\n",
      "Epoch 16/100\n",
      "6800/6800 [==============================] - 1s 164us/step - loss: 0.4495 - acc: 0.8440 - val_loss: 0.4505 - val_acc: 0.8342\n",
      "Epoch 17/100\n",
      "6800/6800 [==============================] - 1s 163us/step - loss: 0.4157 - acc: 0.8546 - val_loss: 0.4577 - val_acc: 0.8383\n",
      "Epoch 18/100\n",
      "6800/6800 [==============================] - 1s 165us/step - loss: 0.3868 - acc: 0.8646 - val_loss: 0.4826 - val_acc: 0.8300\n",
      "Epoch 19/100\n",
      "6800/6800 [==============================] - 1s 165us/step - loss: 0.3652 - acc: 0.8712 - val_loss: 0.4450 - val_acc: 0.8400\n",
      "Epoch 20/100\n",
      "6800/6800 [==============================] - 1s 164us/step - loss: 0.3773 - acc: 0.8679 - val_loss: 0.4348 - val_acc: 0.8392\n",
      "Epoch 21/100\n",
      "6800/6800 [==============================] - 1s 164us/step - loss: 0.3435 - acc: 0.8722 - val_loss: 0.4586 - val_acc: 0.8250\n",
      "Epoch 22/100\n",
      "6800/6800 [==============================] - 1s 163us/step - loss: 0.3445 - acc: 0.8799 - val_loss: 0.4141 - val_acc: 0.8483\n",
      "Epoch 23/100\n",
      "6800/6800 [==============================] - 1s 163us/step - loss: 0.3317 - acc: 0.8787 - val_loss: 0.4418 - val_acc: 0.8442\n",
      "Epoch 24/100\n",
      "6800/6800 [==============================] - 1s 163us/step - loss: 0.3034 - acc: 0.8896 - val_loss: 0.4298 - val_acc: 0.8467\n",
      "Epoch 25/100\n",
      "6800/6800 [==============================] - 1s 163us/step - loss: 0.3167 - acc: 0.8843 - val_loss: 0.4053 - val_acc: 0.8475\n",
      "Epoch 26/100\n",
      "6800/6800 [==============================] - 1s 164us/step - loss: 0.3047 - acc: 0.8904 - val_loss: 0.4045 - val_acc: 0.8425\n",
      "Epoch 27/100\n",
      "6800/6800 [==============================] - 1s 162us/step - loss: 0.2825 - acc: 0.8969 - val_loss: 0.4011 - val_acc: 0.8567\n",
      "Epoch 28/100\n",
      "6800/6800 [==============================] - 1s 163us/step - loss: 0.2984 - acc: 0.8937 - val_loss: 0.4007 - val_acc: 0.8625\n",
      "Epoch 29/100\n",
      "6800/6800 [==============================] - 1s 164us/step - loss: 0.2763 - acc: 0.8972 - val_loss: 0.4031 - val_acc: 0.8592\n",
      "Epoch 30/100\n",
      "6800/6800 [==============================] - 1s 162us/step - loss: 0.2576 - acc: 0.9026 - val_loss: 0.4406 - val_acc: 0.8417\n",
      "Epoch 31/100\n",
      "6800/6800 [==============================] - 1s 163us/step - loss: 0.2625 - acc: 0.9012 - val_loss: 0.3873 - val_acc: 0.8667\n",
      "Epoch 32/100\n",
      "6800/6800 [==============================] - 1s 162us/step - loss: 0.2317 - acc: 0.9099 - val_loss: 0.4231 - val_acc: 0.8442\n",
      "Epoch 33/100\n",
      "6800/6800 [==============================] - 1s 164us/step - loss: 0.2436 - acc: 0.9085 - val_loss: 0.3888 - val_acc: 0.8625\n",
      "Epoch 34/100\n",
      "6800/6800 [==============================] - 1s 164us/step - loss: 0.2248 - acc: 0.9171 - val_loss: 0.4107 - val_acc: 0.8583\n",
      "Epoch 35/100\n",
      "6800/6800 [==============================] - 1s 162us/step - loss: 0.2158 - acc: 0.9172 - val_loss: 0.4267 - val_acc: 0.8458\n",
      "Epoch 36/100\n",
      "6800/6800 [==============================] - 1s 164us/step - loss: 0.2181 - acc: 0.9149 - val_loss: 0.3875 - val_acc: 0.8633\n",
      "Epoch 37/100\n",
      "6800/6800 [==============================] - 1s 162us/step - loss: 0.2045 - acc: 0.9218 - val_loss: 0.3832 - val_acc: 0.8708\n",
      "Epoch 38/100\n",
      "6800/6800 [==============================] - 1s 164us/step - loss: 0.2011 - acc: 0.9250 - val_loss: 0.3918 - val_acc: 0.8583\n",
      "Epoch 39/100\n",
      "6800/6800 [==============================] - 1s 164us/step - loss: 0.1821 - acc: 0.9312 - val_loss: 0.4000 - val_acc: 0.8592\n",
      "Epoch 40/100\n",
      "6800/6800 [==============================] - 1s 162us/step - loss: 0.1812 - acc: 0.9307 - val_loss: 0.4064 - val_acc: 0.8517\n",
      "Epoch 41/100\n",
      "6800/6800 [==============================] - 1s 163us/step - loss: 0.1869 - acc: 0.9294 - val_loss: 0.4037 - val_acc: 0.8583\n",
      "Epoch 42/100\n",
      "6800/6800 [==============================] - 1s 163us/step - loss: 0.1792 - acc: 0.9329 - val_loss: 0.3896 - val_acc: 0.8617\n",
      "Epoch 43/100\n",
      "6800/6800 [==============================] - 1s 162us/step - loss: 0.1794 - acc: 0.9316 - val_loss: 0.4086 - val_acc: 0.8525\n",
      "Epoch 44/100\n",
      "6800/6800 [==============================] - 1s 165us/step - loss: 0.1708 - acc: 0.9362 - val_loss: 0.4233 - val_acc: 0.8442\n",
      "Epoch 45/100\n",
      "6800/6800 [==============================] - 1s 164us/step - loss: 0.1652 - acc: 0.9366 - val_loss: 0.4321 - val_acc: 0.8483\n",
      "Epoch 46/100\n",
      "6800/6800 [==============================] - 1s 164us/step - loss: 0.1546 - acc: 0.9393 - val_loss: 0.4157 - val_acc: 0.8533\n",
      "Epoch 47/100\n",
      "6800/6800 [==============================] - 1s 163us/step - loss: 0.1593 - acc: 0.9412 - val_loss: 0.4282 - val_acc: 0.8483\n",
      "Epoch 48/100\n",
      "6800/6800 [==============================] - 1s 163us/step - loss: 0.1627 - acc: 0.9362 - val_loss: 0.4593 - val_acc: 0.8425\n",
      "Epoch 49/100\n",
      "6800/6800 [==============================] - 1s 163us/step - loss: 0.1475 - acc: 0.9441 - val_loss: 0.4102 - val_acc: 0.8492\n",
      "Epoch 50/100\n",
      "6800/6800 [==============================] - 1s 163us/step - loss: 0.1463 - acc: 0.9453 - val_loss: 0.4760 - val_acc: 0.8383\n",
      "Epoch 51/100\n",
      "6800/6800 [==============================] - 1s 162us/step - loss: 0.1462 - acc: 0.9453 - val_loss: 0.4156 - val_acc: 0.8567\n",
      "Epoch 52/100\n",
      "6800/6800 [==============================] - 1s 163us/step - loss: 0.1302 - acc: 0.9525 - val_loss: 0.4243 - val_acc: 0.8500\n",
      "Epoch 53/100\n",
      "6800/6800 [==============================] - 1s 162us/step - loss: 0.1307 - acc: 0.9504 - val_loss: 0.4226 - val_acc: 0.8550\n",
      "Epoch 54/100\n",
      "6800/6800 [==============================] - 1s 163us/step - loss: 0.1286 - acc: 0.9513 - val_loss: 0.4248 - val_acc: 0.8533\n",
      "Epoch 55/100\n",
      "6800/6800 [==============================] - 1s 163us/step - loss: 0.1150 - acc: 0.9554 - val_loss: 0.4301 - val_acc: 0.8483\n",
      "Epoch 56/100\n",
      "6800/6800 [==============================] - 1s 164us/step - loss: 0.1224 - acc: 0.9537 - val_loss: 0.4373 - val_acc: 0.8483\n",
      "Epoch 57/100\n",
      "6800/6800 [==============================] - 1s 166us/step - loss: 0.1144 - acc: 0.9576 - val_loss: 0.4154 - val_acc: 0.8583\n",
      "Epoch 58/100\n",
      "6800/6800 [==============================] - 1s 162us/step - loss: 0.1134 - acc: 0.9576 - val_loss: 0.4202 - val_acc: 0.8600\n",
      "Epoch 59/100\n",
      "6800/6800 [==============================] - 1s 162us/step - loss: 0.1189 - acc: 0.9562 - val_loss: 0.4498 - val_acc: 0.8525\n",
      "Epoch 60/100\n",
      "6800/6800 [==============================] - 1s 162us/step - loss: 0.1076 - acc: 0.9601 - val_loss: 0.4257 - val_acc: 0.8617\n",
      "Epoch 61/100\n",
      "6800/6800 [==============================] - 1s 162us/step - loss: 0.1067 - acc: 0.9606 - val_loss: 0.4226 - val_acc: 0.8592\n",
      "Epoch 62/100\n",
      "6800/6800 [==============================] - 1s 161us/step - loss: 0.0990 - acc: 0.9646 - val_loss: 0.4147 - val_acc: 0.8650\n",
      "Epoch 63/100\n",
      "6800/6800 [==============================] - 1s 162us/step - loss: 0.0951 - acc: 0.9671 - val_loss: 0.4223 - val_acc: 0.8542\n",
      "Epoch 64/100\n",
      "6800/6800 [==============================] - 1s 162us/step - loss: 0.0981 - acc: 0.9647 - val_loss: 0.4131 - val_acc: 0.8683\n",
      "Epoch 65/100\n",
      "6800/6800 [==============================] - 1s 161us/step - loss: 0.1005 - acc: 0.9626 - val_loss: 0.4260 - val_acc: 0.8608\n",
      "Epoch 66/100\n",
      "6800/6800 [==============================] - 1s 162us/step - loss: 0.0947 - acc: 0.9669 - val_loss: 0.4347 - val_acc: 0.8542\n",
      "Epoch 67/100\n",
      "6800/6800 [==============================] - 1s 164us/step - loss: 0.0880 - acc: 0.9676 - val_loss: 0.4358 - val_acc: 0.8600\n",
      "Epoch 68/100\n",
      "6800/6800 [==============================] - 1s 162us/step - loss: 0.0893 - acc: 0.9678 - val_loss: 0.4232 - val_acc: 0.8642\n",
      "Epoch 69/100\n",
      "6800/6800 [==============================] - 1s 164us/step - loss: 0.0855 - acc: 0.9690 - val_loss: 0.4347 - val_acc: 0.8608\n",
      "Epoch 70/100\n",
      "6800/6800 [==============================] - 1s 164us/step - loss: 0.0857 - acc: 0.9682 - val_loss: 0.4557 - val_acc: 0.8583\n",
      "Epoch 71/100\n",
      "6800/6800 [==============================] - 1s 164us/step - loss: 0.0812 - acc: 0.9726 - val_loss: 0.4293 - val_acc: 0.8608\n",
      "Epoch 72/100\n",
      "6800/6800 [==============================] - 1s 162us/step - loss: 0.0810 - acc: 0.9712 - val_loss: 0.4291 - val_acc: 0.8608\n",
      "Epoch 73/100\n",
      "6800/6800 [==============================] - 1s 162us/step - loss: 0.0866 - acc: 0.9684 - val_loss: 0.4440 - val_acc: 0.8550\n",
      "Epoch 74/100\n",
      "6800/6800 [==============================] - 1s 164us/step - loss: 0.0821 - acc: 0.9709 - val_loss: 0.4656 - val_acc: 0.8567\n",
      "Epoch 75/100\n",
      "6800/6800 [==============================] - 1s 163us/step - loss: 0.0780 - acc: 0.9731 - val_loss: 0.4543 - val_acc: 0.8567\n",
      "Epoch 76/100\n",
      "6800/6800 [==============================] - 1s 163us/step - loss: 0.0736 - acc: 0.9703 - val_loss: 0.4553 - val_acc: 0.8592\n",
      "Epoch 77/100\n",
      "6800/6800 [==============================] - 1s 164us/step - loss: 0.0701 - acc: 0.9759 - val_loss: 0.4489 - val_acc: 0.8658\n",
      "Epoch 78/100\n",
      "6800/6800 [==============================] - 1s 162us/step - loss: 0.0780 - acc: 0.9729 - val_loss: 0.4522 - val_acc: 0.8650\n",
      "Epoch 79/100\n",
      "6800/6800 [==============================] - 1s 163us/step - loss: 0.0714 - acc: 0.9741 - val_loss: 0.4426 - val_acc: 0.8592\n",
      "Epoch 80/100\n",
      "6800/6800 [==============================] - 1s 161us/step - loss: 0.0640 - acc: 0.9785 - val_loss: 0.4306 - val_acc: 0.8617\n",
      "Epoch 81/100\n",
      "6800/6800 [==============================] - 1s 165us/step - loss: 0.0663 - acc: 0.9762 - val_loss: 0.4404 - val_acc: 0.8608\n",
      "Epoch 82/100\n",
      "6800/6800 [==============================] - 1s 162us/step - loss: 0.0703 - acc: 0.9756 - val_loss: 0.4458 - val_acc: 0.8683\n",
      "Epoch 83/100\n",
      "6800/6800 [==============================] - 1s 164us/step - loss: 0.0710 - acc: 0.9749 - val_loss: 0.4544 - val_acc: 0.8608\n",
      "Epoch 84/100\n",
      "6800/6800 [==============================] - 1s 162us/step - loss: 0.0638 - acc: 0.9787 - val_loss: 0.4558 - val_acc: 0.8617\n",
      "Epoch 85/100\n",
      "6800/6800 [==============================] - 1s 164us/step - loss: 0.0636 - acc: 0.9787 - val_loss: 0.4411 - val_acc: 0.8650\n",
      "Epoch 86/100\n",
      "6800/6800 [==============================] - 1s 164us/step - loss: 0.0662 - acc: 0.9762 - val_loss: 0.4559 - val_acc: 0.8650\n",
      "Epoch 87/100\n",
      "6800/6800 [==============================] - 1s 164us/step - loss: 0.0644 - acc: 0.9785 - val_loss: 0.4642 - val_acc: 0.8658\n",
      "Epoch 88/100\n",
      "6800/6800 [==============================] - 1s 161us/step - loss: 0.0551 - acc: 0.9825 - val_loss: 0.4384 - val_acc: 0.8683\n",
      "Epoch 89/100\n",
      "6800/6800 [==============================] - 1s 163us/step - loss: 0.0523 - acc: 0.9826 - val_loss: 0.4559 - val_acc: 0.8658\n",
      "Epoch 90/100\n",
      "6800/6800 [==============================] - 1s 162us/step - loss: 0.0595 - acc: 0.9803 - val_loss: 0.4626 - val_acc: 0.8600\n",
      "Epoch 91/100\n",
      "6800/6800 [==============================] - 1s 164us/step - loss: 0.0534 - acc: 0.9806 - val_loss: 0.4439 - val_acc: 0.8650\n",
      "Epoch 92/100\n",
      "6800/6800 [==============================] - 1s 164us/step - loss: 0.0521 - acc: 0.9819 - val_loss: 0.4766 - val_acc: 0.8575\n",
      "Epoch 93/100\n",
      "6800/6800 [==============================] - 1s 164us/step - loss: 0.0536 - acc: 0.9821 - val_loss: 0.4492 - val_acc: 0.8700\n",
      "Epoch 94/100\n",
      "6800/6800 [==============================] - 1s 164us/step - loss: 0.0527 - acc: 0.9840 - val_loss: 0.4577 - val_acc: 0.8650\n",
      "Epoch 95/100\n",
      "6800/6800 [==============================] - 1s 164us/step - loss: 0.0489 - acc: 0.9840 - val_loss: 0.4802 - val_acc: 0.8717\n",
      "Epoch 96/100\n",
      "6800/6800 [==============================] - 1s 161us/step - loss: 0.0485 - acc: 0.9846 - val_loss: 0.4754 - val_acc: 0.8667\n",
      "Epoch 97/100\n",
      "6800/6800 [==============================] - 1s 162us/step - loss: 0.0434 - acc: 0.9847 - val_loss: 0.4664 - val_acc: 0.8625\n",
      "Epoch 98/100\n",
      "6800/6800 [==============================] - 1s 162us/step - loss: 0.0501 - acc: 0.9841 - val_loss: 0.4858 - val_acc: 0.8608\n",
      "Epoch 99/100\n",
      "6800/6800 [==============================] - 1s 163us/step - loss: 0.0484 - acc: 0.9831 - val_loss: 0.4693 - val_acc: 0.8625\n",
      "Epoch 100/100\n",
      "6800/6800 [==============================] - 1s 163us/step - loss: 0.0444 - acc: 0.9847 - val_loss: 0.4867 - val_acc: 0.8617\n"
     ]
    }
   ],
   "source": [
    "hist = model.fit(X_train, Y_train, epochs=100, batch_size=256, validation_data=(X_test, Y_test))"
   ]
  },
  {
   "cell_type": "markdown",
   "metadata": {
    "colab_type": "text",
    "id": "gibQ_Cdr_1tB"
   },
   "source": [
    "### We see that the accuracy is still increasing after 100 epochs so we increase the number of epochs\n"
   ]
  },
  {
   "cell_type": "code",
   "execution_count": 30,
   "metadata": {
    "colab": {
     "base_uri": "https://localhost:8080/",
     "height": 6834
    },
    "colab_type": "code",
    "id": "qNn3RXMofezj",
    "outputId": "6393e2d8-827c-4c0b-a0c5-b4f96f93f9de"
   },
   "outputs": [
    {
     "name": "stdout",
     "output_type": "stream",
     "text": [
      "Train on 6800 samples, validate on 1200 samples\n",
      "Epoch 1/200\n",
      "6800/6800 [==============================] - 2s 234us/step - loss: 3.0211 - acc: 0.5416 - val_loss: 1.2274 - val_acc: 0.6850\n",
      "Epoch 2/200\n",
      "6800/6800 [==============================] - 1s 164us/step - loss: 1.3506 - acc: 0.6921 - val_loss: 0.8520 - val_acc: 0.7358\n",
      "Epoch 3/200\n",
      "6800/6800 [==============================] - 1s 161us/step - loss: 1.0536 - acc: 0.7244 - val_loss: 0.7149 - val_acc: 0.7667\n",
      "Epoch 4/200\n",
      "6800/6800 [==============================] - 1s 164us/step - loss: 0.9224 - acc: 0.7474 - val_loss: 0.6440 - val_acc: 0.7892\n",
      "Epoch 5/200\n",
      "6800/6800 [==============================] - 1s 164us/step - loss: 0.8197 - acc: 0.7599 - val_loss: 0.6404 - val_acc: 0.7917\n",
      "Epoch 6/200\n",
      "6800/6800 [==============================] - 1s 162us/step - loss: 0.7678 - acc: 0.7785 - val_loss: 0.6108 - val_acc: 0.8050\n",
      "Epoch 7/200\n",
      "6800/6800 [==============================] - 1s 163us/step - loss: 0.7005 - acc: 0.7851 - val_loss: 0.5681 - val_acc: 0.8142\n",
      "Epoch 8/200\n",
      "6800/6800 [==============================] - 1s 163us/step - loss: 0.6432 - acc: 0.7997 - val_loss: 0.5226 - val_acc: 0.8300\n",
      "Epoch 9/200\n",
      "6800/6800 [==============================] - 1s 164us/step - loss: 0.5817 - acc: 0.8082 - val_loss: 0.5041 - val_acc: 0.8308\n",
      "Epoch 10/200\n",
      "6800/6800 [==============================] - 1s 164us/step - loss: 0.5521 - acc: 0.8168 - val_loss: 0.5536 - val_acc: 0.8117\n",
      "Epoch 11/200\n",
      "6800/6800 [==============================] - 1s 165us/step - loss: 0.5170 - acc: 0.8210 - val_loss: 0.5071 - val_acc: 0.8292\n",
      "Epoch 12/200\n",
      "6800/6800 [==============================] - 1s 164us/step - loss: 0.5014 - acc: 0.8326 - val_loss: 0.4887 - val_acc: 0.8292\n",
      "Epoch 13/200\n",
      "6800/6800 [==============================] - 1s 164us/step - loss: 0.4760 - acc: 0.8346 - val_loss: 0.5000 - val_acc: 0.8242\n",
      "Epoch 14/200\n",
      "6800/6800 [==============================] - 1s 163us/step - loss: 0.4547 - acc: 0.8429 - val_loss: 0.4750 - val_acc: 0.8358\n",
      "Epoch 15/200\n",
      "6800/6800 [==============================] - 1s 164us/step - loss: 0.4259 - acc: 0.8494 - val_loss: 0.5208 - val_acc: 0.8283\n",
      "Epoch 16/200\n",
      "6800/6800 [==============================] - 1s 162us/step - loss: 0.4230 - acc: 0.8509 - val_loss: 0.4748 - val_acc: 0.8375\n",
      "Epoch 17/200\n",
      "6800/6800 [==============================] - 1s 164us/step - loss: 0.3783 - acc: 0.8621 - val_loss: 0.4980 - val_acc: 0.8225\n",
      "Epoch 18/200\n",
      "6800/6800 [==============================] - 1s 163us/step - loss: 0.3828 - acc: 0.8641 - val_loss: 0.4878 - val_acc: 0.8267\n",
      "Epoch 19/200\n",
      "6800/6800 [==============================] - 1s 162us/step - loss: 0.3766 - acc: 0.8693 - val_loss: 0.4453 - val_acc: 0.8325\n",
      "Epoch 20/200\n",
      "6800/6800 [==============================] - 1s 164us/step - loss: 0.3473 - acc: 0.8774 - val_loss: 0.4652 - val_acc: 0.8333\n",
      "Epoch 21/200\n",
      "6800/6800 [==============================] - 1s 163us/step - loss: 0.3277 - acc: 0.8757 - val_loss: 0.4413 - val_acc: 0.8358\n",
      "Epoch 22/200\n",
      "6800/6800 [==============================] - 1s 164us/step - loss: 0.3239 - acc: 0.8853 - val_loss: 0.4445 - val_acc: 0.8433\n",
      "Epoch 23/200\n",
      "6800/6800 [==============================] - 1s 163us/step - loss: 0.3090 - acc: 0.8819 - val_loss: 0.4647 - val_acc: 0.8367\n",
      "Epoch 24/200\n",
      "6800/6800 [==============================] - 1s 163us/step - loss: 0.3012 - acc: 0.8888 - val_loss: 0.4715 - val_acc: 0.8358\n",
      "Epoch 25/200\n",
      "6800/6800 [==============================] - 1s 163us/step - loss: 0.2876 - acc: 0.8928 - val_loss: 0.4294 - val_acc: 0.8467\n",
      "Epoch 26/200\n",
      "6800/6800 [==============================] - 1s 164us/step - loss: 0.2813 - acc: 0.8954 - val_loss: 0.4589 - val_acc: 0.8417\n",
      "Epoch 27/200\n",
      "6800/6800 [==============================] - 1s 164us/step - loss: 0.2716 - acc: 0.8990 - val_loss: 0.4364 - val_acc: 0.8417\n",
      "Epoch 28/200\n",
      "6800/6800 [==============================] - 1s 162us/step - loss: 0.2632 - acc: 0.9044 - val_loss: 0.4382 - val_acc: 0.8433\n",
      "Epoch 29/200\n",
      "6800/6800 [==============================] - 1s 163us/step - loss: 0.2516 - acc: 0.9093 - val_loss: 0.4495 - val_acc: 0.8467\n",
      "Epoch 30/200\n",
      "6800/6800 [==============================] - 1s 164us/step - loss: 0.2470 - acc: 0.9066 - val_loss: 0.4248 - val_acc: 0.8433\n",
      "Epoch 31/200\n",
      "6800/6800 [==============================] - 1s 162us/step - loss: 0.2394 - acc: 0.9110 - val_loss: 0.4322 - val_acc: 0.8483\n",
      "Epoch 32/200\n",
      "6800/6800 [==============================] - 1s 163us/step - loss: 0.2361 - acc: 0.9074 - val_loss: 0.4588 - val_acc: 0.8367\n",
      "Epoch 33/200\n",
      "6800/6800 [==============================] - 1s 164us/step - loss: 0.2264 - acc: 0.9149 - val_loss: 0.4441 - val_acc: 0.8417\n",
      "Epoch 34/200\n",
      "6800/6800 [==============================] - 1s 161us/step - loss: 0.2225 - acc: 0.9119 - val_loss: 0.4324 - val_acc: 0.8417\n",
      "Epoch 35/200\n",
      "6800/6800 [==============================] - 1s 162us/step - loss: 0.2171 - acc: 0.9175 - val_loss: 0.4303 - val_acc: 0.8475\n",
      "Epoch 36/200\n",
      "6800/6800 [==============================] - 1s 161us/step - loss: 0.2019 - acc: 0.9232 - val_loss: 0.4382 - val_acc: 0.8483\n",
      "Epoch 37/200\n",
      "6800/6800 [==============================] - 1s 162us/step - loss: 0.2052 - acc: 0.9210 - val_loss: 0.4425 - val_acc: 0.8492\n",
      "Epoch 38/200\n",
      "6800/6800 [==============================] - 1s 163us/step - loss: 0.1885 - acc: 0.9297 - val_loss: 0.4739 - val_acc: 0.8450\n",
      "Epoch 39/200\n",
      "6800/6800 [==============================] - 1s 161us/step - loss: 0.1884 - acc: 0.9296 - val_loss: 0.4338 - val_acc: 0.8450\n",
      "Epoch 40/200\n",
      "6800/6800 [==============================] - 1s 163us/step - loss: 0.1769 - acc: 0.9346 - val_loss: 0.4767 - val_acc: 0.8458\n",
      "Epoch 41/200\n",
      "6800/6800 [==============================] - 1s 164us/step - loss: 0.1788 - acc: 0.9332 - val_loss: 0.4329 - val_acc: 0.8467\n",
      "Epoch 42/200\n",
      "6800/6800 [==============================] - 1s 163us/step - loss: 0.1699 - acc: 0.9371 - val_loss: 0.4396 - val_acc: 0.8533\n",
      "Epoch 43/200\n",
      "6800/6800 [==============================] - 1s 162us/step - loss: 0.1669 - acc: 0.9378 - val_loss: 0.4344 - val_acc: 0.8550\n",
      "Epoch 44/200\n",
      "6800/6800 [==============================] - 1s 162us/step - loss: 0.1630 - acc: 0.9347 - val_loss: 0.4387 - val_acc: 0.8492\n",
      "Epoch 45/200\n",
      "6800/6800 [==============================] - 1s 163us/step - loss: 0.1613 - acc: 0.9378 - val_loss: 0.4442 - val_acc: 0.8533\n",
      "Epoch 46/200\n",
      "6800/6800 [==============================] - 1s 163us/step - loss: 0.1470 - acc: 0.9429 - val_loss: 0.4527 - val_acc: 0.8467\n",
      "Epoch 47/200\n",
      "6800/6800 [==============================] - 1s 164us/step - loss: 0.1582 - acc: 0.9409 - val_loss: 0.4535 - val_acc: 0.8433\n",
      "Epoch 48/200\n",
      "6800/6800 [==============================] - 1s 165us/step - loss: 0.1527 - acc: 0.9409 - val_loss: 0.4271 - val_acc: 0.8567\n",
      "Epoch 49/200\n",
      "6800/6800 [==============================] - 1s 164us/step - loss: 0.1413 - acc: 0.9475 - val_loss: 0.4285 - val_acc: 0.8567\n",
      "Epoch 50/200\n",
      "6800/6800 [==============================] - 1s 164us/step - loss: 0.1355 - acc: 0.9513 - val_loss: 0.4367 - val_acc: 0.8583\n",
      "Epoch 51/200\n",
      "6800/6800 [==============================] - 1s 163us/step - loss: 0.1361 - acc: 0.9487 - val_loss: 0.4362 - val_acc: 0.8508\n",
      "Epoch 52/200\n",
      "6800/6800 [==============================] - 1s 163us/step - loss: 0.1283 - acc: 0.9515 - val_loss: 0.4313 - val_acc: 0.8558\n",
      "Epoch 53/200\n",
      "6800/6800 [==============================] - 1s 162us/step - loss: 0.1348 - acc: 0.9491 - val_loss: 0.4703 - val_acc: 0.8517\n",
      "Epoch 54/200\n",
      "6800/6800 [==============================] - 1s 163us/step - loss: 0.1297 - acc: 0.9494 - val_loss: 0.4267 - val_acc: 0.8525\n",
      "Epoch 55/200\n",
      "6800/6800 [==============================] - 1s 163us/step - loss: 0.1172 - acc: 0.9553 - val_loss: 0.4419 - val_acc: 0.8558\n",
      "Epoch 56/200\n",
      "6800/6800 [==============================] - 1s 163us/step - loss: 0.1197 - acc: 0.9544 - val_loss: 0.4577 - val_acc: 0.8500\n",
      "Epoch 57/200\n",
      "6800/6800 [==============================] - 1s 164us/step - loss: 0.1109 - acc: 0.9584 - val_loss: 0.4412 - val_acc: 0.8492\n",
      "Epoch 58/200\n",
      "6800/6800 [==============================] - 1s 162us/step - loss: 0.1162 - acc: 0.9554 - val_loss: 0.4441 - val_acc: 0.8508\n",
      "Epoch 59/200\n",
      "6800/6800 [==============================] - 1s 163us/step - loss: 0.1101 - acc: 0.9594 - val_loss: 0.4481 - val_acc: 0.8550\n",
      "Epoch 60/200\n",
      "6800/6800 [==============================] - 1s 163us/step - loss: 0.1062 - acc: 0.9603 - val_loss: 0.4476 - val_acc: 0.8558\n",
      "Epoch 61/200\n",
      "6800/6800 [==============================] - 1s 163us/step - loss: 0.1046 - acc: 0.9599 - val_loss: 0.4428 - val_acc: 0.8500\n",
      "Epoch 62/200\n",
      "6800/6800 [==============================] - 1s 162us/step - loss: 0.0989 - acc: 0.9671 - val_loss: 0.4281 - val_acc: 0.8583\n",
      "Epoch 63/200\n",
      "6800/6800 [==============================] - 1s 163us/step - loss: 0.1005 - acc: 0.9600 - val_loss: 0.4681 - val_acc: 0.8592\n",
      "Epoch 64/200\n",
      "6800/6800 [==============================] - 1s 163us/step - loss: 0.0968 - acc: 0.9644 - val_loss: 0.4699 - val_acc: 0.8567\n",
      "Epoch 65/200\n",
      "6800/6800 [==============================] - 1s 163us/step - loss: 0.0905 - acc: 0.9668 - val_loss: 0.4594 - val_acc: 0.8517\n",
      "Epoch 66/200\n",
      "6800/6800 [==============================] - 1s 162us/step - loss: 0.0862 - acc: 0.9701 - val_loss: 0.4613 - val_acc: 0.8558\n",
      "Epoch 67/200\n",
      "6800/6800 [==============================] - 1s 163us/step - loss: 0.0854 - acc: 0.9715 - val_loss: 0.4756 - val_acc: 0.8542\n",
      "Epoch 68/200\n",
      "6800/6800 [==============================] - 1s 164us/step - loss: 0.0835 - acc: 0.9701 - val_loss: 0.4490 - val_acc: 0.8592\n",
      "Epoch 69/200\n",
      "6800/6800 [==============================] - 1s 163us/step - loss: 0.0807 - acc: 0.9707 - val_loss: 0.4414 - val_acc: 0.8650\n",
      "Epoch 70/200\n",
      "6800/6800 [==============================] - 1s 163us/step - loss: 0.0815 - acc: 0.9707 - val_loss: 0.4443 - val_acc: 0.8633\n",
      "Epoch 71/200\n",
      "6800/6800 [==============================] - 1s 162us/step - loss: 0.0774 - acc: 0.9757 - val_loss: 0.4629 - val_acc: 0.8575\n",
      "Epoch 72/200\n",
      "6800/6800 [==============================] - 1s 162us/step - loss: 0.0809 - acc: 0.9718 - val_loss: 0.4443 - val_acc: 0.8642\n",
      "Epoch 73/200\n",
      "6800/6800 [==============================] - 1s 162us/step - loss: 0.0743 - acc: 0.9749 - val_loss: 0.4582 - val_acc: 0.8642\n",
      "Epoch 74/200\n",
      "6800/6800 [==============================] - 1s 165us/step - loss: 0.0759 - acc: 0.9734 - val_loss: 0.4659 - val_acc: 0.8575\n",
      "Epoch 75/200\n",
      "6800/6800 [==============================] - 1s 162us/step - loss: 0.0809 - acc: 0.9706 - val_loss: 0.4658 - val_acc: 0.8608\n",
      "Epoch 76/200\n",
      "6800/6800 [==============================] - 1s 165us/step - loss: 0.0730 - acc: 0.9756 - val_loss: 0.4721 - val_acc: 0.8583\n",
      "Epoch 77/200\n",
      "6800/6800 [==============================] - 1s 162us/step - loss: 0.0683 - acc: 0.9788 - val_loss: 0.4560 - val_acc: 0.8675\n",
      "Epoch 78/200\n",
      "6800/6800 [==============================] - 1s 163us/step - loss: 0.0670 - acc: 0.9760 - val_loss: 0.4940 - val_acc: 0.8467\n",
      "Epoch 79/200\n",
      "6800/6800 [==============================] - 1s 163us/step - loss: 0.0732 - acc: 0.9735 - val_loss: 0.4701 - val_acc: 0.8583\n",
      "Epoch 80/200\n",
      "6800/6800 [==============================] - 1s 163us/step - loss: 0.0601 - acc: 0.9821 - val_loss: 0.4732 - val_acc: 0.8583\n",
      "Epoch 81/200\n",
      "6800/6800 [==============================] - 1s 165us/step - loss: 0.0677 - acc: 0.9775 - val_loss: 0.4850 - val_acc: 0.8533\n",
      "Epoch 82/200\n",
      "6800/6800 [==============================] - 1s 163us/step - loss: 0.0620 - acc: 0.9800 - val_loss: 0.4634 - val_acc: 0.8617\n",
      "Epoch 83/200\n",
      "6800/6800 [==============================] - 1s 162us/step - loss: 0.0546 - acc: 0.9813 - val_loss: 0.4672 - val_acc: 0.8617\n",
      "Epoch 84/200\n",
      "6800/6800 [==============================] - 1s 162us/step - loss: 0.0571 - acc: 0.9826 - val_loss: 0.4785 - val_acc: 0.8608\n",
      "Epoch 85/200\n",
      "6800/6800 [==============================] - 1s 162us/step - loss: 0.0547 - acc: 0.9824 - val_loss: 0.4688 - val_acc: 0.8642\n",
      "Epoch 86/200\n",
      "6800/6800 [==============================] - 1s 161us/step - loss: 0.0545 - acc: 0.9831 - val_loss: 0.4704 - val_acc: 0.8675\n",
      "Epoch 87/200\n",
      "6800/6800 [==============================] - 1s 161us/step - loss: 0.0526 - acc: 0.9838 - val_loss: 0.4813 - val_acc: 0.8550\n",
      "Epoch 88/200\n",
      "6800/6800 [==============================] - 1s 162us/step - loss: 0.0530 - acc: 0.9835 - val_loss: 0.4949 - val_acc: 0.8550\n",
      "Epoch 89/200\n",
      "6800/6800 [==============================] - 1s 164us/step - loss: 0.0506 - acc: 0.9831 - val_loss: 0.4794 - val_acc: 0.8692\n",
      "Epoch 90/200\n",
      "6800/6800 [==============================] - 1s 162us/step - loss: 0.0462 - acc: 0.9857 - val_loss: 0.4894 - val_acc: 0.8617\n",
      "Epoch 91/200\n",
      "6800/6800 [==============================] - 1s 163us/step - loss: 0.0523 - acc: 0.9824 - val_loss: 0.5193 - val_acc: 0.8517\n",
      "Epoch 92/200\n",
      "6800/6800 [==============================] - 1s 162us/step - loss: 0.0460 - acc: 0.9860 - val_loss: 0.4799 - val_acc: 0.8683\n",
      "Epoch 93/200\n",
      "6800/6800 [==============================] - 1s 164us/step - loss: 0.0479 - acc: 0.9841 - val_loss: 0.4807 - val_acc: 0.8658\n",
      "Epoch 94/200\n",
      "6800/6800 [==============================] - 1s 162us/step - loss: 0.0471 - acc: 0.9857 - val_loss: 0.4740 - val_acc: 0.8683\n",
      "Epoch 95/200\n",
      "6800/6800 [==============================] - 1s 162us/step - loss: 0.0478 - acc: 0.9843 - val_loss: 0.4774 - val_acc: 0.8750\n",
      "Epoch 96/200\n",
      "6800/6800 [==============================] - 1s 164us/step - loss: 0.0387 - acc: 0.9894 - val_loss: 0.4856 - val_acc: 0.8700\n",
      "Epoch 97/200\n",
      "6800/6800 [==============================] - 1s 163us/step - loss: 0.0441 - acc: 0.9875 - val_loss: 0.4887 - val_acc: 0.8667\n",
      "Epoch 98/200\n",
      "6800/6800 [==============================] - 1s 163us/step - loss: 0.0443 - acc: 0.9860 - val_loss: 0.4906 - val_acc: 0.8633\n",
      "Epoch 99/200\n",
      "6800/6800 [==============================] - 1s 163us/step - loss: 0.0432 - acc: 0.9866 - val_loss: 0.5016 - val_acc: 0.8683\n",
      "Epoch 100/200\n",
      "6800/6800 [==============================] - 1s 163us/step - loss: 0.0412 - acc: 0.9871 - val_loss: 0.5043 - val_acc: 0.8617\n",
      "Epoch 101/200\n",
      "6800/6800 [==============================] - 1s 163us/step - loss: 0.0368 - acc: 0.9906 - val_loss: 0.4879 - val_acc: 0.8675\n",
      "Epoch 102/200\n",
      "6800/6800 [==============================] - 1s 162us/step - loss: 0.0412 - acc: 0.9881 - val_loss: 0.4953 - val_acc: 0.8650\n",
      "Epoch 103/200\n",
      "6800/6800 [==============================] - 1s 162us/step - loss: 0.0369 - acc: 0.9884 - val_loss: 0.5013 - val_acc: 0.8692\n",
      "Epoch 104/200\n",
      "6800/6800 [==============================] - 1s 163us/step - loss: 0.0383 - acc: 0.9888 - val_loss: 0.5414 - val_acc: 0.8533\n",
      "Epoch 105/200\n",
      "6800/6800 [==============================] - 1s 162us/step - loss: 0.0418 - acc: 0.9874 - val_loss: 0.5165 - val_acc: 0.8583\n",
      "Epoch 106/200\n",
      "6800/6800 [==============================] - 1s 163us/step - loss: 0.0340 - acc: 0.9901 - val_loss: 0.5052 - val_acc: 0.8675\n",
      "Epoch 107/200\n",
      "6800/6800 [==============================] - 1s 163us/step - loss: 0.0325 - acc: 0.9903 - val_loss: 0.4870 - val_acc: 0.8683\n",
      "Epoch 108/200\n",
      "6800/6800 [==============================] - 1s 164us/step - loss: 0.0320 - acc: 0.9903 - val_loss: 0.4949 - val_acc: 0.8692\n",
      "Epoch 109/200\n",
      "6800/6800 [==============================] - 1s 162us/step - loss: 0.0327 - acc: 0.9896 - val_loss: 0.5079 - val_acc: 0.8725\n",
      "Epoch 110/200\n",
      "6800/6800 [==============================] - 1s 163us/step - loss: 0.0339 - acc: 0.9897 - val_loss: 0.5067 - val_acc: 0.8617\n",
      "Epoch 111/200\n",
      "6800/6800 [==============================] - 1s 163us/step - loss: 0.0359 - acc: 0.9891 - val_loss: 0.5139 - val_acc: 0.8608\n",
      "Epoch 112/200\n",
      "6800/6800 [==============================] - 1s 163us/step - loss: 0.0318 - acc: 0.9924 - val_loss: 0.4917 - val_acc: 0.8717\n",
      "Epoch 113/200\n",
      "6800/6800 [==============================] - 1s 164us/step - loss: 0.0294 - acc: 0.9928 - val_loss: 0.5022 - val_acc: 0.8708\n",
      "Epoch 114/200\n",
      "6800/6800 [==============================] - 1s 163us/step - loss: 0.0272 - acc: 0.9932 - val_loss: 0.4984 - val_acc: 0.8700\n",
      "Epoch 115/200\n",
      "6800/6800 [==============================] - 1s 164us/step - loss: 0.0390 - acc: 0.9881 - val_loss: 0.5197 - val_acc: 0.8567\n",
      "Epoch 116/200\n",
      "6800/6800 [==============================] - 1s 161us/step - loss: 0.0372 - acc: 0.9876 - val_loss: 0.5126 - val_acc: 0.8592\n",
      "Epoch 117/200\n",
      "6800/6800 [==============================] - 1s 161us/step - loss: 0.0277 - acc: 0.9929 - val_loss: 0.5060 - val_acc: 0.8733\n",
      "Epoch 118/200\n",
      "6800/6800 [==============================] - 1s 162us/step - loss: 0.0281 - acc: 0.9916 - val_loss: 0.5040 - val_acc: 0.8658\n",
      "Epoch 119/200\n",
      "6800/6800 [==============================] - 1s 163us/step - loss: 0.0292 - acc: 0.9909 - val_loss: 0.5143 - val_acc: 0.8617\n",
      "Epoch 120/200\n",
      "6800/6800 [==============================] - 1s 164us/step - loss: 0.0245 - acc: 0.9943 - val_loss: 0.5119 - val_acc: 0.8650\n",
      "Epoch 121/200\n",
      "6800/6800 [==============================] - 1s 164us/step - loss: 0.0246 - acc: 0.9938 - val_loss: 0.5153 - val_acc: 0.8708\n",
      "Epoch 122/200\n",
      "6800/6800 [==============================] - 1s 164us/step - loss: 0.0241 - acc: 0.9946 - val_loss: 0.5037 - val_acc: 0.8700\n",
      "Epoch 123/200\n",
      "6800/6800 [==============================] - 1s 161us/step - loss: 0.0270 - acc: 0.9922 - val_loss: 0.5179 - val_acc: 0.8642\n",
      "Epoch 124/200\n",
      "6800/6800 [==============================] - 1s 162us/step - loss: 0.0242 - acc: 0.9940 - val_loss: 0.5283 - val_acc: 0.8633\n",
      "Epoch 125/200\n",
      "6800/6800 [==============================] - 1s 163us/step - loss: 0.0254 - acc: 0.9922 - val_loss: 0.5308 - val_acc: 0.8708\n",
      "Epoch 126/200\n",
      "6800/6800 [==============================] - 1s 163us/step - loss: 0.0256 - acc: 0.9931 - val_loss: 0.5209 - val_acc: 0.8625\n",
      "Epoch 127/200\n",
      "6800/6800 [==============================] - 1s 165us/step - loss: 0.0222 - acc: 0.9954 - val_loss: 0.5273 - val_acc: 0.8683\n",
      "Epoch 128/200\n",
      "6800/6800 [==============================] - 1s 161us/step - loss: 0.0217 - acc: 0.9956 - val_loss: 0.5158 - val_acc: 0.8742\n",
      "Epoch 129/200\n",
      "6800/6800 [==============================] - 1s 161us/step - loss: 0.0256 - acc: 0.9937 - val_loss: 0.5402 - val_acc: 0.8650\n",
      "Epoch 130/200\n",
      "6800/6800 [==============================] - 1s 163us/step - loss: 0.0241 - acc: 0.9925 - val_loss: 0.5207 - val_acc: 0.8733\n",
      "Epoch 131/200\n",
      "6800/6800 [==============================] - 1s 161us/step - loss: 0.0216 - acc: 0.9941 - val_loss: 0.5257 - val_acc: 0.8725\n",
      "Epoch 132/200\n",
      "6800/6800 [==============================] - 1s 161us/step - loss: 0.0204 - acc: 0.9956 - val_loss: 0.5379 - val_acc: 0.8692\n",
      "Epoch 133/200\n",
      "6800/6800 [==============================] - 1s 162us/step - loss: 0.0209 - acc: 0.9943 - val_loss: 0.5440 - val_acc: 0.8608\n",
      "Epoch 134/200\n",
      "6800/6800 [==============================] - 1s 163us/step - loss: 0.0226 - acc: 0.9934 - val_loss: 0.5459 - val_acc: 0.8667\n",
      "Epoch 135/200\n",
      "6800/6800 [==============================] - 1s 162us/step - loss: 0.0210 - acc: 0.9941 - val_loss: 0.5772 - val_acc: 0.8575\n",
      "Epoch 136/200\n",
      "6800/6800 [==============================] - 1s 162us/step - loss: 0.0202 - acc: 0.9949 - val_loss: 0.5310 - val_acc: 0.8650\n",
      "Epoch 137/200\n",
      "6800/6800 [==============================] - 1s 163us/step - loss: 0.0208 - acc: 0.9947 - val_loss: 0.5376 - val_acc: 0.8683\n",
      "Epoch 138/200\n",
      "6800/6800 [==============================] - 1s 162us/step - loss: 0.0216 - acc: 0.9940 - val_loss: 0.5671 - val_acc: 0.8633\n",
      "Epoch 139/200\n",
      "6800/6800 [==============================] - 1s 164us/step - loss: 0.0188 - acc: 0.9957 - val_loss: 0.5299 - val_acc: 0.8675\n",
      "Epoch 140/200\n",
      "6800/6800 [==============================] - 1s 165us/step - loss: 0.0184 - acc: 0.9954 - val_loss: 0.5382 - val_acc: 0.8733\n",
      "Epoch 141/200\n",
      "6800/6800 [==============================] - 1s 165us/step - loss: 0.0190 - acc: 0.9951 - val_loss: 0.5362 - val_acc: 0.8692\n",
      "Epoch 142/200\n",
      "6800/6800 [==============================] - 1s 161us/step - loss: 0.0195 - acc: 0.9947 - val_loss: 0.5628 - val_acc: 0.8650\n",
      "Epoch 143/200\n",
      "6800/6800 [==============================] - 1s 162us/step - loss: 0.0212 - acc: 0.9947 - val_loss: 0.5553 - val_acc: 0.8733\n",
      "Epoch 144/200\n",
      "6800/6800 [==============================] - 1s 163us/step - loss: 0.0194 - acc: 0.9950 - val_loss: 0.5394 - val_acc: 0.8683\n",
      "Epoch 145/200\n",
      "6800/6800 [==============================] - 1s 163us/step - loss: 0.0180 - acc: 0.9951 - val_loss: 0.5464 - val_acc: 0.8692\n",
      "Epoch 146/200\n",
      "6800/6800 [==============================] - 1s 163us/step - loss: 0.0195 - acc: 0.9946 - val_loss: 0.5361 - val_acc: 0.8708\n",
      "Epoch 147/200\n",
      "6800/6800 [==============================] - 1s 163us/step - loss: 0.0201 - acc: 0.9947 - val_loss: 0.5770 - val_acc: 0.8650\n",
      "Epoch 148/200\n",
      "6800/6800 [==============================] - 1s 163us/step - loss: 0.0195 - acc: 0.9954 - val_loss: 0.5488 - val_acc: 0.8758\n",
      "Epoch 149/200\n",
      "6800/6800 [==============================] - 1s 162us/step - loss: 0.0189 - acc: 0.9946 - val_loss: 0.5594 - val_acc: 0.8575\n",
      "Epoch 150/200\n",
      "6800/6800 [==============================] - 1s 163us/step - loss: 0.0188 - acc: 0.9954 - val_loss: 0.5735 - val_acc: 0.8658\n",
      "Epoch 151/200\n",
      "6800/6800 [==============================] - 1s 163us/step - loss: 0.0167 - acc: 0.9957 - val_loss: 0.5584 - val_acc: 0.8725\n",
      "Epoch 152/200\n",
      "6800/6800 [==============================] - 1s 162us/step - loss: 0.0189 - acc: 0.9947 - val_loss: 0.5448 - val_acc: 0.8667\n",
      "Epoch 153/200\n",
      "6800/6800 [==============================] - 1s 163us/step - loss: 0.0176 - acc: 0.9949 - val_loss: 0.5601 - val_acc: 0.8625\n",
      "Epoch 154/200\n",
      "6800/6800 [==============================] - 1s 164us/step - loss: 0.0147 - acc: 0.9966 - val_loss: 0.5676 - val_acc: 0.8683\n",
      "Epoch 155/200\n",
      "6800/6800 [==============================] - 1s 163us/step - loss: 0.0133 - acc: 0.9971 - val_loss: 0.5597 - val_acc: 0.8658\n",
      "Epoch 156/200\n",
      "6800/6800 [==============================] - 1s 163us/step - loss: 0.0139 - acc: 0.9974 - val_loss: 0.5649 - val_acc: 0.8683\n",
      "Epoch 157/200\n",
      "6800/6800 [==============================] - 1s 163us/step - loss: 0.0115 - acc: 0.9979 - val_loss: 0.5681 - val_acc: 0.8708\n",
      "Epoch 158/200\n",
      "6800/6800 [==============================] - 1s 165us/step - loss: 0.0103 - acc: 0.9984 - val_loss: 0.5820 - val_acc: 0.8633\n",
      "Epoch 159/200\n",
      "6800/6800 [==============================] - 1s 163us/step - loss: 0.0126 - acc: 0.9978 - val_loss: 0.5824 - val_acc: 0.8642\n",
      "Epoch 160/200\n",
      "6800/6800 [==============================] - 1s 163us/step - loss: 0.0146 - acc: 0.9963 - val_loss: 0.5965 - val_acc: 0.8633\n",
      "Epoch 161/200\n",
      "6800/6800 [==============================] - 1s 164us/step - loss: 0.0157 - acc: 0.9959 - val_loss: 0.5844 - val_acc: 0.8642\n",
      "Epoch 162/200\n",
      "6800/6800 [==============================] - 1s 164us/step - loss: 0.0157 - acc: 0.9963 - val_loss: 0.5973 - val_acc: 0.8642\n",
      "Epoch 163/200\n",
      "6800/6800 [==============================] - 1s 164us/step - loss: 0.0130 - acc: 0.9972 - val_loss: 0.6010 - val_acc: 0.8625\n",
      "Epoch 164/200\n",
      "6800/6800 [==============================] - 1s 166us/step - loss: 0.0113 - acc: 0.9969 - val_loss: 0.5987 - val_acc: 0.8617\n",
      "Epoch 165/200\n",
      "6800/6800 [==============================] - 1s 166us/step - loss: 0.0105 - acc: 0.9978 - val_loss: 0.6006 - val_acc: 0.8617\n",
      "Epoch 166/200\n",
      "6800/6800 [==============================] - 1s 164us/step - loss: 0.0117 - acc: 0.9976 - val_loss: 0.6024 - val_acc: 0.8617\n",
      "Epoch 167/200\n",
      "6800/6800 [==============================] - 1s 165us/step - loss: 0.0095 - acc: 0.9982 - val_loss: 0.5848 - val_acc: 0.8708\n",
      "Epoch 168/200\n",
      "6800/6800 [==============================] - 1s 164us/step - loss: 0.0112 - acc: 0.9979 - val_loss: 0.5872 - val_acc: 0.8708\n",
      "Epoch 169/200\n",
      "6800/6800 [==============================] - 1s 164us/step - loss: 0.0135 - acc: 0.9956 - val_loss: 0.5821 - val_acc: 0.8725\n",
      "Epoch 170/200\n",
      "6800/6800 [==============================] - 1s 164us/step - loss: 0.0110 - acc: 0.9972 - val_loss: 0.5908 - val_acc: 0.8717\n",
      "Epoch 171/200\n",
      "6800/6800 [==============================] - 1s 163us/step - loss: 0.0104 - acc: 0.9976 - val_loss: 0.5902 - val_acc: 0.8683\n",
      "Epoch 172/200\n",
      "6800/6800 [==============================] - 1s 164us/step - loss: 0.0109 - acc: 0.9979 - val_loss: 0.5776 - val_acc: 0.8742\n",
      "Epoch 173/200\n",
      "6800/6800 [==============================] - 1s 164us/step - loss: 0.0121 - acc: 0.9972 - val_loss: 0.5826 - val_acc: 0.8683\n",
      "Epoch 174/200\n",
      "6800/6800 [==============================] - 1s 164us/step - loss: 0.0111 - acc: 0.9966 - val_loss: 0.6181 - val_acc: 0.8600\n",
      "Epoch 175/200\n",
      "6800/6800 [==============================] - 1s 165us/step - loss: 0.0108 - acc: 0.9978 - val_loss: 0.6467 - val_acc: 0.8558\n",
      "Epoch 176/200\n",
      "6800/6800 [==============================] - 1s 161us/step - loss: 0.0130 - acc: 0.9963 - val_loss: 0.5943 - val_acc: 0.8625\n",
      "Epoch 177/200\n",
      "6800/6800 [==============================] - 1s 165us/step - loss: 0.0113 - acc: 0.9975 - val_loss: 0.5898 - val_acc: 0.8667\n",
      "Epoch 178/200\n",
      "6800/6800 [==============================] - 1s 164us/step - loss: 0.0117 - acc: 0.9968 - val_loss: 0.6279 - val_acc: 0.8625\n",
      "Epoch 179/200\n",
      "6800/6800 [==============================] - 1s 165us/step - loss: 0.0133 - acc: 0.9953 - val_loss: 0.6036 - val_acc: 0.8642\n",
      "Epoch 180/200\n",
      "6800/6800 [==============================] - 1s 162us/step - loss: 0.0096 - acc: 0.9979 - val_loss: 0.6100 - val_acc: 0.8683\n",
      "Epoch 181/200\n",
      "6800/6800 [==============================] - 1s 163us/step - loss: 0.0101 - acc: 0.9978 - val_loss: 0.6335 - val_acc: 0.8625\n",
      "Epoch 182/200\n",
      "6800/6800 [==============================] - 1s 163us/step - loss: 0.0113 - acc: 0.9972 - val_loss: 0.6009 - val_acc: 0.8683\n",
      "Epoch 183/200\n",
      "6800/6800 [==============================] - 1s 163us/step - loss: 0.0095 - acc: 0.9979 - val_loss: 0.5932 - val_acc: 0.8667\n",
      "Epoch 184/200\n",
      "6800/6800 [==============================] - 1s 164us/step - loss: 0.0103 - acc: 0.9975 - val_loss: 0.5968 - val_acc: 0.8692\n",
      "Epoch 185/200\n",
      "6800/6800 [==============================] - 1s 166us/step - loss: 0.0104 - acc: 0.9984 - val_loss: 0.6560 - val_acc: 0.8592\n",
      "Epoch 186/200\n",
      "6800/6800 [==============================] - 1s 162us/step - loss: 0.0119 - acc: 0.9962 - val_loss: 0.6309 - val_acc: 0.8600\n",
      "Epoch 187/200\n",
      "6800/6800 [==============================] - 1s 163us/step - loss: 0.0083 - acc: 0.9987 - val_loss: 0.6226 - val_acc: 0.8642\n",
      "Epoch 188/200\n",
      "6800/6800 [==============================] - 1s 164us/step - loss: 0.0079 - acc: 0.9985 - val_loss: 0.6241 - val_acc: 0.8625\n",
      "Epoch 189/200\n",
      "6800/6800 [==============================] - 1s 163us/step - loss: 0.0098 - acc: 0.9976 - val_loss: 0.6127 - val_acc: 0.8667\n",
      "Epoch 190/200\n",
      "6800/6800 [==============================] - 1s 162us/step - loss: 0.0133 - acc: 0.9960 - val_loss: 0.5985 - val_acc: 0.8642\n",
      "Epoch 191/200\n",
      "6800/6800 [==============================] - 1s 163us/step - loss: 0.0096 - acc: 0.9979 - val_loss: 0.6079 - val_acc: 0.8608\n",
      "Epoch 192/200\n",
      "6800/6800 [==============================] - 1s 162us/step - loss: 0.0083 - acc: 0.9985 - val_loss: 0.6185 - val_acc: 0.8633\n",
      "Epoch 193/200\n",
      "6800/6800 [==============================] - 1s 162us/step - loss: 0.0079 - acc: 0.9981 - val_loss: 0.5978 - val_acc: 0.8717\n",
      "Epoch 194/200\n",
      "6800/6800 [==============================] - 1s 161us/step - loss: 0.0099 - acc: 0.9982 - val_loss: 0.6334 - val_acc: 0.8575\n",
      "Epoch 195/200\n",
      "6800/6800 [==============================] - 1s 162us/step - loss: 0.0089 - acc: 0.9976 - val_loss: 0.6215 - val_acc: 0.8675\n",
      "Epoch 196/200\n",
      "6800/6800 [==============================] - 1s 163us/step - loss: 0.0092 - acc: 0.9982 - val_loss: 0.6338 - val_acc: 0.8600\n",
      "Epoch 197/200\n",
      "6800/6800 [==============================] - 1s 163us/step - loss: 0.0115 - acc: 0.9978 - val_loss: 0.6323 - val_acc: 0.8700\n",
      "Epoch 198/200\n",
      "6800/6800 [==============================] - 1s 162us/step - loss: 0.0081 - acc: 0.9985 - val_loss: 0.6264 - val_acc: 0.8683\n",
      "Epoch 199/200\n",
      "6800/6800 [==============================] - 1s 162us/step - loss: 0.0071 - acc: 0.9985 - val_loss: 0.6160 - val_acc: 0.8658\n",
      "Epoch 200/200\n",
      "6800/6800 [==============================] - 1s 161us/step - loss: 0.0067 - acc: 0.9988 - val_loss: 0.6245 - val_acc: 0.8667\n"
     ]
    }
   ],
   "source": [
    "hist = model.fit(X_train, Y_train, epochs=200, batch_size=256, validation_data=(X_test, Y_test))"
   ]
  },
  {
   "cell_type": "markdown",
   "metadata": {
    "colab_type": "text",
    "id": "YxbsTiwh_5zr"
   },
   "source": [
    "## Evaluation"
   ]
  },
  {
   "cell_type": "code",
   "execution_count": 31,
   "metadata": {
    "colab": {
     "base_uri": "https://localhost:8080/",
     "height": 68
    },
    "colab_type": "code",
    "id": "F3EqCeoOiiGW",
    "outputId": "3c5e1715-df55-4771-c55a-22e5e4aca9d6"
   },
   "outputs": [
    {
     "name": "stdout",
     "output_type": "stream",
     "text": [
      "1200/1200 [==============================] - 0s 139us/step\n",
      "Score:  0.6245\n",
      "Accuracy:  86.67 %\n"
     ]
    }
   ],
   "source": [
    "score, accuracy = model.evaluate(X_test, Y_test)\n",
    "print('Score: ', score.round(4))\n",
    "print('Accuracy: ', accuracy.round(4)*100, '%')"
   ]
  },
  {
   "cell_type": "markdown",
   "metadata": {
    "colab_type": "text",
    "id": "azEe55kf_9E5"
   },
   "source": [
    "## Prediction"
   ]
  },
  {
   "cell_type": "code",
   "execution_count": 0,
   "metadata": {
    "colab": {},
    "colab_type": "code",
    "id": "py8p3KVBjtFB"
   },
   "outputs": [],
   "source": [
    "Y_pred_ohv = model.predict(X_test)\n",
    "Y_pred = np.argmax(Y_pred_ohv, axis=1)  #Converting to appropriate labels"
   ]
  },
  {
   "cell_type": "markdown",
   "metadata": {
    "colab_type": "text",
    "id": "dRzWRJBV__cs"
   },
   "source": [
    "## Visualization"
   ]
  },
  {
   "cell_type": "markdown",
   "metadata": {
    "colab_type": "text",
    "id": "HxIZZg_x__-E"
   },
   "source": [
    "* **Accuracy and Loss Plots**"
   ]
  },
  {
   "cell_type": "code",
   "execution_count": 33,
   "metadata": {
    "colab": {
     "base_uri": "https://localhost:8080/",
     "height": 297
    },
    "colab_type": "code",
    "id": "LTmyX4HKjusZ",
    "outputId": "bec3deb6-45e5-45ff-c9ac-632b41ea3201"
   },
   "outputs": [
    {
     "data": {
      "image/png": "[encoded data removed]",
      "text/plain": [
       "<Figure size 720x288 with 2 Axes>"
      ]
     },
     "metadata": {
      "tags": []
     },
     "output_type": "display_data"
    }
   ],
   "source": [
    "plt.figure(figsize=(10,4))\n",
    "\n",
    "plt.subplot(1,2,1)\n",
    "plt.title('Loss vs Epochs')\n",
    "plt.plot(hist.history['loss'], label='Training Loss')\n",
    "plt.plot(hist.history['val_loss'], label='Validation Loss')\n",
    "plt.legend()\n",
    "\n",
    "plt.subplot(1,2,2)\n",
    "plt.title('Accuracy vs Epochs')\n",
    "plt.plot(hist.history['acc'], label='Training Accuracy')\n",
    "plt.plot(hist.history['val_acc'], label='Validation Accuracy')\n",
    "plt.legend()\n",
    "plt.tight_layout()\n",
    "plt.show()"
   ]
  },
  {
   "cell_type": "markdown",
   "metadata": {
    "colab_type": "text",
    "id": "8kOu1FiQAIS1"
   },
   "source": [
    "* **Confusion Matrix**"
   ]
  },
  {
   "cell_type": "code",
   "execution_count": 34,
   "metadata": {
    "colab": {
     "base_uri": "https://localhost:8080/",
     "height": 382
    },
    "colab_type": "code",
    "id": "sEAkWvAkjwkS",
    "outputId": "43a80a35-e3a3-4e4c-df72-cf6ca0f12cb1"
   },
   "outputs": [
    {
     "name": "stdout",
     "output_type": "stream",
     "text": [
      "Confusion matrix, without normalization\n",
      "[[257   5   8  30]\n",
      " [  8 257   5  30]\n",
      " [  6   2 280  12]\n",
      " [ 28  16  10 246]]\n"
     ]
    },
    {
     "data": {
      "image/png": "[encoded data removed]",
      "text/plain": [
       "<Figure size 432x288 with 2 Axes>"
      ]
     },
     "metadata": {
      "tags": []
     },
     "output_type": "display_data"
    }
   ],
   "source": [
    "# Convert validation observations from one hot vectors to labels\n",
    "Y_test_cnf = np.argmax(Y_test, axis=1)\n",
    "\n",
    "#Plotting the confusion matrix\n",
    "cnf_matrix = confusion_matrix(Y_test_cnf, Y_pred)\n",
    "plot_confusion_matrix(cnf_matrix, classes=classes)"
   ]
  },
  {
   "cell_type": "markdown",
   "metadata": {
    "colab_type": "text",
    "id": "K3ANE48SALhn"
   },
   "source": [
    "### We can further increase our accuracy by adding more layers\n",
    "Since increasing the number of epochs didn't really help us with increasing accuracy, we make our model a little more complex and deep to be able to learn more details about the data. Hence, we add a few more layers.\n",
    "\n",
    "\n"
   ]
  },
  {
   "cell_type": "code",
   "execution_count": 44,
   "metadata": {
    "colab": {
     "base_uri": "https://localhost:8080/",
     "height": 578
    },
    "colab_type": "code",
    "id": "qc5U7VJEjyct",
    "outputId": "ebbd34bc-0615-4270-b343-e3410d091213"
   },
   "outputs": [
    {
     "name": "stdout",
     "output_type": "stream",
     "text": [
      "_________________________________________________________________\n",
      "Layer (type)                 Output Shape              Param #   \n",
      "=================================================================\n",
      "batch_normalization_3 (Batch (None, 28, 28, 1)         4         \n",
      "_________________________________________________________________\n",
      "conv2d_9 (Conv2D)            (None, 25, 25, 64)        1088      \n",
      "_________________________________________________________________\n",
      "max_pooling2d_5 (MaxPooling2 (None, 12, 12, 64)        0         \n",
      "_________________________________________________________________\n",
      "dropout_6 (Dropout)          (None, 12, 12, 64)        0         \n",
      "_________________________________________________________________\n",
      "conv2d_10 (Conv2D)           (None, 9, 9, 64)          65600     \n",
      "_________________________________________________________________\n",
      "max_pooling2d_6 (MaxPooling2 (None, 4, 4, 64)          0         \n",
      "_________________________________________________________________\n",
      "dropout_7 (Dropout)          (None, 4, 4, 64)          0         \n",
      "_________________________________________________________________\n",
      "flatten_4 (Flatten)          (None, 1024)              0         \n",
      "_________________________________________________________________\n",
      "dense_6 (Dense)              (None, 256)               262400    \n",
      "_________________________________________________________________\n",
      "dropout_8 (Dropout)          (None, 256)               0         \n",
      "_________________________________________________________________\n",
      "dense_7 (Dense)              (None, 64)                16448     \n",
      "_________________________________________________________________\n",
      "batch_normalization_4 (Batch (None, 64)                256       \n",
      "_________________________________________________________________\n",
      "dense_8 (Dense)              (None, 4)                 260       \n",
      "=================================================================\n",
      "Total params: 346,056\n",
      "Trainable params: 345,926\n",
      "Non-trainable params: 130\n",
      "_________________________________________________________________\n"
     ]
    }
   ],
   "source": [
    "model_improved = Sequential()\n",
    "model_improved.add(BatchNormalization(input_shape=(28,28,1)))   #Normalizes the output of a previous activation layer\n",
    "model_improved.add(Convolution2D(64, (4, 4), activation='relu'))\n",
    "model_improved.add(MaxPooling2D(2, 2))\n",
    "model_improved.add(Dropout(0.1))\n",
    "    \n",
    "# Convolution + Maxpooling\n",
    "model_improved.add(Convolution2D(64, (4, 4), activation='relu'))\n",
    "model_improved.add(MaxPooling2D(2, 2))\n",
    "\n",
    "# Dropout\n",
    "model_improved.add(Dropout(0.3))\n",
    "\n",
    "# Converting 3D feature to 1D feature Vector\n",
    "model_improved.add(Flatten())\n",
    "\n",
    "# Fully Connected Layer\n",
    "model_improved.add(Dense(256, activation='relu'))\n",
    "\n",
    "# Dropout\n",
    "model_improved.add(Dropout(0.5))\n",
    "    \n",
    "# Fully Connected Layer\n",
    "model_improved.add(Dense(64, activation='relu'))\n",
    "    \n",
    "# Normalization\n",
    "model_improved.add(BatchNormalization())\n",
    "\n",
    "model_improved.add(Dense(4, activation='softmax'))\n",
    "\n",
    "model_improved.summary()"
   ]
  },
  {
   "cell_type": "code",
   "execution_count": 0,
   "metadata": {
    "colab": {},
    "colab_type": "code",
    "id": "p4dWA-2zmN59"
   },
   "outputs": [],
   "source": [
    "model_improved.compile(loss='categorical_crossentropy', optimizer=adam, metrics=['accuracy'])"
   ]
  },
  {
   "cell_type": "code",
   "execution_count": 37,
   "metadata": {
    "colab": {
     "base_uri": "https://localhost:8080/",
     "height": 6834
    },
    "colab_type": "code",
    "id": "ZlqTXb34maS-",
    "outputId": "041c238d-e847-475a-c979-1f53f499665d"
   },
   "outputs": [
    {
     "name": "stdout",
     "output_type": "stream",
     "text": [
      "Train on 6800 samples, validate on 1200 samples\n",
      "Epoch 1/200\n",
      "6800/6800 [==============================] - 2s 284us/step - loss: 1.2316 - acc: 0.4937 - val_loss: 0.7852 - val_acc: 0.6592\n",
      "Epoch 2/200\n",
      "6800/6800 [==============================] - 1s 108us/step - loss: 0.8519 - acc: 0.6303 - val_loss: 0.7000 - val_acc: 0.6908\n",
      "Epoch 3/200\n",
      "6800/6800 [==============================] - 1s 110us/step - loss: 0.7553 - acc: 0.6651 - val_loss: 0.6802 - val_acc: 0.6667\n",
      "Epoch 4/200\n",
      "6800/6800 [==============================] - 1s 110us/step - loss: 0.7008 - acc: 0.6916 - val_loss: 0.6703 - val_acc: 0.6933\n",
      "Epoch 5/200\n",
      "6800/6800 [==============================] - 1s 109us/step - loss: 0.6497 - acc: 0.7297 - val_loss: 0.6709 - val_acc: 0.6883\n",
      "Epoch 6/200\n",
      "6800/6800 [==============================] - 1s 109us/step - loss: 0.6062 - acc: 0.7468 - val_loss: 0.6317 - val_acc: 0.7242\n",
      "Epoch 7/200\n",
      "6800/6800 [==============================] - 1s 110us/step - loss: 0.5820 - acc: 0.7610 - val_loss: 0.5833 - val_acc: 0.7658\n",
      "Epoch 8/200\n",
      "6800/6800 [==============================] - 1s 108us/step - loss: 0.5504 - acc: 0.7753 - val_loss: 0.5430 - val_acc: 0.7842\n",
      "Epoch 9/200\n",
      "6800/6800 [==============================] - 1s 109us/step - loss: 0.5341 - acc: 0.7837 - val_loss: 0.5335 - val_acc: 0.7783\n",
      "Epoch 10/200\n",
      "6800/6800 [==============================] - 1s 110us/step - loss: 0.5170 - acc: 0.7934 - val_loss: 0.4993 - val_acc: 0.8050\n",
      "Epoch 11/200\n",
      "6800/6800 [==============================] - 1s 111us/step - loss: 0.4938 - acc: 0.7991 - val_loss: 0.4713 - val_acc: 0.8200\n",
      "Epoch 12/200\n",
      "6800/6800 [==============================] - 1s 111us/step - loss: 0.4823 - acc: 0.8038 - val_loss: 0.4790 - val_acc: 0.8092\n",
      "Epoch 13/200\n",
      "6800/6800 [==============================] - 1s 109us/step - loss: 0.4762 - acc: 0.8129 - val_loss: 0.4701 - val_acc: 0.8092\n",
      "Epoch 14/200\n",
      "6800/6800 [==============================] - 1s 112us/step - loss: 0.4610 - acc: 0.8234 - val_loss: 0.4227 - val_acc: 0.8342\n",
      "Epoch 15/200\n",
      "6800/6800 [==============================] - 1s 110us/step - loss: 0.4501 - acc: 0.8262 - val_loss: 0.4243 - val_acc: 0.8325\n",
      "Epoch 16/200\n",
      "6800/6800 [==============================] - 1s 110us/step - loss: 0.4468 - acc: 0.8228 - val_loss: 0.4208 - val_acc: 0.8350\n",
      "Epoch 17/200\n",
      "6800/6800 [==============================] - 1s 109us/step - loss: 0.4419 - acc: 0.8241 - val_loss: 0.4192 - val_acc: 0.8317\n",
      "Epoch 18/200\n",
      "6800/6800 [==============================] - 1s 111us/step - loss: 0.4362 - acc: 0.8275 - val_loss: 0.4137 - val_acc: 0.8300\n",
      "Epoch 19/200\n",
      "6800/6800 [==============================] - 1s 110us/step - loss: 0.4215 - acc: 0.8338 - val_loss: 0.4083 - val_acc: 0.8325\n",
      "Epoch 20/200\n",
      "6800/6800 [==============================] - 1s 108us/step - loss: 0.4159 - acc: 0.8385 - val_loss: 0.3939 - val_acc: 0.8450\n",
      "Epoch 21/200\n",
      "6800/6800 [==============================] - 1s 111us/step - loss: 0.4106 - acc: 0.8396 - val_loss: 0.3876 - val_acc: 0.8458\n",
      "Epoch 22/200\n",
      "6800/6800 [==============================] - 1s 110us/step - loss: 0.4022 - acc: 0.8440 - val_loss: 0.3873 - val_acc: 0.8450\n",
      "Epoch 23/200\n",
      "6800/6800 [==============================] - 1s 110us/step - loss: 0.3965 - acc: 0.8422 - val_loss: 0.3853 - val_acc: 0.8442\n",
      "Epoch 24/200\n",
      "6800/6800 [==============================] - 1s 110us/step - loss: 0.3927 - acc: 0.8435 - val_loss: 0.3820 - val_acc: 0.8467\n",
      "Epoch 25/200\n",
      "6800/6800 [==============================] - 1s 112us/step - loss: 0.3874 - acc: 0.8478 - val_loss: 0.3910 - val_acc: 0.8433\n",
      "Epoch 26/200\n",
      "6800/6800 [==============================] - 1s 110us/step - loss: 0.3812 - acc: 0.8504 - val_loss: 0.3741 - val_acc: 0.8500\n",
      "Epoch 27/200\n",
      "6800/6800 [==============================] - 1s 110us/step - loss: 0.3786 - acc: 0.8499 - val_loss: 0.3862 - val_acc: 0.8492\n",
      "Epoch 28/200\n",
      "6800/6800 [==============================] - 1s 111us/step - loss: 0.3759 - acc: 0.8551 - val_loss: 0.3717 - val_acc: 0.8525\n",
      "Epoch 29/200\n",
      "6800/6800 [==============================] - 1s 112us/step - loss: 0.3718 - acc: 0.8582 - val_loss: 0.3664 - val_acc: 0.8575\n",
      "Epoch 30/200\n",
      "6800/6800 [==============================] - 1s 112us/step - loss: 0.3682 - acc: 0.8575 - val_loss: 0.3666 - val_acc: 0.8500\n",
      "Epoch 31/200\n",
      "6800/6800 [==============================] - 1s 110us/step - loss: 0.3613 - acc: 0.8640 - val_loss: 0.3663 - val_acc: 0.8533\n",
      "Epoch 32/200\n",
      "6800/6800 [==============================] - 1s 110us/step - loss: 0.3582 - acc: 0.8616 - val_loss: 0.3644 - val_acc: 0.8508\n",
      "Epoch 33/200\n",
      "6800/6800 [==============================] - 1s 111us/step - loss: 0.3493 - acc: 0.8671 - val_loss: 0.3636 - val_acc: 0.8500\n",
      "Epoch 34/200\n",
      "6800/6800 [==============================] - 1s 110us/step - loss: 0.3510 - acc: 0.8638 - val_loss: 0.3856 - val_acc: 0.8492\n",
      "Epoch 35/200\n",
      "6800/6800 [==============================] - 1s 108us/step - loss: 0.3509 - acc: 0.8585 - val_loss: 0.3557 - val_acc: 0.8567\n",
      "Epoch 36/200\n",
      "6800/6800 [==============================] - 1s 110us/step - loss: 0.3413 - acc: 0.8672 - val_loss: 0.3540 - val_acc: 0.8600\n",
      "Epoch 37/200\n",
      "6800/6800 [==============================] - 1s 109us/step - loss: 0.3388 - acc: 0.8659 - val_loss: 0.3612 - val_acc: 0.8558\n",
      "Epoch 38/200\n",
      "6800/6800 [==============================] - 1s 108us/step - loss: 0.3344 - acc: 0.8709 - val_loss: 0.3545 - val_acc: 0.8608\n",
      "Epoch 39/200\n",
      "6800/6800 [==============================] - 1s 109us/step - loss: 0.3362 - acc: 0.8693 - val_loss: 0.3495 - val_acc: 0.8583\n",
      "Epoch 40/200\n",
      "6800/6800 [==============================] - 1s 108us/step - loss: 0.3337 - acc: 0.8724 - val_loss: 0.3565 - val_acc: 0.8592\n",
      "Epoch 41/200\n",
      "6800/6800 [==============================] - 1s 111us/step - loss: 0.3165 - acc: 0.8790 - val_loss: 0.3512 - val_acc: 0.8625\n",
      "Epoch 42/200\n",
      "6800/6800 [==============================] - 1s 110us/step - loss: 0.3296 - acc: 0.8716 - val_loss: 0.3487 - val_acc: 0.8650\n",
      "Epoch 43/200\n",
      "6800/6800 [==============================] - 1s 110us/step - loss: 0.3125 - acc: 0.8782 - val_loss: 0.3513 - val_acc: 0.8583\n",
      "Epoch 44/200\n",
      "6800/6800 [==============================] - 1s 110us/step - loss: 0.3152 - acc: 0.8749 - val_loss: 0.3438 - val_acc: 0.8650\n",
      "Epoch 45/200\n",
      "6800/6800 [==============================] - 1s 111us/step - loss: 0.3220 - acc: 0.8746 - val_loss: 0.3410 - val_acc: 0.8633\n",
      "Epoch 46/200\n",
      "6800/6800 [==============================] - 1s 109us/step - loss: 0.3112 - acc: 0.8759 - val_loss: 0.3494 - val_acc: 0.8592\n",
      "Epoch 47/200\n",
      "6800/6800 [==============================] - 1s 110us/step - loss: 0.2981 - acc: 0.8866 - val_loss: 0.3393 - val_acc: 0.8667\n",
      "Epoch 48/200\n",
      "6800/6800 [==============================] - 1s 110us/step - loss: 0.3174 - acc: 0.8810 - val_loss: 0.3566 - val_acc: 0.8608\n",
      "Epoch 49/200\n",
      "6800/6800 [==============================] - 1s 113us/step - loss: 0.3082 - acc: 0.8834 - val_loss: 0.3430 - val_acc: 0.8700\n",
      "Epoch 50/200\n",
      "6800/6800 [==============================] - 1s 108us/step - loss: 0.2964 - acc: 0.8894 - val_loss: 0.3421 - val_acc: 0.8642\n",
      "Epoch 51/200\n",
      "6800/6800 [==============================] - 1s 109us/step - loss: 0.3003 - acc: 0.8843 - val_loss: 0.3367 - val_acc: 0.8650\n",
      "Epoch 52/200\n",
      "6800/6800 [==============================] - 1s 109us/step - loss: 0.2946 - acc: 0.8843 - val_loss: 0.3451 - val_acc: 0.8692\n",
      "Epoch 53/200\n",
      "6800/6800 [==============================] - 1s 109us/step - loss: 0.2917 - acc: 0.8871 - val_loss: 0.3353 - val_acc: 0.8658\n",
      "Epoch 54/200\n",
      "6800/6800 [==============================] - 1s 111us/step - loss: 0.2831 - acc: 0.8925 - val_loss: 0.3372 - val_acc: 0.8667\n",
      "Epoch 55/200\n",
      "6800/6800 [==============================] - 1s 108us/step - loss: 0.2830 - acc: 0.8932 - val_loss: 0.3307 - val_acc: 0.8700\n",
      "Epoch 56/200\n",
      "6800/6800 [==============================] - 1s 111us/step - loss: 0.2811 - acc: 0.8919 - val_loss: 0.3328 - val_acc: 0.8708\n",
      "Epoch 57/200\n",
      "6800/6800 [==============================] - 1s 109us/step - loss: 0.2912 - acc: 0.8865 - val_loss: 0.3390 - val_acc: 0.8658\n",
      "Epoch 58/200\n",
      "6800/6800 [==============================] - 1s 110us/step - loss: 0.2864 - acc: 0.8865 - val_loss: 0.3343 - val_acc: 0.8742\n",
      "Epoch 59/200\n",
      "6800/6800 [==============================] - 1s 110us/step - loss: 0.2766 - acc: 0.8926 - val_loss: 0.3391 - val_acc: 0.8658\n",
      "Epoch 60/200\n",
      "6800/6800 [==============================] - 1s 110us/step - loss: 0.2803 - acc: 0.8891 - val_loss: 0.3374 - val_acc: 0.8683\n",
      "Epoch 61/200\n",
      "6800/6800 [==============================] - 1s 108us/step - loss: 0.2810 - acc: 0.8887 - val_loss: 0.3313 - val_acc: 0.8742\n",
      "Epoch 62/200\n",
      "6800/6800 [==============================] - 1s 109us/step - loss: 0.2685 - acc: 0.8965 - val_loss: 0.3391 - val_acc: 0.8625\n",
      "Epoch 63/200\n",
      "6800/6800 [==============================] - 1s 109us/step - loss: 0.2674 - acc: 0.8984 - val_loss: 0.3326 - val_acc: 0.8733\n",
      "Epoch 64/200\n",
      "6800/6800 [==============================] - 1s 108us/step - loss: 0.2668 - acc: 0.8951 - val_loss: 0.3296 - val_acc: 0.8750\n",
      "Epoch 65/200\n",
      "6800/6800 [==============================] - 1s 111us/step - loss: 0.2677 - acc: 0.9004 - val_loss: 0.3279 - val_acc: 0.8750\n",
      "Epoch 66/200\n",
      "6800/6800 [==============================] - 1s 110us/step - loss: 0.2669 - acc: 0.8976 - val_loss: 0.3379 - val_acc: 0.8650\n",
      "Epoch 67/200\n",
      "6800/6800 [==============================] - 1s 111us/step - loss: 0.2569 - acc: 0.8993 - val_loss: 0.3328 - val_acc: 0.8733\n",
      "Epoch 68/200\n",
      "6800/6800 [==============================] - 1s 110us/step - loss: 0.2613 - acc: 0.8990 - val_loss: 0.3362 - val_acc: 0.8733\n",
      "Epoch 69/200\n",
      "6800/6800 [==============================] - 1s 110us/step - loss: 0.2479 - acc: 0.9022 - val_loss: 0.3333 - val_acc: 0.8675\n",
      "Epoch 70/200\n",
      "6800/6800 [==============================] - 1s 110us/step - loss: 0.2457 - acc: 0.9059 - val_loss: 0.3308 - val_acc: 0.8683\n",
      "Epoch 71/200\n",
      "6800/6800 [==============================] - 1s 109us/step - loss: 0.2540 - acc: 0.8982 - val_loss: 0.3365 - val_acc: 0.8683\n",
      "Epoch 72/200\n",
      "6800/6800 [==============================] - 1s 108us/step - loss: 0.2450 - acc: 0.9050 - val_loss: 0.3336 - val_acc: 0.8742\n",
      "Epoch 73/200\n",
      "6800/6800 [==============================] - 1s 109us/step - loss: 0.2429 - acc: 0.9104 - val_loss: 0.3294 - val_acc: 0.8733\n",
      "Epoch 74/200\n",
      "6800/6800 [==============================] - 1s 110us/step - loss: 0.2521 - acc: 0.9079 - val_loss: 0.3328 - val_acc: 0.8692\n",
      "Epoch 75/200\n",
      "6800/6800 [==============================] - 1s 108us/step - loss: 0.2420 - acc: 0.9054 - val_loss: 0.3324 - val_acc: 0.8733\n",
      "Epoch 76/200\n",
      "6800/6800 [==============================] - 1s 108us/step - loss: 0.2449 - acc: 0.9059 - val_loss: 0.3340 - val_acc: 0.8742\n",
      "Epoch 77/200\n",
      "6800/6800 [==============================] - 1s 108us/step - loss: 0.2337 - acc: 0.9066 - val_loss: 0.3363 - val_acc: 0.8683\n",
      "Epoch 78/200\n",
      "6800/6800 [==============================] - 1s 108us/step - loss: 0.2358 - acc: 0.9085 - val_loss: 0.3346 - val_acc: 0.8758\n",
      "Epoch 79/200\n",
      "6800/6800 [==============================] - 1s 108us/step - loss: 0.2311 - acc: 0.9149 - val_loss: 0.3427 - val_acc: 0.8700\n",
      "Epoch 80/200\n",
      "6800/6800 [==============================] - 1s 108us/step - loss: 0.2321 - acc: 0.9106 - val_loss: 0.3449 - val_acc: 0.8725\n",
      "Epoch 81/200\n",
      "6800/6800 [==============================] - 1s 110us/step - loss: 0.2318 - acc: 0.9103 - val_loss: 0.3400 - val_acc: 0.8708\n",
      "Epoch 82/200\n",
      "6800/6800 [==============================] - 1s 110us/step - loss: 0.2388 - acc: 0.9082 - val_loss: 0.3328 - val_acc: 0.8733\n",
      "Epoch 83/200\n",
      "6800/6800 [==============================] - 1s 107us/step - loss: 0.2297 - acc: 0.9122 - val_loss: 0.3370 - val_acc: 0.8750\n",
      "Epoch 84/200\n",
      "6800/6800 [==============================] - 1s 108us/step - loss: 0.2318 - acc: 0.9100 - val_loss: 0.3333 - val_acc: 0.8742\n",
      "Epoch 85/200\n",
      "6800/6800 [==============================] - 1s 109us/step - loss: 0.2230 - acc: 0.9146 - val_loss: 0.3342 - val_acc: 0.8775\n",
      "Epoch 86/200\n",
      "6800/6800 [==============================] - 1s 108us/step - loss: 0.2229 - acc: 0.9162 - val_loss: 0.3418 - val_acc: 0.8717\n",
      "Epoch 87/200\n",
      "6800/6800 [==============================] - 1s 108us/step - loss: 0.2163 - acc: 0.9154 - val_loss: 0.3333 - val_acc: 0.8758\n",
      "Epoch 88/200\n",
      "6800/6800 [==============================] - 1s 109us/step - loss: 0.2190 - acc: 0.9175 - val_loss: 0.3342 - val_acc: 0.8742\n",
      "Epoch 89/200\n",
      "6800/6800 [==============================] - 1s 110us/step - loss: 0.2182 - acc: 0.9188 - val_loss: 0.3365 - val_acc: 0.8767\n",
      "Epoch 90/200\n",
      "6800/6800 [==============================] - 1s 110us/step - loss: 0.2147 - acc: 0.9178 - val_loss: 0.3386 - val_acc: 0.8708\n",
      "Epoch 91/200\n",
      "6800/6800 [==============================] - 1s 110us/step - loss: 0.2167 - acc: 0.9151 - val_loss: 0.3387 - val_acc: 0.8733\n",
      "Epoch 92/200\n",
      "6800/6800 [==============================] - 1s 111us/step - loss: 0.2141 - acc: 0.9138 - val_loss: 0.3366 - val_acc: 0.8750\n",
      "Epoch 93/200\n",
      "6800/6800 [==============================] - 1s 111us/step - loss: 0.2002 - acc: 0.9278 - val_loss: 0.3528 - val_acc: 0.8708\n",
      "Epoch 94/200\n",
      "6800/6800 [==============================] - 1s 110us/step - loss: 0.2133 - acc: 0.9215 - val_loss: 0.3434 - val_acc: 0.8667\n",
      "Epoch 95/200\n",
      "6800/6800 [==============================] - 1s 111us/step - loss: 0.2049 - acc: 0.9228 - val_loss: 0.3380 - val_acc: 0.8767\n",
      "Epoch 96/200\n",
      "6800/6800 [==============================] - 1s 109us/step - loss: 0.2039 - acc: 0.9212 - val_loss: 0.3341 - val_acc: 0.8792\n",
      "Epoch 97/200\n",
      "6800/6800 [==============================] - 1s 108us/step - loss: 0.2014 - acc: 0.9210 - val_loss: 0.3404 - val_acc: 0.8742\n",
      "Epoch 98/200\n",
      "6800/6800 [==============================] - 1s 108us/step - loss: 0.2019 - acc: 0.9203 - val_loss: 0.3418 - val_acc: 0.8767\n",
      "Epoch 99/200\n",
      "6800/6800 [==============================] - 1s 111us/step - loss: 0.2065 - acc: 0.9215 - val_loss: 0.3423 - val_acc: 0.8775\n",
      "Epoch 100/200\n",
      "6800/6800 [==============================] - 1s 110us/step - loss: 0.2018 - acc: 0.9194 - val_loss: 0.3352 - val_acc: 0.8792\n",
      "Epoch 101/200\n",
      "6800/6800 [==============================] - 1s 108us/step - loss: 0.1892 - acc: 0.9228 - val_loss: 0.3367 - val_acc: 0.8800\n",
      "Epoch 102/200\n",
      "6800/6800 [==============================] - 1s 109us/step - loss: 0.1994 - acc: 0.9238 - val_loss: 0.3396 - val_acc: 0.8792\n",
      "Epoch 103/200\n",
      "6800/6800 [==============================] - 1s 109us/step - loss: 0.1862 - acc: 0.9299 - val_loss: 0.3455 - val_acc: 0.8808\n",
      "Epoch 104/200\n",
      "6800/6800 [==============================] - 1s 108us/step - loss: 0.1979 - acc: 0.9250 - val_loss: 0.3434 - val_acc: 0.8767\n",
      "Epoch 105/200\n",
      "6800/6800 [==============================] - 1s 109us/step - loss: 0.1900 - acc: 0.9243 - val_loss: 0.3414 - val_acc: 0.8842\n",
      "Epoch 106/200\n",
      "6800/6800 [==============================] - 1s 108us/step - loss: 0.1885 - acc: 0.9274 - val_loss: 0.3402 - val_acc: 0.8792\n",
      "Epoch 107/200\n",
      "6800/6800 [==============================] - 1s 109us/step - loss: 0.1858 - acc: 0.9276 - val_loss: 0.3513 - val_acc: 0.8808\n",
      "Epoch 108/200\n",
      "6800/6800 [==============================] - 1s 110us/step - loss: 0.1858 - acc: 0.9287 - val_loss: 0.3381 - val_acc: 0.8825\n",
      "Epoch 109/200\n",
      "6800/6800 [==============================] - 1s 107us/step - loss: 0.1790 - acc: 0.9301 - val_loss: 0.3417 - val_acc: 0.8800\n",
      "Epoch 110/200\n",
      "6800/6800 [==============================] - 1s 109us/step - loss: 0.1855 - acc: 0.9251 - val_loss: 0.3512 - val_acc: 0.8767\n",
      "Epoch 111/200\n",
      "6800/6800 [==============================] - 1s 110us/step - loss: 0.1786 - acc: 0.9303 - val_loss: 0.3440 - val_acc: 0.8767\n",
      "Epoch 112/200\n",
      "6800/6800 [==============================] - 1s 108us/step - loss: 0.1834 - acc: 0.9287 - val_loss: 0.3419 - val_acc: 0.8758\n",
      "Epoch 113/200\n",
      "6800/6800 [==============================] - 1s 109us/step - loss: 0.1768 - acc: 0.9315 - val_loss: 0.3476 - val_acc: 0.8758\n",
      "Epoch 114/200\n",
      "6800/6800 [==============================] - 1s 110us/step - loss: 0.1724 - acc: 0.9350 - val_loss: 0.3401 - val_acc: 0.8833\n",
      "Epoch 115/200\n",
      "6800/6800 [==============================] - 1s 109us/step - loss: 0.1697 - acc: 0.9338 - val_loss: 0.3521 - val_acc: 0.8708\n",
      "Epoch 116/200\n",
      "6800/6800 [==============================] - 1s 111us/step - loss: 0.1676 - acc: 0.9384 - val_loss: 0.3483 - val_acc: 0.8792\n",
      "Epoch 117/200\n",
      "6800/6800 [==============================] - 1s 110us/step - loss: 0.1690 - acc: 0.9374 - val_loss: 0.3560 - val_acc: 0.8725\n",
      "Epoch 118/200\n",
      "6800/6800 [==============================] - 1s 109us/step - loss: 0.1721 - acc: 0.9344 - val_loss: 0.3465 - val_acc: 0.8792\n",
      "Epoch 119/200\n",
      "6800/6800 [==============================] - 1s 108us/step - loss: 0.1668 - acc: 0.9391 - val_loss: 0.3617 - val_acc: 0.8733\n",
      "Epoch 120/200\n",
      "6800/6800 [==============================] - 1s 109us/step - loss: 0.1723 - acc: 0.9312 - val_loss: 0.3482 - val_acc: 0.8833\n",
      "Epoch 121/200\n",
      "6800/6800 [==============================] - 1s 111us/step - loss: 0.1726 - acc: 0.9381 - val_loss: 0.3485 - val_acc: 0.8758\n",
      "Epoch 122/200\n",
      "6800/6800 [==============================] - 1s 110us/step - loss: 0.1692 - acc: 0.9351 - val_loss: 0.3476 - val_acc: 0.8750\n",
      "Epoch 123/200\n",
      "6800/6800 [==============================] - 1s 110us/step - loss: 0.1691 - acc: 0.9354 - val_loss: 0.3502 - val_acc: 0.8758\n",
      "Epoch 124/200\n",
      "6800/6800 [==============================] - 1s 110us/step - loss: 0.1675 - acc: 0.9384 - val_loss: 0.3499 - val_acc: 0.8775\n",
      "Epoch 125/200\n",
      "6800/6800 [==============================] - 1s 109us/step - loss: 0.1581 - acc: 0.9378 - val_loss: 0.3480 - val_acc: 0.8808\n",
      "Epoch 126/200\n",
      "6800/6800 [==============================] - 1s 110us/step - loss: 0.1551 - acc: 0.9418 - val_loss: 0.3553 - val_acc: 0.8775\n",
      "Epoch 127/200\n",
      "6800/6800 [==============================] - 1s 111us/step - loss: 0.1638 - acc: 0.9375 - val_loss: 0.3468 - val_acc: 0.8808\n",
      "Epoch 128/200\n",
      "6800/6800 [==============================] - 1s 109us/step - loss: 0.1654 - acc: 0.9365 - val_loss: 0.3528 - val_acc: 0.8800\n",
      "Epoch 129/200\n",
      "6800/6800 [==============================] - 1s 110us/step - loss: 0.1646 - acc: 0.9410 - val_loss: 0.3507 - val_acc: 0.8825\n",
      "Epoch 130/200\n",
      "6800/6800 [==============================] - 1s 111us/step - loss: 0.1538 - acc: 0.9391 - val_loss: 0.3525 - val_acc: 0.8792\n",
      "Epoch 131/200\n",
      "6800/6800 [==============================] - 1s 110us/step - loss: 0.1598 - acc: 0.9379 - val_loss: 0.3526 - val_acc: 0.8808\n",
      "Epoch 132/200\n",
      "6800/6800 [==============================] - 1s 108us/step - loss: 0.1538 - acc: 0.9443 - val_loss: 0.3509 - val_acc: 0.8783\n",
      "Epoch 133/200\n",
      "6800/6800 [==============================] - 1s 108us/step - loss: 0.1533 - acc: 0.9409 - val_loss: 0.3526 - val_acc: 0.8792\n",
      "Epoch 134/200\n",
      "6800/6800 [==============================] - 1s 108us/step - loss: 0.1621 - acc: 0.9365 - val_loss: 0.3575 - val_acc: 0.8775\n",
      "Epoch 135/200\n",
      "6800/6800 [==============================] - 1s 113us/step - loss: 0.1417 - acc: 0.9471 - val_loss: 0.3565 - val_acc: 0.8808\n",
      "Epoch 136/200\n",
      "6800/6800 [==============================] - 1s 109us/step - loss: 0.1529 - acc: 0.9410 - val_loss: 0.3630 - val_acc: 0.8750\n",
      "Epoch 137/200\n",
      "6800/6800 [==============================] - 1s 110us/step - loss: 0.1505 - acc: 0.9441 - val_loss: 0.3562 - val_acc: 0.8883\n",
      "Epoch 138/200\n",
      "6800/6800 [==============================] - 1s 113us/step - loss: 0.1421 - acc: 0.9451 - val_loss: 0.3535 - val_acc: 0.8875\n",
      "Epoch 139/200\n",
      "6800/6800 [==============================] - 1s 109us/step - loss: 0.1492 - acc: 0.9431 - val_loss: 0.3549 - val_acc: 0.8850\n",
      "Epoch 140/200\n",
      "6800/6800 [==============================] - 1s 108us/step - loss: 0.1449 - acc: 0.9466 - val_loss: 0.3565 - val_acc: 0.8850\n",
      "Epoch 141/200\n",
      "6800/6800 [==============================] - 1s 109us/step - loss: 0.1408 - acc: 0.9485 - val_loss: 0.3615 - val_acc: 0.8808\n",
      "Epoch 142/200\n",
      "6800/6800 [==============================] - 1s 110us/step - loss: 0.1502 - acc: 0.9431 - val_loss: 0.3508 - val_acc: 0.8833\n",
      "Epoch 143/200\n",
      "6800/6800 [==============================] - 1s 110us/step - loss: 0.1385 - acc: 0.9476 - val_loss: 0.3550 - val_acc: 0.8883\n",
      "Epoch 144/200\n",
      "6800/6800 [==============================] - 1s 109us/step - loss: 0.1426 - acc: 0.9449 - val_loss: 0.3554 - val_acc: 0.8833\n",
      "Epoch 145/200\n",
      "6800/6800 [==============================] - 1s 109us/step - loss: 0.1421 - acc: 0.9459 - val_loss: 0.3634 - val_acc: 0.8792\n",
      "Epoch 146/200\n",
      "6800/6800 [==============================] - 1s 109us/step - loss: 0.1351 - acc: 0.9485 - val_loss: 0.3651 - val_acc: 0.8767\n",
      "Epoch 147/200\n",
      "6800/6800 [==============================] - 1s 110us/step - loss: 0.1446 - acc: 0.9444 - val_loss: 0.3609 - val_acc: 0.8825\n",
      "Epoch 148/200\n",
      "6800/6800 [==============================] - 1s 109us/step - loss: 0.1431 - acc: 0.9459 - val_loss: 0.3675 - val_acc: 0.8817\n",
      "Epoch 149/200\n",
      "6800/6800 [==============================] - 1s 109us/step - loss: 0.1434 - acc: 0.9459 - val_loss: 0.3554 - val_acc: 0.8883\n",
      "Epoch 150/200\n",
      "6800/6800 [==============================] - 1s 110us/step - loss: 0.1421 - acc: 0.9450 - val_loss: 0.3623 - val_acc: 0.8883\n",
      "Epoch 151/200\n",
      "6800/6800 [==============================] - 1s 110us/step - loss: 0.1299 - acc: 0.9504 - val_loss: 0.3645 - val_acc: 0.8858\n",
      "Epoch 152/200\n",
      "6800/6800 [==============================] - 1s 109us/step - loss: 0.1400 - acc: 0.9474 - val_loss: 0.3657 - val_acc: 0.8875\n",
      "Epoch 153/200\n",
      "6800/6800 [==============================] - 1s 109us/step - loss: 0.1314 - acc: 0.9487 - val_loss: 0.3633 - val_acc: 0.8867\n",
      "Epoch 154/200\n",
      "6800/6800 [==============================] - 1s 110us/step - loss: 0.1366 - acc: 0.9518 - val_loss: 0.3699 - val_acc: 0.8883\n",
      "Epoch 155/200\n",
      "6800/6800 [==============================] - 1s 111us/step - loss: 0.1283 - acc: 0.9503 - val_loss: 0.3699 - val_acc: 0.8867\n",
      "Epoch 156/200\n",
      "6800/6800 [==============================] - 1s 110us/step - loss: 0.1352 - acc: 0.9484 - val_loss: 0.3680 - val_acc: 0.8825\n",
      "Epoch 157/200\n",
      "6800/6800 [==============================] - 1s 111us/step - loss: 0.1296 - acc: 0.9507 - val_loss: 0.3674 - val_acc: 0.8825\n",
      "Epoch 158/200\n",
      "6800/6800 [==============================] - 1s 110us/step - loss: 0.1286 - acc: 0.9519 - val_loss: 0.3735 - val_acc: 0.8775\n",
      "Epoch 159/200\n",
      "6800/6800 [==============================] - 1s 110us/step - loss: 0.1312 - acc: 0.9509 - val_loss: 0.3701 - val_acc: 0.8858\n",
      "Epoch 160/200\n",
      "6800/6800 [==============================] - 1s 110us/step - loss: 0.1226 - acc: 0.9557 - val_loss: 0.3667 - val_acc: 0.8817\n",
      "Epoch 161/200\n",
      "6800/6800 [==============================] - 1s 110us/step - loss: 0.1295 - acc: 0.9543 - val_loss: 0.3734 - val_acc: 0.8783\n",
      "Epoch 162/200\n",
      "6800/6800 [==============================] - 1s 112us/step - loss: 0.1296 - acc: 0.9506 - val_loss: 0.3724 - val_acc: 0.8783\n",
      "Epoch 163/200\n",
      "6800/6800 [==============================] - 1s 109us/step - loss: 0.1243 - acc: 0.9510 - val_loss: 0.3732 - val_acc: 0.8867\n",
      "Epoch 164/200\n",
      "6800/6800 [==============================] - 1s 109us/step - loss: 0.1287 - acc: 0.9529 - val_loss: 0.3704 - val_acc: 0.8825\n",
      "Epoch 165/200\n",
      "6800/6800 [==============================] - 1s 109us/step - loss: 0.1235 - acc: 0.9547 - val_loss: 0.3766 - val_acc: 0.8783\n",
      "Epoch 166/200\n",
      "6800/6800 [==============================] - 1s 108us/step - loss: 0.1157 - acc: 0.9596 - val_loss: 0.3746 - val_acc: 0.8858\n",
      "Epoch 167/200\n",
      "6800/6800 [==============================] - 1s 109us/step - loss: 0.1182 - acc: 0.9535 - val_loss: 0.3840 - val_acc: 0.8867\n",
      "Epoch 168/200\n",
      "6800/6800 [==============================] - 1s 110us/step - loss: 0.1223 - acc: 0.9541 - val_loss: 0.3722 - val_acc: 0.8883\n",
      "Epoch 169/200\n",
      "6800/6800 [==============================] - 1s 110us/step - loss: 0.1247 - acc: 0.9522 - val_loss: 0.3777 - val_acc: 0.8808\n",
      "Epoch 170/200\n",
      "6800/6800 [==============================] - 1s 108us/step - loss: 0.1121 - acc: 0.9579 - val_loss: 0.3792 - val_acc: 0.8783\n",
      "Epoch 171/200\n",
      "6800/6800 [==============================] - 1s 110us/step - loss: 0.1187 - acc: 0.9551 - val_loss: 0.3794 - val_acc: 0.8858\n",
      "Epoch 172/200\n",
      "6800/6800 [==============================] - 1s 111us/step - loss: 0.1211 - acc: 0.9525 - val_loss: 0.3770 - val_acc: 0.8817\n",
      "Epoch 173/200\n",
      "6800/6800 [==============================] - 1s 109us/step - loss: 0.1212 - acc: 0.9546 - val_loss: 0.3913 - val_acc: 0.8792\n",
      "Epoch 174/200\n",
      "6800/6800 [==============================] - 1s 108us/step - loss: 0.1110 - acc: 0.9603 - val_loss: 0.3871 - val_acc: 0.8783\n",
      "Epoch 175/200\n",
      "6800/6800 [==============================] - 1s 110us/step - loss: 0.1231 - acc: 0.9551 - val_loss: 0.3774 - val_acc: 0.8883\n",
      "Epoch 176/200\n",
      "6800/6800 [==============================] - 1s 111us/step - loss: 0.1102 - acc: 0.9594 - val_loss: 0.3813 - val_acc: 0.8808\n",
      "Epoch 177/200\n",
      "6800/6800 [==============================] - 1s 111us/step - loss: 0.1123 - acc: 0.9568 - val_loss: 0.3824 - val_acc: 0.8875\n",
      "Epoch 178/200\n",
      "6800/6800 [==============================] - 1s 110us/step - loss: 0.1232 - acc: 0.9551 - val_loss: 0.3770 - val_acc: 0.8850\n",
      "Epoch 179/200\n",
      "6800/6800 [==============================] - 1s 111us/step - loss: 0.1131 - acc: 0.9574 - val_loss: 0.3822 - val_acc: 0.8850\n",
      "Epoch 180/200\n",
      "6800/6800 [==============================] - 1s 110us/step - loss: 0.1134 - acc: 0.9607 - val_loss: 0.3846 - val_acc: 0.8825\n",
      "Epoch 181/200\n",
      "6800/6800 [==============================] - 1s 110us/step - loss: 0.1099 - acc: 0.9590 - val_loss: 0.3986 - val_acc: 0.8808\n",
      "Epoch 182/200\n",
      "6800/6800 [==============================] - 1s 108us/step - loss: 0.1148 - acc: 0.9572 - val_loss: 0.3841 - val_acc: 0.8825\n",
      "Epoch 183/200\n",
      "6800/6800 [==============================] - 1s 111us/step - loss: 0.1150 - acc: 0.9551 - val_loss: 0.3984 - val_acc: 0.8733\n",
      "Epoch 184/200\n",
      "6800/6800 [==============================] - 1s 111us/step - loss: 0.1077 - acc: 0.9599 - val_loss: 0.3940 - val_acc: 0.8842\n",
      "Epoch 185/200\n",
      "6800/6800 [==============================] - 1s 110us/step - loss: 0.1073 - acc: 0.9594 - val_loss: 0.3901 - val_acc: 0.8858\n",
      "Epoch 186/200\n",
      "6800/6800 [==============================] - 1s 110us/step - loss: 0.1095 - acc: 0.9587 - val_loss: 0.3848 - val_acc: 0.8850\n",
      "Epoch 187/200\n",
      "6800/6800 [==============================] - 1s 110us/step - loss: 0.1054 - acc: 0.9599 - val_loss: 0.3952 - val_acc: 0.8883\n",
      "Epoch 188/200\n",
      "6800/6800 [==============================] - 1s 109us/step - loss: 0.1042 - acc: 0.9610 - val_loss: 0.3933 - val_acc: 0.8817\n",
      "Epoch 189/200\n",
      "6800/6800 [==============================] - 1s 108us/step - loss: 0.1017 - acc: 0.9619 - val_loss: 0.3876 - val_acc: 0.8767\n",
      "Epoch 190/200\n",
      "6800/6800 [==============================] - 1s 109us/step - loss: 0.1117 - acc: 0.9587 - val_loss: 0.4002 - val_acc: 0.8867\n",
      "Epoch 191/200\n",
      "6800/6800 [==============================] - 1s 111us/step - loss: 0.1116 - acc: 0.9604 - val_loss: 0.3960 - val_acc: 0.8867\n",
      "Epoch 192/200\n",
      "6800/6800 [==============================] - 1s 111us/step - loss: 0.1009 - acc: 0.9616 - val_loss: 0.3934 - val_acc: 0.8900\n",
      "Epoch 193/200\n",
      "6800/6800 [==============================] - 1s 111us/step - loss: 0.1093 - acc: 0.9610 - val_loss: 0.3917 - val_acc: 0.8900\n",
      "Epoch 194/200\n",
      "6800/6800 [==============================] - 1s 110us/step - loss: 0.0943 - acc: 0.9643 - val_loss: 0.3968 - val_acc: 0.8842\n",
      "Epoch 195/200\n",
      "6800/6800 [==============================] - 1s 110us/step - loss: 0.1061 - acc: 0.9599 - val_loss: 0.3979 - val_acc: 0.8875\n",
      "Epoch 196/200\n",
      "6800/6800 [==============================] - 1s 107us/step - loss: 0.0973 - acc: 0.9625 - val_loss: 0.4038 - val_acc: 0.8792\n",
      "Epoch 197/200\n",
      "6800/6800 [==============================] - 1s 109us/step - loss: 0.1018 - acc: 0.9599 - val_loss: 0.3985 - val_acc: 0.8817\n",
      "Epoch 198/200\n",
      "6800/6800 [==============================] - 1s 109us/step - loss: 0.1026 - acc: 0.9624 - val_loss: 0.4036 - val_acc: 0.8808\n",
      "Epoch 199/200\n",
      "6800/6800 [==============================] - 1s 110us/step - loss: 0.0994 - acc: 0.9619 - val_loss: 0.4021 - val_acc: 0.8842\n",
      "Epoch 200/200\n",
      "6800/6800 [==============================] - 1s 110us/step - loss: 0.0993 - acc: 0.9610 - val_loss: 0.3973 - val_acc: 0.8850\n"
     ]
    }
   ],
   "source": [
    "hist_improved = model_improved.fit(X_train, Y_train, epochs=200, batch_size=256, validation_data=(X_test, Y_test))"
   ]
  },
  {
   "cell_type": "markdown",
   "metadata": {
    "colab_type": "text",
    "id": "G46HNqVTAVzG"
   },
   "source": [
    "## Evaluation"
   ]
  },
  {
   "cell_type": "code",
   "execution_count": 38,
   "metadata": {
    "colab": {
     "base_uri": "https://localhost:8080/",
     "height": 68
    },
    "colab_type": "code",
    "id": "lluxCHIamhGZ",
    "outputId": "e7402684-9be3-4315-d6cc-872f7b7a7a52"
   },
   "outputs": [
    {
     "name": "stdout",
     "output_type": "stream",
     "text": [
      "1200/1200 [==============================] - 0s 118us/step\n",
      "Score:  0.3973\n",
      "Accuracy:  88.5 %\n"
     ]
    }
   ],
   "source": [
    "score, accuracy = model_improved.evaluate(X_test, Y_test)\n",
    "print('Score: ', score.round(4))\n",
    "print('Accuracy: ', accuracy.round(4)*100, '%')"
   ]
  },
  {
   "cell_type": "markdown",
   "metadata": {
    "colab_type": "text",
    "id": "CD2W-IeJAYwv"
   },
   "source": [
    "## Prediction"
   ]
  },
  {
   "cell_type": "code",
   "execution_count": 0,
   "metadata": {
    "colab": {},
    "colab_type": "code",
    "id": "JvU9bwW7Acw1"
   },
   "outputs": [],
   "source": [
    "Y_pred_ohv = model_improved.predict(X_test)\n",
    "Y_pred = np.argmax(Y_pred_ohv, axis=1)"
   ]
  },
  {
   "cell_type": "markdown",
   "metadata": {
    "colab_type": "text",
    "id": "HS3k75_MAkKd"
   },
   "source": [
    "## Visualization"
   ]
  },
  {
   "cell_type": "markdown",
   "metadata": {
    "colab_type": "text",
    "id": "TAnajwHbAkVY"
   },
   "source": [
    "* **Accuracy and Loss Plots**"
   ]
  },
  {
   "cell_type": "code",
   "execution_count": 40,
   "metadata": {
    "colab": {
     "base_uri": "https://localhost:8080/",
     "height": 297
    },
    "colab_type": "code",
    "id": "pCtVObotxwes",
    "outputId": "da18a9a7-e1d5-48fa-c43a-948359f26ae8"
   },
   "outputs": [
    {
     "data": {
      "image/png": "[encoded data removed]",
      "text/plain": [
       "<Figure size 720x288 with 2 Axes>"
      ]
     },
     "metadata": {
      "tags": []
     },
     "output_type": "display_data"
    }
   ],
   "source": [
    "plt.figure(figsize=(10,4))\n",
    "\n",
    "plt.subplot(1,2,1)\n",
    "plt.title('Loss vs Epochs')\n",
    "plt.plot(hist_improved.history['loss'], label='Training Loss')\n",
    "plt.plot(hist_improved.history['val_loss'], label='Validation Loss')\n",
    "plt.legend()\n",
    "\n",
    "plt.subplot(1,2,2)\n",
    "plt.title('Accuracy vs Epochs')\n",
    "plt.plot(hist_improved.history['acc'], label='Training Accuracy')\n",
    "plt.plot(hist_improved.history['val_acc'], label='Validation Accuracy')\n",
    "plt.legend()\n",
    "plt.tight_layout()\n",
    "plt.show()"
   ]
  },
  {
   "cell_type": "markdown",
   "metadata": {
    "colab_type": "text",
    "id": "YfJuXkHVHNLw"
   },
   "source": [
    "### Here we observe that even though the training loss is continuously decreasing, the validation loss decreases upto a certain point and then starts increasing. This is due to the problem of overfitting."
   ]
  },
  {
   "cell_type": "markdown",
   "metadata": {
    "colab_type": "text",
    "id": "TpsEM3TAA1FZ"
   },
   "source": [
    "* **Confusion Matrix**"
   ]
  },
  {
   "cell_type": "code",
   "execution_count": 41,
   "metadata": {
    "colab": {
     "base_uri": "https://localhost:8080/",
     "height": 382
    },
    "colab_type": "code",
    "id": "CHF3R6Ki-BUl",
    "outputId": "07c1f4f7-9647-4dcb-947a-cb0ec42c9f31"
   },
   "outputs": [
    {
     "name": "stdout",
     "output_type": "stream",
     "text": [
      "Confusion matrix, without normalization\n",
      "[[267   5   5  23]\n",
      " [  8 265   4  23]\n",
      " [  6   6 279   9]\n",
      " [ 22  17  10 251]]\n"
     ]
    },
    {
     "data": {
      "image/png": "[encoded data removed]",
      "text/plain": [
       "<Figure size 432x288 with 2 Axes>"
      ]
     },
     "metadata": {
      "tags": []
     },
     "output_type": "display_data"
    }
   ],
   "source": [
    "# Convert validation observations from one hot vectors to labels\n",
    "Y_test_cnf = np.argmax(Y_test, axis=1)\n",
    "\n",
    "#Plotting the confusion matrix\n",
    "cnf_matrix = confusion_matrix(Y_test_cnf, Y_pred)\n",
    "plot_confusion_matrix(cnf_matrix, classes=classes)"
   ]
  },
  {
   "cell_type": "markdown",
   "metadata": {
    "colab_type": "text",
    "id": "Rrh_VEbSBALi"
   },
   "source": [
    "## Saving the trained model"
   ]
  },
  {
   "cell_type": "code",
   "execution_count": 0,
   "metadata": {
    "colab": {},
    "colab_type": "code",
    "id": "9XmGVsybs6pt"
   },
   "outputs": [],
   "source": [
    "model_improved.save('my_model.h5')"
   ]
  },
  {
   "cell_type": "markdown",
   "metadata": {
    "colab_type": "text",
    "id": "EKH5DUGVxjs_"
   },
   "source": [
    "### Adding checkpoints so as to save the best model and overcome the problem of overfitting"
   ]
  },
  {
   "cell_type": "markdown",
   "metadata": {},
   "source": [
    "Checkpoint saves the model after every epoch. Only those models are saved where the accuracy is more than that of the accuracy of previous epoch."
   ]
  },
  {
   "cell_type": "code",
   "execution_count": 0,
   "metadata": {
    "colab": {},
    "colab_type": "code",
    "id": "0NwsjJNx2V4c"
   },
   "outputs": [],
   "source": [
    "checkpoint = ModelCheckpoint('best_model.h5', monitor='val_loss', verbose=0, save_best_only=True, save_weights_only=False, mode='auto', period=1)"
   ]
  },
  {
   "cell_type": "code",
   "execution_count": 0,
   "metadata": {
    "colab": {},
    "colab_type": "code",
    "id": "WNc3cy172mKX"
   },
   "outputs": [],
   "source": [
    "model_improved.compile(loss='categorical_crossentropy', optimizer=adam, metrics=['accuracy'])"
   ]
  },
  {
   "cell_type": "code",
   "execution_count": 46,
   "metadata": {
    "colab": {
     "base_uri": "https://localhost:8080/",
     "height": 6834
    },
    "colab_type": "code",
    "id": "cbe6HjSqzVAx",
    "outputId": "5385afc1-8541-4540-f849-4e52eee1516a"
   },
   "outputs": [
    {
     "name": "stdout",
     "output_type": "stream",
     "text": [
      "Train on 6800 samples, validate on 1200 samples\n",
      "Epoch 1/200\n",
      "6800/6800 [==============================] - 2s 295us/step - loss: 1.1318 - acc: 0.5335 - val_loss: 0.7467 - val_acc: 0.6442\n",
      "Epoch 2/200\n",
      "6800/6800 [==============================] - 1s 110us/step - loss: 0.7887 - acc: 0.6600 - val_loss: 0.6702 - val_acc: 0.6808\n",
      "Epoch 3/200\n",
      "6800/6800 [==============================] - 1s 109us/step - loss: 0.7160 - acc: 0.6956 - val_loss: 0.6049 - val_acc: 0.7258\n",
      "Epoch 4/200\n",
      "6800/6800 [==============================] - 1s 110us/step - loss: 0.6451 - acc: 0.7210 - val_loss: 0.5740 - val_acc: 0.7558\n",
      "Epoch 5/200\n",
      "6800/6800 [==============================] - 1s 110us/step - loss: 0.6065 - acc: 0.7490 - val_loss: 0.5418 - val_acc: 0.7842\n",
      "Epoch 6/200\n",
      "6800/6800 [==============================] - 1s 110us/step - loss: 0.5657 - acc: 0.7724 - val_loss: 0.4953 - val_acc: 0.8108\n",
      "Epoch 7/200\n",
      "6800/6800 [==============================] - 1s 110us/step - loss: 0.5397 - acc: 0.7788 - val_loss: 0.4895 - val_acc: 0.8150\n",
      "Epoch 8/200\n",
      "6800/6800 [==============================] - 1s 108us/step - loss: 0.5132 - acc: 0.7968 - val_loss: 0.4579 - val_acc: 0.8158\n",
      "Epoch 9/200\n",
      "6800/6800 [==============================] - 1s 110us/step - loss: 0.4989 - acc: 0.8034 - val_loss: 0.4594 - val_acc: 0.8208\n",
      "Epoch 10/200\n",
      "6800/6800 [==============================] - 1s 110us/step - loss: 0.4849 - acc: 0.8113 - val_loss: 0.4398 - val_acc: 0.8158\n",
      "Epoch 11/200\n",
      "6800/6800 [==============================] - 1s 110us/step - loss: 0.4719 - acc: 0.8099 - val_loss: 0.4284 - val_acc: 0.8242\n",
      "Epoch 12/200\n",
      "6800/6800 [==============================] - 1s 109us/step - loss: 0.4639 - acc: 0.8163 - val_loss: 0.4217 - val_acc: 0.8317\n",
      "Epoch 13/200\n",
      "6800/6800 [==============================] - 1s 107us/step - loss: 0.4540 - acc: 0.8212 - val_loss: 0.4043 - val_acc: 0.8342\n",
      "Epoch 14/200\n",
      "6800/6800 [==============================] - 1s 109us/step - loss: 0.4437 - acc: 0.8250 - val_loss: 0.4057 - val_acc: 0.8367\n",
      "Epoch 15/200\n",
      "6800/6800 [==============================] - 1s 110us/step - loss: 0.4423 - acc: 0.8246 - val_loss: 0.4000 - val_acc: 0.8342\n",
      "Epoch 16/200\n",
      "6800/6800 [==============================] - 1s 109us/step - loss: 0.4309 - acc: 0.8329 - val_loss: 0.3973 - val_acc: 0.8358\n",
      "Epoch 17/200\n",
      "6800/6800 [==============================] - 1s 110us/step - loss: 0.4224 - acc: 0.8365 - val_loss: 0.3791 - val_acc: 0.8475\n",
      "Epoch 18/200\n",
      "6800/6800 [==============================] - 1s 110us/step - loss: 0.4113 - acc: 0.8438 - val_loss: 0.3892 - val_acc: 0.8383\n",
      "Epoch 19/200\n",
      "6800/6800 [==============================] - 1s 110us/step - loss: 0.4115 - acc: 0.8428 - val_loss: 0.3824 - val_acc: 0.8367\n",
      "Epoch 20/200\n",
      "6800/6800 [==============================] - 1s 111us/step - loss: 0.4053 - acc: 0.8428 - val_loss: 0.3770 - val_acc: 0.8433\n",
      "Epoch 21/200\n",
      "6800/6800 [==============================] - 1s 111us/step - loss: 0.4013 - acc: 0.8438 - val_loss: 0.3720 - val_acc: 0.8475\n",
      "Epoch 22/200\n",
      "6800/6800 [==============================] - 1s 110us/step - loss: 0.3842 - acc: 0.8531 - val_loss: 0.3716 - val_acc: 0.8467\n",
      "Epoch 23/200\n",
      "6800/6800 [==============================] - 1s 109us/step - loss: 0.3799 - acc: 0.8549 - val_loss: 0.3649 - val_acc: 0.8433\n",
      "Epoch 24/200\n",
      "6800/6800 [==============================] - 1s 109us/step - loss: 0.3757 - acc: 0.8518 - val_loss: 0.3781 - val_acc: 0.8442\n",
      "Epoch 25/200\n",
      "6800/6800 [==============================] - 1s 111us/step - loss: 0.3764 - acc: 0.8513 - val_loss: 0.3651 - val_acc: 0.8533\n",
      "Epoch 26/200\n",
      "6800/6800 [==============================] - 1s 110us/step - loss: 0.3694 - acc: 0.8532 - val_loss: 0.3688 - val_acc: 0.8508\n",
      "Epoch 27/200\n",
      "6800/6800 [==============================] - 1s 109us/step - loss: 0.3711 - acc: 0.8565 - val_loss: 0.3683 - val_acc: 0.8500\n",
      "Epoch 28/200\n",
      "6800/6800 [==============================] - 1s 109us/step - loss: 0.3660 - acc: 0.8628 - val_loss: 0.3696 - val_acc: 0.8417\n",
      "Epoch 29/200\n",
      "6800/6800 [==============================] - 1s 109us/step - loss: 0.3620 - acc: 0.8637 - val_loss: 0.3620 - val_acc: 0.8467\n",
      "Epoch 30/200\n",
      "6800/6800 [==============================] - 1s 109us/step - loss: 0.3585 - acc: 0.8571 - val_loss: 0.3671 - val_acc: 0.8525\n",
      "Epoch 31/200\n",
      "6800/6800 [==============================] - 1s 110us/step - loss: 0.3582 - acc: 0.8578 - val_loss: 0.3530 - val_acc: 0.8617\n",
      "Epoch 32/200\n",
      "6800/6800 [==============================] - 1s 109us/step - loss: 0.3510 - acc: 0.8597 - val_loss: 0.3571 - val_acc: 0.8575\n",
      "Epoch 33/200\n",
      "6800/6800 [==============================] - 1s 109us/step - loss: 0.3465 - acc: 0.8647 - val_loss: 0.3577 - val_acc: 0.8567\n",
      "Epoch 34/200\n",
      "6800/6800 [==============================] - 1s 108us/step - loss: 0.3412 - acc: 0.8653 - val_loss: 0.3479 - val_acc: 0.8567\n",
      "Epoch 35/200\n",
      "6800/6800 [==============================] - 1s 109us/step - loss: 0.3348 - acc: 0.8693 - val_loss: 0.3505 - val_acc: 0.8550\n",
      "Epoch 36/200\n",
      "6800/6800 [==============================] - 1s 111us/step - loss: 0.3329 - acc: 0.8722 - val_loss: 0.3624 - val_acc: 0.8558\n",
      "Epoch 37/200\n",
      "6800/6800 [==============================] - 1s 110us/step - loss: 0.3365 - acc: 0.8672 - val_loss: 0.3466 - val_acc: 0.8617\n",
      "Epoch 38/200\n",
      "6800/6800 [==============================] - 1s 112us/step - loss: 0.3275 - acc: 0.8688 - val_loss: 0.3474 - val_acc: 0.8558\n",
      "Epoch 39/200\n",
      "6800/6800 [==============================] - 1s 115us/step - loss: 0.3181 - acc: 0.8782 - val_loss: 0.3448 - val_acc: 0.8583\n",
      "Epoch 40/200\n",
      "6800/6800 [==============================] - 1s 112us/step - loss: 0.3218 - acc: 0.8743 - val_loss: 0.3529 - val_acc: 0.8533\n",
      "Epoch 41/200\n",
      "6800/6800 [==============================] - 1s 115us/step - loss: 0.3135 - acc: 0.8779 - val_loss: 0.3348 - val_acc: 0.8717\n",
      "Epoch 42/200\n",
      "6800/6800 [==============================] - 1s 112us/step - loss: 0.3179 - acc: 0.8759 - val_loss: 0.3428 - val_acc: 0.8617\n",
      "Epoch 43/200\n",
      "6800/6800 [==============================] - 1s 109us/step - loss: 0.3103 - acc: 0.8806 - val_loss: 0.3553 - val_acc: 0.8450\n",
      "Epoch 44/200\n",
      "6800/6800 [==============================] - 1s 113us/step - loss: 0.2993 - acc: 0.8800 - val_loss: 0.3414 - val_acc: 0.8600\n",
      "Epoch 45/200\n",
      "6800/6800 [==============================] - 1s 109us/step - loss: 0.3078 - acc: 0.8837 - val_loss: 0.3362 - val_acc: 0.8700\n",
      "Epoch 46/200\n",
      "6800/6800 [==============================] - 1s 111us/step - loss: 0.2997 - acc: 0.8831 - val_loss: 0.3475 - val_acc: 0.8583\n",
      "Epoch 47/200\n",
      "6800/6800 [==============================] - 1s 111us/step - loss: 0.3009 - acc: 0.8828 - val_loss: 0.3352 - val_acc: 0.8683\n",
      "Epoch 48/200\n",
      "6800/6800 [==============================] - 1s 110us/step - loss: 0.2934 - acc: 0.8854 - val_loss: 0.3509 - val_acc: 0.8542\n",
      "Epoch 49/200\n",
      "6800/6800 [==============================] - 1s 111us/step - loss: 0.2956 - acc: 0.8874 - val_loss: 0.3384 - val_acc: 0.8642\n",
      "Epoch 50/200\n",
      "6800/6800 [==============================] - 1s 109us/step - loss: 0.2880 - acc: 0.8874 - val_loss: 0.3341 - val_acc: 0.8667\n",
      "Epoch 51/200\n",
      "6800/6800 [==============================] - 1s 111us/step - loss: 0.2858 - acc: 0.8881 - val_loss: 0.3324 - val_acc: 0.8683\n",
      "Epoch 52/200\n",
      "6800/6800 [==============================] - 1s 111us/step - loss: 0.2846 - acc: 0.8891 - val_loss: 0.3401 - val_acc: 0.8658\n",
      "Epoch 53/200\n",
      "6800/6800 [==============================] - 1s 111us/step - loss: 0.2840 - acc: 0.8876 - val_loss: 0.3409 - val_acc: 0.8625\n",
      "Epoch 54/200\n",
      "6800/6800 [==============================] - 1s 111us/step - loss: 0.2780 - acc: 0.8932 - val_loss: 0.3362 - val_acc: 0.8658\n",
      "Epoch 55/200\n",
      "6800/6800 [==============================] - 1s 111us/step - loss: 0.2796 - acc: 0.8913 - val_loss: 0.3297 - val_acc: 0.8683\n",
      "Epoch 56/200\n",
      "6800/6800 [==============================] - 1s 109us/step - loss: 0.2708 - acc: 0.9000 - val_loss: 0.3372 - val_acc: 0.8642\n",
      "Epoch 57/200\n",
      "6800/6800 [==============================] - 1s 112us/step - loss: 0.2765 - acc: 0.8901 - val_loss: 0.3326 - val_acc: 0.8675\n",
      "Epoch 58/200\n",
      "6800/6800 [==============================] - 1s 110us/step - loss: 0.2678 - acc: 0.8959 - val_loss: 0.3364 - val_acc: 0.8642\n",
      "Epoch 59/200\n",
      "6800/6800 [==============================] - 1s 109us/step - loss: 0.2666 - acc: 0.8962 - val_loss: 0.3406 - val_acc: 0.8642\n",
      "Epoch 60/200\n",
      "6800/6800 [==============================] - 1s 110us/step - loss: 0.2621 - acc: 0.8979 - val_loss: 0.3343 - val_acc: 0.8650\n",
      "Epoch 61/200\n",
      "6800/6800 [==============================] - 1s 109us/step - loss: 0.2628 - acc: 0.9025 - val_loss: 0.3269 - val_acc: 0.8675\n",
      "Epoch 62/200\n",
      "6800/6800 [==============================] - 1s 110us/step - loss: 0.2639 - acc: 0.8972 - val_loss: 0.3255 - val_acc: 0.8675\n",
      "Epoch 63/200\n",
      "6800/6800 [==============================] - 1s 110us/step - loss: 0.2610 - acc: 0.9012 - val_loss: 0.3270 - val_acc: 0.8683\n",
      "Epoch 64/200\n",
      "6800/6800 [==============================] - 1s 110us/step - loss: 0.2555 - acc: 0.9041 - val_loss: 0.3322 - val_acc: 0.8683\n",
      "Epoch 65/200\n",
      "6800/6800 [==============================] - 1s 110us/step - loss: 0.2481 - acc: 0.9050 - val_loss: 0.3312 - val_acc: 0.8642\n",
      "Epoch 66/200\n",
      "6800/6800 [==============================] - 1s 109us/step - loss: 0.2434 - acc: 0.9106 - val_loss: 0.3298 - val_acc: 0.8667\n",
      "Epoch 67/200\n",
      "6800/6800 [==============================] - 1s 113us/step - loss: 0.2485 - acc: 0.9022 - val_loss: 0.3274 - val_acc: 0.8667\n",
      "Epoch 68/200\n",
      "6800/6800 [==============================] - 1s 109us/step - loss: 0.2506 - acc: 0.9044 - val_loss: 0.3237 - val_acc: 0.8733\n",
      "Epoch 69/200\n",
      "6800/6800 [==============================] - 1s 110us/step - loss: 0.2462 - acc: 0.9044 - val_loss: 0.3275 - val_acc: 0.8717\n",
      "Epoch 70/200\n",
      "6800/6800 [==============================] - 1s 108us/step - loss: 0.2398 - acc: 0.9075 - val_loss: 0.3316 - val_acc: 0.8675\n",
      "Epoch 71/200\n",
      "6800/6800 [==============================] - 1s 109us/step - loss: 0.2388 - acc: 0.9075 - val_loss: 0.3269 - val_acc: 0.8683\n",
      "Epoch 72/200\n",
      "6800/6800 [==============================] - 1s 108us/step - loss: 0.2310 - acc: 0.9115 - val_loss: 0.3357 - val_acc: 0.8575\n",
      "Epoch 73/200\n",
      "6800/6800 [==============================] - 1s 109us/step - loss: 0.2345 - acc: 0.9104 - val_loss: 0.3282 - val_acc: 0.8692\n",
      "Epoch 74/200\n",
      "6800/6800 [==============================] - 1s 109us/step - loss: 0.2355 - acc: 0.9044 - val_loss: 0.3254 - val_acc: 0.8758\n",
      "Epoch 75/200\n",
      "6800/6800 [==============================] - 1s 109us/step - loss: 0.2267 - acc: 0.9118 - val_loss: 0.3408 - val_acc: 0.8692\n",
      "Epoch 76/200\n",
      "6800/6800 [==============================] - 1s 110us/step - loss: 0.2293 - acc: 0.9122 - val_loss: 0.3262 - val_acc: 0.8725\n",
      "Epoch 77/200\n",
      "6800/6800 [==============================] - 1s 110us/step - loss: 0.2229 - acc: 0.9196 - val_loss: 0.3323 - val_acc: 0.8758\n",
      "Epoch 78/200\n",
      "6800/6800 [==============================] - 1s 110us/step - loss: 0.2217 - acc: 0.9126 - val_loss: 0.3233 - val_acc: 0.8767\n",
      "Epoch 79/200\n",
      "6800/6800 [==============================] - 1s 110us/step - loss: 0.2245 - acc: 0.9138 - val_loss: 0.3278 - val_acc: 0.8792\n",
      "Epoch 80/200\n",
      "6800/6800 [==============================] - 1s 110us/step - loss: 0.2262 - acc: 0.9129 - val_loss: 0.3249 - val_acc: 0.8767\n",
      "Epoch 81/200\n",
      "6800/6800 [==============================] - 1s 109us/step - loss: 0.2182 - acc: 0.9226 - val_loss: 0.3307 - val_acc: 0.8658\n",
      "Epoch 82/200\n",
      "6800/6800 [==============================] - 1s 111us/step - loss: 0.2213 - acc: 0.9151 - val_loss: 0.3226 - val_acc: 0.8717\n",
      "Epoch 83/200\n",
      "6800/6800 [==============================] - 1s 110us/step - loss: 0.2156 - acc: 0.9160 - val_loss: 0.3288 - val_acc: 0.8733\n",
      "Epoch 84/200\n",
      "6800/6800 [==============================] - 1s 109us/step - loss: 0.2160 - acc: 0.9151 - val_loss: 0.3277 - val_acc: 0.8758\n",
      "Epoch 85/200\n",
      "6800/6800 [==============================] - 1s 109us/step - loss: 0.2094 - acc: 0.9185 - val_loss: 0.3271 - val_acc: 0.8775\n",
      "Epoch 86/200\n",
      "6800/6800 [==============================] - 1s 108us/step - loss: 0.2148 - acc: 0.9193 - val_loss: 0.3270 - val_acc: 0.8750\n",
      "Epoch 87/200\n",
      "6800/6800 [==============================] - 1s 110us/step - loss: 0.2091 - acc: 0.9206 - val_loss: 0.3224 - val_acc: 0.8733\n",
      "Epoch 88/200\n",
      "6800/6800 [==============================] - 1s 108us/step - loss: 0.2050 - acc: 0.9225 - val_loss: 0.3327 - val_acc: 0.8725\n",
      "Epoch 89/200\n",
      "6800/6800 [==============================] - 1s 108us/step - loss: 0.2079 - acc: 0.9206 - val_loss: 0.3321 - val_acc: 0.8775\n",
      "Epoch 90/200\n",
      "6800/6800 [==============================] - 1s 109us/step - loss: 0.1966 - acc: 0.9222 - val_loss: 0.3200 - val_acc: 0.8800\n",
      "Epoch 91/200\n",
      "6800/6800 [==============================] - 1s 109us/step - loss: 0.2007 - acc: 0.9216 - val_loss: 0.3230 - val_acc: 0.8800\n",
      "Epoch 92/200\n",
      "6800/6800 [==============================] - 1s 110us/step - loss: 0.2038 - acc: 0.9207 - val_loss: 0.3311 - val_acc: 0.8767\n",
      "Epoch 93/200\n",
      "6800/6800 [==============================] - 1s 109us/step - loss: 0.2017 - acc: 0.9191 - val_loss: 0.3234 - val_acc: 0.8808\n",
      "Epoch 94/200\n",
      "6800/6800 [==============================] - 1s 110us/step - loss: 0.1984 - acc: 0.9251 - val_loss: 0.3311 - val_acc: 0.8750\n",
      "Epoch 95/200\n",
      "6800/6800 [==============================] - 1s 110us/step - loss: 0.1868 - acc: 0.9301 - val_loss: 0.3279 - val_acc: 0.8808\n",
      "Epoch 96/200\n",
      "6800/6800 [==============================] - 1s 108us/step - loss: 0.1929 - acc: 0.9244 - val_loss: 0.3371 - val_acc: 0.8808\n",
      "Epoch 97/200\n",
      "6800/6800 [==============================] - 1s 110us/step - loss: 0.1891 - acc: 0.9269 - val_loss: 0.3256 - val_acc: 0.8825\n",
      "Epoch 98/200\n",
      "6800/6800 [==============================] - 1s 108us/step - loss: 0.1845 - acc: 0.9293 - val_loss: 0.3329 - val_acc: 0.8725\n",
      "Epoch 99/200\n",
      "6800/6800 [==============================] - 1s 110us/step - loss: 0.1866 - acc: 0.9266 - val_loss: 0.3240 - val_acc: 0.8775\n",
      "Epoch 100/200\n",
      "6800/6800 [==============================] - 1s 110us/step - loss: 0.1797 - acc: 0.9316 - val_loss: 0.3314 - val_acc: 0.8800\n",
      "Epoch 101/200\n",
      "6800/6800 [==============================] - 1s 110us/step - loss: 0.1851 - acc: 0.9287 - val_loss: 0.3314 - val_acc: 0.8700\n",
      "Epoch 102/200\n",
      "6800/6800 [==============================] - 1s 109us/step - loss: 0.1850 - acc: 0.9309 - val_loss: 0.3406 - val_acc: 0.8683\n",
      "Epoch 103/200\n",
      "6800/6800 [==============================] - 1s 110us/step - loss: 0.1840 - acc: 0.9294 - val_loss: 0.3256 - val_acc: 0.8842\n",
      "Epoch 104/200\n",
      "6800/6800 [==============================] - 1s 109us/step - loss: 0.1752 - acc: 0.9313 - val_loss: 0.3402 - val_acc: 0.8758\n",
      "Epoch 105/200\n",
      "6800/6800 [==============================] - 1s 110us/step - loss: 0.1783 - acc: 0.9319 - val_loss: 0.3279 - val_acc: 0.8875\n",
      "Epoch 106/200\n",
      "6800/6800 [==============================] - 1s 110us/step - loss: 0.1800 - acc: 0.9307 - val_loss: 0.3356 - val_acc: 0.8808\n",
      "Epoch 107/200\n",
      "6800/6800 [==============================] - 1s 109us/step - loss: 0.1760 - acc: 0.9318 - val_loss: 0.3287 - val_acc: 0.8775\n",
      "Epoch 108/200\n",
      "6800/6800 [==============================] - 1s 109us/step - loss: 0.1774 - acc: 0.9288 - val_loss: 0.3371 - val_acc: 0.8775\n",
      "Epoch 109/200\n",
      "6800/6800 [==============================] - 1s 111us/step - loss: 0.1692 - acc: 0.9359 - val_loss: 0.3337 - val_acc: 0.8792\n",
      "Epoch 110/200\n",
      "6800/6800 [==============================] - 1s 111us/step - loss: 0.1735 - acc: 0.9344 - val_loss: 0.3301 - val_acc: 0.8808\n",
      "Epoch 111/200\n",
      "6800/6800 [==============================] - 1s 112us/step - loss: 0.1709 - acc: 0.9371 - val_loss: 0.3391 - val_acc: 0.8750\n",
      "Epoch 112/200\n",
      "6800/6800 [==============================] - 1s 110us/step - loss: 0.1630 - acc: 0.9399 - val_loss: 0.3285 - val_acc: 0.8833\n",
      "Epoch 113/200\n",
      "6800/6800 [==============================] - 1s 110us/step - loss: 0.1628 - acc: 0.9362 - val_loss: 0.3340 - val_acc: 0.8817\n",
      "Epoch 114/200\n",
      "6800/6800 [==============================] - 1s 111us/step - loss: 0.1667 - acc: 0.9369 - val_loss: 0.3276 - val_acc: 0.8842\n",
      "Epoch 115/200\n",
      "6800/6800 [==============================] - 1s 109us/step - loss: 0.1573 - acc: 0.9422 - val_loss: 0.3333 - val_acc: 0.8808\n",
      "Epoch 116/200\n",
      "6800/6800 [==============================] - 1s 109us/step - loss: 0.1639 - acc: 0.9376 - val_loss: 0.3373 - val_acc: 0.8825\n",
      "Epoch 117/200\n",
      "6800/6800 [==============================] - 1s 106us/step - loss: 0.1534 - acc: 0.9444 - val_loss: 0.3332 - val_acc: 0.8817\n",
      "Epoch 118/200\n",
      "6800/6800 [==============================] - 1s 109us/step - loss: 0.1555 - acc: 0.9418 - val_loss: 0.3404 - val_acc: 0.8783\n",
      "Epoch 119/200\n",
      "6800/6800 [==============================] - 1s 110us/step - loss: 0.1581 - acc: 0.9391 - val_loss: 0.3537 - val_acc: 0.8658\n",
      "Epoch 120/200\n",
      "6800/6800 [==============================] - 1s 110us/step - loss: 0.1595 - acc: 0.9374 - val_loss: 0.3381 - val_acc: 0.8833\n",
      "Epoch 121/200\n",
      "6800/6800 [==============================] - 1s 110us/step - loss: 0.1525 - acc: 0.9434 - val_loss: 0.3361 - val_acc: 0.8808\n",
      "Epoch 122/200\n",
      "6800/6800 [==============================] - 1s 109us/step - loss: 0.1610 - acc: 0.9379 - val_loss: 0.3391 - val_acc: 0.8808\n",
      "Epoch 123/200\n",
      "6800/6800 [==============================] - 1s 111us/step - loss: 0.1508 - acc: 0.9449 - val_loss: 0.3378 - val_acc: 0.8817\n",
      "Epoch 124/200\n",
      "6800/6800 [==============================] - 1s 112us/step - loss: 0.1532 - acc: 0.9409 - val_loss: 0.3369 - val_acc: 0.8842\n",
      "Epoch 125/200\n",
      "6800/6800 [==============================] - 1s 109us/step - loss: 0.1544 - acc: 0.9431 - val_loss: 0.3333 - val_acc: 0.8817\n",
      "Epoch 126/200\n",
      "6800/6800 [==============================] - 1s 109us/step - loss: 0.1547 - acc: 0.9410 - val_loss: 0.3410 - val_acc: 0.8775\n",
      "Epoch 127/200\n",
      "6800/6800 [==============================] - 1s 111us/step - loss: 0.1517 - acc: 0.9421 - val_loss: 0.3431 - val_acc: 0.8792\n",
      "Epoch 128/200\n",
      "6800/6800 [==============================] - 1s 110us/step - loss: 0.1474 - acc: 0.9469 - val_loss: 0.3439 - val_acc: 0.8767\n",
      "Epoch 129/200\n",
      "6800/6800 [==============================] - 1s 110us/step - loss: 0.1473 - acc: 0.9449 - val_loss: 0.3318 - val_acc: 0.8858\n",
      "Epoch 130/200\n",
      "6800/6800 [==============================] - 1s 110us/step - loss: 0.1500 - acc: 0.9409 - val_loss: 0.3345 - val_acc: 0.8833\n",
      "Epoch 131/200\n",
      "6800/6800 [==============================] - 1s 109us/step - loss: 0.1481 - acc: 0.9462 - val_loss: 0.3360 - val_acc: 0.8883\n",
      "Epoch 132/200\n",
      "6800/6800 [==============================] - 1s 109us/step - loss: 0.1454 - acc: 0.9440 - val_loss: 0.3409 - val_acc: 0.8758\n",
      "Epoch 133/200\n",
      "6800/6800 [==============================] - 1s 108us/step - loss: 0.1426 - acc: 0.9474 - val_loss: 0.3341 - val_acc: 0.8850\n",
      "Epoch 134/200\n",
      "6800/6800 [==============================] - 1s 109us/step - loss: 0.1348 - acc: 0.9501 - val_loss: 0.3393 - val_acc: 0.8867\n",
      "Epoch 135/200\n",
      "6800/6800 [==============================] - 1s 110us/step - loss: 0.1460 - acc: 0.9416 - val_loss: 0.3472 - val_acc: 0.8800\n",
      "Epoch 136/200\n",
      "6800/6800 [==============================] - 1s 112us/step - loss: 0.1299 - acc: 0.9521 - val_loss: 0.3401 - val_acc: 0.8842\n",
      "Epoch 137/200\n",
      "6800/6800 [==============================] - 1s 108us/step - loss: 0.1346 - acc: 0.9490 - val_loss: 0.3455 - val_acc: 0.8867\n",
      "Epoch 138/200\n",
      "6800/6800 [==============================] - 1s 111us/step - loss: 0.1389 - acc: 0.9472 - val_loss: 0.3565 - val_acc: 0.8842\n",
      "Epoch 139/200\n",
      "6800/6800 [==============================] - 1s 108us/step - loss: 0.1396 - acc: 0.9466 - val_loss: 0.3468 - val_acc: 0.8800\n",
      "Epoch 140/200\n",
      "6800/6800 [==============================] - 1s 108us/step - loss: 0.1381 - acc: 0.9474 - val_loss: 0.3429 - val_acc: 0.8867\n",
      "Epoch 141/200\n",
      "6800/6800 [==============================] - 1s 111us/step - loss: 0.1349 - acc: 0.9506 - val_loss: 0.3484 - val_acc: 0.8842\n",
      "Epoch 142/200\n",
      "6800/6800 [==============================] - 1s 108us/step - loss: 0.1339 - acc: 0.9509 - val_loss: 0.3497 - val_acc: 0.8842\n",
      "Epoch 143/200\n",
      "6800/6800 [==============================] - 1s 110us/step - loss: 0.1304 - acc: 0.9500 - val_loss: 0.3521 - val_acc: 0.8842\n",
      "Epoch 144/200\n",
      "6800/6800 [==============================] - 1s 107us/step - loss: 0.1245 - acc: 0.9518 - val_loss: 0.3489 - val_acc: 0.8833\n",
      "Epoch 145/200\n",
      "6800/6800 [==============================] - 1s 108us/step - loss: 0.1253 - acc: 0.9500 - val_loss: 0.3561 - val_acc: 0.8842\n",
      "Epoch 146/200\n",
      "6800/6800 [==============================] - 1s 109us/step - loss: 0.1358 - acc: 0.9496 - val_loss: 0.3563 - val_acc: 0.8767\n",
      "Epoch 147/200\n",
      "6800/6800 [==============================] - 1s 110us/step - loss: 0.1298 - acc: 0.9529 - val_loss: 0.3552 - val_acc: 0.8800\n",
      "Epoch 148/200\n",
      "6800/6800 [==============================] - 1s 109us/step - loss: 0.1292 - acc: 0.9518 - val_loss: 0.3522 - val_acc: 0.8767\n",
      "Epoch 149/200\n",
      "6800/6800 [==============================] - 1s 110us/step - loss: 0.1256 - acc: 0.9547 - val_loss: 0.3490 - val_acc: 0.8808\n",
      "Epoch 150/200\n",
      "6800/6800 [==============================] - 1s 110us/step - loss: 0.1269 - acc: 0.9478 - val_loss: 0.3556 - val_acc: 0.8767\n",
      "Epoch 151/200\n",
      "6800/6800 [==============================] - 1s 108us/step - loss: 0.1255 - acc: 0.9516 - val_loss: 0.3563 - val_acc: 0.8825\n",
      "Epoch 152/200\n",
      "6800/6800 [==============================] - 1s 112us/step - loss: 0.1219 - acc: 0.9562 - val_loss: 0.3655 - val_acc: 0.8725\n",
      "Epoch 153/200\n",
      "6800/6800 [==============================] - 1s 110us/step - loss: 0.1199 - acc: 0.9565 - val_loss: 0.3612 - val_acc: 0.8833\n",
      "Epoch 154/200\n",
      "6800/6800 [==============================] - 1s 110us/step - loss: 0.1165 - acc: 0.9588 - val_loss: 0.3469 - val_acc: 0.8808\n",
      "Epoch 155/200\n",
      "6800/6800 [==============================] - 1s 109us/step - loss: 0.1230 - acc: 0.9553 - val_loss: 0.3532 - val_acc: 0.8900\n",
      "Epoch 156/200\n",
      "6800/6800 [==============================] - 1s 109us/step - loss: 0.1188 - acc: 0.9572 - val_loss: 0.3661 - val_acc: 0.8858\n",
      "Epoch 157/200\n",
      "6800/6800 [==============================] - 1s 110us/step - loss: 0.1179 - acc: 0.9551 - val_loss: 0.3615 - val_acc: 0.8833\n",
      "Epoch 158/200\n",
      "6800/6800 [==============================] - 1s 110us/step - loss: 0.1210 - acc: 0.9526 - val_loss: 0.3571 - val_acc: 0.8842\n",
      "Epoch 159/200\n",
      "6800/6800 [==============================] - 1s 111us/step - loss: 0.1151 - acc: 0.9576 - val_loss: 0.3568 - val_acc: 0.8800\n",
      "Epoch 160/200\n",
      "6800/6800 [==============================] - 1s 111us/step - loss: 0.1141 - acc: 0.9557 - val_loss: 0.3536 - val_acc: 0.8817\n",
      "Epoch 161/200\n",
      "6800/6800 [==============================] - 1s 112us/step - loss: 0.1145 - acc: 0.9582 - val_loss: 0.3613 - val_acc: 0.8850\n",
      "Epoch 162/200\n",
      "6800/6800 [==============================] - 1s 109us/step - loss: 0.1150 - acc: 0.9551 - val_loss: 0.3650 - val_acc: 0.8792\n",
      "Epoch 163/200\n",
      "6800/6800 [==============================] - 1s 112us/step - loss: 0.1072 - acc: 0.9597 - val_loss: 0.3600 - val_acc: 0.8792\n",
      "Epoch 164/200\n",
      "6800/6800 [==============================] - 1s 111us/step - loss: 0.1103 - acc: 0.9575 - val_loss: 0.3660 - val_acc: 0.8842\n",
      "Epoch 165/200\n",
      "6800/6800 [==============================] - 1s 111us/step - loss: 0.1071 - acc: 0.9626 - val_loss: 0.3665 - val_acc: 0.8850\n",
      "Epoch 166/200\n",
      "6800/6800 [==============================] - 1s 112us/step - loss: 0.1100 - acc: 0.9590 - val_loss: 0.3663 - val_acc: 0.8783\n",
      "Epoch 167/200\n",
      "6800/6800 [==============================] - 1s 112us/step - loss: 0.1163 - acc: 0.9568 - val_loss: 0.3597 - val_acc: 0.8742\n",
      "Epoch 168/200\n",
      "6800/6800 [==============================] - 1s 110us/step - loss: 0.1056 - acc: 0.9624 - val_loss: 0.3563 - val_acc: 0.8792\n",
      "Epoch 169/200\n",
      "6800/6800 [==============================] - 1s 110us/step - loss: 0.1113 - acc: 0.9566 - val_loss: 0.3697 - val_acc: 0.8850\n",
      "Epoch 170/200\n",
      "6800/6800 [==============================] - 1s 109us/step - loss: 0.1067 - acc: 0.9618 - val_loss: 0.3713 - val_acc: 0.8808\n",
      "Epoch 171/200\n",
      "6800/6800 [==============================] - 1s 111us/step - loss: 0.1085 - acc: 0.9601 - val_loss: 0.3640 - val_acc: 0.8842\n",
      "Epoch 172/200\n",
      "6800/6800 [==============================] - 1s 111us/step - loss: 0.1080 - acc: 0.9599 - val_loss: 0.3617 - val_acc: 0.8750\n",
      "Epoch 173/200\n",
      "6800/6800 [==============================] - 1s 112us/step - loss: 0.1044 - acc: 0.9624 - val_loss: 0.3717 - val_acc: 0.8867\n",
      "Epoch 174/200\n",
      "6800/6800 [==============================] - 1s 109us/step - loss: 0.1055 - acc: 0.9607 - val_loss: 0.3708 - val_acc: 0.8775\n",
      "Epoch 175/200\n",
      "6800/6800 [==============================] - 1s 111us/step - loss: 0.0951 - acc: 0.9665 - val_loss: 0.3812 - val_acc: 0.8833\n",
      "Epoch 176/200\n",
      "6800/6800 [==============================] - 1s 111us/step - loss: 0.1002 - acc: 0.9624 - val_loss: 0.3661 - val_acc: 0.8867\n",
      "Epoch 177/200\n",
      "6800/6800 [==============================] - 1s 110us/step - loss: 0.1004 - acc: 0.9625 - val_loss: 0.3680 - val_acc: 0.8833\n",
      "Epoch 178/200\n",
      "6800/6800 [==============================] - 1s 110us/step - loss: 0.0999 - acc: 0.9618 - val_loss: 0.3767 - val_acc: 0.8800\n",
      "Epoch 179/200\n",
      "6800/6800 [==============================] - 1s 109us/step - loss: 0.0967 - acc: 0.9643 - val_loss: 0.3653 - val_acc: 0.8808\n",
      "Epoch 180/200\n",
      "6800/6800 [==============================] - 1s 110us/step - loss: 0.1060 - acc: 0.9601 - val_loss: 0.3756 - val_acc: 0.8792\n",
      "Epoch 181/200\n",
      "6800/6800 [==============================] - 1s 110us/step - loss: 0.0940 - acc: 0.9679 - val_loss: 0.3737 - val_acc: 0.8825\n",
      "Epoch 182/200\n",
      "6800/6800 [==============================] - 1s 111us/step - loss: 0.1062 - acc: 0.9609 - val_loss: 0.3731 - val_acc: 0.8758\n",
      "Epoch 183/200\n",
      "6800/6800 [==============================] - 1s 109us/step - loss: 0.0995 - acc: 0.9603 - val_loss: 0.3681 - val_acc: 0.8850\n",
      "Epoch 184/200\n",
      "6800/6800 [==============================] - 1s 109us/step - loss: 0.0983 - acc: 0.9650 - val_loss: 0.3789 - val_acc: 0.8833\n",
      "Epoch 185/200\n",
      "6800/6800 [==============================] - 1s 110us/step - loss: 0.0995 - acc: 0.9635 - val_loss: 0.3717 - val_acc: 0.8842\n",
      "Epoch 186/200\n",
      "6800/6800 [==============================] - 1s 110us/step - loss: 0.0930 - acc: 0.9672 - val_loss: 0.3688 - val_acc: 0.8850\n",
      "Epoch 187/200\n",
      "6800/6800 [==============================] - 1s 112us/step - loss: 0.1013 - acc: 0.9624 - val_loss: 0.3716 - val_acc: 0.8833\n",
      "Epoch 188/200\n",
      "6800/6800 [==============================] - 1s 110us/step - loss: 0.0960 - acc: 0.9635 - val_loss: 0.3752 - val_acc: 0.8883\n",
      "Epoch 189/200\n",
      "6800/6800 [==============================] - 1s 110us/step - loss: 0.0974 - acc: 0.9644 - val_loss: 0.3735 - val_acc: 0.8758\n",
      "Epoch 190/200\n",
      "6800/6800 [==============================] - 1s 109us/step - loss: 0.0926 - acc: 0.9672 - val_loss: 0.3770 - val_acc: 0.8867\n",
      "Epoch 191/200\n",
      "6800/6800 [==============================] - 1s 109us/step - loss: 0.0953 - acc: 0.9638 - val_loss: 0.3751 - val_acc: 0.8933\n",
      "Epoch 192/200\n",
      "6800/6800 [==============================] - 1s 109us/step - loss: 0.0930 - acc: 0.9634 - val_loss: 0.3811 - val_acc: 0.8775\n",
      "Epoch 193/200\n",
      "6800/6800 [==============================] - 1s 110us/step - loss: 0.1037 - acc: 0.9607 - val_loss: 0.3726 - val_acc: 0.8858\n",
      "Epoch 194/200\n",
      "6800/6800 [==============================] - 1s 110us/step - loss: 0.0951 - acc: 0.9650 - val_loss: 0.3762 - val_acc: 0.8833\n",
      "Epoch 195/200\n",
      "6800/6800 [==============================] - 1s 110us/step - loss: 0.0889 - acc: 0.9659 - val_loss: 0.3754 - val_acc: 0.8800\n",
      "Epoch 196/200\n",
      "6800/6800 [==============================] - 1s 108us/step - loss: 0.0908 - acc: 0.9656 - val_loss: 0.3858 - val_acc: 0.8858\n",
      "Epoch 197/200\n",
      "6800/6800 [==============================] - 1s 112us/step - loss: 0.0899 - acc: 0.9651 - val_loss: 0.3915 - val_acc: 0.8817\n",
      "Epoch 198/200\n",
      "6800/6800 [==============================] - 1s 110us/step - loss: 0.0924 - acc: 0.9663 - val_loss: 0.3851 - val_acc: 0.8825\n",
      "Epoch 199/200\n",
      "6800/6800 [==============================] - 1s 110us/step - loss: 0.0921 - acc: 0.9666 - val_loss: 0.3847 - val_acc: 0.8817\n",
      "Epoch 200/200\n",
      "6800/6800 [==============================] - 1s 109us/step - loss: 0.0877 - acc: 0.9676 - val_loss: 0.3834 - val_acc: 0.8842\n"
     ]
    }
   ],
   "source": [
    "hist_improved = model_improved.fit(X_train, Y_train, epochs=200, batch_size=256, validation_data=(X_test, Y_test), callbacks=[checkpoint])"
   ]
  },
  {
   "cell_type": "markdown",
   "metadata": {
    "colab_type": "text",
    "id": "iXBlR_0-3ooW"
   },
   "source": [
    "### We have saved our best model."
   ]
  },
  {
   "cell_type": "markdown",
   "metadata": {
    "colab_type": "text",
    "id": "LM2HBWCZB2eG"
   },
   "source": [
    "## Evaluation"
   ]
  },
  {
   "cell_type": "code",
   "execution_count": 47,
   "metadata": {
    "colab": {
     "base_uri": "https://localhost:8080/",
     "height": 51
    },
    "colab_type": "code",
    "id": "_vA1ZI5e349z",
    "outputId": "145fbd83-84d3-4286-84b1-9ea57fe05dd3"
   },
   "outputs": [
    {
     "name": "stdout",
     "output_type": "stream",
     "text": [
      "1200/1200 [==============================] - 0s 124us/step\n"
     ]
    },
    {
     "data": {
      "text/plain": [
       "[0.383438996647795, 0.8841666666666667]"
      ]
     },
     "execution_count": 47,
     "metadata": {
      "tags": []
     },
     "output_type": "execute_result"
    }
   ],
   "source": [
    "model_improved.evaluate(X_test, Y_test)"
   ]
  },
  {
   "cell_type": "code",
   "execution_count": 48,
   "metadata": {
    "colab": {
     "base_uri": "https://localhost:8080/",
     "height": 51
    },
    "colab_type": "code",
    "id": "bQguizH_4A8B",
    "outputId": "8adcb591-aa8e-4582-beaa-281f626d0afb"
   },
   "outputs": [
    {
     "name": "stdout",
     "output_type": "stream",
     "text": [
      "6800/6800 [==============================] - 1s 107us/step\n"
     ]
    },
    {
     "data": {
      "text/plain": [
       "[0.016163252339260106, 0.9988235294117647]"
      ]
     },
     "execution_count": 48,
     "metadata": {
      "tags": []
     },
     "output_type": "execute_result"
    }
   ],
   "source": [
    "model_improved.evaluate(X_train, Y_train)"
   ]
  },
  {
   "cell_type": "code",
   "execution_count": 0,
   "metadata": {
    "colab": {},
    "colab_type": "code",
    "id": "KN5Y0rqm4GB8"
   },
   "outputs": [],
   "source": [
    "#print(np.unique(XTest))"
   ]
  },
  {
   "cell_type": "markdown",
   "metadata": {},
   "source": [
    "### Reshaping given test data for prediction"
   ]
  },
  {
   "cell_type": "code",
   "execution_count": 50,
   "metadata": {
    "colab": {
     "base_uri": "https://localhost:8080/",
     "height": 34
    },
    "colab_type": "code",
    "id": "w4quUcDQ4ten",
    "outputId": "401563a9-03e7-4a38-d0dd-38c1e937c0c2"
   },
   "outputs": [
    {
     "name": "stdout",
     "output_type": "stream",
     "text": [
      "(2000, 28, 28, 1)\n"
     ]
    }
   ],
   "source": [
    "XTest = XTest.reshape((-1, 28, 28, 1))\n",
    "print(XTest.shape)"
   ]
  },
  {
   "cell_type": "markdown",
   "metadata": {
    "colab_type": "text",
    "id": "4w7_9L06B-Ur"
   },
   "source": [
    "## Writing the predicted outputs to a .csv file"
   ]
  },
  {
   "cell_type": "code",
   "execution_count": 51,
   "metadata": {
    "colab": {
     "base_uri": "https://localhost:8080/",
     "height": 34
    },
    "colab_type": "code",
    "id": "Q4X_bL8g-PTh",
    "outputId": "a9e74308-22bd-4fe6-d76e-4102ac9fbddd"
   },
   "outputs": [
    {
     "name": "stdout",
     "output_type": "stream",
     "text": [
      "2000\n"
     ]
    }
   ],
   "source": [
    "count_0 = 0\n",
    "count_2 = 0\n",
    "count_3 = 0\n",
    "count_6 = 0\n",
    "predictions = []\n",
    "\n",
    "with open('cheshta_kwatra.csv', 'w', newline='\\n') as f:\n",
    "  writer = csv.writer(f)\n",
    "  writer.writerow(['image_index', 'class'])     #writing the first row\n",
    "  \n",
    "  for i in range(XTest.shape[0]):\n",
    "    pred = model.predict_classes(XTest[i].reshape(1,28,28,1))\n",
    "    if pred[0] == 0:\n",
    "      count_0 += 1\n",
    "      \n",
    "    elif pred[0] == 1:\n",
    "      pred[0] = 2        #changing to the original given labels\n",
    "      count_2 += 1\n",
    "      \n",
    "    elif pred[0] == 2:\n",
    "      pred[0] = 3\n",
    "      count_3 += 1\n",
    "      \n",
    "    elif pred[0] == 3:\n",
    "      pred[0] = 6\n",
    "      count_6 += 1\n",
    "    \n",
    "    else:\n",
    "      print(pred[0])\n",
    "      print('--------')\n",
    "      \n",
    "    line = [i, pred[0]]\n",
    "    writer.writerow(line)\n",
    "    predictions.append(pred[0])\n",
    "  \n",
    "  print(len(predictions))\n",
    "\n",
    "f.close()"
   ]
  },
  {
   "cell_type": "markdown",
   "metadata": {
    "colab_type": "text",
    "id": "c86n4xQTCGGq"
   },
   "source": [
    "## Downloading the models and .csv files\n",
    "Since I'm working on Google Colab, I need to download files generated on Google Colab onto my local computer"
   ]
  },
  {
   "cell_type": "code",
   "execution_count": 0,
   "metadata": {
    "colab": {},
    "colab_type": "code",
    "id": "vqOIOMkIBItm"
   },
   "outputs": [],
   "source": [
    "files.download('cheshta_kwatra.csv') "
   ]
  },
  {
   "cell_type": "code",
   "execution_count": 0,
   "metadata": {
    "colab": {},
    "colab_type": "code",
    "id": "LHbd8nivBbzt"
   },
   "outputs": [],
   "source": [
    "files.download('my_model.h5') "
   ]
  },
  {
   "cell_type": "code",
   "execution_count": 0,
   "metadata": {
    "colab": {},
    "colab_type": "code",
    "id": "Zp4f4OHyBq7t"
   },
   "outputs": [],
   "source": [
    "files.download('best_model.h5') "
   ]
  },
  {
   "cell_type": "code",
   "execution_count": 0,
   "metadata": {
    "colab": {},
    "colab_type": "code",
    "id": "U0pikWkVBwgm"
   },
   "outputs": [],
   "source": []
  }
 ],
 "metadata": {
  "accelerator": "GPU",
  "colab": {
   "collapsed_sections": [],
   "name": "CV_problem_final.ipynb",
   "provenance": [],
   "version": "0.3.2"
  },
  "kernelspec": {
   "display_name": "Python 3",
   "language": "python",
   "name": "python3"
  },
  "language_info": {
   "codemirror_mode": {
    "name": "ipython",
    "version": 3
   },
   "file_extension": ".py",
   "mimetype": "text/x-python",
   "name": "python",
   "nbconvert_exporter": "python",
   "pygments_lexer": "ipython3",
   "version": "3.6.8"
  }
 },
 "nbformat": 4,
 "nbformat_minor": 1
}
