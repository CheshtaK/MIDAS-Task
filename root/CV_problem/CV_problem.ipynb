{
 "cells": [
  {
   "cell_type": "markdown",
   "metadata": {},
   "source": [
    "## Import libraries"
   ]
  },
  {
   "cell_type": "code",
   "execution_count": 29,
   "metadata": {},
   "outputs": [],
   "source": [
    "import pickle\n",
    "import numpy as np\n",
    "import matplotlib.pyplot as plt\n",
    "\n",
    "#Visualization\n",
    "from visualize import plot_confusion_matrix\n",
    "from sklearn.metrics import confusion_matrix\n",
    "\n",
    "#To convert Y to one-hot-vector notation\n",
    "from keras.utils import np_utils\n",
    "\n",
    "#Used for CNN Model\n",
    "from keras.models import Sequential\n",
    "from keras.layers import Input, Convolution2D, MaxPooling2D, Flatten, Dense, Dropout\n",
    "from keras import optimizers"
   ]
  },
  {
   "cell_type": "markdown",
   "metadata": {},
   "source": [
    "## Unpacking .pkl files"
   ]
  },
  {
   "cell_type": "code",
   "execution_count": 2,
   "metadata": {},
   "outputs": [],
   "source": [
    "with open('train_image.pkl', 'rb') as f:\n",
    "    X = pickle.load(f)\n",
    "\n",
    "X = np.array(X)"
   ]
  },
  {
   "cell_type": "code",
   "execution_count": 3,
   "metadata": {},
   "outputs": [
    {
     "name": "stdout",
     "output_type": "stream",
     "text": [
      "<class 'numpy.ndarray'>\n",
      "8000\n"
     ]
    }
   ],
   "source": [
    "print(type(X))\n",
    "print(len(X))"
   ]
  },
  {
   "cell_type": "code",
   "execution_count": 4,
   "metadata": {},
   "outputs": [],
   "source": [
    "#print(X[0])"
   ]
  },
  {
   "cell_type": "code",
   "execution_count": 5,
   "metadata": {},
   "outputs": [],
   "source": [
    "with open('train_label.pkl', 'rb') as f:\n",
    "    Y = pickle.load(f)\n",
    "\n",
    "Y = np.array(Y)"
   ]
  },
  {
   "cell_type": "code",
   "execution_count": 6,
   "metadata": {},
   "outputs": [
    {
     "name": "stdout",
     "output_type": "stream",
     "text": [
      "8000\n",
      "(array([0, 2, 3, 6]), array([2000, 2000, 2000, 2000], dtype=int64))\n"
     ]
    }
   ],
   "source": [
    "print(len(Y))\n",
    "print(np.unique(Y, return_counts=True))"
   ]
  },
  {
   "cell_type": "markdown",
   "metadata": {},
   "source": [
    "#### Since the labels are 0,2,3 and 6, we have to convert them to 0,1,2,3 so that they can be converted into one hot vectors to perform CNN"
   ]
  },
  {
   "cell_type": "code",
   "execution_count": 7,
   "metadata": {},
   "outputs": [
    {
     "name": "stdout",
     "output_type": "stream",
     "text": [
      "(array([0., 1., 2., 3.]), array([2000, 2000, 2000, 2000], dtype=int64))\n"
     ]
    }
   ],
   "source": [
    "Y = np.ceil(np.divide(Y,2))\n",
    "print(np.unique(Y, return_counts=True))"
   ]
  },
  {
   "cell_type": "code",
   "execution_count": 8,
   "metadata": {},
   "outputs": [],
   "source": [
    "#print(Y)"
   ]
  },
  {
   "cell_type": "code",
   "execution_count": 9,
   "metadata": {},
   "outputs": [],
   "source": [
    "with open('test_image.pkl', 'rb') as f:\n",
    "    XTest = pickle.load(f)\n",
    "\n",
    "XTest = np.array(XTest)"
   ]
  },
  {
   "cell_type": "code",
   "execution_count": 10,
   "metadata": {},
   "outputs": [
    {
     "name": "stdout",
     "output_type": "stream",
     "text": [
      "2000\n"
     ]
    }
   ],
   "source": [
    "print(len(XTest))"
   ]
  },
  {
   "cell_type": "code",
   "execution_count": 11,
   "metadata": {},
   "outputs": [
    {
     "name": "stdout",
     "output_type": "stream",
     "text": [
      "(8000, 784) (8000,)\n"
     ]
    }
   ],
   "source": [
    "print(X.shape, Y.shape)"
   ]
  },
  {
   "cell_type": "code",
   "execution_count": 12,
   "metadata": {},
   "outputs": [
    {
     "name": "stdout",
     "output_type": "stream",
     "text": [
      "(8000, 28, 28, 1) (8000, 4)\n"
     ]
    }
   ],
   "source": [
    "# Since CNN accepts input in the form of images therefore we reshape our training data\n",
    "X = X.reshape((-1,28,28,1))\n",
    "Y = np_utils.to_categorical(Y)\n",
    "\n",
    "print(X.shape, Y.shape)"
   ]
  },
  {
   "cell_type": "markdown",
   "metadata": {},
   "source": [
    "## Visualizing training data"
   ]
  },
  {
   "cell_type": "code",
   "execution_count": 16,
   "metadata": {},
   "outputs": [],
   "source": [
    "def drawImage(img):\n",
    "    plt.imshow(img.reshape(28,28), cmap='gray')\n",
    "    plt.axis('off')\n",
    "    plt.show()"
   ]
  },
  {
   "cell_type": "code",
   "execution_count": 18,
   "metadata": {},
   "outputs": [
    {
     "data": {
      "image/png": "[encoded data removed]",
      "text/plain": [
       "<Figure size 432x288 with 1 Axes>"
      ]
     },
     "metadata": {
      "needs_background": "light"
     },
     "output_type": "display_data"
    },
    {
     "data": {
      "image/png": "[encoded data removed]",
      "text/plain": [
       "<Figure size 432x288 with 1 Axes>"
      ]
     },
     "metadata": {
      "needs_background": "light"
     },
     "output_type": "display_data"
    },
    {
     "data": {
      "image/png": "[encoded data removed]",
      "text/plain": [
       "<Figure size 432x288 with 1 Axes>"
      ]
     },
     "metadata": {
      "needs_background": "light"
     },
     "output_type": "display_data"
    },
    {
     "data": {
      "image/png": "[encoded data removed]",
      "text/plain": [
       "<Figure size 432x288 with 1 Axes>"
      ]
     },
     "metadata": {
      "needs_background": "light"
     },
     "output_type": "display_data"
    },
    {
     "data": {
      "image/png": "[encoded data removed]",
      "text/plain": [
       "<Figure size 432x288 with 1 Axes>"
      ]
     },
     "metadata": {
      "needs_background": "light"
     },
     "output_type": "display_data"
    },
    {
     "data": {
      "image/png": "[encoded data removed]",
      "text/plain": [
       "<Figure size 432x288 with 1 Axes>"
      ]
     },
     "metadata": {
      "needs_background": "light"
     },
     "output_type": "display_data"
    },
    {
     "data": {
      "image/png": "[encoded data removed]",
      "text/plain": [
       "<Figure size 432x288 with 1 Axes>"
      ]
     },
     "metadata": {
      "needs_background": "light"
     },
     "output_type": "display_data"
    },
    {
     "data": {
      "image/png": "[encoded data removed]",
      "text/plain": [
       "<Figure size 432x288 with 1 Axes>"
      ]
     },
     "metadata": {
      "needs_background": "light"
     },
     "output_type": "display_data"
    },
    {
     "data": {
      "image/png": "[encoded data removed]",
      "text/plain": [
       "<Figure size 432x288 with 1 Axes>"
      ]
     },
     "metadata": {
      "needs_background": "light"
     },
     "output_type": "display_data"
    },
    {
     "data": {
      "image/png": "[encoded data removed]",
      "text/plain": [
       "<Figure size 432x288 with 1 Axes>"
      ]
     },
     "metadata": {
      "needs_background": "light"
     },
     "output_type": "display_data"
    }
   ],
   "source": [
    "for i in range(10):\n",
    "    drawImage(np.array(X[i]))"
   ]
  },
  {
   "cell_type": "markdown",
   "metadata": {},
   "source": [
    "### Convolutional Neural Networks\n",
    "\n",
    "* AlexNet - https://papers.nips.cc/paper/4824-imagenet-classification-with-deep-convolutional-neural-networks.pdf\n",
    "* ZFNet - https://cs.nyu.edu/~fergus/papers/zeilerECCV2014.pdf\n",
    "* GoogLeNet - https://www.cs.unc.edu/~wliu/papers/GoogLeNet.pdf\n",
    "* VGG Net - https://arxiv.org/pdf/1409.1556.pdf\n",
    "* ResNet - https://arxiv.org/pdf/1512.03385.pdf"
   ]
  },
  {
   "cell_type": "markdown",
   "metadata": {},
   "source": [
    "* **Convolution Layer**: Convolution Layers are made up of filters. Each filter extracts different features and creates a feature map. Feature maps are combined to form an output volume.\n",
    "\n",
    "    - Input - H x W x C\n",
    "    - Filter - F x F x C\n",
    "    - Ouput - (H-F+1) x (W-F+1) x k where k is the number of filters\n",
    "    - Number of parameters - k x F x F x C\n",
    "    \n",
    "\n",
    "* **Pooling Layer**: (Max-Pooling Layer) Slide an (f,f) window over the input and stores max value of the window in the output. Makes feature detectors more robust. No parameters for learning, only hyperparameters such as filter size and type of pooling\n",
    "\n",
    "\n",
    "* **Dropout Layer**: Used to prevent overfitting. Randomly turn off neurons in a layer with given probability\n",
    "\n",
    "\n",
    "* **Flatten Layer**: Reshapes a 3D input to 1D output\n",
    "\n",
    "\n",
    "* **Dense Layer**: "
   ]
  },
  {
   "cell_type": "markdown",
   "metadata": {},
   "source": [
    "## Building a CNN Model"
   ]
  },
  {
   "cell_type": "code",
   "execution_count": 42,
   "metadata": {},
   "outputs": [
    {
     "name": "stdout",
     "output_type": "stream",
     "text": [
      "_________________________________________________________________\n",
      "Layer (type)                 Output Shape              Param #   \n",
      "=================================================================\n",
      "conv2d_28 (Conv2D)           (None, 26, 26, 32)        320       \n",
      "_________________________________________________________________\n",
      "conv2d_29 (Conv2D)           (None, 24, 24, 64)        18496     \n",
      "_________________________________________________________________\n",
      "dropout_9 (Dropout)          (None, 24, 24, 64)        0         \n",
      "_________________________________________________________________\n",
      "max_pooling2d_9 (MaxPooling2 (None, 12, 12, 64)        0         \n",
      "_________________________________________________________________\n",
      "conv2d_30 (Conv2D)           (None, 10, 10, 64)        36928     \n",
      "_________________________________________________________________\n",
      "flatten_9 (Flatten)          (None, 6400)              0         \n",
      "_________________________________________________________________\n",
      "dense_9 (Dense)              (None, 4)                 25604     \n",
      "=================================================================\n",
      "Total params: 81,348\n",
      "Trainable params: 81,348\n",
      "Non-trainable params: 0\n",
      "_________________________________________________________________\n"
     ]
    }
   ],
   "source": [
    "model = Sequential()\n",
    "\n",
    "model.add(Convolution2D(32,(3,3),activation='relu',input_shape=(28,28,1)))  #Input size is provided only in the first layer\n",
    "model.add(Convolution2D(64,(3,3),activation='relu'))\n",
    "model.add(Dropout(0.25))\n",
    "model.add(MaxPooling2D(2,2))\n",
    "model.add(Convolution2D(64,(3,3),activation='relu'))\n",
    "model.add(Flatten())\n",
    "model.add(Dense(4, activation='softmax'))\n",
    "model.summary()"
   ]
  },
  {
   "cell_type": "code",
   "execution_count": 43,
   "metadata": {},
   "outputs": [],
   "source": [
    "## Optimizer\n",
    "adam = optimizers.adam(lr=1e-4)"
   ]
  },
  {
   "cell_type": "code",
   "execution_count": 44,
   "metadata": {},
   "outputs": [],
   "source": [
    "model.compile(loss='categorical_crossentropy', optimizer=adam, metrics=['accuracy'])"
   ]
  },
  {
   "cell_type": "code",
   "execution_count": 45,
   "metadata": {},
   "outputs": [
    {
     "name": "stdout",
     "output_type": "stream",
     "text": [
      "Train on 6400 samples, validate on 1600 samples\n",
      "Epoch 1/100\n",
      "6400/6400 [==============================] - 37s 6ms/step - loss: 4.3649 - acc: 0.5516 - val_loss: 7.3243 - val_acc: 0.0869\n",
      "Epoch 2/100\n",
      "6400/6400 [==============================] - 35s 5ms/step - loss: 1.3549 - acc: 0.8120 - val_loss: 6.8560 - val_acc: 0.0725\n",
      "Epoch 3/100\n",
      "6400/6400 [==============================] - 35s 5ms/step - loss: 1.1158 - acc: 0.8281 - val_loss: 6.0333 - val_acc: 0.1094\n",
      "Epoch 4/100\n",
      "6400/6400 [==============================] - 43s 7ms/step - loss: 0.9927 - acc: 0.8298 - val_loss: 3.3628 - val_acc: 0.2856\n",
      "Epoch 5/100\n",
      "6400/6400 [==============================] - 37s 6ms/step - loss: 0.8189 - acc: 0.8387 - val_loss: 3.3102 - val_acc: 0.2525\n",
      "Epoch 6/100\n",
      "6400/6400 [==============================] - 41s 6ms/step - loss: 0.7180 - acc: 0.8425 - val_loss: 3.1662 - val_acc: 0.2456\n",
      "Epoch 7/100\n",
      "6400/6400 [==============================] - 37s 6ms/step - loss: 0.6793 - acc: 0.8453 - val_loss: 3.4352 - val_acc: 0.1700\n",
      "Epoch 8/100\n",
      "6400/6400 [==============================] - 38s 6ms/step - loss: 0.6211 - acc: 0.8536 - val_loss: 2.5737 - val_acc: 0.3531\n",
      "Epoch 9/100\n",
      "6400/6400 [==============================] - 38s 6ms/step - loss: 0.5656 - acc: 0.8608 - val_loss: 2.1197 - val_acc: 0.3962\n",
      "Epoch 10/100\n",
      "6400/6400 [==============================] - 39s 6ms/step - loss: 0.5366 - acc: 0.8631 - val_loss: 3.5273 - val_acc: 0.1888\n",
      "Epoch 11/100\n",
      "6400/6400 [==============================] - 37s 6ms/step - loss: 0.4997 - acc: 0.8731 - val_loss: 2.2226 - val_acc: 0.3719\n",
      "Epoch 12/100\n",
      "6400/6400 [==============================] - 39s 6ms/step - loss: 0.5034 - acc: 0.8681 - val_loss: 2.6299 - val_acc: 0.2494\n",
      "Epoch 13/100\n",
      "6400/6400 [==============================] - 36s 6ms/step - loss: 0.4623 - acc: 0.8734 - val_loss: 2.0355 - val_acc: 0.3787\n",
      "Epoch 14/100\n",
      "6400/6400 [==============================] - 36s 6ms/step - loss: 0.4182 - acc: 0.8809 - val_loss: 2.0430 - val_acc: 0.3987\n",
      "Epoch 15/100\n",
      "6400/6400 [==============================] - 37s 6ms/step - loss: 0.4097 - acc: 0.8808 - val_loss: 1.9965 - val_acc: 0.3781\n",
      "Epoch 16/100\n",
      "6400/6400 [==============================] - 37s 6ms/step - loss: 0.3790 - acc: 0.8930 - val_loss: 2.2785 - val_acc: 0.3181\n",
      "Epoch 17/100\n",
      "6400/6400 [==============================] - 38s 6ms/step - loss: 0.3797 - acc: 0.8844 - val_loss: 1.7059 - val_acc: 0.4531\n",
      "Epoch 18/100\n",
      "6400/6400 [==============================] - 36s 6ms/step - loss: 0.3601 - acc: 0.8944 - val_loss: 1.5837 - val_acc: 0.4738\n",
      "Epoch 19/100\n",
      "6400/6400 [==============================] - 36s 6ms/step - loss: 0.3288 - acc: 0.8962 - val_loss: 2.0161 - val_acc: 0.3675\n",
      "Epoch 20/100\n",
      "6400/6400 [==============================] - 36s 6ms/step - loss: 0.3107 - acc: 0.9006 - val_loss: 2.0667 - val_acc: 0.3663\n",
      "Epoch 21/100\n",
      "6400/6400 [==============================] - 36s 6ms/step - loss: 0.2926 - acc: 0.9089 - val_loss: 1.7899 - val_acc: 0.4163\n",
      "Epoch 22/100\n",
      "6400/6400 [==============================] - 36s 6ms/step - loss: 0.2901 - acc: 0.9055 - val_loss: 2.3504 - val_acc: 0.3100\n",
      "Epoch 23/100\n",
      "6400/6400 [==============================] - 38s 6ms/step - loss: 0.2887 - acc: 0.9088 - val_loss: 2.4147 - val_acc: 0.3194\n",
      "Epoch 24/100\n",
      "6400/6400 [==============================] - 37s 6ms/step - loss: 0.2665 - acc: 0.9127 - val_loss: 1.7828 - val_acc: 0.4150\n",
      "Epoch 25/100\n",
      "6400/6400 [==============================] - 39s 6ms/step - loss: 0.2693 - acc: 0.9127 - val_loss: 2.0186 - val_acc: 0.3837\n",
      "Epoch 26/100\n",
      "6400/6400 [==============================] - 36s 6ms/step - loss: 0.2487 - acc: 0.9180 - val_loss: 2.1168 - val_acc: 0.3513\n",
      "Epoch 27/100\n",
      "6400/6400 [==============================] - 37s 6ms/step - loss: 0.2429 - acc: 0.9223 - val_loss: 2.0120 - val_acc: 0.3831\n",
      "Epoch 28/100\n",
      "6400/6400 [==============================] - 38s 6ms/step - loss: 0.2382 - acc: 0.9211 - val_loss: 1.7663 - val_acc: 0.4450\n",
      "Epoch 29/100\n",
      "6400/6400 [==============================] - 36s 6ms/step - loss: 0.2340 - acc: 0.9250 - val_loss: 1.9649 - val_acc: 0.3831\n",
      "Epoch 30/100\n",
      "6400/6400 [==============================] - 36s 6ms/step - loss: 0.2185 - acc: 0.9269 - val_loss: 1.5056 - val_acc: 0.5075\n",
      "Epoch 31/100\n",
      "6400/6400 [==============================] - 39s 6ms/step - loss: 0.2158 - acc: 0.9250 - val_loss: 1.5249 - val_acc: 0.4881\n",
      "Epoch 32/100\n",
      "6400/6400 [==============================] - 37s 6ms/step - loss: 0.2027 - acc: 0.9288 - val_loss: 1.9129 - val_acc: 0.4106\n",
      "Epoch 33/100\n",
      "6400/6400 [==============================] - 37s 6ms/step - loss: 0.2016 - acc: 0.9309 - val_loss: 1.4480 - val_acc: 0.5312\n",
      "Epoch 34/100\n",
      "6400/6400 [==============================] - 36s 6ms/step - loss: 0.2110 - acc: 0.9255 - val_loss: 1.5648 - val_acc: 0.5062\n",
      "Epoch 35/100\n",
      "6400/6400 [==============================] - 38s 6ms/step - loss: 0.1844 - acc: 0.9350 - val_loss: 1.8288 - val_acc: 0.4300\n",
      "Epoch 36/100\n",
      "6400/6400 [==============================] - 37s 6ms/step - loss: 0.1844 - acc: 0.9350 - val_loss: 1.5819 - val_acc: 0.5112\n",
      "Epoch 37/100\n",
      "6400/6400 [==============================] - 35s 5ms/step - loss: 0.1808 - acc: 0.9366 - val_loss: 1.3340 - val_acc: 0.5625\n",
      "Epoch 38/100\n",
      "6400/6400 [==============================] - 35s 5ms/step - loss: 0.1718 - acc: 0.9403 - val_loss: 1.7060 - val_acc: 0.4525\n",
      "Epoch 39/100\n",
      "6400/6400 [==============================] - 36s 6ms/step - loss: 0.1626 - acc: 0.9405 - val_loss: 1.5124 - val_acc: 0.5175\n",
      "Epoch 40/100\n",
      "6400/6400 [==============================] - 35s 5ms/step - loss: 0.1576 - acc: 0.9431 - val_loss: 1.3947 - val_acc: 0.5556\n",
      "Epoch 41/100\n",
      "6400/6400 [==============================] - 36s 6ms/step - loss: 0.1640 - acc: 0.9423 - val_loss: 1.5798 - val_acc: 0.5112\n",
      "Epoch 42/100\n",
      "6400/6400 [==============================] - 36s 6ms/step - loss: 0.1499 - acc: 0.9467 - val_loss: 1.5119 - val_acc: 0.5288\n",
      "Epoch 43/100\n",
      "6400/6400 [==============================] - 34s 5ms/step - loss: 0.1480 - acc: 0.9433 - val_loss: 2.0374 - val_acc: 0.4181\n",
      "Epoch 44/100\n",
      "6400/6400 [==============================] - 34s 5ms/step - loss: 0.1442 - acc: 0.9498 - val_loss: 1.5344 - val_acc: 0.5125\n",
      "Epoch 45/100\n",
      "6400/6400 [==============================] - 33s 5ms/step - loss: 0.1379 - acc: 0.9500 - val_loss: 1.2746 - val_acc: 0.5863\n",
      "Epoch 46/100\n",
      "6400/6400 [==============================] - 35s 5ms/step - loss: 0.1353 - acc: 0.9523 - val_loss: 1.4787 - val_acc: 0.5444\n",
      "Epoch 47/100\n",
      "6400/6400 [==============================] - 38s 6ms/step - loss: 0.1231 - acc: 0.9547 - val_loss: 1.6800 - val_acc: 0.4888\n",
      "Epoch 48/100\n",
      "6400/6400 [==============================] - 34s 5ms/step - loss: 0.1319 - acc: 0.9522 - val_loss: 1.6286 - val_acc: 0.4925\n",
      "Epoch 49/100\n",
      "6400/6400 [==============================] - 34s 5ms/step - loss: 0.1224 - acc: 0.9552 - val_loss: 1.7056 - val_acc: 0.4963\n",
      "Epoch 50/100\n",
      "6400/6400 [==============================] - 31s 5ms/step - loss: 0.1279 - acc: 0.9520 - val_loss: 2.0760 - val_acc: 0.4075\n",
      "Epoch 51/100\n",
      "6400/6400 [==============================] - 37s 6ms/step - loss: 0.1258 - acc: 0.9545 - val_loss: 1.3871 - val_acc: 0.5625\n",
      "Epoch 52/100\n",
      "6400/6400 [==============================] - 31s 5ms/step - loss: 0.1125 - acc: 0.9595 - val_loss: 1.8327 - val_acc: 0.4625\n",
      "Epoch 53/100\n",
      "6400/6400 [==============================] - 33s 5ms/step - loss: 0.1190 - acc: 0.9561 - val_loss: 1.9341 - val_acc: 0.4469\n",
      "Epoch 54/100\n",
      "6400/6400 [==============================] - 32s 5ms/step - loss: 0.1149 - acc: 0.9578 - val_loss: 1.5912 - val_acc: 0.5162\n",
      "Epoch 55/100\n",
      "6400/6400 [==============================] - 31s 5ms/step - loss: 0.1094 - acc: 0.9611 - val_loss: 1.7408 - val_acc: 0.4875\n",
      "Epoch 56/100\n",
      "6400/6400 [==============================] - 34s 5ms/step - loss: 0.1062 - acc: 0.9631 - val_loss: 1.5029 - val_acc: 0.5513\n",
      "Epoch 57/100\n",
      "6400/6400 [==============================] - 34s 5ms/step - loss: 0.1010 - acc: 0.9650 - val_loss: 1.3017 - val_acc: 0.5988\n",
      "Epoch 58/100\n",
      "6400/6400 [==============================] - 35s 6ms/step - loss: 0.1058 - acc: 0.9622 - val_loss: 1.4984 - val_acc: 0.5494\n",
      "Epoch 59/100\n",
      "6400/6400 [==============================] - 32s 5ms/step - loss: 0.0981 - acc: 0.9645 - val_loss: 1.6631 - val_acc: 0.5050\n",
      "Epoch 60/100\n"
     ]
    },
    {
     "name": "stdout",
     "output_type": "stream",
     "text": [
      "6400/6400 [==============================] - 33s 5ms/step - loss: 0.0994 - acc: 0.9659 - val_loss: 1.4710 - val_acc: 0.5625\n",
      "Epoch 61/100\n",
      "6400/6400 [==============================] - 31s 5ms/step - loss: 0.0871 - acc: 0.9689 - val_loss: 1.7590 - val_acc: 0.4969\n",
      "Epoch 62/100\n",
      "6400/6400 [==============================] - 31s 5ms/step - loss: 0.0896 - acc: 0.9675 - val_loss: 1.9778 - val_acc: 0.4619\n",
      "Epoch 63/100\n",
      "6400/6400 [==============================] - 31s 5ms/step - loss: 0.0937 - acc: 0.9630 - val_loss: 1.7835 - val_acc: 0.4956\n",
      "Epoch 64/100\n",
      "6400/6400 [==============================] - 32s 5ms/step - loss: 0.0911 - acc: 0.9667 - val_loss: 2.1631 - val_acc: 0.4444\n",
      "Epoch 65/100\n",
      "6400/6400 [==============================] - 34s 5ms/step - loss: 0.0828 - acc: 0.9708 - val_loss: 2.0034 - val_acc: 0.4519\n",
      "Epoch 66/100\n",
      "6400/6400 [==============================] - 32s 5ms/step - loss: 0.0774 - acc: 0.9723 - val_loss: 2.0716 - val_acc: 0.4575\n",
      "Epoch 67/100\n",
      "6400/6400 [==============================] - 32s 5ms/step - loss: 0.0787 - acc: 0.9714 - val_loss: 1.4372 - val_acc: 0.5794\n",
      "Epoch 68/100\n",
      "6400/6400 [==============================] - 33s 5ms/step - loss: 0.0803 - acc: 0.9716 - val_loss: 1.5222 - val_acc: 0.5619\n",
      "Epoch 69/100\n",
      "6400/6400 [==============================] - 34s 5ms/step - loss: 0.0761 - acc: 0.9728 - val_loss: 1.5151 - val_acc: 0.5737\n",
      "Epoch 70/100\n",
      "6400/6400 [==============================] - 33s 5ms/step - loss: 0.0810 - acc: 0.9691 - val_loss: 2.2617 - val_acc: 0.4050\n",
      "Epoch 71/100\n",
      "6400/6400 [==============================] - 34s 5ms/step - loss: 0.0775 - acc: 0.9720 - val_loss: 1.7443 - val_acc: 0.5269\n",
      "Epoch 72/100\n",
      "6400/6400 [==============================] - 32s 5ms/step - loss: 0.0698 - acc: 0.9738 - val_loss: 1.7776 - val_acc: 0.5269\n",
      "Epoch 73/100\n",
      "6400/6400 [==============================] - 33s 5ms/step - loss: 0.0681 - acc: 0.9756 - val_loss: 1.5934 - val_acc: 0.5569\n",
      "Epoch 74/100\n",
      "6400/6400 [==============================] - 32s 5ms/step - loss: 0.0668 - acc: 0.9769 - val_loss: 1.6140 - val_acc: 0.5556\n",
      "Epoch 75/100\n",
      "6400/6400 [==============================] - 32s 5ms/step - loss: 0.0691 - acc: 0.9750 - val_loss: 2.0853 - val_acc: 0.4713\n",
      "Epoch 76/100\n",
      "6400/6400 [==============================] - 33s 5ms/step - loss: 0.0635 - acc: 0.9788 - val_loss: 2.2647 - val_acc: 0.4375\n",
      "Epoch 77/100\n",
      "6400/6400 [==============================] - 31s 5ms/step - loss: 0.0622 - acc: 0.9784 - val_loss: 1.8924 - val_acc: 0.4925\n",
      "Epoch 78/100\n",
      "6400/6400 [==============================] - 32s 5ms/step - loss: 0.0591 - acc: 0.9777 - val_loss: 1.6675 - val_acc: 0.5494\n",
      "Epoch 79/100\n",
      "6400/6400 [==============================] - 33s 5ms/step - loss: 0.0543 - acc: 0.9806 - val_loss: 1.8241 - val_acc: 0.5194\n",
      "Epoch 80/100\n",
      "6400/6400 [==============================] - 33s 5ms/step - loss: 0.0598 - acc: 0.9814 - val_loss: 1.9586 - val_acc: 0.5075\n",
      "Epoch 81/100\n",
      "6400/6400 [==============================] - 33s 5ms/step - loss: 0.0556 - acc: 0.9822 - val_loss: 1.5566 - val_acc: 0.5763\n",
      "Epoch 82/100\n",
      "6400/6400 [==============================] - 33s 5ms/step - loss: 0.0516 - acc: 0.9844 - val_loss: 1.7911 - val_acc: 0.5231\n",
      "Epoch 83/100\n",
      "6400/6400 [==============================] - 31s 5ms/step - loss: 0.0568 - acc: 0.9772 - val_loss: 1.9040 - val_acc: 0.5275\n",
      "Epoch 84/100\n",
      "6400/6400 [==============================] - 28s 4ms/step - loss: 0.0588 - acc: 0.9769 - val_loss: 1.7206 - val_acc: 0.5381\n",
      "Epoch 85/100\n",
      "6400/6400 [==============================] - 32s 5ms/step - loss: 0.0526 - acc: 0.9836 - val_loss: 1.6641 - val_acc: 0.5581\n",
      "Epoch 86/100\n",
      "6400/6400 [==============================] - 30s 5ms/step - loss: 0.0483 - acc: 0.9856 - val_loss: 1.7023 - val_acc: 0.5587\n",
      "Epoch 87/100\n",
      "6400/6400 [==============================] - 31s 5ms/step - loss: 0.0480 - acc: 0.9836 - val_loss: 1.7027 - val_acc: 0.5706\n",
      "Epoch 88/100\n",
      "6400/6400 [==============================] - 31s 5ms/step - loss: 0.0460 - acc: 0.9828 - val_loss: 1.9183 - val_acc: 0.5088\n",
      "Epoch 89/100\n",
      "6400/6400 [==============================] - 32s 5ms/step - loss: 0.0457 - acc: 0.9861 - val_loss: 1.5941 - val_acc: 0.5844\n",
      "Epoch 90/100\n",
      "6400/6400 [==============================] - 31s 5ms/step - loss: 0.0451 - acc: 0.9852 - val_loss: 1.5309 - val_acc: 0.5856\n",
      "Epoch 91/100\n",
      "6400/6400 [==============================] - 31s 5ms/step - loss: 0.0442 - acc: 0.9853 - val_loss: 1.5541 - val_acc: 0.5956\n",
      "Epoch 92/100\n",
      "6400/6400 [==============================] - 34s 5ms/step - loss: 0.0518 - acc: 0.9800 - val_loss: 1.7100 - val_acc: 0.5719\n",
      "Epoch 93/100\n",
      "6400/6400 [==============================] - 34s 5ms/step - loss: 0.0478 - acc: 0.9838 - val_loss: 1.9310 - val_acc: 0.5281\n",
      "Epoch 94/100\n",
      "6400/6400 [==============================] - 35s 5ms/step - loss: 0.0431 - acc: 0.9870 - val_loss: 1.6630 - val_acc: 0.5619\n",
      "Epoch 95/100\n",
      "6400/6400 [==============================] - 33s 5ms/step - loss: 0.0433 - acc: 0.9855 - val_loss: 2.0169 - val_acc: 0.5150\n",
      "Epoch 96/100\n",
      "6400/6400 [==============================] - 33s 5ms/step - loss: 0.0404 - acc: 0.9864 - val_loss: 1.9935 - val_acc: 0.5162\n",
      "Epoch 97/100\n",
      "6400/6400 [==============================] - 33s 5ms/step - loss: 0.0416 - acc: 0.9862 - val_loss: 2.3805 - val_acc: 0.4625\n",
      "Epoch 98/100\n",
      "6400/6400 [==============================] - 32s 5ms/step - loss: 0.0425 - acc: 0.9869 - val_loss: 1.9093 - val_acc: 0.5350\n",
      "Epoch 99/100\n",
      "6400/6400 [==============================] - 32s 5ms/step - loss: 0.0375 - acc: 0.9873 - val_loss: 1.9751 - val_acc: 0.5325\n",
      "Epoch 100/100\n",
      "6400/6400 [==============================] - 32s 5ms/step - loss: 0.0362 - acc: 0.9880 - val_loss: 1.9908 - val_acc: 0.5206\n"
     ]
    }
   ],
   "source": [
    "hist = model.fit(X, Y, epochs=100, batch_size=256, validation_split=0.20)"
   ]
  },
  {
   "cell_type": "code",
   "execution_count": null,
   "metadata": {},
   "outputs": [],
   "source": []
  }
 ],
 "metadata": {
  "kernelspec": {
   "display_name": "Python 3",
   "language": "python",
   "name": "python3"
  },
  "language_info": {
   "codemirror_mode": {
    "name": "ipython",
    "version": 3
   },
   "file_extension": ".py",
   "mimetype": "text/x-python",
   "name": "python",
   "nbconvert_exporter": "python",
   "pygments_lexer": "ipython3",
   "version": "3.6.8"
  }
 },
 "nbformat": 4,
 "nbformat_minor": 2
}
