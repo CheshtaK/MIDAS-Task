{
 "cells": [
  {
   "cell_type": "markdown",
   "metadata": {},
   "source": [
    "## Import libraries"
   ]
  },
  {
   "cell_type": "code",
   "execution_count": 29,
   "metadata": {},
   "outputs": [],
   "source": [
    "import pickle\n",
    "import numpy as np\n",
    "import matplotlib.pyplot as plt\n",
    "\n",
    "#Visualization\n",
    "from visualize import plot_confusion_matrix\n",
    "from sklearn.metrics import confusion_matrix\n",
    "\n",
    "#To convert Y to one-hot-vector notation\n",
    "from keras.utils import np_utils\n",
    "\n",
    "#Used for CNN Model\n",
    "from keras.models import Sequential\n",
    "from keras.layers import Input, Convolution2D, MaxPooling2D, Flatten, Dense, Dropout\n",
    "from keras import optimizers\n",
    "\n",
    "#Create training and testing data\n",
    "from sklearn.model_selection import train_test_split"
   ]
  },
  {
   "cell_type": "markdown",
   "metadata": {},
   "source": [
    "## Unpacking .pkl files"
   ]
  },
  {
   "cell_type": "code",
   "execution_count": 2,
   "metadata": {},
   "outputs": [],
   "source": [
    "with open('train_image.pkl', 'rb') as f:\n",
    "    X = pickle.load(f)\n",
    "\n",
    "X = np.array(X)"
   ]
  },
  {
   "cell_type": "code",
   "execution_count": 3,
   "metadata": {},
   "outputs": [
    {
     "name": "stdout",
     "output_type": "stream",
     "text": [
      "<class 'numpy.ndarray'>\n",
      "8000\n"
     ]
    }
   ],
   "source": [
    "print(type(X))\n",
    "print(len(X))"
   ]
  },
  {
   "cell_type": "code",
   "execution_count": 4,
   "metadata": {},
   "outputs": [],
   "source": [
    "#print(X[0])"
   ]
  },
  {
   "cell_type": "code",
   "execution_count": 70,
   "metadata": {},
   "outputs": [],
   "source": [
    "with open('train_label.pkl', 'rb') as f:\n",
    "    Y = pickle.load(f)\n",
    "\n",
    "Y = np.array(Y)"
   ]
  },
  {
   "cell_type": "code",
   "execution_count": 71,
   "metadata": {},
   "outputs": [
    {
     "name": "stdout",
     "output_type": "stream",
     "text": [
      "8000\n",
      "(array([0, 2, 3, 6]), array([2000, 2000, 2000, 2000], dtype=int64))\n"
     ]
    }
   ],
   "source": [
    "print(len(Y))\n",
    "print(np.unique(Y, return_counts=True))"
   ]
  },
  {
   "cell_type": "markdown",
   "metadata": {},
   "source": [
    "#### Since the labels are 0,2,3 and 6, we have to convert them to 0,1,2,3 so that they can be converted into one hot vectors to perform CNN"
   ]
  },
  {
   "cell_type": "code",
   "execution_count": 72,
   "metadata": {},
   "outputs": [
    {
     "name": "stdout",
     "output_type": "stream",
     "text": [
      "(array([0., 1., 2., 3.]), array([2000, 2000, 2000, 2000], dtype=int64))\n"
     ]
    }
   ],
   "source": [
    "Y = np.ceil(np.divide(Y,2))\n",
    "classes = np.unique(Y)\n",
    "print(np.unique(Y, return_counts=True))"
   ]
  },
  {
   "cell_type": "code",
   "execution_count": 8,
   "metadata": {},
   "outputs": [],
   "source": [
    "#print(Y)"
   ]
  },
  {
   "cell_type": "code",
   "execution_count": 9,
   "metadata": {},
   "outputs": [],
   "source": [
    "with open('test_image.pkl', 'rb') as f:\n",
    "    XTest = pickle.load(f)\n",
    "\n",
    "XTest = np.array(XTest)"
   ]
  },
  {
   "cell_type": "code",
   "execution_count": 10,
   "metadata": {},
   "outputs": [
    {
     "name": "stdout",
     "output_type": "stream",
     "text": [
      "2000\n"
     ]
    }
   ],
   "source": [
    "print(len(XTest))"
   ]
  },
  {
   "cell_type": "code",
   "execution_count": 11,
   "metadata": {},
   "outputs": [
    {
     "name": "stdout",
     "output_type": "stream",
     "text": [
      "(8000, 784) (8000,)\n"
     ]
    }
   ],
   "source": [
    "print(X.shape, Y.shape)"
   ]
  },
  {
   "cell_type": "code",
   "execution_count": 12,
   "metadata": {},
   "outputs": [
    {
     "name": "stdout",
     "output_type": "stream",
     "text": [
      "(8000, 28, 28, 1) (8000, 4)\n"
     ]
    }
   ],
   "source": [
    "# Since CNN accepts input in the form of images therefore we reshape our training data\n",
    "X = X.reshape((-1,28,28,1))\n",
    "Y = np_utils.to_categorical(Y)\n",
    "\n",
    "print(X.shape, Y.shape)"
   ]
  },
  {
   "cell_type": "markdown",
   "metadata": {},
   "source": [
    "## Visualizing training data"
   ]
  },
  {
   "cell_type": "code",
   "execution_count": 13,
   "metadata": {},
   "outputs": [],
   "source": [
    "def drawImage(img):\n",
    "    plt.imshow(img.reshape(28,28), cmap='gray')\n",
    "    plt.axis('off')\n",
    "    plt.show()"
   ]
  },
  {
   "cell_type": "code",
   "execution_count": 14,
   "metadata": {},
   "outputs": [
    {
     "data": {
      "image/png": "[encoded data removed]",
      "text/plain": [
       "<Figure size 432x288 with 1 Axes>"
      ]
     },
     "metadata": {
      "needs_background": "light"
     },
     "output_type": "display_data"
    },
    {
     "data": {
      "image/png": "[encoded data removed]",
      "text/plain": [
       "<Figure size 432x288 with 1 Axes>"
      ]
     },
     "metadata": {
      "needs_background": "light"
     },
     "output_type": "display_data"
    },
    {
     "data": {
      "image/png": "[encoded data removed]",
      "text/plain": [
       "<Figure size 432x288 with 1 Axes>"
      ]
     },
     "metadata": {
      "needs_background": "light"
     },
     "output_type": "display_data"
    },
    {
     "data": {
      "image/png": "[encoded data removed]",
      "text/plain": [
       "<Figure size 432x288 with 1 Axes>"
      ]
     },
     "metadata": {
      "needs_background": "light"
     },
     "output_type": "display_data"
    },
    {
     "data": {
      "image/png": "[encoded data removed]",
      "text/plain": [
       "<Figure size 432x288 with 1 Axes>"
      ]
     },
     "metadata": {
      "needs_background": "light"
     },
     "output_type": "display_data"
    },
    {
     "data": {
      "image/png": "[encoded data removed]",
      "text/plain": [
       "<Figure size 432x288 with 1 Axes>"
      ]
     },
     "metadata": {
      "needs_background": "light"
     },
     "output_type": "display_data"
    },
    {
     "data": {
      "image/png": "[encoded data removed]",
      "text/plain": [
       "<Figure size 432x288 with 1 Axes>"
      ]
     },
     "metadata": {
      "needs_background": "light"
     },
     "output_type": "display_data"
    },
    {
     "data": {
      "image/png": "[encoded data removed]",
      "text/plain": [
       "<Figure size 432x288 with 1 Axes>"
      ]
     },
     "metadata": {
      "needs_background": "light"
     },
     "output_type": "display_data"
    },
    {
     "data": {
      "image/png": "[encoded data removed]",
      "text/plain": [
       "<Figure size 432x288 with 1 Axes>"
      ]
     },
     "metadata": {
      "needs_background": "light"
     },
     "output_type": "display_data"
    },
    {
     "data": {
      "image/png": "[encoded data removed]",
      "text/plain": [
       "<Figure size 432x288 with 1 Axes>"
      ]
     },
     "metadata": {
      "needs_background": "light"
     },
     "output_type": "display_data"
    }
   ],
   "source": [
    "for i in range(10):\n",
    "    drawImage(np.array(X[i]))"
   ]
  },
  {
   "cell_type": "markdown",
   "metadata": {},
   "source": [
    "## Creating training and validation data"
   ]
  },
  {
   "cell_type": "code",
   "execution_count": 31,
   "metadata": {},
   "outputs": [],
   "source": [
    "X_train, X_test, Y_train, Y_test = train_test_split(X, Y, test_size=0.15, random_state=42, shuffle=True, stratify=Y)"
   ]
  },
  {
   "cell_type": "code",
   "execution_count": 32,
   "metadata": {},
   "outputs": [
    {
     "name": "stdout",
     "output_type": "stream",
     "text": [
      "<class 'numpy.ndarray'>\n",
      "6800\n"
     ]
    }
   ],
   "source": [
    "print(type(X_train))\n",
    "print(len(X_train))"
   ]
  },
  {
   "cell_type": "code",
   "execution_count": 34,
   "metadata": {},
   "outputs": [],
   "source": [
    "#print(np.unique(X_train))"
   ]
  },
  {
   "cell_type": "markdown",
   "metadata": {},
   "source": [
    "## Building a CNN Model"
   ]
  },
  {
   "cell_type": "code",
   "execution_count": 39,
   "metadata": {},
   "outputs": [
    {
     "name": "stdout",
     "output_type": "stream",
     "text": [
      "_________________________________________________________________\n",
      "Layer (type)                 Output Shape              Param #   \n",
      "=================================================================\n",
      "conv2d_16 (Conv2D)           (None, 26, 26, 32)        320       \n",
      "_________________________________________________________________\n",
      "conv2d_17 (Conv2D)           (None, 24, 24, 64)        18496     \n",
      "_________________________________________________________________\n",
      "dropout_6 (Dropout)          (None, 24, 24, 64)        0         \n",
      "_________________________________________________________________\n",
      "max_pooling2d_6 (MaxPooling2 (None, 12, 12, 64)        0         \n",
      "_________________________________________________________________\n",
      "conv2d_18 (Conv2D)           (None, 10, 10, 128)       73856     \n",
      "_________________________________________________________________\n",
      "flatten_6 (Flatten)          (None, 12800)             0         \n",
      "_________________________________________________________________\n",
      "dense_6 (Dense)              (None, 4)                 51204     \n",
      "=================================================================\n",
      "Total params: 143,876\n",
      "Trainable params: 143,876\n",
      "Non-trainable params: 0\n",
      "_________________________________________________________________\n"
     ]
    }
   ],
   "source": [
    "#A simple CNN model with basic layers\n",
    "model = Sequential()\n",
    "\n",
    "model.add(Convolution2D(32,(3,3),activation='relu',input_shape=(28,28,1)))  #Input size is provided only in the first layer\n",
    "model.add(Convolution2D(64,(3,3),activation='relu'))\n",
    "model.add(Dropout(0.25))\n",
    "model.add(MaxPooling2D(2,2))\n",
    "model.add(Convolution2D(128,(3,3),activation='relu'))\n",
    "model.add(Flatten())\n",
    "model.add(Dense(4, activation='softmax'))\n",
    "model.summary()"
   ]
  },
  {
   "cell_type": "code",
   "execution_count": 40,
   "metadata": {},
   "outputs": [],
   "source": [
    "## Optimizer\n",
    "adam = optimizers.adam(lr=1e-4)"
   ]
  },
  {
   "cell_type": "code",
   "execution_count": 41,
   "metadata": {},
   "outputs": [],
   "source": [
    "model.compile(loss='categorical_crossentropy', optimizer=adam, metrics=['accuracy'])"
   ]
  },
  {
   "cell_type": "code",
   "execution_count": 38,
   "metadata": {},
   "outputs": [
    {
     "name": "stdout",
     "output_type": "stream",
     "text": [
      "Train on 6800 samples, validate on 1200 samples\n",
      "Epoch 1/100\n",
      "6800/6800 [==============================] - 42s 6ms/step - loss: 4.9290 - acc: 0.5078 - val_loss: 1.7624 - val_acc: 0.6600\n",
      "Epoch 2/100\n",
      "6800/6800 [==============================] - 39s 6ms/step - loss: 1.8278 - acc: 0.6835 - val_loss: 1.1382 - val_acc: 0.7300\n",
      "Epoch 3/100\n",
      "6800/6800 [==============================] - 39s 6ms/step - loss: 1.2891 - acc: 0.7194 - val_loss: 0.8842 - val_acc: 0.7483\n",
      "Epoch 4/100\n",
      "6800/6800 [==============================] - 39s 6ms/step - loss: 1.0765 - acc: 0.7379 - val_loss: 0.7534 - val_acc: 0.7667\n",
      "Epoch 5/100\n",
      "6800/6800 [==============================] - 39s 6ms/step - loss: 0.9337 - acc: 0.7579 - val_loss: 0.7462 - val_acc: 0.7633\n",
      "Epoch 6/100\n",
      "6800/6800 [==============================] - 38s 6ms/step - loss: 0.8430 - acc: 0.7666 - val_loss: 0.6651 - val_acc: 0.7800\n",
      "Epoch 7/100\n",
      "6800/6800 [==============================] - 37s 5ms/step - loss: 0.8479 - acc: 0.7681 - val_loss: 0.6216 - val_acc: 0.8033\n",
      "Epoch 8/100\n",
      "6800/6800 [==============================] - 37s 5ms/step - loss: 0.7104 - acc: 0.7944 - val_loss: 0.5747 - val_acc: 0.8100\n",
      "Epoch 9/100\n",
      "6800/6800 [==============================] - 45s 7ms/step - loss: 0.6686 - acc: 0.8006 - val_loss: 0.5770 - val_acc: 0.7950\n",
      "Epoch 10/100\n",
      "6800/6800 [==============================] - 40s 6ms/step - loss: 0.5944 - acc: 0.8188 - val_loss: 0.5356 - val_acc: 0.8042\n",
      "Epoch 11/100\n",
      "6800/6800 [==============================] - 40s 6ms/step - loss: 0.6060 - acc: 0.8141 - val_loss: 0.5642 - val_acc: 0.8050\n",
      "Epoch 12/100\n",
      "6800/6800 [==============================] - 40s 6ms/step - loss: 0.5654 - acc: 0.8197 - val_loss: 0.5864 - val_acc: 0.8025\n",
      "Epoch 13/100\n",
      "6800/6800 [==============================] - 45s 7ms/step - loss: 0.5246 - acc: 0.8315 - val_loss: 0.4988 - val_acc: 0.8217\n",
      "Epoch 14/100\n",
      "6800/6800 [==============================] - 39s 6ms/step - loss: 0.4825 - acc: 0.8429 - val_loss: 0.4830 - val_acc: 0.8275\n",
      "Epoch 15/100\n",
      "6800/6800 [==============================] - 39s 6ms/step - loss: 0.4446 - acc: 0.8497 - val_loss: 0.4659 - val_acc: 0.8375\n",
      "Epoch 16/100\n",
      "6800/6800 [==============================] - 39s 6ms/step - loss: 0.4308 - acc: 0.8554 - val_loss: 0.5234 - val_acc: 0.8025\n",
      "Epoch 17/100\n",
      "6800/6800 [==============================] - 45s 7ms/step - loss: 0.4434 - acc: 0.8509 - val_loss: 0.4541 - val_acc: 0.8400\n",
      "Epoch 18/100\n",
      "6800/6800 [==============================] - 40s 6ms/step - loss: 0.4164 - acc: 0.8597 - val_loss: 0.4721 - val_acc: 0.8250\n",
      "Epoch 19/100\n",
      "6800/6800 [==============================] - 40s 6ms/step - loss: 0.3875 - acc: 0.8659 - val_loss: 0.4782 - val_acc: 0.8308\n",
      "Epoch 20/100\n",
      "6800/6800 [==============================] - 39s 6ms/step - loss: 0.3770 - acc: 0.8669 - val_loss: 0.4566 - val_acc: 0.8425\n",
      "Epoch 21/100\n",
      "6800/6800 [==============================] - 40s 6ms/step - loss: 0.3561 - acc: 0.8774 - val_loss: 0.4374 - val_acc: 0.8367\n",
      "Epoch 22/100\n",
      "6800/6800 [==============================] - 38s 6ms/step - loss: 0.3447 - acc: 0.8807 - val_loss: 0.4783 - val_acc: 0.8108\n",
      "Epoch 23/100\n",
      "6800/6800 [==============================] - 38s 6ms/step - loss: 0.3355 - acc: 0.8832 - val_loss: 0.4967 - val_acc: 0.8133\n",
      "Epoch 24/100\n",
      "6800/6800 [==============================] - 39s 6ms/step - loss: 0.3217 - acc: 0.8807 - val_loss: 0.4298 - val_acc: 0.8508\n",
      "Epoch 25/100\n",
      "6800/6800 [==============================] - 38s 6ms/step - loss: 0.3074 - acc: 0.8916 - val_loss: 0.4191 - val_acc: 0.8450\n",
      "Epoch 26/100\n",
      "6800/6800 [==============================] - 36s 5ms/step - loss: 0.2954 - acc: 0.8925 - val_loss: 0.4836 - val_acc: 0.8175\n",
      "Epoch 27/100\n",
      "6800/6800 [==============================] - 29s 4ms/step - loss: 0.2843 - acc: 0.8944 - val_loss: 0.4220 - val_acc: 0.8458\n",
      "Epoch 28/100\n",
      "6800/6800 [==============================] - 30s 4ms/step - loss: 0.2847 - acc: 0.8962 - val_loss: 0.4151 - val_acc: 0.8525\n",
      "Epoch 29/100\n",
      "6800/6800 [==============================] - 29s 4ms/step - loss: 0.2651 - acc: 0.9007 - val_loss: 0.4233 - val_acc: 0.8508\n",
      "Epoch 30/100\n",
      "6800/6800 [==============================] - 29s 4ms/step - loss: 0.2663 - acc: 0.8985 - val_loss: 0.4373 - val_acc: 0.8342\n",
      "Epoch 31/100\n",
      "6800/6800 [==============================] - 34s 5ms/step - loss: 0.2427 - acc: 0.9100 - val_loss: 0.4822 - val_acc: 0.8183\n",
      "Epoch 32/100\n",
      "6800/6800 [==============================] - 28s 4ms/step - loss: 0.2493 - acc: 0.9047 - val_loss: 0.4205 - val_acc: 0.8508\n",
      "Epoch 33/100\n",
      "6800/6800 [==============================] - 33s 5ms/step - loss: 0.2353 - acc: 0.9126 - val_loss: 0.4771 - val_acc: 0.8325\n",
      "Epoch 34/100\n",
      "6800/6800 [==============================] - 31s 5ms/step - loss: 0.2254 - acc: 0.9156 - val_loss: 0.4199 - val_acc: 0.8492\n",
      "Epoch 35/100\n",
      "6800/6800 [==============================] - 30s 4ms/step - loss: 0.2131 - acc: 0.9229 - val_loss: 0.4163 - val_acc: 0.8550\n",
      "Epoch 36/100\n",
      "6800/6800 [==============================] - 30s 4ms/step - loss: 0.2061 - acc: 0.9234 - val_loss: 0.4046 - val_acc: 0.8600\n",
      "Epoch 37/100\n",
      "6800/6800 [==============================] - 32s 5ms/step - loss: 0.2128 - acc: 0.9203 - val_loss: 0.4189 - val_acc: 0.8517\n",
      "Epoch 38/100\n",
      "6800/6800 [==============================] - 33s 5ms/step - loss: 0.2142 - acc: 0.9210 - val_loss: 0.4214 - val_acc: 0.8517\n",
      "Epoch 39/100\n",
      "6800/6800 [==============================] - 34s 5ms/step - loss: 0.1886 - acc: 0.9299 - val_loss: 0.4558 - val_acc: 0.8400\n",
      "Epoch 40/100\n",
      "6800/6800 [==============================] - 30s 4ms/step - loss: 0.1770 - acc: 0.9331 - val_loss: 0.4156 - val_acc: 0.8517\n",
      "Epoch 41/100\n",
      "6800/6800 [==============================] - 31s 5ms/step - loss: 0.1799 - acc: 0.9322 - val_loss: 0.4372 - val_acc: 0.8483\n",
      "Epoch 42/100\n",
      "6800/6800 [==============================] - 33s 5ms/step - loss: 0.1724 - acc: 0.9350 - val_loss: 0.4436 - val_acc: 0.8442\n",
      "Epoch 43/100\n",
      "6800/6800 [==============================] - 30s 4ms/step - loss: 0.1797 - acc: 0.9332 - val_loss: 0.4330 - val_acc: 0.8500\n",
      "Epoch 44/100\n",
      "6800/6800 [==============================] - 32s 5ms/step - loss: 0.1610 - acc: 0.9393 - val_loss: 0.4291 - val_acc: 0.8483\n",
      "Epoch 45/100\n",
      "6800/6800 [==============================] - 30s 4ms/step - loss: 0.1726 - acc: 0.9328 - val_loss: 0.4133 - val_acc: 0.8542\n",
      "Epoch 46/100\n",
      "6800/6800 [==============================] - 30s 4ms/step - loss: 0.1641 - acc: 0.9372 - val_loss: 0.4252 - val_acc: 0.8575\n",
      "Epoch 47/100\n",
      "6800/6800 [==============================] - 29s 4ms/step - loss: 0.1729 - acc: 0.9301 - val_loss: 0.4187 - val_acc: 0.8533\n",
      "Epoch 48/100\n",
      "6800/6800 [==============================] - 29s 4ms/step - loss: 0.1542 - acc: 0.9409 - val_loss: 0.4975 - val_acc: 0.8283\n",
      "Epoch 49/100\n",
      "6800/6800 [==============================] - 29s 4ms/step - loss: 0.1477 - acc: 0.9425 - val_loss: 0.4134 - val_acc: 0.8567\n",
      "Epoch 50/100\n",
      "6800/6800 [==============================] - 32s 5ms/step - loss: 0.1379 - acc: 0.9469 - val_loss: 0.4355 - val_acc: 0.8450\n",
      "Epoch 51/100\n",
      "6800/6800 [==============================] - 27s 4ms/step - loss: 0.1398 - acc: 0.9434 - val_loss: 0.4307 - val_acc: 0.8583\n",
      "Epoch 52/100\n",
      "6800/6800 [==============================] - 27s 4ms/step - loss: 0.1349 - acc: 0.9504 - val_loss: 0.4187 - val_acc: 0.8525\n",
      "Epoch 53/100\n",
      "6800/6800 [==============================] - 27s 4ms/step - loss: 0.1294 - acc: 0.9510 - val_loss: 0.4117 - val_acc: 0.8683\n",
      "Epoch 54/100\n",
      "6800/6800 [==============================] - 27s 4ms/step - loss: 0.1296 - acc: 0.9519 - val_loss: 0.4397 - val_acc: 0.8517\n",
      "Epoch 55/100\n",
      "6800/6800 [==============================] - 32s 5ms/step - loss: 0.1207 - acc: 0.9532 - val_loss: 0.4341 - val_acc: 0.8550\n",
      "Epoch 56/100\n",
      "6800/6800 [==============================] - 32s 5ms/step - loss: 0.1221 - acc: 0.9531 - val_loss: 0.4200 - val_acc: 0.8542\n",
      "Epoch 57/100\n",
      "6800/6800 [==============================] - 29s 4ms/step - loss: 0.1190 - acc: 0.9569 - val_loss: 0.4215 - val_acc: 0.8567\n",
      "Epoch 58/100\n",
      "6800/6800 [==============================] - 29s 4ms/step - loss: 0.1188 - acc: 0.9560 - val_loss: 0.4211 - val_acc: 0.8642\n",
      "Epoch 59/100\n",
      "6800/6800 [==============================] - 30s 4ms/step - loss: 0.1101 - acc: 0.9587 - val_loss: 0.4095 - val_acc: 0.8642\n",
      "Epoch 60/100\n"
     ]
    },
    {
     "name": "stdout",
     "output_type": "stream",
     "text": [
      "6800/6800 [==============================] - 29s 4ms/step - loss: 0.1079 - acc: 0.9603 - val_loss: 0.4359 - val_acc: 0.8467\n",
      "Epoch 61/100\n",
      "6800/6800 [==============================] - 29s 4ms/step - loss: 0.1004 - acc: 0.9651 - val_loss: 0.4290 - val_acc: 0.8517\n",
      "Epoch 62/100\n",
      "6800/6800 [==============================] - 28s 4ms/step - loss: 0.1080 - acc: 0.9597 - val_loss: 0.4611 - val_acc: 0.8525\n",
      "Epoch 63/100\n",
      "6800/6800 [==============================] - 33s 5ms/step - loss: 0.1009 - acc: 0.9650 - val_loss: 0.4526 - val_acc: 0.8517\n",
      "Epoch 64/100\n",
      "6800/6800 [==============================] - 32s 5ms/step - loss: 0.1062 - acc: 0.9591 - val_loss: 0.4379 - val_acc: 0.8608\n",
      "Epoch 65/100\n",
      "6800/6800 [==============================] - 32s 5ms/step - loss: 0.1115 - acc: 0.9571 - val_loss: 0.4405 - val_acc: 0.8550\n",
      "Epoch 66/100\n",
      "6800/6800 [==============================] - 31s 4ms/step - loss: 0.0985 - acc: 0.9637 - val_loss: 0.4299 - val_acc: 0.8583\n",
      "Epoch 67/100\n",
      "6800/6800 [==============================] - 31s 5ms/step - loss: 0.0907 - acc: 0.9679 - val_loss: 0.4127 - val_acc: 0.8642\n",
      "Epoch 68/100\n",
      "6800/6800 [==============================] - 34s 5ms/step - loss: 0.0847 - acc: 0.9687 - val_loss: 0.4780 - val_acc: 0.8558\n",
      "Epoch 69/100\n",
      "6800/6800 [==============================] - 30s 4ms/step - loss: 0.0883 - acc: 0.9703 - val_loss: 0.4347 - val_acc: 0.8600\n",
      "Epoch 70/100\n",
      "6800/6800 [==============================] - 31s 5ms/step - loss: 0.0788 - acc: 0.9713 - val_loss: 0.4509 - val_acc: 0.8500\n",
      "Epoch 71/100\n",
      "6800/6800 [==============================] - 31s 5ms/step - loss: 0.0852 - acc: 0.9690 - val_loss: 0.4432 - val_acc: 0.8542\n",
      "Epoch 72/100\n",
      "6800/6800 [==============================] - 35s 5ms/step - loss: 0.0840 - acc: 0.9685 - val_loss: 0.4273 - val_acc: 0.8633\n",
      "Epoch 73/100\n",
      "6800/6800 [==============================] - 30s 4ms/step - loss: 0.0741 - acc: 0.9741 - val_loss: 0.4285 - val_acc: 0.8617\n",
      "Epoch 74/100\n",
      "6800/6800 [==============================] - 31s 5ms/step - loss: 0.0736 - acc: 0.9740 - val_loss: 0.4327 - val_acc: 0.8675\n",
      "Epoch 75/100\n",
      "6800/6800 [==============================] - 30s 4ms/step - loss: 0.0784 - acc: 0.9709 - val_loss: 0.4463 - val_acc: 0.8575\n",
      "Epoch 76/100\n",
      "6800/6800 [==============================] - 30s 4ms/step - loss: 0.0794 - acc: 0.9715 - val_loss: 0.4506 - val_acc: 0.8567\n",
      "Epoch 77/100\n",
      "6800/6800 [==============================] - 30s 4ms/step - loss: 0.0642 - acc: 0.9806 - val_loss: 0.4251 - val_acc: 0.8650\n",
      "Epoch 78/100\n",
      "6800/6800 [==============================] - 29s 4ms/step - loss: 0.0692 - acc: 0.9765 - val_loss: 0.4348 - val_acc: 0.8692\n",
      "Epoch 79/100\n",
      "6800/6800 [==============================] - 28s 4ms/step - loss: 0.0674 - acc: 0.9751 - val_loss: 0.4334 - val_acc: 0.8717\n",
      "Epoch 80/100\n",
      "6800/6800 [==============================] - 29s 4ms/step - loss: 0.0644 - acc: 0.9782 - val_loss: 0.4775 - val_acc: 0.8517\n",
      "Epoch 81/100\n",
      "6800/6800 [==============================] - 33s 5ms/step - loss: 0.0631 - acc: 0.9772 - val_loss: 0.4307 - val_acc: 0.8675\n",
      "Epoch 82/100\n",
      "6800/6800 [==============================] - 30s 4ms/step - loss: 0.0653 - acc: 0.9787 - val_loss: 0.4304 - val_acc: 0.8683\n",
      "Epoch 83/100\n",
      "6800/6800 [==============================] - 29s 4ms/step - loss: 0.0700 - acc: 0.9768 - val_loss: 0.4398 - val_acc: 0.8700\n",
      "Epoch 84/100\n",
      "6800/6800 [==============================] - 29s 4ms/step - loss: 0.0541 - acc: 0.9834 - val_loss: 0.4573 - val_acc: 0.8608\n",
      "Epoch 85/100\n",
      "6800/6800 [==============================] - 29s 4ms/step - loss: 0.0583 - acc: 0.9822 - val_loss: 0.4502 - val_acc: 0.8642\n",
      "Epoch 86/100\n",
      "6800/6800 [==============================] - 32s 5ms/step - loss: 0.0614 - acc: 0.9782 - val_loss: 0.4696 - val_acc: 0.8608\n",
      "Epoch 87/100\n",
      "6800/6800 [==============================] - 32s 5ms/step - loss: 0.0631 - acc: 0.9785 - val_loss: 0.4896 - val_acc: 0.8625\n",
      "Epoch 88/100\n",
      "6800/6800 [==============================] - 33s 5ms/step - loss: 0.0591 - acc: 0.9810 - val_loss: 0.4386 - val_acc: 0.8708\n",
      "Epoch 89/100\n",
      "6800/6800 [==============================] - 31s 5ms/step - loss: 0.0479 - acc: 0.9869 - val_loss: 0.4650 - val_acc: 0.8592\n",
      "Epoch 90/100\n",
      "6800/6800 [==============================] - 29s 4ms/step - loss: 0.0561 - acc: 0.9815 - val_loss: 0.4458 - val_acc: 0.8717\n",
      "Epoch 91/100\n",
      "6800/6800 [==============================] - 29s 4ms/step - loss: 0.0553 - acc: 0.9838 - val_loss: 0.4422 - val_acc: 0.8692\n",
      "Epoch 92/100\n",
      "6800/6800 [==============================] - 32s 5ms/step - loss: 0.0531 - acc: 0.9818 - val_loss: 0.4678 - val_acc: 0.8575\n",
      "Epoch 93/100\n",
      "6800/6800 [==============================] - 31s 5ms/step - loss: 0.0580 - acc: 0.9791 - val_loss: 0.4804 - val_acc: 0.8567\n",
      "Epoch 94/100\n",
      "6800/6800 [==============================] - 31s 5ms/step - loss: 0.0431 - acc: 0.9879 - val_loss: 0.4465 - val_acc: 0.8750\n",
      "Epoch 95/100\n",
      "6800/6800 [==============================] - 31s 4ms/step - loss: 0.0473 - acc: 0.9851 - val_loss: 0.4490 - val_acc: 0.8650\n",
      "Epoch 96/100\n",
      "6800/6800 [==============================] - 32s 5ms/step - loss: 0.0450 - acc: 0.9849 - val_loss: 0.4501 - val_acc: 0.8683\n",
      "Epoch 97/100\n",
      "6800/6800 [==============================] - 33s 5ms/step - loss: 0.0475 - acc: 0.9859 - val_loss: 0.4578 - val_acc: 0.8650\n",
      "Epoch 98/100\n",
      "6800/6800 [==============================] - 34s 5ms/step - loss: 0.0431 - acc: 0.9857 - val_loss: 0.4715 - val_acc: 0.8675\n",
      "Epoch 99/100\n",
      "6800/6800 [==============================] - 30s 4ms/step - loss: 0.0422 - acc: 0.9865 - val_loss: 0.4591 - val_acc: 0.8692\n",
      "Epoch 100/100\n",
      "6800/6800 [==============================] - 32s 5ms/step - loss: 0.0478 - acc: 0.9838 - val_loss: 0.4921 - val_acc: 0.8575\n"
     ]
    }
   ],
   "source": [
    "hist = model.fit(X_train, Y_train, epochs=100, batch_size=256, validation_data=(X_test, Y_test))"
   ]
  },
  {
   "cell_type": "markdown",
   "metadata": {},
   "source": [
    "We see that the accuracy is still increasing after 100 epochs so we increase the number of epochs"
   ]
  },
  {
   "cell_type": "code",
   "execution_count": 42,
   "metadata": {},
   "outputs": [
    {
     "name": "stdout",
     "output_type": "stream",
     "text": [
      "Train on 6800 samples, validate on 1200 samples\n",
      "Epoch 1/200\n",
      "6800/6800 [==============================] - 30s 4ms/step - loss: 2.4603 - acc: 0.5646 - val_loss: 1.0657 - val_acc: 0.7142\n",
      "Epoch 2/200\n",
      "6800/6800 [==============================] - 29s 4ms/step - loss: 1.1696 - acc: 0.7169 - val_loss: 0.7738 - val_acc: 0.7700\n",
      "Epoch 3/200\n",
      "6800/6800 [==============================] - 31s 5ms/step - loss: 0.9896 - acc: 0.7391 - val_loss: 0.6715 - val_acc: 0.7800\n",
      "Epoch 4/200\n",
      "6800/6800 [==============================] - 32s 5ms/step - loss: 0.8085 - acc: 0.7665 - val_loss: 0.6762 - val_acc: 0.7750\n",
      "Epoch 5/200\n",
      "6800/6800 [==============================] - 31s 4ms/step - loss: 0.7660 - acc: 0.7729 - val_loss: 0.6602 - val_acc: 0.7833\n",
      "Epoch 6/200\n",
      "6800/6800 [==============================] - 30s 4ms/step - loss: 0.6839 - acc: 0.7850 - val_loss: 0.5549 - val_acc: 0.8075\n",
      "Epoch 7/200\n",
      "6800/6800 [==============================] - 30s 4ms/step - loss: 0.6109 - acc: 0.8038 - val_loss: 0.5374 - val_acc: 0.8142\n",
      "Epoch 8/200\n",
      "6800/6800 [==============================] - 34s 5ms/step - loss: 0.5570 - acc: 0.8151 - val_loss: 0.5169 - val_acc: 0.8158\n",
      "Epoch 9/200\n",
      "6800/6800 [==============================] - 31s 5ms/step - loss: 0.5224 - acc: 0.8244 - val_loss: 0.5150 - val_acc: 0.8275\n",
      "Epoch 10/200\n",
      "6800/6800 [==============================] - 30s 4ms/step - loss: 0.4866 - acc: 0.8263 - val_loss: 0.5041 - val_acc: 0.8175\n",
      "Epoch 11/200\n",
      "6800/6800 [==============================] - 30s 4ms/step - loss: 0.4543 - acc: 0.8391 - val_loss: 0.5180 - val_acc: 0.8158\n",
      "Epoch 12/200\n",
      "6800/6800 [==============================] - 33s 5ms/step - loss: 0.4307 - acc: 0.8465 - val_loss: 0.5230 - val_acc: 0.8142\n",
      "Epoch 13/200\n",
      "6800/6800 [==============================] - 32s 5ms/step - loss: 0.4210 - acc: 0.8493 - val_loss: 0.4618 - val_acc: 0.8250\n",
      "Epoch 14/200\n",
      "6800/6800 [==============================] - 30s 4ms/step - loss: 0.3983 - acc: 0.8581 - val_loss: 0.4759 - val_acc: 0.8275\n",
      "Epoch 15/200\n",
      "6800/6800 [==============================] - 30s 4ms/step - loss: 0.3713 - acc: 0.8621 - val_loss: 0.4781 - val_acc: 0.8267\n",
      "Epoch 16/200\n",
      "6800/6800 [==============================] - 30s 4ms/step - loss: 0.3401 - acc: 0.8718 - val_loss: 0.4503 - val_acc: 0.8300\n",
      "Epoch 17/200\n",
      "6800/6800 [==============================] - 31s 4ms/step - loss: 0.3350 - acc: 0.8784 - val_loss: 0.4507 - val_acc: 0.8400\n",
      "Epoch 18/200\n",
      "6800/6800 [==============================] - 29s 4ms/step - loss: 0.3123 - acc: 0.8844 - val_loss: 0.4836 - val_acc: 0.8267\n",
      "Epoch 19/200\n",
      "6800/6800 [==============================] - 29s 4ms/step - loss: 0.3281 - acc: 0.8797 - val_loss: 0.4533 - val_acc: 0.8300\n",
      "Epoch 20/200\n",
      "6800/6800 [==============================] - 30s 4ms/step - loss: 0.3015 - acc: 0.8871 - val_loss: 0.4252 - val_acc: 0.8375\n",
      "Epoch 21/200\n",
      "6800/6800 [==============================] - 29s 4ms/step - loss: 0.2835 - acc: 0.8932 - val_loss: 0.4504 - val_acc: 0.8375\n",
      "Epoch 22/200\n",
      "6800/6800 [==============================] - 29s 4ms/step - loss: 0.2698 - acc: 0.9018 - val_loss: 0.4325 - val_acc: 0.8300\n",
      "Epoch 23/200\n",
      "6800/6800 [==============================] - 29s 4ms/step - loss: 0.2399 - acc: 0.9090 - val_loss: 0.4272 - val_acc: 0.8375\n",
      "Epoch 24/200\n",
      "6800/6800 [==============================] - 29s 4ms/step - loss: 0.2504 - acc: 0.9031 - val_loss: 0.4407 - val_acc: 0.8425\n",
      "Epoch 25/200\n",
      "6800/6800 [==============================] - 29s 4ms/step - loss: 0.2436 - acc: 0.9078 - val_loss: 0.4207 - val_acc: 0.8442\n",
      "Epoch 26/200\n",
      "6800/6800 [==============================] - 29s 4ms/step - loss: 0.2319 - acc: 0.9146 - val_loss: 0.4266 - val_acc: 0.8400\n",
      "Epoch 27/200\n",
      "6800/6800 [==============================] - 29s 4ms/step - loss: 0.2217 - acc: 0.9144 - val_loss: 0.4546 - val_acc: 0.8400\n",
      "Epoch 28/200\n",
      "6800/6800 [==============================] - 29s 4ms/step - loss: 0.2089 - acc: 0.9206 - val_loss: 0.4607 - val_acc: 0.8417\n",
      "Epoch 29/200\n",
      "6800/6800 [==============================] - 29s 4ms/step - loss: 0.2021 - acc: 0.9232 - val_loss: 0.4730 - val_acc: 0.8433\n",
      "Epoch 30/200\n",
      "6800/6800 [==============================] - 29s 4ms/step - loss: 0.2169 - acc: 0.9174 - val_loss: 0.4678 - val_acc: 0.8333\n",
      "Epoch 31/200\n",
      "6800/6800 [==============================] - 29s 4ms/step - loss: 0.2045 - acc: 0.9215 - val_loss: 0.4787 - val_acc: 0.8325\n",
      "Epoch 32/200\n",
      "6800/6800 [==============================] - 30s 4ms/step - loss: 0.2028 - acc: 0.9237 - val_loss: 0.4847 - val_acc: 0.8392\n",
      "Epoch 33/200\n",
      "6800/6800 [==============================] - 35s 5ms/step - loss: 0.1913 - acc: 0.9279 - val_loss: 0.4570 - val_acc: 0.8375\n",
      "Epoch 34/200\n",
      "6800/6800 [==============================] - 33s 5ms/step - loss: 0.1751 - acc: 0.9335 - val_loss: 0.4207 - val_acc: 0.8533\n",
      "Epoch 35/200\n",
      "6800/6800 [==============================] - 30s 4ms/step - loss: 0.1663 - acc: 0.9350 - val_loss: 0.4167 - val_acc: 0.8600\n",
      "Epoch 36/200\n",
      "6800/6800 [==============================] - 31s 5ms/step - loss: 0.1523 - acc: 0.9438 - val_loss: 0.4267 - val_acc: 0.8525\n",
      "Epoch 37/200\n",
      "6800/6800 [==============================] - 31s 5ms/step - loss: 0.1619 - acc: 0.9381 - val_loss: 0.4333 - val_acc: 0.8483\n",
      "Epoch 38/200\n",
      "6800/6800 [==============================] - 34s 5ms/step - loss: 0.1483 - acc: 0.9466 - val_loss: 0.4188 - val_acc: 0.8525\n",
      "Epoch 39/200\n",
      "6800/6800 [==============================] - 30s 4ms/step - loss: 0.1481 - acc: 0.9447 - val_loss: 0.4490 - val_acc: 0.8467\n",
      "Epoch 40/200\n",
      "6800/6800 [==============================] - 30s 4ms/step - loss: 0.1484 - acc: 0.9421 - val_loss: 0.4124 - val_acc: 0.8592\n",
      "Epoch 41/200\n",
      "6800/6800 [==============================] - 30s 4ms/step - loss: 0.1378 - acc: 0.9459 - val_loss: 0.4636 - val_acc: 0.8475\n",
      "Epoch 42/200\n",
      "6800/6800 [==============================] - 34s 5ms/step - loss: 0.1299 - acc: 0.9509 - val_loss: 0.4429 - val_acc: 0.8550\n",
      "Epoch 43/200\n",
      "6800/6800 [==============================] - 31s 5ms/step - loss: 0.1374 - acc: 0.9479 - val_loss: 0.4505 - val_acc: 0.8517\n",
      "Epoch 44/200\n",
      "6800/6800 [==============================] - 30s 4ms/step - loss: 0.1411 - acc: 0.9456 - val_loss: 0.4381 - val_acc: 0.8550\n",
      "Epoch 45/200\n",
      "6800/6800 [==============================] - 30s 4ms/step - loss: 0.1158 - acc: 0.9594 - val_loss: 0.4177 - val_acc: 0.8658\n",
      "Epoch 46/200\n",
      "6800/6800 [==============================] - 30s 4ms/step - loss: 0.1150 - acc: 0.9575 - val_loss: 0.4183 - val_acc: 0.8633\n",
      "Epoch 47/200\n",
      "6800/6800 [==============================] - 30s 4ms/step - loss: 0.1206 - acc: 0.9551 - val_loss: 0.4207 - val_acc: 0.8633\n",
      "Epoch 48/200\n",
      "6800/6800 [==============================] - 29s 4ms/step - loss: 0.1124 - acc: 0.9601 - val_loss: 0.4404 - val_acc: 0.8625\n",
      "Epoch 49/200\n",
      "6800/6800 [==============================] - 29s 4ms/step - loss: 0.1115 - acc: 0.9596 - val_loss: 0.4563 - val_acc: 0.8542\n",
      "Epoch 50/200\n",
      "6800/6800 [==============================] - 29s 4ms/step - loss: 0.1020 - acc: 0.9646 - val_loss: 0.4243 - val_acc: 0.8592\n",
      "Epoch 51/200\n",
      "6800/6800 [==============================] - 29s 4ms/step - loss: 0.1005 - acc: 0.9665 - val_loss: 0.4260 - val_acc: 0.8708\n",
      "Epoch 52/200\n",
      "6800/6800 [==============================] - 29s 4ms/step - loss: 0.0924 - acc: 0.9682 - val_loss: 0.4263 - val_acc: 0.8625\n",
      "Epoch 53/200\n",
      "6800/6800 [==============================] - 30s 4ms/step - loss: 0.0941 - acc: 0.9660 - val_loss: 0.4760 - val_acc: 0.8533\n",
      "Epoch 54/200\n",
      "6800/6800 [==============================] - 30s 4ms/step - loss: 0.0902 - acc: 0.9654 - val_loss: 0.4248 - val_acc: 0.8683\n",
      "Epoch 55/200\n",
      "6800/6800 [==============================] - 29s 4ms/step - loss: 0.0885 - acc: 0.9690 - val_loss: 0.4285 - val_acc: 0.8658\n",
      "Epoch 56/200\n",
      "6800/6800 [==============================] - 32s 5ms/step - loss: 0.0888 - acc: 0.9687 - val_loss: 0.4594 - val_acc: 0.8533\n",
      "Epoch 57/200\n",
      "6800/6800 [==============================] - 29s 4ms/step - loss: 0.0810 - acc: 0.9749 - val_loss: 0.4267 - val_acc: 0.8700\n",
      "Epoch 58/200\n",
      "6800/6800 [==============================] - 29s 4ms/step - loss: 0.0789 - acc: 0.9716 - val_loss: 0.4400 - val_acc: 0.8642\n",
      "Epoch 59/200\n",
      "6800/6800 [==============================] - 31s 5ms/step - loss: 0.0767 - acc: 0.9734 - val_loss: 0.4398 - val_acc: 0.8625\n",
      "Epoch 60/200\n"
     ]
    },
    {
     "name": "stdout",
     "output_type": "stream",
     "text": [
      "6800/6800 [==============================] - 29s 4ms/step - loss: 0.0748 - acc: 0.9749 - val_loss: 0.4288 - val_acc: 0.8742\n",
      "Epoch 61/200\n",
      "6800/6800 [==============================] - 29s 4ms/step - loss: 0.0793 - acc: 0.9713 - val_loss: 0.4628 - val_acc: 0.8633\n",
      "Epoch 62/200\n",
      "6800/6800 [==============================] - 29s 4ms/step - loss: 0.0789 - acc: 0.9703 - val_loss: 0.4427 - val_acc: 0.8642\n",
      "Epoch 63/200\n",
      "6800/6800 [==============================] - 32s 5ms/step - loss: 0.0686 - acc: 0.9772 - val_loss: 0.4392 - val_acc: 0.8667\n",
      "Epoch 64/200\n",
      "6800/6800 [==============================] - 33s 5ms/step - loss: 0.0660 - acc: 0.9784 - val_loss: 0.4499 - val_acc: 0.8633\n",
      "Epoch 65/200\n",
      "6800/6800 [==============================] - 31s 4ms/step - loss: 0.0681 - acc: 0.9766 - val_loss: 0.4661 - val_acc: 0.8633\n",
      "Epoch 66/200\n",
      "6800/6800 [==============================] - 31s 4ms/step - loss: 0.0689 - acc: 0.9765 - val_loss: 0.4337 - val_acc: 0.8742\n",
      "Epoch 67/200\n",
      "6800/6800 [==============================] - 31s 5ms/step - loss: 0.0660 - acc: 0.9782 - val_loss: 0.4568 - val_acc: 0.8633\n",
      "Epoch 68/200\n",
      "6800/6800 [==============================] - 35s 5ms/step - loss: 0.0556 - acc: 0.9810 - val_loss: 0.4464 - val_acc: 0.8733\n",
      "Epoch 69/200\n",
      "6800/6800 [==============================] - 30s 4ms/step - loss: 0.0587 - acc: 0.9804 - val_loss: 0.4406 - val_acc: 0.8717\n",
      "Epoch 70/200\n",
      "6800/6800 [==============================] - 30s 4ms/step - loss: 0.0558 - acc: 0.9822 - val_loss: 0.4722 - val_acc: 0.8617\n",
      "Epoch 71/200\n",
      "6800/6800 [==============================] - 30s 4ms/step - loss: 0.0544 - acc: 0.9831 - val_loss: 0.4512 - val_acc: 0.8733\n",
      "Epoch 72/200\n",
      "6800/6800 [==============================] - 33s 5ms/step - loss: 0.0568 - acc: 0.9835 - val_loss: 0.4650 - val_acc: 0.8692\n",
      "Epoch 73/200\n",
      "6800/6800 [==============================] - 32s 5ms/step - loss: 0.0535 - acc: 0.9815 - val_loss: 0.4643 - val_acc: 0.8700\n",
      "Epoch 74/200\n",
      "6800/6800 [==============================] - 30s 4ms/step - loss: 0.0544 - acc: 0.9819 - val_loss: 0.5045 - val_acc: 0.8583\n",
      "Epoch 75/200\n",
      "6800/6800 [==============================] - 30s 4ms/step - loss: 0.0512 - acc: 0.9850 - val_loss: 0.4569 - val_acc: 0.8675\n",
      "Epoch 76/200\n",
      "6800/6800 [==============================] - 31s 5ms/step - loss: 0.0505 - acc: 0.9835 - val_loss: 0.4608 - val_acc: 0.8725\n",
      "Epoch 77/200\n",
      "6800/6800 [==============================] - 30s 4ms/step - loss: 0.0456 - acc: 0.9862 - val_loss: 0.4607 - val_acc: 0.8758\n",
      "Epoch 78/200\n",
      "6800/6800 [==============================] - 29s 4ms/step - loss: 0.0449 - acc: 0.9863 - val_loss: 0.4555 - val_acc: 0.8792\n",
      "Epoch 79/200\n",
      "6800/6800 [==============================] - 29s 4ms/step - loss: 0.0450 - acc: 0.9865 - val_loss: 0.4738 - val_acc: 0.8733\n",
      "Epoch 80/200\n",
      "6800/6800 [==============================] - 29s 4ms/step - loss: 0.0412 - acc: 0.9885 - val_loss: 0.4613 - val_acc: 0.8767\n",
      "Epoch 81/200\n",
      "6800/6800 [==============================] - 29s 4ms/step - loss: 0.0427 - acc: 0.9854 - val_loss: 0.4704 - val_acc: 0.8692\n",
      "Epoch 82/200\n",
      "6800/6800 [==============================] - 29s 4ms/step - loss: 0.0497 - acc: 0.9826 - val_loss: 0.4699 - val_acc: 0.8633\n",
      "Epoch 83/200\n",
      "6800/6800 [==============================] - 29s 4ms/step - loss: 0.0476 - acc: 0.9849 - val_loss: 0.4896 - val_acc: 0.8683\n",
      "Epoch 84/200\n",
      "6800/6800 [==============================] - 29s 4ms/step - loss: 0.0476 - acc: 0.9832 - val_loss: 0.4677 - val_acc: 0.8692\n",
      "Epoch 85/200\n",
      "6800/6800 [==============================] - 29s 4ms/step - loss: 0.0399 - acc: 0.9881 - val_loss: 0.4701 - val_acc: 0.8683\n",
      "Epoch 86/200\n",
      "6800/6800 [==============================] - 29s 4ms/step - loss: 0.0444 - acc: 0.9846 - val_loss: 0.4574 - val_acc: 0.8800\n",
      "Epoch 87/200\n",
      "6800/6800 [==============================] - 30s 4ms/step - loss: 0.0412 - acc: 0.9868 - val_loss: 0.4738 - val_acc: 0.8775\n",
      "Epoch 88/200\n",
      "6800/6800 [==============================] - 37s 5ms/step - loss: 0.0372 - acc: 0.9887 - val_loss: 0.4834 - val_acc: 0.8725\n",
      "Epoch 89/200\n",
      "6800/6800 [==============================] - 33s 5ms/step - loss: 0.0363 - acc: 0.9894 - val_loss: 0.4910 - val_acc: 0.8700\n",
      "Epoch 90/200\n",
      "6800/6800 [==============================] - 37s 5ms/step - loss: 0.0365 - acc: 0.9894 - val_loss: 0.4905 - val_acc: 0.8692\n",
      "Epoch 91/200\n",
      "6800/6800 [==============================] - 35s 5ms/step - loss: 0.0380 - acc: 0.9882 - val_loss: 0.4889 - val_acc: 0.8650\n",
      "Epoch 92/200\n",
      "6800/6800 [==============================] - 41s 6ms/step - loss: 0.0342 - acc: 0.9900 - val_loss: 0.4677 - val_acc: 0.8758\n",
      "Epoch 93/200\n",
      "6800/6800 [==============================] - 34s 5ms/step - loss: 0.0322 - acc: 0.9910 - val_loss: 0.4928 - val_acc: 0.8650\n",
      "Epoch 94/200\n",
      "6800/6800 [==============================] - 35s 5ms/step - loss: 0.0328 - acc: 0.9896 - val_loss: 0.4718 - val_acc: 0.8792\n",
      "Epoch 95/200\n",
      "6800/6800 [==============================] - 34s 5ms/step - loss: 0.0316 - acc: 0.9909 - val_loss: 0.4684 - val_acc: 0.8758\n",
      "Epoch 96/200\n",
      "6800/6800 [==============================] - 37s 6ms/step - loss: 0.0295 - acc: 0.9919 - val_loss: 0.4738 - val_acc: 0.8808\n",
      "Epoch 97/200\n",
      "6800/6800 [==============================] - 38s 6ms/step - loss: 0.0311 - acc: 0.9909 - val_loss: 0.4795 - val_acc: 0.8800\n",
      "Epoch 98/200\n",
      "6800/6800 [==============================] - 34s 5ms/step - loss: 0.0293 - acc: 0.9915 - val_loss: 0.4861 - val_acc: 0.8758\n",
      "Epoch 99/200\n",
      "6800/6800 [==============================] - 34s 5ms/step - loss: 0.0356 - acc: 0.9884 - val_loss: 0.5007 - val_acc: 0.8717\n",
      "Epoch 100/200\n",
      "6800/6800 [==============================] - 39s 6ms/step - loss: 0.0311 - acc: 0.9900 - val_loss: 0.4860 - val_acc: 0.8750\n",
      "Epoch 101/200\n",
      "6800/6800 [==============================] - 32s 5ms/step - loss: 0.0302 - acc: 0.9910 - val_loss: 0.5330 - val_acc: 0.8592\n",
      "Epoch 102/200\n",
      "6800/6800 [==============================] - 31s 5ms/step - loss: 0.0325 - acc: 0.9888 - val_loss: 0.4981 - val_acc: 0.8658\n",
      "Epoch 103/200\n",
      "6800/6800 [==============================] - 32s 5ms/step - loss: 0.0303 - acc: 0.9913 - val_loss: 0.4844 - val_acc: 0.8750\n",
      "Epoch 104/200\n",
      "6800/6800 [==============================] - 30s 4ms/step - loss: 0.0244 - acc: 0.9937 - val_loss: 0.4736 - val_acc: 0.8833\n",
      "Epoch 105/200\n",
      "6800/6800 [==============================] - 33s 5ms/step - loss: 0.0250 - acc: 0.9934 - val_loss: 0.4837 - val_acc: 0.8775\n",
      "Epoch 106/200\n",
      "6800/6800 [==============================] - 31s 5ms/step - loss: 0.0227 - acc: 0.9943 - val_loss: 0.4915 - val_acc: 0.8767\n",
      "Epoch 107/200\n",
      "6800/6800 [==============================] - 30s 4ms/step - loss: 0.0256 - acc: 0.9924 - val_loss: 0.5036 - val_acc: 0.8700\n",
      "Epoch 108/200\n",
      "6800/6800 [==============================] - 30s 4ms/step - loss: 0.0269 - acc: 0.9922 - val_loss: 0.4949 - val_acc: 0.8708\n",
      "Epoch 109/200\n",
      "6800/6800 [==============================] - 30s 4ms/step - loss: 0.0238 - acc: 0.9938 - val_loss: 0.5060 - val_acc: 0.8717\n",
      "Epoch 110/200\n",
      "6800/6800 [==============================] - 29s 4ms/step - loss: 0.0195 - acc: 0.9960 - val_loss: 0.5149 - val_acc: 0.8675\n",
      "Epoch 111/200\n",
      "6800/6800 [==============================] - 30s 4ms/step - loss: 0.0238 - acc: 0.9941 - val_loss: 0.4993 - val_acc: 0.8825\n",
      "Epoch 112/200\n",
      "6800/6800 [==============================] - 29s 4ms/step - loss: 0.0194 - acc: 0.9951 - val_loss: 0.5054 - val_acc: 0.8750\n",
      "Epoch 113/200\n",
      "6800/6800 [==============================] - 29s 4ms/step - loss: 0.0232 - acc: 0.9935 - val_loss: 0.4886 - val_acc: 0.8750\n",
      "Epoch 114/200\n",
      "6800/6800 [==============================] - 29s 4ms/step - loss: 0.0218 - acc: 0.9947 - val_loss: 0.5146 - val_acc: 0.8733\n",
      "Epoch 115/200\n",
      "6800/6800 [==============================] - 30s 4ms/step - loss: 0.0229 - acc: 0.9937 - val_loss: 0.5150 - val_acc: 0.8725\n",
      "Epoch 116/200\n",
      "6800/6800 [==============================] - 31s 5ms/step - loss: 0.0284 - acc: 0.9912 - val_loss: 0.5331 - val_acc: 0.8733\n",
      "Epoch 117/200\n",
      "6800/6800 [==============================] - 31s 5ms/step - loss: 0.0196 - acc: 0.9950 - val_loss: 0.5049 - val_acc: 0.8825\n",
      "Epoch 118/200\n",
      "6800/6800 [==============================] - 29s 4ms/step - loss: 0.0180 - acc: 0.9951 - val_loss: 0.5557 - val_acc: 0.8558\n",
      "Epoch 119/200\n",
      "6800/6800 [==============================] - 30s 4ms/step - loss: 0.0276 - acc: 0.9900 - val_loss: 0.5078 - val_acc: 0.8717\n"
     ]
    },
    {
     "name": "stdout",
     "output_type": "stream",
     "text": [
      "Epoch 120/200\n",
      "6800/6800 [==============================] - 35s 5ms/step - loss: 0.0208 - acc: 0.9953 - val_loss: 0.5256 - val_acc: 0.8725\n",
      "Epoch 121/200\n",
      "6800/6800 [==============================] - 34s 5ms/step - loss: 0.0180 - acc: 0.9956 - val_loss: 0.5011 - val_acc: 0.8775\n",
      "Epoch 122/200\n",
      "6800/6800 [==============================] - 40s 6ms/step - loss: 0.0167 - acc: 0.9962 - val_loss: 0.5073 - val_acc: 0.8725\n",
      "Epoch 123/200\n",
      "6800/6800 [==============================] - 34s 5ms/step - loss: 0.0178 - acc: 0.9956 - val_loss: 0.5158 - val_acc: 0.8725\n",
      "Epoch 124/200\n",
      "6800/6800 [==============================] - 37s 5ms/step - loss: 0.0193 - acc: 0.9956 - val_loss: 0.5096 - val_acc: 0.8767\n",
      "Epoch 125/200\n",
      "6800/6800 [==============================] - 33s 5ms/step - loss: 0.0174 - acc: 0.9956 - val_loss: 0.5334 - val_acc: 0.8700\n",
      "Epoch 126/200\n",
      "6800/6800 [==============================] - 30s 4ms/step - loss: 0.0206 - acc: 0.9944 - val_loss: 0.5087 - val_acc: 0.8783\n",
      "Epoch 127/200\n",
      "6800/6800 [==============================] - 31s 5ms/step - loss: 0.0138 - acc: 0.9975 - val_loss: 0.5352 - val_acc: 0.8642\n",
      "Epoch 128/200\n",
      "6800/6800 [==============================] - 33s 5ms/step - loss: 0.0180 - acc: 0.9953 - val_loss: 0.5150 - val_acc: 0.8783\n",
      "Epoch 129/200\n",
      "6800/6800 [==============================] - 31s 5ms/step - loss: 0.0148 - acc: 0.9969 - val_loss: 0.5259 - val_acc: 0.8725\n",
      "Epoch 130/200\n",
      "6800/6800 [==============================] - 30s 4ms/step - loss: 0.0137 - acc: 0.9981 - val_loss: 0.5232 - val_acc: 0.8683\n",
      "Epoch 131/200\n",
      "6800/6800 [==============================] - 30s 4ms/step - loss: 0.0149 - acc: 0.9965 - val_loss: 0.5342 - val_acc: 0.8700\n",
      "Epoch 132/200\n",
      "6800/6800 [==============================] - 30s 4ms/step - loss: 0.0163 - acc: 0.9957 - val_loss: 0.5464 - val_acc: 0.8692\n",
      "Epoch 133/200\n",
      "6800/6800 [==============================] - 30s 4ms/step - loss: 0.0154 - acc: 0.9965 - val_loss: 0.5482 - val_acc: 0.8708\n",
      "Epoch 134/200\n",
      "6800/6800 [==============================] - 31s 5ms/step - loss: 0.0171 - acc: 0.9950 - val_loss: 0.5340 - val_acc: 0.8725\n",
      "Epoch 135/200\n",
      "6800/6800 [==============================] - 29s 4ms/step - loss: 0.0123 - acc: 0.9979 - val_loss: 0.5288 - val_acc: 0.8800\n",
      "Epoch 136/200\n",
      "6800/6800 [==============================] - 29s 4ms/step - loss: 0.0157 - acc: 0.9950 - val_loss: 0.5219 - val_acc: 0.8800\n",
      "Epoch 137/200\n",
      "6800/6800 [==============================] - 29s 4ms/step - loss: 0.0136 - acc: 0.9969 - val_loss: 0.5313 - val_acc: 0.8792\n",
      "Epoch 138/200\n",
      "6800/6800 [==============================] - 29s 4ms/step - loss: 0.0136 - acc: 0.9969 - val_loss: 0.5470 - val_acc: 0.8725\n",
      "Epoch 139/200\n",
      "6800/6800 [==============================] - 29s 4ms/step - loss: 0.0148 - acc: 0.9960 - val_loss: 0.5180 - val_acc: 0.8758\n",
      "Epoch 140/200\n",
      "6800/6800 [==============================] - 29s 4ms/step - loss: 0.0145 - acc: 0.9971 - val_loss: 0.5149 - val_acc: 0.8817\n",
      "Epoch 141/200\n",
      "6800/6800 [==============================] - 29s 4ms/step - loss: 0.0153 - acc: 0.9949 - val_loss: 0.5567 - val_acc: 0.8733\n",
      "Epoch 142/200\n",
      "6800/6800 [==============================] - 29s 4ms/step - loss: 0.0120 - acc: 0.9981 - val_loss: 0.5478 - val_acc: 0.8800\n",
      "Epoch 143/200\n",
      "6800/6800 [==============================] - 29s 4ms/step - loss: 0.0147 - acc: 0.9956 - val_loss: 0.5230 - val_acc: 0.8792\n",
      "Epoch 144/200\n",
      "6800/6800 [==============================] - 29s 4ms/step - loss: 0.0114 - acc: 0.9979 - val_loss: 0.5283 - val_acc: 0.8825\n",
      "Epoch 145/200\n",
      "6800/6800 [==============================] - 30s 4ms/step - loss: 0.0101 - acc: 0.9978 - val_loss: 0.5232 - val_acc: 0.8783\n",
      "Epoch 146/200\n",
      "6800/6800 [==============================] - 29s 4ms/step - loss: 0.0145 - acc: 0.9963 - val_loss: 0.5810 - val_acc: 0.8592\n",
      "Epoch 147/200\n",
      "6800/6800 [==============================] - 29s 4ms/step - loss: 0.0142 - acc: 0.9963 - val_loss: 0.5399 - val_acc: 0.8758\n",
      "Epoch 148/200\n",
      "6800/6800 [==============================] - 29s 4ms/step - loss: 0.0159 - acc: 0.9957 - val_loss: 0.5627 - val_acc: 0.8658\n",
      "Epoch 149/200\n",
      "6800/6800 [==============================] - 34s 5ms/step - loss: 0.0143 - acc: 0.9960 - val_loss: 0.5279 - val_acc: 0.8783\n",
      "Epoch 150/200\n",
      "6800/6800 [==============================] - 35s 5ms/step - loss: 0.0117 - acc: 0.9978 - val_loss: 0.5356 - val_acc: 0.8833\n",
      "Epoch 151/200\n",
      "6800/6800 [==============================] - 30s 4ms/step - loss: 0.0108 - acc: 0.9978 - val_loss: 0.5526 - val_acc: 0.8717\n",
      "Epoch 152/200\n",
      "6800/6800 [==============================] - 30s 4ms/step - loss: 0.0111 - acc: 0.9978 - val_loss: 0.5623 - val_acc: 0.8750\n",
      "Epoch 153/200\n",
      "6800/6800 [==============================] - 31s 5ms/step - loss: 0.0105 - acc: 0.9974 - val_loss: 0.5579 - val_acc: 0.8733\n",
      "Epoch 154/200\n",
      "6800/6800 [==============================] - 34s 5ms/step - loss: 0.0116 - acc: 0.9972 - val_loss: 0.5606 - val_acc: 0.8667\n",
      "Epoch 155/200\n",
      "6800/6800 [==============================] - 30s 4ms/step - loss: 0.0121 - acc: 0.9971 - val_loss: 0.5604 - val_acc: 0.8733\n",
      "Epoch 156/200\n",
      "6800/6800 [==============================] - 30s 4ms/step - loss: 0.0113 - acc: 0.9962 - val_loss: 0.5506 - val_acc: 0.8733\n",
      "Epoch 157/200\n",
      "6800/6800 [==============================] - 30s 4ms/step - loss: 0.0098 - acc: 0.9985 - val_loss: 0.5734 - val_acc: 0.8608\n",
      "Epoch 158/200\n",
      "6800/6800 [==============================] - 34s 5ms/step - loss: 0.0104 - acc: 0.9975 - val_loss: 0.5715 - val_acc: 0.8667\n",
      "Epoch 159/200\n",
      "6800/6800 [==============================] - 32s 5ms/step - loss: 0.0080 - acc: 0.9988 - val_loss: 0.5452 - val_acc: 0.8825\n",
      "Epoch 160/200\n",
      "6800/6800 [==============================] - 30s 4ms/step - loss: 0.0080 - acc: 0.9985 - val_loss: 0.5778 - val_acc: 0.8725\n",
      "Epoch 161/200\n",
      "6800/6800 [==============================] - 30s 4ms/step - loss: 0.0084 - acc: 0.9982 - val_loss: 0.5501 - val_acc: 0.8775\n",
      "Epoch 162/200\n",
      "6800/6800 [==============================] - 31s 5ms/step - loss: 0.0112 - acc: 0.9975 - val_loss: 0.5594 - val_acc: 0.8725\n",
      "Epoch 163/200\n",
      "6800/6800 [==============================] - 31s 5ms/step - loss: 0.0093 - acc: 0.9985 - val_loss: 0.5746 - val_acc: 0.8783\n",
      "Epoch 164/200\n",
      "6800/6800 [==============================] - 30s 4ms/step - loss: 0.0111 - acc: 0.9975 - val_loss: 0.5734 - val_acc: 0.8742\n",
      "Epoch 165/200\n",
      "6800/6800 [==============================] - 29s 4ms/step - loss: 0.0097 - acc: 0.9979 - val_loss: 0.5674 - val_acc: 0.8717\n",
      "Epoch 166/200\n",
      "6800/6800 [==============================] - 29s 4ms/step - loss: 0.0079 - acc: 0.9985 - val_loss: 0.5509 - val_acc: 0.8742\n",
      "Epoch 167/200\n",
      "6800/6800 [==============================] - 29s 4ms/step - loss: 0.0085 - acc: 0.9985 - val_loss: 0.5639 - val_acc: 0.8792\n",
      "Epoch 168/200\n",
      "6800/6800 [==============================] - 36s 5ms/step - loss: 0.0104 - acc: 0.9978 - val_loss: 0.5725 - val_acc: 0.8733\n",
      "Epoch 169/200\n",
      "6800/6800 [==============================] - 32s 5ms/step - loss: 0.0106 - acc: 0.9975 - val_loss: 0.5856 - val_acc: 0.8733\n",
      "Epoch 170/200\n",
      "6800/6800 [==============================] - 30s 4ms/step - loss: 0.0110 - acc: 0.9972 - val_loss: 0.5472 - val_acc: 0.8842\n",
      "Epoch 171/200\n",
      "6800/6800 [==============================] - 29s 4ms/step - loss: 0.0092 - acc: 0.9978 - val_loss: 0.5840 - val_acc: 0.8683\n",
      "Epoch 172/200\n",
      "6800/6800 [==============================] - 29s 4ms/step - loss: 0.0080 - acc: 0.9985 - val_loss: 0.5693 - val_acc: 0.8817\n",
      "Epoch 173/200\n",
      "6800/6800 [==============================] - 30s 4ms/step - loss: 0.0084 - acc: 0.9979 - val_loss: 0.5624 - val_acc: 0.8808\n",
      "Epoch 174/200\n",
      "6800/6800 [==============================] - 29s 4ms/step - loss: 0.0092 - acc: 0.9982 - val_loss: 0.5635 - val_acc: 0.8858\n",
      "Epoch 175/200\n",
      "6800/6800 [==============================] - 29s 4ms/step - loss: 0.0087 - acc: 0.9984 - val_loss: 0.5797 - val_acc: 0.8767\n",
      "Epoch 176/200\n",
      "6800/6800 [==============================] - 29s 4ms/step - loss: 0.0070 - acc: 0.9993 - val_loss: 0.5873 - val_acc: 0.8767\n",
      "Epoch 177/200\n",
      "6800/6800 [==============================] - 29s 4ms/step - loss: 0.0100 - acc: 0.9974 - val_loss: 0.6443 - val_acc: 0.8575\n",
      "Epoch 178/200\n",
      "6800/6800 [==============================] - 34s 5ms/step - loss: 0.0100 - acc: 0.9984 - val_loss: 0.5910 - val_acc: 0.8642\n",
      "Epoch 179/200\n"
     ]
    },
    {
     "name": "stdout",
     "output_type": "stream",
     "text": [
      "6800/6800 [==============================] - 33s 5ms/step - loss: 0.0094 - acc: 0.9981 - val_loss: 0.5858 - val_acc: 0.8725\n",
      "Epoch 180/200\n",
      "6800/6800 [==============================] - 31s 5ms/step - loss: 0.0087 - acc: 0.9985 - val_loss: 0.5746 - val_acc: 0.8742\n",
      "Epoch 181/200\n",
      "6800/6800 [==============================] - 35s 5ms/step - loss: 0.0062 - acc: 0.9988 - val_loss: 0.5782 - val_acc: 0.8767\n",
      "Epoch 182/200\n",
      "6800/6800 [==============================] - 31s 5ms/step - loss: 0.0067 - acc: 0.9985 - val_loss: 0.6039 - val_acc: 0.8733\n",
      "Epoch 183/200\n",
      "6800/6800 [==============================] - 35s 5ms/step - loss: 0.0112 - acc: 0.9971 - val_loss: 0.6193 - val_acc: 0.8650\n",
      "Epoch 184/200\n",
      "6800/6800 [==============================] - 31s 5ms/step - loss: 0.0124 - acc: 0.9957 - val_loss: 0.5753 - val_acc: 0.8808\n",
      "Epoch 185/200\n",
      "6800/6800 [==============================] - 31s 5ms/step - loss: 0.0074 - acc: 0.9993 - val_loss: 0.5878 - val_acc: 0.8783\n",
      "Epoch 186/200\n",
      "6800/6800 [==============================] - 30s 4ms/step - loss: 0.0087 - acc: 0.9981 - val_loss: 0.6070 - val_acc: 0.8717\n",
      "Epoch 187/200\n",
      "6800/6800 [==============================] - 33s 5ms/step - loss: 0.0078 - acc: 0.9982 - val_loss: 0.5843 - val_acc: 0.8792\n",
      "Epoch 188/200\n",
      "6800/6800 [==============================] - 31s 5ms/step - loss: 0.0093 - acc: 0.9979 - val_loss: 0.5836 - val_acc: 0.8792\n",
      "Epoch 189/200\n",
      "6800/6800 [==============================] - 30s 4ms/step - loss: 0.0116 - acc: 0.9966 - val_loss: 0.5916 - val_acc: 0.8725\n",
      "Epoch 190/200\n",
      "6800/6800 [==============================] - 31s 4ms/step - loss: 0.0098 - acc: 0.9971 - val_loss: 0.5814 - val_acc: 0.8742\n",
      "Epoch 191/200\n",
      "6800/6800 [==============================] - 35s 5ms/step - loss: 0.0075 - acc: 0.9984 - val_loss: 0.5778 - val_acc: 0.8733\n",
      "Epoch 192/200\n",
      "6800/6800 [==============================] - 35s 5ms/step - loss: 0.0069 - acc: 0.9981 - val_loss: 0.5825 - val_acc: 0.8717\n",
      "Epoch 193/200\n",
      "6800/6800 [==============================] - 34s 5ms/step - loss: 0.0060 - acc: 0.9993 - val_loss: 0.5939 - val_acc: 0.8725\n",
      "Epoch 194/200\n",
      "6800/6800 [==============================] - 34s 5ms/step - loss: 0.0057 - acc: 0.9991 - val_loss: 0.5742 - val_acc: 0.8750\n",
      "Epoch 195/200\n",
      "6800/6800 [==============================] - 34s 5ms/step - loss: 0.0057 - acc: 0.9990 - val_loss: 0.5842 - val_acc: 0.8783\n",
      "Epoch 196/200\n",
      "6800/6800 [==============================] - 36s 5ms/step - loss: 0.0060 - acc: 0.9985 - val_loss: 0.5812 - val_acc: 0.8817\n",
      "Epoch 197/200\n",
      "6800/6800 [==============================] - 29s 4ms/step - loss: 0.0057 - acc: 0.9985 - val_loss: 0.6049 - val_acc: 0.8667\n",
      "Epoch 198/200\n",
      "6800/6800 [==============================] - 29s 4ms/step - loss: 0.0056 - acc: 0.9990 - val_loss: 0.6021 - val_acc: 0.8750\n",
      "Epoch 199/200\n",
      "6800/6800 [==============================] - 29s 4ms/step - loss: 0.0057 - acc: 0.9991 - val_loss: 0.5922 - val_acc: 0.8775\n",
      "Epoch 200/200\n",
      "6800/6800 [==============================] - 29s 4ms/step - loss: 0.0048 - acc: 0.9994 - val_loss: 0.6115 - val_acc: 0.8708\n"
     ]
    }
   ],
   "source": [
    "hist = model.fit(X_train, Y_train, epochs=200, batch_size=256, validation_data=(X_test, Y_test))"
   ]
  },
  {
   "cell_type": "markdown",
   "metadata": {},
   "source": [
    "## Evaluation"
   ]
  },
  {
   "cell_type": "code",
   "execution_count": 45,
   "metadata": {},
   "outputs": [
    {
     "name": "stdout",
     "output_type": "stream",
     "text": [
      "1200/1200 [==============================] - 1s 1ms/step\n",
      "Score:  0.6115\n",
      "Accuracy:  87.08 %\n"
     ]
    }
   ],
   "source": [
    "score, accuracy = model.evaluate(X_test, Y_test)\n",
    "print('Score: ', score.round(4))\n",
    "print('Accuracy: ', accuracy.round(4)*100, '%')"
   ]
  },
  {
   "cell_type": "markdown",
   "metadata": {},
   "source": [
    "## Prediction"
   ]
  },
  {
   "cell_type": "code",
   "execution_count": 68,
   "metadata": {},
   "outputs": [],
   "source": [
    "Y_pred_ohv = model.predict(X_test)\n",
    "Y_pred = np.argmax(Y_pred_ohv, axis=1)"
   ]
  },
  {
   "cell_type": "markdown",
   "metadata": {},
   "source": [
    "## Visualization"
   ]
  },
  {
   "cell_type": "code",
   "execution_count": 67,
   "metadata": {},
   "outputs": [
    {
     "data": {
      "image/png": "[encoded data removed]",
      "text/plain": [
       "<Figure size 720x288 with 2 Axes>"
      ]
     },
     "metadata": {
      "needs_background": "light"
     },
     "output_type": "display_data"
    }
   ],
   "source": [
    "plt.figure(figsize=(10,4))\n",
    "\n",
    "plt.subplot(1,2,1)\n",
    "plt.title('Loss')\n",
    "plt.xlabel('Epoch')\n",
    "plt.ylabel('Loss')\n",
    "plt.plot(hist.history['loss'])\n",
    "plt.plot(hist.history['val_loss'])\n",
    "plt.legend(['Train', 'Validation'])\n",
    "\n",
    "plt.subplot(1,2,2)\n",
    "plt.title('Accuracy')\n",
    "plt.xlabel('Epoch')\n",
    "plt.ylabel('Accuracy')\n",
    "plt.plot(hist.history['acc'])\n",
    "plt.plot(hist.history['val_acc'])\n",
    "plt.legend(['Train', 'Validation'])\n",
    "plt.tight_layout()\n",
    "plt.show()"
   ]
  },
  {
   "cell_type": "markdown",
   "metadata": {},
   "source": [
    "### Confusion Matrix"
   ]
  },
  {
   "cell_type": "code",
   "execution_count": 74,
   "metadata": {},
   "outputs": [
    {
     "name": "stdout",
     "output_type": "stream",
     "text": [
      "Confusion matrix, without normalization\n",
      "[[250   4   7  39]\n",
      " [  5 257   4  34]\n",
      " [  4   3 283  10]\n",
      " [ 23  16   6 255]]\n"
     ]
    },
    {
     "data": {
      "image/png": "[encoded data removed]",
      "text/plain": [
       "<Figure size 432x288 with 2 Axes>"
      ]
     },
     "metadata": {
      "needs_background": "light"
     },
     "output_type": "display_data"
    }
   ],
   "source": [
    "# Convert validation observations from one hot vectors to labels\n",
    "Y_test_cnf = np.argmax(Y_test, axis=1)\n",
    "\n",
    "#Plotting the confusion matrix\n",
    "cnf_matrix = confusion_matrix(Y_test_cnf, Y_pred)\n",
    "plot_confusion_matrix(cnf_matrix, classes=classes)"
   ]
  },
  {
   "cell_type": "markdown",
   "metadata": {},
   "source": [
    "### We can further increase our accuracy by adding more layers"
   ]
  },
  {
   "cell_type": "code",
   "execution_count": null,
   "metadata": {},
   "outputs": [],
   "source": [
    "    "
   ]
  }
 ],
 "metadata": {
  "kernelspec": {
   "display_name": "Python 3",
   "language": "python",
   "name": "python3"
  },
  "language_info": {
   "codemirror_mode": {
    "name": "ipython",
    "version": 3
   },
   "file_extension": ".py",
   "mimetype": "text/x-python",
   "name": "python",
   "nbconvert_exporter": "python",
   "pygments_lexer": "ipython3",
   "version": "3.6.8"
  }
 },
 "nbformat": 4,
 "nbformat_minor": 2
}
